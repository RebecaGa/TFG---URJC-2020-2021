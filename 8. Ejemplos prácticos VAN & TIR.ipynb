{
 "cells": [
  {
   "cell_type": "markdown",
   "metadata": {},
   "source": [
    "**Ejemplos prácticos**\n",
    "\n",
    "*1. Aplicando una tasa de 8% efectivo anual, calcular el VAN de una operación de inversión con las siguientes características: Desembolso de 1.100.000 €. Siendo las recuperaciones de 200.000 € transcurrido un trimestre, 300.000 € transcurridos dos trimestres más, 400.000 € transcurrido un trimestres más, y 500.000 transcurridos cuatro trimestres más. La duración total la operación es de dos años.*"
   ]
  },
  {
   "cell_type": "code",
   "execution_count": 1,
   "metadata": {},
   "outputs": [
    {
     "name": "stdout",
     "output_type": "stream",
     "text": [
      "Requirement already satisfied: numpy-financial in c:\\users\\rebec\\anaconda3\\lib\\site-packages (1.0.0)\n",
      "Requirement already satisfied: numpy>=1.15 in c:\\users\\rebec\\anaconda3\\lib\\site-packages (from numpy-financial) (1.18.5)\n",
      "Note: you may need to restart the kernel to use updated packages.\n"
     ]
    }
   ],
   "source": [
    "pip install numpy-financial"
   ]
  },
  {
   "cell_type": "code",
   "execution_count": 2,
   "metadata": {},
   "outputs": [],
   "source": [
    "import numpy_financial as npf"
   ]
  },
  {
   "cell_type": "code",
   "execution_count": 6,
   "metadata": {},
   "outputs": [
    {
     "name": "stdout",
     "output_type": "stream",
     "text": [
      "178402.55\n"
     ]
    }
   ],
   "source": [
    "cf = [-1100000, 200000, 0, 300000, 400000, 0, 0, 0, 500000] #Los periodos sin retorno de inversión se deben valorar a 0\n",
    "i = 0.08\n",
    "n = 4\n",
    "itri = (1+i)**(1/n)-1\n",
    "\n",
    "\n",
    "VAN = npf.npv(rate = itri, values = cf)\n",
    "print(round(VAN,2))"
   ]
  },
  {
   "cell_type": "markdown",
   "metadata": {},
   "source": [
    "*2. Aplicando una tasa de 10% efectivo anual, calcular el VAN de una operación de inversión cuyo desembolso es de 70.000 € y consta de 8 recuperaciones semestrales de 12.000 € cada una.*\n",
    "\n",
    "*En este caso, dado que la renta es constante podemos aplicar tanto la fórmula de VNA o VA, vamos a verlo aplicado*"
   ]
  },
  {
   "cell_type": "code",
   "execution_count": 18,
   "metadata": {},
   "outputs": [
    {
     "name": "stdout",
     "output_type": "stream",
     "text": [
      "19436.40761718354\n",
      "19436.407617183562\n"
     ]
    }
   ],
   "source": [
    "#Fórmula VNA\n",
    "\n",
    "cf = [-70000, 12000, 12000, 12000, 12000, 12000, 12000, 12000, 12000]\n",
    "i = 0.10\n",
    "n = 6\n",
    "ises = (1+i)**(1/n)-1\n",
    "\n",
    "VAN = npf.npv(rate = ises, values = cf)\n",
    "print(VAN)\n",
    "\n",
    "#Fórmula VA\n",
    "\n",
    "pago = 70000\n",
    "pmt = 12000\n",
    "m = 8\n",
    "\n",
    "VA = npf.pv(rate = ises, nper = m, pmt=-pmt, fv=0, when='end')-pago #tenemos que sacar fuera el pago inicial\n",
    "print(VA)\n"
   ]
  },
  {
   "cell_type": "markdown",
   "metadata": {},
   "source": [
    "*3. Calcular la TIR de una operación de inversión con las siguientes características: Desembolso de 100.000 €. Siendo las recuperaciones de 10.000 € mensuales durante un año.*\n",
    "\n",
    "*Dado que es una renta constante podemos utilizar también dos métodos, TIR (IRR) o mediante TASA (RATE)*"
   ]
  },
  {
   "cell_type": "code",
   "execution_count": 24,
   "metadata": {},
   "outputs": [
    {
     "name": "stdout",
     "output_type": "stream",
     "text": [
      "0.029228540769133504\n",
      "0.029228540769158345\n"
     ]
    }
   ],
   "source": [
    "#Métdodo TIR(IRR)\n",
    "\n",
    "cf = [-100000, 10000, 10000, 10000, 10000, 10000, 10000, 10000, 10000, 10000, 10000, 10000, 10000]\n",
    "\n",
    "TIR = npf.irr(cf)\n",
    "print(TIR)\n",
    "\n",
    "#Método TASA(RATE)\n",
    "\n",
    "n = 12\n",
    "pmt = 10000\n",
    "va = 100000\n",
    "\n",
    "TASA = npf.rate(nper=n, pmt=pmt, pv=-va, fv=0, when='end')\n",
    "print(TASA)"
   ]
  },
  {
   "cell_type": "markdown",
   "metadata": {},
   "source": [
    "*4. Calcular la TIR de una operación de inversión con las siguientes características: Desembolso de 100.000 €. Siendo las recuperaciones de 10.000 € mensuales durante un año, salvo el 3º mes que no se recupera nada y el mes 9º donde se perciben 20.000 €.*\n"
   ]
  },
  {
   "cell_type": "code",
   "execution_count": 27,
   "metadata": {},
   "outputs": [
    {
     "name": "stdout",
     "output_type": "stream",
     "text": [
      "0.026973355461856086\n",
      "0.3762905031900152\n"
     ]
    }
   ],
   "source": [
    "cf = [-100000, 10000, 10000, 0, 10000, 10000, 10000, 10000, 10000, 20000, 10000, 10000, 10000]\n",
    "n = 12\n",
    "\n",
    "TIR = npf.irr(cf)     #TIR mensual\n",
    "print(TIR)\n",
    "TIRanual = (1+TIR)**n-1\n",
    "print(TIRanual)"
   ]
  }
 ],
 "metadata": {
  "kernelspec": {
   "display_name": "Python 3",
   "language": "python",
   "name": "python3"
  },
  "language_info": {
   "codemirror_mode": {
    "name": "ipython",
    "version": 3
   },
   "file_extension": ".py",
   "mimetype": "text/x-python",
   "name": "python",
   "nbconvert_exporter": "python",
   "pygments_lexer": "ipython3",
   "version": "3.8.3"
  }
 },
 "nbformat": 4,
 "nbformat_minor": 4
}
