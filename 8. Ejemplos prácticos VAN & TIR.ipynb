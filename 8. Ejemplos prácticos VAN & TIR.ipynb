{
 "cells": [
  {
   "cell_type": "markdown",
   "metadata": {},
   "source": [
    "**Al principio de cada archivo, están las librerías que vamos a utilizar.**"
   ]
  },
  {
   "cell_type": "code",
   "execution_count": 2,
   "metadata": {},
   "outputs": [
    {
     "name": "stdout",
     "output_type": "stream",
     "text": [
      "Requirement already satisfied: numpy-financial in c:\\users\\rebec\\anaconda3\\lib\\site-packages (1.0.0)\n",
      "Requirement already satisfied: numpy>=1.15 in c:\\users\\rebec\\anaconda3\\lib\\site-packages (from numpy-financial) (1.18.5)\n",
      "Note: you may need to restart the kernel to use updated packages.\n"
     ]
    }
   ],
   "source": [
    "pip install numpy-financial"
   ]
  },
  {
   "cell_type": "code",
   "execution_count": 3,
   "metadata": {},
   "outputs": [],
   "source": [
    "import numpy_financial as npf\n",
    "import numpy as np\n",
    "import matplotlib.pyplot as plt"
   ]
  },
  {
   "cell_type": "markdown",
   "metadata": {},
   "source": [
    "**Ejemplos prácticos**\n",
    "\n",
    "*1. Aplicando una tasa de 8% efectivo anual, calcular el VAN de una operación de inversión con las siguientes características: Desembolso de 1.100.000 €. Siendo las recuperaciones de 200.000 € transcurrido un trimestre, 300.000 € transcurridos dos trimestres más, 400.000 € transcurrido un trimestres más, y 500.000 transcurridos cuatro trimestres más. La duración total la operación es de dos años.*"
   ]
  },
  {
   "cell_type": "code",
   "execution_count": 135,
   "metadata": {},
   "outputs": [
    {
     "name": "stdout",
     "output_type": "stream",
     "text": [
      "178402.55\n"
     ]
    }
   ],
   "source": [
    "cf = [-1100000, 200000, 0, 300000, 400000, 0, 0, 0, 500000] #Los periodos sin retorno de inversión se deben valorar a 0\n",
    "i = 0.08\n",
    "n = 4\n",
    "itri = (1+i)**(1/n)-1\n",
    "\n",
    "\n",
    "VAN = npf.npv(rate = itri, values = cf)\n",
    "print(round(VAN,2))"
   ]
  },
  {
   "cell_type": "markdown",
   "metadata": {},
   "source": [
    "*2. Aplicando una tasa de 10% efectivo anual, calcular el VAN de una operación de inversión cuyo desembolso es de 70.000 € y consta de 8 recuperaciones semestrales de 12.000 € cada una.*\n",
    "\n",
    "*En este caso, dado que la renta es constante podemos aplicar tanto la fórmula de VNA o VA, vamos a verlo aplicado*"
   ]
  },
  {
   "cell_type": "code",
   "execution_count": 136,
   "metadata": {},
   "outputs": [
    {
     "name": "stdout",
     "output_type": "stream",
     "text": [
      "19436.40761718354\n",
      "19436.407617183562\n"
     ]
    }
   ],
   "source": [
    "#Fórmula VNA\n",
    "\n",
    "cf = [-70000, 12000, 12000, 12000, 12000, 12000, 12000, 12000, 12000]\n",
    "i = 0.10\n",
    "n = 6\n",
    "ises = (1+i)**(1/n)-1\n",
    "\n",
    "VAN = npf.npv(rate = ises, values = cf)\n",
    "print(VAN)\n",
    "\n",
    "#Fórmula VA\n",
    "\n",
    "pago = 70000\n",
    "pmt = 12000\n",
    "m = 8\n",
    "\n",
    "VA = npf.pv(rate = ises, nper = m, pmt=-pmt, fv=0, when='end')-pago #tenemos que sacar fuera el pago inicial\n",
    "print(VA)\n"
   ]
  },
  {
   "cell_type": "markdown",
   "metadata": {},
   "source": [
    "*3. Ejemplo de Cálculo VAN con tasas diferentes.*\n",
    "\n",
    "*Imaginemos que tenemos un proyecto, en que tendremos que realizar un desembolso inicial de 7.000 €, posteriormente nos va a generar unos flujos de caja de 1.000 euros, que irán aumentando 200 euros cada año, hasta llegar al sexto. Igualmente, el primer flujo de caja tendrá una tasa de descuento de 2% que se irá incrementando hasta llegar al 7% en el último año. Queremos conocer el VAN de esta operación para saber si es viable o no."
   ]
  },
  {
   "cell_type": "code",
   "execution_count": 140,
   "metadata": {},
   "outputs": [
    {
     "name": "stdout",
     "output_type": "stream",
     "text": [
      "Flujos de caja: [-7000  1000  1200  1400  1600  1800  2000]\n",
      "Tasas de descuento: [1.01 1.02 1.03 1.04 1.05 1.06 1.07]\n",
      "Periodos: [0 1 2 3 4 5 6]\n",
      "VAN: 350.1752684214696\n"
     ]
    }
   ],
   "source": [
    "#En primer lugar, pensemos que los tipos de interés corresponden se corresponden con Estructura Temporal de los Tipos de Interés,\n",
    "# es decir, que los tipos van cambiando y el segundo flujo de caja estará descontado al 2%, sin tener en cuenta el primer año.\n",
    "\n",
    "cf = [-7000]\n",
    "b = list(range(1000, 2200, 200))\n",
    "cf = cf + b\n",
    "\n",
    "\n",
    "cf1 = np.array(cf)\n",
    "print(\"Flujos de caja: {}\".format(cf1))\n",
    "\n",
    "rate = np.arange(0.01,0.075,0.01)\n",
    "rate = rate + 1\n",
    "print(\"Tasas de descuento: {}\".format(rate))\n",
    "\n",
    "n = np.arange(0,7,1)\n",
    "print(\"Periodos: {}\".format(n))\n",
    "\n",
    "\n",
    "VAN = (cf/rate**n).sum()\n",
    "print(\"VAN: {}\".format(VAN))"
   ]
  },
  {
   "attachments": {
    "image.png": {
     "image/png": "[encoded data removed]"
    }
   },
   "cell_type": "markdown",
   "metadata": {},
   "source": [
    "*Sin embargo, podemos considerar que el tipo de interés no cambia, y que el primer año siempre será la misma tasa, el segundo año la misma, teniendo que tener en cuenta la primera, y así sucesivamente.*\n",
    "\n",
    "![image.png](attachment:image.png)"
   ]
  },
  {
   "cell_type": "code",
   "execution_count": 142,
   "metadata": {},
   "outputs": [
    {
     "name": "stdout",
     "output_type": "stream",
     "text": [
      "815.7245572726517\n"
     ]
    }
   ],
   "source": [
    "#Segunda opción:\n",
    "\n",
    "cf = [-7000]\n",
    "b = list(range(1000, 2200, 200))\n",
    "cf1 = cf + b\n",
    "cf = np.array(cf1)\n",
    "\n",
    "\n",
    "rate = np.arange(0.01,0.075,0.01)\n",
    "rate = rate + 1\n",
    "rate[0]= 1\n",
    "\n",
    "a=1\n",
    "rate1 = []\n",
    "for i in rate:\n",
    "    a = a*i\n",
    "    rate1.append(a)\n",
    "\n",
    "rate1 = np.array(rate1)\n",
    "\n",
    "VAN = (cf/rate1).sum()\n",
    "print(VAN)    \n"
   ]
  },
  {
   "cell_type": "markdown",
   "metadata": {},
   "source": [
    "*Lo ideal es crear una función que nos permita calcularlo en ambos casos.*"
   ]
  },
  {
   "cell_type": "code",
   "execution_count": 158,
   "metadata": {},
   "outputs": [
    {
     "name": "stdout",
     "output_type": "stream",
     "text": [
      "350.1752684214696\n",
      "815.7245572726517\n"
     ]
    }
   ],
   "source": [
    "cf = np.array([-7000, 1000, 1200, 1400, 1600, 1800, 2000])\n",
    "rate = np.array([1, 1.02, 1.03, 1.04, 1.05, 1.06, 1.07])\n",
    "n = [0, 1, 2, 3, 4, 5, 6]\n",
    "\n",
    "def Calculo_Van(values, rate, n=None):\n",
    "    if not n:\n",
    "        a = 1\n",
    "        rate1 = []\n",
    "        for i in rate:\n",
    "            a = a*i\n",
    "            rate1.append(a)\n",
    "            \n",
    "        VAN = (values/rate1).sum()\n",
    "        return VAN\n",
    "    \n",
    "    else:\n",
    "        VAN = (values/(rate**n)).sum()\n",
    "        return VAN\n",
    "    \n",
    "print(Calculo_Van(values=cf, rate=rate, n=n))    \n",
    "print(Calculo_Van(values=cf, rate=rate))"
   ]
  },
  {
   "cell_type": "markdown",
   "metadata": {},
   "source": [
    "*4. Calcular la TIR de una operación de inversión con las siguientes características: Desembolso de 100.000 €. Siendo las recuperaciones de 10.000 € mensuales durante un año.*\n",
    "\n",
    "*Dado que es una renta constante podemos utilizar también dos métodos, TIR (IRR) o mediante TASA (RATE)*"
   ]
  },
  {
   "cell_type": "code",
   "execution_count": 24,
   "metadata": {},
   "outputs": [
    {
     "name": "stdout",
     "output_type": "stream",
     "text": [
      "0.029228540769133504\n",
      "0.029228540769158345\n"
     ]
    }
   ],
   "source": [
    "#Métdodo TIR(IRR)\n",
    "\n",
    "cf = [-100000, 10000, 10000, 10000, 10000, 10000, 10000, 10000, 10000, 10000, 10000, 10000, 10000]\n",
    "\n",
    "TIR = npf.irr(cf)\n",
    "print(TIR)\n",
    "\n",
    "#Método TASA(RATE)\n",
    "\n",
    "n = 12\n",
    "pmt = 10000\n",
    "va = 100000\n",
    "\n",
    "TASA = npf.rate(nper=n, pmt=pmt, pv=-va, fv=0, when='end')\n",
    "print(TASA)"
   ]
  },
  {
   "cell_type": "markdown",
   "metadata": {},
   "source": [
    "*5. Calcular la TIR de una operación de inversión con las siguientes características: Desembolso de 100.000 €. Siendo las recuperaciones de 10.000 € mensuales durante un año, salvo el 3º mes que no se recupera nada y el mes 9º donde se perciben 20.000 €.*\n"
   ]
  },
  {
   "cell_type": "code",
   "execution_count": 27,
   "metadata": {},
   "outputs": [
    {
     "name": "stdout",
     "output_type": "stream",
     "text": [
      "0.026973355461856086\n",
      "0.3762905031900152\n"
     ]
    }
   ],
   "source": [
    "cf = [-100000, 10000, 10000, 0, 10000, 10000, 10000, 10000, 10000, 20000, 10000, 10000, 10000]\n",
    "n = 12\n",
    "\n",
    "TIR = npf.irr(cf)     #TIR mensual\n",
    "print(TIR)\n",
    "TIRanual = (1+TIR)**n-1\n",
    "print(TIRanual)"
   ]
  },
  {
   "cell_type": "markdown",
   "metadata": {},
   "source": [
    "*6.**TIR MÚLTIPLE** En raras ocasiones, en las que tenemos un proyecto en el que los flujos de caja son positivos y negativos podemos encontrarnos que tenemos varios puntos en el que nuestro VAN es cero y por tanto, múltiples TIR*\n",
    "\n",
    "*Veamos un ejemplo*"
   ]
  },
  {
   "cell_type": "code",
   "execution_count": 156,
   "metadata": {},
   "outputs": [
    {
     "name": "stdout",
     "output_type": "stream",
     "text": [
      "-0.005 0.01626\n",
      "-0.001 0.10061\n",
      "-0.008 0.36125\n"
     ]
    }
   ],
   "source": [
    "cf = [-1200, 700, 700, 700, 700, 700, -700, -700, -700, -700, -700, 0, 0, 0, 0, 0, 0, 0, 0, 0, 1300]\n",
    "r = np.arange(0,1.05,0.00001)  \n",
    "\n",
    "\n",
    "objetivo = 0                       \n",
    "tolerancia1 = 0.001\n",
    "tolerancia2 = -0.008\n",
    "\n",
    "VAN = []\n",
    "\n",
    "for i in r:\n",
    "    a= npf.npv(rate=i, values=cf)\n",
    "    VAN.append(a)\n",
    "    diff = a - objetivo\n",
    "    if diff < tolerancia1 and diff > tolerancia2:\n",
    "        print(round(a,3),i)"
   ]
  },
  {
   "cell_type": "markdown",
   "metadata": {},
   "source": [
    "*Podemos ver, que este proyecto tiene tres puntos en los que su VAN es prácticamente cero, que corresponde a TIR = 1,62%, TIR = 10,06% y TIR = 36,12%.*\n",
    "\n",
    "*Podemos ver esta gráfica*"
   ]
  },
  {
   "cell_type": "code",
   "execution_count": 154,
   "metadata": {},
   "outputs": [
    {
     "data": {
      "image/png": "[encoded data removed]",
      "text/plain": [
       "<Figure size 864x576 with 1 Axes>"
      ]
     },
     "metadata": {
      "needs_background": "light"
     },
     "output_type": "display_data"
    }
   ],
   "source": [
    "plt.figure(figsize = (12, 8))\n",
    "\n",
    "plt.plot(r, VAN, color = \"red\", linewidth = 2, linestyle='-', label = \"VAN(r)\")\n",
    "plt.grid()\n",
    "plt.hlines(y=0, xmin = r[0], xmax=r[-1], linestyle=\"dashed\", color=\"blue\", label=\"VAN = 0\")\n",
    "plt.title(\"TIR MÚLTIPLE\", fontsize=15)\n",
    "plt.xlabel(\"Interés\", fontsize=12)\n",
    "plt.ylabel(\"VAN\", fontsize=12)\n",
    "plt.annotate(\"TIR 1\", xy = (0.020, 0), xytext=(0.020, 50), arrowprops = {'color':'black'}, fontsize=15)\n",
    "plt.annotate(\"TIR 2\", xy = (0.100, 0), xytext=(0.100, 50), arrowprops = {'color':'black'}, fontsize=15)\n",
    "plt.annotate(\"TIR 3\", xy = (0.360, 0), xytext=(0.360, 50), arrowprops = {'color':'black'}, fontsize=15)\n",
    "plt.legend(loc=\"best\", fontsize=15)\n",
    "plt.show()"
   ]
  },
  {
   "cell_type": "markdown",
   "metadata": {},
   "source": [
    "*En principio es bastante raro encontrar casos de TIR múltiple, ya que carece de sentido financiero*\n",
    "\n",
    "*Una alternativa es calcular TIR modificada, para ello, lo que debemos estimar es una tasa de financiación, y una tasa de reinversión, que no siempre son fáciles de determinar. Para nuestro ejemplo hemos utilizado una tasa de financiación 8% y una tasa de reinversión de 10%*\n"
   ]
  },
  {
   "cell_type": "code",
   "execution_count": 161,
   "metadata": {},
   "outputs": [
    {
     "data": {
      "text/plain": [
       "0.09528522181235122"
      ]
     },
     "execution_count": 161,
     "metadata": {},
     "output_type": "execute_result"
    }
   ],
   "source": [
    "cf = [-1200, 700, 700, 700, 700, 700, -700, -700, -700, -700, -700, 0, 0, 0, 0, 0, 0, 0, 0, 0, 1300]\n",
    "\n",
    "npf.mirr(values=cf, finance_rate=0.08, reinvest_rate=0.10)"
   ]
  },
  {
   "cell_type": "markdown",
   "metadata": {},
   "source": [
    "*Veamos el desarrollo de esta función*"
   ]
  },
  {
   "cell_type": "code",
   "execution_count": 194,
   "metadata": {},
   "outputs": [
    {
     "name": "stdout",
     "output_type": "stream",
     "text": [
      "0.09528522181314958\n"
     ]
    }
   ],
   "source": [
    "#El primer paso es dividir los flujos de caja en positivos y negativos:\n",
    "cf = [-1200, 700, 700, 700, 700, 700, -700, -700, -700, -700, -700, 0, 0, 0, 0, 0, 0, 0, 0, 0, 1300]\n",
    "n=20\n",
    "positivos = []\n",
    "negativos = []\n",
    "\n",
    "for i in cf:\n",
    "    if i > 0:\n",
    "        positivos.append(i)\n",
    "        negativos.append(0)\n",
    "    else:\n",
    "        negativos.append(i)\n",
    "        positivos.append(0)\n",
    "\n",
    "        \n",
    "#En segundo lugar, actualizamos los flujos negativos al momento t(0)\n",
    "\n",
    "i = 0.08\n",
    "r = 0.10\n",
    "\n",
    "a = -npf.npv(rate=i, values=negativos)\n",
    "\n",
    "\n",
    "#Después calculamos el valor final de nuestros flujos de caja positivos.\n",
    "\n",
    "b = npf.npv(rate=r, values=positivos)*(1+r)**n\n",
    "\n",
    "\n",
    "#Finalmente calculamos la tasa de ambos\n",
    "\n",
    "TIRm = npf.rate(nper=n, pmt=0, pv=-a, fv=b)\n",
    "print(TIRm)"
   ]
  }
 ],
 "metadata": {
  "kernelspec": {
   "display_name": "Python 3",
   "language": "python",
   "name": "python3"
  },
  "language_info": {
   "codemirror_mode": {
    "name": "ipython",
    "version": 3
   },
   "file_extension": ".py",
   "mimetype": "text/x-python",
   "name": "python",
   "nbconvert_exporter": "python",
   "pygments_lexer": "ipython3",
   "version": "3.8.3"
  }
 },
 "nbformat": 4,
 "nbformat_minor": 4
}
