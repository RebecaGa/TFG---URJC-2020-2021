{
 "cells": [
  {
   "cell_type": "markdown",
   "metadata": {},
   "source": [
    "*Calculo Beta financiera*"
   ]
  },
  {
   "cell_type": "markdown",
   "metadata": {},
   "source": [
    "*En anteriores apartados, hemos hecho referencia al cálculo de la Beta de una compañía que cotiza en bolsa. Vamos a ver un ejemplo de como calcularlo en Python.*"
   ]
  },
  {
   "cell_type": "code",
   "execution_count": 1,
   "metadata": {},
   "outputs": [
    {
     "name": "stdout",
     "output_type": "stream",
     "text": [
      "Requirement already satisfied: numpy-financial in c:\\users\\rebec\\anaconda3\\lib\\site-packages (1.0.0)\n",
      "Requirement already satisfied: numpy>=1.15 in c:\\users\\rebec\\anaconda3\\lib\\site-packages (from numpy-financial) (1.18.5)\n",
      "Note: you may need to restart the kernel to use updated packages.\n"
     ]
    }
   ],
   "source": [
    "pip install numpy-financial"
   ]
  },
  {
   "cell_type": "code",
   "execution_count": 2,
   "metadata": {},
   "outputs": [],
   "source": [
    "import numpy_financial as npf\n",
    "import numpy as np\n",
    "import pandas as pd"
   ]
  },
  {
   "cell_type": "markdown",
   "metadata": {},
   "source": [
    "*Importamos esta librería que nos permite leer datos del la página yahoo finance, donde están los principales índices búrsatiles y podemos descargar los datos historicos*"
   ]
  },
  {
   "cell_type": "code",
   "execution_count": 4,
   "metadata": {},
   "outputs": [
    {
     "name": "stdout",
     "output_type": "stream",
     "text": [
      "Collecting yfinance\n",
      "  Downloading yfinance-0.1.59.tar.gz (25 kB)\n",
      "Requirement already satisfied: pandas>=0.24 in c:\\users\\rebec\\anaconda3\\lib\\site-packages (from yfinance) (1.0.5)\n",
      "Requirement already satisfied: numpy>=1.15 in c:\\users\\rebec\\anaconda3\\lib\\site-packages (from yfinance) (1.18.5)\n",
      "Requirement already satisfied: requests>=2.20 in c:\\users\\rebec\\anaconda3\\lib\\site-packages (from yfinance) (2.24.0)\n",
      "Collecting multitasking>=0.0.7\n",
      "  Downloading multitasking-0.0.9.tar.gz (8.1 kB)\n",
      "Requirement already satisfied: lxml>=4.5.1 in c:\\users\\rebec\\anaconda3\\lib\\site-packages (from yfinance) (4.5.2)\n",
      "Requirement already satisfied: pytz>=2017.2 in c:\\users\\rebec\\anaconda3\\lib\\site-packages (from pandas>=0.24->yfinance) (2020.1)\n",
      "Requirement already satisfied: python-dateutil>=2.6.1 in c:\\users\\rebec\\anaconda3\\lib\\site-packages (from pandas>=0.24->yfinance) (2.8.1)\n",
      "Requirement already satisfied: chardet<4,>=3.0.2 in c:\\users\\rebec\\anaconda3\\lib\\site-packages (from requests>=2.20->yfinance) (3.0.4)\n",
      "Requirement already satisfied: urllib3!=1.25.0,!=1.25.1,<1.26,>=1.21.1 in c:\\users\\rebec\\anaconda3\\lib\\site-packages (from requests>=2.20->yfinance) (1.25.9)\n",
      "Requirement already satisfied: certifi>=2017.4.17 in c:\\users\\rebec\\anaconda3\\lib\\site-packages (from requests>=2.20->yfinance) (2020.6.20)\n",
      "Requirement already satisfied: idna<3,>=2.5 in c:\\users\\rebec\\anaconda3\\lib\\site-packages (from requests>=2.20->yfinance) (2.10)\n",
      "Requirement already satisfied: six>=1.5 in c:\\users\\rebec\\anaconda3\\lib\\site-packages (from python-dateutil>=2.6.1->pandas>=0.24->yfinance) (1.15.0)\n",
      "Building wheels for collected packages: yfinance, multitasking\n",
      "  Building wheel for yfinance (setup.py): started\n",
      "  Building wheel for yfinance (setup.py): finished with status 'done'\n",
      "  Created wheel for yfinance: filename=yfinance-0.1.59-py2.py3-none-any.whl size=23447 sha256=b4fefed7417077ce8d1168c1482556afad309d895ec0a6dc22e558b954a7a31e\n",
      "  Stored in directory: c:\\users\\rebec\\appdata\\local\\pip\\cache\\wheels\\7e\\d5\\f4\\f628965651f61ae35c2bdc73571ce1a2026e1550a336b5ad4b\n",
      "  Building wheel for multitasking (setup.py): started\n",
      "  Building wheel for multitasking (setup.py): finished with status 'done'\n",
      "  Created wheel for multitasking: filename=multitasking-0.0.9-py3-none-any.whl size=8374 sha256=a612b303c5c2318119bdc005239668bd658ac60bf23d706f932a32ec5dccfd59\n",
      "  Stored in directory: c:\\users\\rebec\\appdata\\local\\pip\\cache\\wheels\\57\\6d\\a3\\a39b839cc75274d2acfb1c58bfead2f726c6577fe8c4723f13\n",
      "Successfully built yfinance multitasking\n",
      "Installing collected packages: multitasking, yfinance\n",
      "Successfully installed multitasking-0.0.9 yfinance-0.1.59\n",
      "Note: you may need to restart the kernel to use updated packages.\n"
     ]
    }
   ],
   "source": [
    "pip install yfinance"
   ]
  },
  {
   "cell_type": "code",
   "execution_count": 5,
   "metadata": {},
   "outputs": [],
   "source": [
    "import yfinance as yf"
   ]
  },
  {
   "attachments": {},
   "cell_type": "markdown",
   "metadata": {},
   "source": [
    "*Para descargar el histórico de cotizaciones de una empresa utilizamos esta función, indicando en primer lugar el código de la empresa (a continuación indicamos alguns de los códigos de las empresas cotizadas en el Ibex35, pero podemos buscarlo en la propia página de yahoo), y después indicamos el histórico que queremos descargar, o bien indicamos una fecha de inicio o fin, existen ambas posibilidades.*\n",
    "\n",
    "**Símbolo\tNombre de la empresa**\n",
    "\n",
    "**NTGY.MC**\tNaturgy Energy Group, S.A.\n",
    "\n",
    "**CABK.MC**\tCaixaBank, S.A.\n",
    "\n",
    "**ACS.MC**\tACS, Actividades de Construcción y Servicios, S.A.\n",
    "\n",
    "**ENG.MC**\tEnagás, S.A.\n",
    "\n",
    "**BKT.MC**\tBankinter, S.A.\n",
    "\n",
    "**AENA.MC**\tAena S.M.E., S.A.\n",
    "\n",
    "**ELE.MC**\tEndesa, Sociedad Anonima\n",
    "\n",
    "**SGRE.MC**\tSiemens Gamesa Renewable Energy, S.A.\n",
    "\n",
    "**TEF.MC**\tTelefónica, S.A.\n",
    "\n",
    "**REP.MC**\tRepsol, S.A.\n",
    "\n",
    "**IBE.MC**\tIberdrola, S.A.\n",
    "\n",
    "**SAN.MC**\tBanco Santander, S.A.\n",
    "\n",
    "**MAP.MC**\tMapfre, S.A.\n"
   ]
  },
  {
   "cell_type": "code",
   "execution_count": 108,
   "metadata": {},
   "outputs": [
    {
     "name": "stdout",
     "output_type": "stream",
     "text": [
      "[*********************100%***********************]  1 of 1 completed\n"
     ]
    }
   ],
   "source": [
    "data = yf.download(\"CABK.MC\", period = '6mo')\n",
    "data = pd.DataFrame(data)"
   ]
  },
  {
   "cell_type": "markdown",
   "metadata": {},
   "source": [
    "*Aquí podemos ver el precio de cotización de apertura, el más alto del día, el más bajo y el precio de cierre, además del precio de cierro ajustado y el volumen de operaciones.*\n",
    "\n",
    "*La columna que nos interesa será los precios de cierre*"
   ]
  },
  {
   "cell_type": "code",
   "execution_count": 110,
   "metadata": {},
   "outputs": [
    {
     "data": {
      "text/html": [
       "<div>\n",
       "<style scoped>\n",
       "    .dataframe tbody tr th:only-of-type {\n",
       "        vertical-align: middle;\n",
       "    }\n",
       "\n",
       "    .dataframe tbody tr th {\n",
       "        vertical-align: top;\n",
       "    }\n",
       "\n",
       "    .dataframe thead th {\n",
       "        text-align: right;\n",
       "    }\n",
       "</style>\n",
       "<table border=\"1\" class=\"dataframe\">\n",
       "  <thead>\n",
       "    <tr style=\"text-align: right;\">\n",
       "      <th></th>\n",
       "      <th>Open</th>\n",
       "      <th>High</th>\n",
       "      <th>Low</th>\n",
       "      <th>Close</th>\n",
       "      <th>Adj Close</th>\n",
       "      <th>Volume</th>\n",
       "    </tr>\n",
       "    <tr>\n",
       "      <th>Date</th>\n",
       "      <th></th>\n",
       "      <th></th>\n",
       "      <th></th>\n",
       "      <th></th>\n",
       "      <th></th>\n",
       "      <th></th>\n",
       "    </tr>\n",
       "  </thead>\n",
       "  <tbody>\n",
       "    <tr>\n",
       "      <th>2020-10-06</th>\n",
       "      <td>1.7230</td>\n",
       "      <td>1.8035</td>\n",
       "      <td>1.7035</td>\n",
       "      <td>1.7775</td>\n",
       "      <td>1.7775</td>\n",
       "      <td>14525635</td>\n",
       "    </tr>\n",
       "    <tr>\n",
       "      <th>2020-10-07</th>\n",
       "      <td>1.7615</td>\n",
       "      <td>1.7910</td>\n",
       "      <td>1.7470</td>\n",
       "      <td>1.7540</td>\n",
       "      <td>1.7540</td>\n",
       "      <td>11006112</td>\n",
       "    </tr>\n",
       "    <tr>\n",
       "      <th>2020-10-08</th>\n",
       "      <td>1.7645</td>\n",
       "      <td>1.8030</td>\n",
       "      <td>1.7560</td>\n",
       "      <td>1.7860</td>\n",
       "      <td>1.7860</td>\n",
       "      <td>8516156</td>\n",
       "    </tr>\n",
       "    <tr>\n",
       "      <th>2020-10-09</th>\n",
       "      <td>1.7930</td>\n",
       "      <td>1.7995</td>\n",
       "      <td>1.7400</td>\n",
       "      <td>1.7475</td>\n",
       "      <td>1.7475</td>\n",
       "      <td>10898370</td>\n",
       "    </tr>\n",
       "    <tr>\n",
       "      <th>2020-10-12</th>\n",
       "      <td>1.7450</td>\n",
       "      <td>1.7510</td>\n",
       "      <td>1.6970</td>\n",
       "      <td>1.7080</td>\n",
       "      <td>1.7080</td>\n",
       "      <td>10649303</td>\n",
       "    </tr>\n",
       "    <tr>\n",
       "      <th>...</th>\n",
       "      <td>...</td>\n",
       "      <td>...</td>\n",
       "      <td>...</td>\n",
       "      <td>...</td>\n",
       "      <td>...</td>\n",
       "      <td>...</td>\n",
       "    </tr>\n",
       "    <tr>\n",
       "      <th>2021-03-29</th>\n",
       "      <td>2.6000</td>\n",
       "      <td>2.6560</td>\n",
       "      <td>2.5630</td>\n",
       "      <td>2.5900</td>\n",
       "      <td>2.5900</td>\n",
       "      <td>23692618</td>\n",
       "    </tr>\n",
       "    <tr>\n",
       "      <th>2021-03-30</th>\n",
       "      <td>2.6260</td>\n",
       "      <td>2.7000</td>\n",
       "      <td>2.6060</td>\n",
       "      <td>2.6860</td>\n",
       "      <td>2.6860</td>\n",
       "      <td>14169456</td>\n",
       "    </tr>\n",
       "    <tr>\n",
       "      <th>2021-03-31</th>\n",
       "      <td>2.6850</td>\n",
       "      <td>2.7000</td>\n",
       "      <td>2.6390</td>\n",
       "      <td>2.6390</td>\n",
       "      <td>2.6390</td>\n",
       "      <td>90831719</td>\n",
       "    </tr>\n",
       "    <tr>\n",
       "      <th>2021-04-01</th>\n",
       "      <td>2.6000</td>\n",
       "      <td>2.6020</td>\n",
       "      <td>2.5620</td>\n",
       "      <td>2.6000</td>\n",
       "      <td>2.6000</td>\n",
       "      <td>36653487</td>\n",
       "    </tr>\n",
       "    <tr>\n",
       "      <th>2021-04-06</th>\n",
       "      <td>2.6200</td>\n",
       "      <td>2.6390</td>\n",
       "      <td>2.5960</td>\n",
       "      <td>2.6050</td>\n",
       "      <td>2.6050</td>\n",
       "      <td>5551797</td>\n",
       "    </tr>\n",
       "  </tbody>\n",
       "</table>\n",
       "<p>127 rows × 6 columns</p>\n",
       "</div>"
      ],
      "text/plain": [
       "              Open    High     Low   Close  Adj Close    Volume\n",
       "Date                                                           \n",
       "2020-10-06  1.7230  1.8035  1.7035  1.7775     1.7775  14525635\n",
       "2020-10-07  1.7615  1.7910  1.7470  1.7540     1.7540  11006112\n",
       "2020-10-08  1.7645  1.8030  1.7560  1.7860     1.7860   8516156\n",
       "2020-10-09  1.7930  1.7995  1.7400  1.7475     1.7475  10898370\n",
       "2020-10-12  1.7450  1.7510  1.6970  1.7080     1.7080  10649303\n",
       "...            ...     ...     ...     ...        ...       ...\n",
       "2021-03-29  2.6000  2.6560  2.5630  2.5900     2.5900  23692618\n",
       "2021-03-30  2.6260  2.7000  2.6060  2.6860     2.6860  14169456\n",
       "2021-03-31  2.6850  2.7000  2.6390  2.6390     2.6390  90831719\n",
       "2021-04-01  2.6000  2.6020  2.5620  2.6000     2.6000  36653487\n",
       "2021-04-06  2.6200  2.6390  2.5960  2.6050     2.6050   5551797\n",
       "\n",
       "[127 rows x 6 columns]"
      ]
     },
     "execution_count": 110,
     "metadata": {},
     "output_type": "execute_result"
    }
   ],
   "source": [
    "data"
   ]
  },
  {
   "cell_type": "code",
   "execution_count": 111,
   "metadata": {},
   "outputs": [],
   "source": [
    "data = data.loc[:,[\"Adj Close\"]]"
   ]
  },
  {
   "cell_type": "markdown",
   "metadata": {},
   "source": [
    "*Vamos a añadir una columna que nos calcula el log de todos los retornos*"
   ]
  },
  {
   "cell_type": "code",
   "execution_count": 112,
   "metadata": {},
   "outputs": [],
   "source": [
    "data[\"Dv\"] = np.log( data / data.shift(1))"
   ]
  },
  {
   "cell_type": "code",
   "execution_count": 113,
   "metadata": {},
   "outputs": [
    {
     "data": {
      "text/html": [
       "<div>\n",
       "<style scoped>\n",
       "    .dataframe tbody tr th:only-of-type {\n",
       "        vertical-align: middle;\n",
       "    }\n",
       "\n",
       "    .dataframe tbody tr th {\n",
       "        vertical-align: top;\n",
       "    }\n",
       "\n",
       "    .dataframe thead th {\n",
       "        text-align: right;\n",
       "    }\n",
       "</style>\n",
       "<table border=\"1\" class=\"dataframe\">\n",
       "  <thead>\n",
       "    <tr style=\"text-align: right;\">\n",
       "      <th></th>\n",
       "      <th>Adj Close</th>\n",
       "      <th>Dv</th>\n",
       "    </tr>\n",
       "    <tr>\n",
       "      <th>Date</th>\n",
       "      <th></th>\n",
       "      <th></th>\n",
       "    </tr>\n",
       "  </thead>\n",
       "  <tbody>\n",
       "    <tr>\n",
       "      <th>2020-10-06</th>\n",
       "      <td>1.7775</td>\n",
       "      <td>NaN</td>\n",
       "    </tr>\n",
       "    <tr>\n",
       "      <th>2020-10-07</th>\n",
       "      <td>1.7540</td>\n",
       "      <td>-0.013309</td>\n",
       "    </tr>\n",
       "    <tr>\n",
       "      <th>2020-10-08</th>\n",
       "      <td>1.7860</td>\n",
       "      <td>0.018080</td>\n",
       "    </tr>\n",
       "    <tr>\n",
       "      <th>2020-10-09</th>\n",
       "      <td>1.7475</td>\n",
       "      <td>-0.021792</td>\n",
       "    </tr>\n",
       "    <tr>\n",
       "      <th>2020-10-12</th>\n",
       "      <td>1.7080</td>\n",
       "      <td>-0.022863</td>\n",
       "    </tr>\n",
       "    <tr>\n",
       "      <th>...</th>\n",
       "      <td>...</td>\n",
       "      <td>...</td>\n",
       "    </tr>\n",
       "    <tr>\n",
       "      <th>2021-03-29</th>\n",
       "      <td>2.5900</td>\n",
       "      <td>-0.008075</td>\n",
       "    </tr>\n",
       "    <tr>\n",
       "      <th>2021-03-30</th>\n",
       "      <td>2.6860</td>\n",
       "      <td>0.036395</td>\n",
       "    </tr>\n",
       "    <tr>\n",
       "      <th>2021-03-31</th>\n",
       "      <td>2.6390</td>\n",
       "      <td>-0.017653</td>\n",
       "    </tr>\n",
       "    <tr>\n",
       "      <th>2021-04-01</th>\n",
       "      <td>2.6000</td>\n",
       "      <td>-0.014889</td>\n",
       "    </tr>\n",
       "    <tr>\n",
       "      <th>2021-04-06</th>\n",
       "      <td>2.6050</td>\n",
       "      <td>0.001921</td>\n",
       "    </tr>\n",
       "  </tbody>\n",
       "</table>\n",
       "<p>127 rows × 2 columns</p>\n",
       "</div>"
      ],
      "text/plain": [
       "            Adj Close        Dv\n",
       "Date                           \n",
       "2020-10-06     1.7775       NaN\n",
       "2020-10-07     1.7540 -0.013309\n",
       "2020-10-08     1.7860  0.018080\n",
       "2020-10-09     1.7475 -0.021792\n",
       "2020-10-12     1.7080 -0.022863\n",
       "...               ...       ...\n",
       "2021-03-29     2.5900 -0.008075\n",
       "2021-03-30     2.6860  0.036395\n",
       "2021-03-31     2.6390 -0.017653\n",
       "2021-04-01     2.6000 -0.014889\n",
       "2021-04-06     2.6050  0.001921\n",
       "\n",
       "[127 rows x 2 columns]"
      ]
     },
     "execution_count": 113,
     "metadata": {},
     "output_type": "execute_result"
    }
   ],
   "source": [
    "data"
   ]
  },
  {
   "cell_type": "code",
   "execution_count": 147,
   "metadata": {},
   "outputs": [
    {
     "data": {
      "text/plain": [
       "array([<matplotlib.axes._subplots.AxesSubplot object at 0x0000018F3F042520>],\n",
       "      dtype=object)"
      ]
     },
     "execution_count": 147,
     "metadata": {},
     "output_type": "execute_result"
    },
    {
     "data": {
      "image/png": "[encoded data removed]",
      "text/plain": [
       "<Figure size 1152x504 with 1 Axes>"
      ]
     },
     "metadata": {
      "needs_background": "light"
     },
     "output_type": "display_data"
    }
   ],
   "source": [
    "data['Dv'].cumsum().plot(subplots=True,figsize=(16,7)) "
   ]
  },
  {
   "cell_type": "markdown",
   "metadata": {},
   "source": [
    "*Mediante este gráfico podemos ver la evolución de CaixaBank en los últimos 6 meses*\n",
    "\n",
    "*Ahora, vamos a hacer lo mismo pero con el índice de referencia, en este caso **IBEX35**. Hay que tener en cuenta que podemos hacerlo con cualquiera de los índices que están publicados*"
   ]
  },
  {
   "cell_type": "code",
   "execution_count": 114,
   "metadata": {},
   "outputs": [
    {
     "name": "stdout",
     "output_type": "stream",
     "text": [
      "[*********************100%***********************]  1 of 1 completed\n"
     ]
    }
   ],
   "source": [
    "mercado = yf.download(\"^IBEX\", period = '6mo')\n",
    "mercado = pd.DataFrame(mercado)"
   ]
  },
  {
   "cell_type": "code",
   "execution_count": 115,
   "metadata": {
    "scrolled": true
   },
   "outputs": [
    {
     "data": {
      "text/html": [
       "<div>\n",
       "<style scoped>\n",
       "    .dataframe tbody tr th:only-of-type {\n",
       "        vertical-align: middle;\n",
       "    }\n",
       "\n",
       "    .dataframe tbody tr th {\n",
       "        vertical-align: top;\n",
       "    }\n",
       "\n",
       "    .dataframe thead th {\n",
       "        text-align: right;\n",
       "    }\n",
       "</style>\n",
       "<table border=\"1\" class=\"dataframe\">\n",
       "  <thead>\n",
       "    <tr style=\"text-align: right;\">\n",
       "      <th></th>\n",
       "      <th>Open</th>\n",
       "      <th>High</th>\n",
       "      <th>Low</th>\n",
       "      <th>Close</th>\n",
       "      <th>Adj Close</th>\n",
       "      <th>Volume</th>\n",
       "    </tr>\n",
       "    <tr>\n",
       "      <th>Date</th>\n",
       "      <th></th>\n",
       "      <th></th>\n",
       "      <th></th>\n",
       "      <th></th>\n",
       "      <th></th>\n",
       "      <th></th>\n",
       "    </tr>\n",
       "  </thead>\n",
       "  <tbody>\n",
       "    <tr>\n",
       "      <th>2020-10-06</th>\n",
       "      <td>6860.100098</td>\n",
       "      <td>6975.399902</td>\n",
       "      <td>6838.799805</td>\n",
       "      <td>6936.200195</td>\n",
       "      <td>6936.200195</td>\n",
       "      <td>265233500</td>\n",
       "    </tr>\n",
       "    <tr>\n",
       "      <th>2020-10-07</th>\n",
       "      <td>6920.200195</td>\n",
       "      <td>6952.600098</td>\n",
       "      <td>6887.100098</td>\n",
       "      <td>6910.100098</td>\n",
       "      <td>6910.100098</td>\n",
       "      <td>207416200</td>\n",
       "    </tr>\n",
       "    <tr>\n",
       "      <th>2020-10-08</th>\n",
       "      <td>6953.200195</td>\n",
       "      <td>7018.799805</td>\n",
       "      <td>6951.700195</td>\n",
       "      <td>6992.799805</td>\n",
       "      <td>6992.799805</td>\n",
       "      <td>202093000</td>\n",
       "    </tr>\n",
       "    <tr>\n",
       "      <th>2020-10-09</th>\n",
       "      <td>6992.899902</td>\n",
       "      <td>7024.600098</td>\n",
       "      <td>6936.700195</td>\n",
       "      <td>6950.899902</td>\n",
       "      <td>6950.899902</td>\n",
       "      <td>182746300</td>\n",
       "    </tr>\n",
       "    <tr>\n",
       "      <th>2020-10-12</th>\n",
       "      <td>6968.799805</td>\n",
       "      <td>6979.899902</td>\n",
       "      <td>6924.799805</td>\n",
       "      <td>6951.000000</td>\n",
       "      <td>6951.000000</td>\n",
       "      <td>167258200</td>\n",
       "    </tr>\n",
       "    <tr>\n",
       "      <th>...</th>\n",
       "      <td>...</td>\n",
       "      <td>...</td>\n",
       "      <td>...</td>\n",
       "      <td>...</td>\n",
       "      <td>...</td>\n",
       "      <td>...</td>\n",
       "    </tr>\n",
       "    <tr>\n",
       "      <th>2021-03-29</th>\n",
       "      <td>8502.799805</td>\n",
       "      <td>8540.400391</td>\n",
       "      <td>8451.500000</td>\n",
       "      <td>8492.099609</td>\n",
       "      <td>8492.099609</td>\n",
       "      <td>177594200</td>\n",
       "    </tr>\n",
       "    <tr>\n",
       "      <th>2021-03-30</th>\n",
       "      <td>8542.900391</td>\n",
       "      <td>8612.299805</td>\n",
       "      <td>8532.400391</td>\n",
       "      <td>8595.200195</td>\n",
       "      <td>8595.200195</td>\n",
       "      <td>171860100</td>\n",
       "    </tr>\n",
       "    <tr>\n",
       "      <th>2021-03-31</th>\n",
       "      <td>8594.700195</td>\n",
       "      <td>8652.200195</td>\n",
       "      <td>8568.000000</td>\n",
       "      <td>8580.000000</td>\n",
       "      <td>8580.000000</td>\n",
       "      <td>265542300</td>\n",
       "    </tr>\n",
       "    <tr>\n",
       "      <th>2021-04-01</th>\n",
       "      <td>8595.599609</td>\n",
       "      <td>8610.099609</td>\n",
       "      <td>8542.700195</td>\n",
       "      <td>8577.599609</td>\n",
       "      <td>8577.599609</td>\n",
       "      <td>150979000</td>\n",
       "    </tr>\n",
       "    <tr>\n",
       "      <th>2021-04-06</th>\n",
       "      <td>8673.200195</td>\n",
       "      <td>8691.900391</td>\n",
       "      <td>8631.099609</td>\n",
       "      <td>8664.599609</td>\n",
       "      <td>8664.599609</td>\n",
       "      <td>94967819</td>\n",
       "    </tr>\n",
       "  </tbody>\n",
       "</table>\n",
       "<p>127 rows × 6 columns</p>\n",
       "</div>"
      ],
      "text/plain": [
       "                   Open         High          Low        Close    Adj Close  \\\n",
       "Date                                                                          \n",
       "2020-10-06  6860.100098  6975.399902  6838.799805  6936.200195  6936.200195   \n",
       "2020-10-07  6920.200195  6952.600098  6887.100098  6910.100098  6910.100098   \n",
       "2020-10-08  6953.200195  7018.799805  6951.700195  6992.799805  6992.799805   \n",
       "2020-10-09  6992.899902  7024.600098  6936.700195  6950.899902  6950.899902   \n",
       "2020-10-12  6968.799805  6979.899902  6924.799805  6951.000000  6951.000000   \n",
       "...                 ...          ...          ...          ...          ...   \n",
       "2021-03-29  8502.799805  8540.400391  8451.500000  8492.099609  8492.099609   \n",
       "2021-03-30  8542.900391  8612.299805  8532.400391  8595.200195  8595.200195   \n",
       "2021-03-31  8594.700195  8652.200195  8568.000000  8580.000000  8580.000000   \n",
       "2021-04-01  8595.599609  8610.099609  8542.700195  8577.599609  8577.599609   \n",
       "2021-04-06  8673.200195  8691.900391  8631.099609  8664.599609  8664.599609   \n",
       "\n",
       "               Volume  \n",
       "Date                   \n",
       "2020-10-06  265233500  \n",
       "2020-10-07  207416200  \n",
       "2020-10-08  202093000  \n",
       "2020-10-09  182746300  \n",
       "2020-10-12  167258200  \n",
       "...               ...  \n",
       "2021-03-29  177594200  \n",
       "2021-03-30  171860100  \n",
       "2021-03-31  265542300  \n",
       "2021-04-01  150979000  \n",
       "2021-04-06   94967819  \n",
       "\n",
       "[127 rows x 6 columns]"
      ]
     },
     "execution_count": 115,
     "metadata": {},
     "output_type": "execute_result"
    }
   ],
   "source": [
    "mercado"
   ]
  },
  {
   "cell_type": "code",
   "execution_count": 116,
   "metadata": {},
   "outputs": [],
   "source": [
    "mercado = mercado.loc[:,[\"Adj Close\"]]"
   ]
  },
  {
   "cell_type": "code",
   "execution_count": 117,
   "metadata": {},
   "outputs": [
    {
     "data": {
      "text/html": [
       "<div>\n",
       "<style scoped>\n",
       "    .dataframe tbody tr th:only-of-type {\n",
       "        vertical-align: middle;\n",
       "    }\n",
       "\n",
       "    .dataframe tbody tr th {\n",
       "        vertical-align: top;\n",
       "    }\n",
       "\n",
       "    .dataframe thead th {\n",
       "        text-align: right;\n",
       "    }\n",
       "</style>\n",
       "<table border=\"1\" class=\"dataframe\">\n",
       "  <thead>\n",
       "    <tr style=\"text-align: right;\">\n",
       "      <th></th>\n",
       "      <th>Adj Close</th>\n",
       "    </tr>\n",
       "    <tr>\n",
       "      <th>Date</th>\n",
       "      <th></th>\n",
       "    </tr>\n",
       "  </thead>\n",
       "  <tbody>\n",
       "    <tr>\n",
       "      <th>2020-10-06</th>\n",
       "      <td>6936.200195</td>\n",
       "    </tr>\n",
       "    <tr>\n",
       "      <th>2020-10-07</th>\n",
       "      <td>6910.100098</td>\n",
       "    </tr>\n",
       "    <tr>\n",
       "      <th>2020-10-08</th>\n",
       "      <td>6992.799805</td>\n",
       "    </tr>\n",
       "    <tr>\n",
       "      <th>2020-10-09</th>\n",
       "      <td>6950.899902</td>\n",
       "    </tr>\n",
       "    <tr>\n",
       "      <th>2020-10-12</th>\n",
       "      <td>6951.000000</td>\n",
       "    </tr>\n",
       "    <tr>\n",
       "      <th>...</th>\n",
       "      <td>...</td>\n",
       "    </tr>\n",
       "    <tr>\n",
       "      <th>2021-03-29</th>\n",
       "      <td>8492.099609</td>\n",
       "    </tr>\n",
       "    <tr>\n",
       "      <th>2021-03-30</th>\n",
       "      <td>8595.200195</td>\n",
       "    </tr>\n",
       "    <tr>\n",
       "      <th>2021-03-31</th>\n",
       "      <td>8580.000000</td>\n",
       "    </tr>\n",
       "    <tr>\n",
       "      <th>2021-04-01</th>\n",
       "      <td>8577.599609</td>\n",
       "    </tr>\n",
       "    <tr>\n",
       "      <th>2021-04-06</th>\n",
       "      <td>8664.599609</td>\n",
       "    </tr>\n",
       "  </tbody>\n",
       "</table>\n",
       "<p>127 rows × 1 columns</p>\n",
       "</div>"
      ],
      "text/plain": [
       "              Adj Close\n",
       "Date                   \n",
       "2020-10-06  6936.200195\n",
       "2020-10-07  6910.100098\n",
       "2020-10-08  6992.799805\n",
       "2020-10-09  6950.899902\n",
       "2020-10-12  6951.000000\n",
       "...                 ...\n",
       "2021-03-29  8492.099609\n",
       "2021-03-30  8595.200195\n",
       "2021-03-31  8580.000000\n",
       "2021-04-01  8577.599609\n",
       "2021-04-06  8664.599609\n",
       "\n",
       "[127 rows x 1 columns]"
      ]
     },
     "execution_count": 117,
     "metadata": {},
     "output_type": "execute_result"
    }
   ],
   "source": [
    "mercado"
   ]
  },
  {
   "cell_type": "code",
   "execution_count": 120,
   "metadata": {},
   "outputs": [],
   "source": [
    "mercado[\"Dv\"] = np.log( mercado / mercado.shift(1))"
   ]
  },
  {
   "cell_type": "code",
   "execution_count": 121,
   "metadata": {},
   "outputs": [
    {
     "data": {
      "text/html": [
       "<div>\n",
       "<style scoped>\n",
       "    .dataframe tbody tr th:only-of-type {\n",
       "        vertical-align: middle;\n",
       "    }\n",
       "\n",
       "    .dataframe tbody tr th {\n",
       "        vertical-align: top;\n",
       "    }\n",
       "\n",
       "    .dataframe thead th {\n",
       "        text-align: right;\n",
       "    }\n",
       "</style>\n",
       "<table border=\"1\" class=\"dataframe\">\n",
       "  <thead>\n",
       "    <tr style=\"text-align: right;\">\n",
       "      <th></th>\n",
       "      <th>Adj Close</th>\n",
       "      <th>Dv</th>\n",
       "    </tr>\n",
       "    <tr>\n",
       "      <th>Date</th>\n",
       "      <th></th>\n",
       "      <th></th>\n",
       "    </tr>\n",
       "  </thead>\n",
       "  <tbody>\n",
       "    <tr>\n",
       "      <th>2020-10-06</th>\n",
       "      <td>6936.200195</td>\n",
       "      <td>NaN</td>\n",
       "    </tr>\n",
       "    <tr>\n",
       "      <th>2020-10-07</th>\n",
       "      <td>6910.100098</td>\n",
       "      <td>-0.003770</td>\n",
       "    </tr>\n",
       "    <tr>\n",
       "      <th>2020-10-08</th>\n",
       "      <td>6992.799805</td>\n",
       "      <td>0.011897</td>\n",
       "    </tr>\n",
       "    <tr>\n",
       "      <th>2020-10-09</th>\n",
       "      <td>6950.899902</td>\n",
       "      <td>-0.006010</td>\n",
       "    </tr>\n",
       "    <tr>\n",
       "      <th>2020-10-12</th>\n",
       "      <td>6951.000000</td>\n",
       "      <td>0.000014</td>\n",
       "    </tr>\n",
       "    <tr>\n",
       "      <th>...</th>\n",
       "      <td>...</td>\n",
       "      <td>...</td>\n",
       "    </tr>\n",
       "    <tr>\n",
       "      <th>2021-03-29</th>\n",
       "      <td>8492.099609</td>\n",
       "      <td>-0.000718</td>\n",
       "    </tr>\n",
       "    <tr>\n",
       "      <th>2021-03-30</th>\n",
       "      <td>8595.200195</td>\n",
       "      <td>0.012068</td>\n",
       "    </tr>\n",
       "    <tr>\n",
       "      <th>2021-03-31</th>\n",
       "      <td>8580.000000</td>\n",
       "      <td>-0.001770</td>\n",
       "    </tr>\n",
       "    <tr>\n",
       "      <th>2021-04-01</th>\n",
       "      <td>8577.599609</td>\n",
       "      <td>-0.000280</td>\n",
       "    </tr>\n",
       "    <tr>\n",
       "      <th>2021-04-06</th>\n",
       "      <td>8664.599609</td>\n",
       "      <td>0.010092</td>\n",
       "    </tr>\n",
       "  </tbody>\n",
       "</table>\n",
       "<p>127 rows × 2 columns</p>\n",
       "</div>"
      ],
      "text/plain": [
       "              Adj Close        Dv\n",
       "Date                             \n",
       "2020-10-06  6936.200195       NaN\n",
       "2020-10-07  6910.100098 -0.003770\n",
       "2020-10-08  6992.799805  0.011897\n",
       "2020-10-09  6950.899902 -0.006010\n",
       "2020-10-12  6951.000000  0.000014\n",
       "...                 ...       ...\n",
       "2021-03-29  8492.099609 -0.000718\n",
       "2021-03-30  8595.200195  0.012068\n",
       "2021-03-31  8580.000000 -0.001770\n",
       "2021-04-01  8577.599609 -0.000280\n",
       "2021-04-06  8664.599609  0.010092\n",
       "\n",
       "[127 rows x 2 columns]"
      ]
     },
     "execution_count": 121,
     "metadata": {},
     "output_type": "execute_result"
    }
   ],
   "source": [
    "mercado"
   ]
  },
  {
   "cell_type": "code",
   "execution_count": 148,
   "metadata": {},
   "outputs": [
    {
     "data": {
      "text/plain": [
       "array([<matplotlib.axes._subplots.AxesSubplot object at 0x0000018F3FC8D430>],\n",
       "      dtype=object)"
      ]
     },
     "execution_count": 148,
     "metadata": {},
     "output_type": "execute_result"
    },
    {
     "data": {
      "image/png": "[encoded data removed]",
      "text/plain": [
       "<Figure size 1152x504 with 1 Axes>"
      ]
     },
     "metadata": {
      "needs_background": "light"
     },
     "output_type": "display_data"
    }
   ],
   "source": [
    "mercado['Dv'].cumsum().plot(subplots=True,figsize=(16,7)) "
   ]
  },
  {
   "cell_type": "markdown",
   "metadata": {},
   "source": [
    "*En este gráfico vemos la evolución del Ibex35 en los últimos 6 meses*\n",
    "\n",
    "*Ahora vamos a hacer un único DataFrame para tener los datos en un mismo archivo*"
   ]
  },
  {
   "cell_type": "code",
   "execution_count": 124,
   "metadata": {},
   "outputs": [],
   "source": [
    "data[\"Adj Close Mercado\"] = mercado['Adj Close']\n",
    "data[\"Dv Mercado\"] = mercado['Dv']"
   ]
  },
  {
   "cell_type": "code",
   "execution_count": 125,
   "metadata": {},
   "outputs": [
    {
     "data": {
      "text/html": [
       "<div>\n",
       "<style scoped>\n",
       "    .dataframe tbody tr th:only-of-type {\n",
       "        vertical-align: middle;\n",
       "    }\n",
       "\n",
       "    .dataframe tbody tr th {\n",
       "        vertical-align: top;\n",
       "    }\n",
       "\n",
       "    .dataframe thead th {\n",
       "        text-align: right;\n",
       "    }\n",
       "</style>\n",
       "<table border=\"1\" class=\"dataframe\">\n",
       "  <thead>\n",
       "    <tr style=\"text-align: right;\">\n",
       "      <th></th>\n",
       "      <th>Adj Close</th>\n",
       "      <th>Dv</th>\n",
       "      <th>Adj Close Mercado</th>\n",
       "      <th>Dv Mercado</th>\n",
       "    </tr>\n",
       "    <tr>\n",
       "      <th>Date</th>\n",
       "      <th></th>\n",
       "      <th></th>\n",
       "      <th></th>\n",
       "      <th></th>\n",
       "    </tr>\n",
       "  </thead>\n",
       "  <tbody>\n",
       "    <tr>\n",
       "      <th>2020-10-06</th>\n",
       "      <td>1.7775</td>\n",
       "      <td>NaN</td>\n",
       "      <td>6936.200195</td>\n",
       "      <td>NaN</td>\n",
       "    </tr>\n",
       "    <tr>\n",
       "      <th>2020-10-07</th>\n",
       "      <td>1.7540</td>\n",
       "      <td>-0.013309</td>\n",
       "      <td>6910.100098</td>\n",
       "      <td>-0.003770</td>\n",
       "    </tr>\n",
       "    <tr>\n",
       "      <th>2020-10-08</th>\n",
       "      <td>1.7860</td>\n",
       "      <td>0.018080</td>\n",
       "      <td>6992.799805</td>\n",
       "      <td>0.011897</td>\n",
       "    </tr>\n",
       "    <tr>\n",
       "      <th>2020-10-09</th>\n",
       "      <td>1.7475</td>\n",
       "      <td>-0.021792</td>\n",
       "      <td>6950.899902</td>\n",
       "      <td>-0.006010</td>\n",
       "    </tr>\n",
       "    <tr>\n",
       "      <th>2020-10-12</th>\n",
       "      <td>1.7080</td>\n",
       "      <td>-0.022863</td>\n",
       "      <td>6951.000000</td>\n",
       "      <td>0.000014</td>\n",
       "    </tr>\n",
       "    <tr>\n",
       "      <th>...</th>\n",
       "      <td>...</td>\n",
       "      <td>...</td>\n",
       "      <td>...</td>\n",
       "      <td>...</td>\n",
       "    </tr>\n",
       "    <tr>\n",
       "      <th>2021-03-29</th>\n",
       "      <td>2.5900</td>\n",
       "      <td>-0.008075</td>\n",
       "      <td>8492.099609</td>\n",
       "      <td>-0.000718</td>\n",
       "    </tr>\n",
       "    <tr>\n",
       "      <th>2021-03-30</th>\n",
       "      <td>2.6860</td>\n",
       "      <td>0.036395</td>\n",
       "      <td>8595.200195</td>\n",
       "      <td>0.012068</td>\n",
       "    </tr>\n",
       "    <tr>\n",
       "      <th>2021-03-31</th>\n",
       "      <td>2.6390</td>\n",
       "      <td>-0.017653</td>\n",
       "      <td>8580.000000</td>\n",
       "      <td>-0.001770</td>\n",
       "    </tr>\n",
       "    <tr>\n",
       "      <th>2021-04-01</th>\n",
       "      <td>2.6000</td>\n",
       "      <td>-0.014889</td>\n",
       "      <td>8577.599609</td>\n",
       "      <td>-0.000280</td>\n",
       "    </tr>\n",
       "    <tr>\n",
       "      <th>2021-04-06</th>\n",
       "      <td>2.6050</td>\n",
       "      <td>0.001921</td>\n",
       "      <td>8664.599609</td>\n",
       "      <td>0.010092</td>\n",
       "    </tr>\n",
       "  </tbody>\n",
       "</table>\n",
       "<p>127 rows × 4 columns</p>\n",
       "</div>"
      ],
      "text/plain": [
       "            Adj Close        Dv  Adj Close Mercado  Dv Mercado\n",
       "Date                                                          \n",
       "2020-10-06     1.7775       NaN        6936.200195         NaN\n",
       "2020-10-07     1.7540 -0.013309        6910.100098   -0.003770\n",
       "2020-10-08     1.7860  0.018080        6992.799805    0.011897\n",
       "2020-10-09     1.7475 -0.021792        6950.899902   -0.006010\n",
       "2020-10-12     1.7080 -0.022863        6951.000000    0.000014\n",
       "...               ...       ...                ...         ...\n",
       "2021-03-29     2.5900 -0.008075        8492.099609   -0.000718\n",
       "2021-03-30     2.6860  0.036395        8595.200195    0.012068\n",
       "2021-03-31     2.6390 -0.017653        8580.000000   -0.001770\n",
       "2021-04-01     2.6000 -0.014889        8577.599609   -0.000280\n",
       "2021-04-06     2.6050  0.001921        8664.599609    0.010092\n",
       "\n",
       "[127 rows x 4 columns]"
      ]
     },
     "execution_count": 125,
     "metadata": {},
     "output_type": "execute_result"
    }
   ],
   "source": [
    "data"
   ]
  },
  {
   "cell_type": "markdown",
   "metadata": {},
   "source": [
    "*Podemos exportar este fichero a Excel, en este caso lo hemos realizado para cotejar los resultados y verificar que los cálculos son correctos, pero no es necesario. También podemos descargar varios valores, unirlos en un DataFrame y exportar a Excel para realizar cálculos u visualizaciones*"
   ]
  },
  {
   "cell_type": "code",
   "execution_count": 130,
   "metadata": {},
   "outputs": [],
   "source": [
    "data.to_excel(\"Data.xlsx\", sheet_name=\"Sheet1\")"
   ]
  },
  {
   "cell_type": "markdown",
   "metadata": {},
   "source": [
    "*Recordemos cómo se calcula la Beta de una compañía*"
   ]
  },
  {
   "attachments": {
    "image.png": {
     "image/png": "[encoded data removed]"
    }
   },
   "cell_type": "markdown",
   "metadata": {},
   "source": [
    "![image.png](attachment:image.png)"
   ]
  },
  {
   "cell_type": "markdown",
   "metadata": {},
   "source": [
    "*Vamos a calcular la covarianza del título, en este caso de CaixaBank*"
   ]
  },
  {
   "cell_type": "code",
   "execution_count": 164,
   "metadata": {},
   "outputs": [],
   "source": [
    "cov = data.cov()"
   ]
  },
  {
   "cell_type": "code",
   "execution_count": 165,
   "metadata": {},
   "outputs": [
    {
     "data": {
      "text/html": [
       "<div>\n",
       "<style scoped>\n",
       "    .dataframe tbody tr th:only-of-type {\n",
       "        vertical-align: middle;\n",
       "    }\n",
       "\n",
       "    .dataframe tbody tr th {\n",
       "        vertical-align: top;\n",
       "    }\n",
       "\n",
       "    .dataframe thead th {\n",
       "        text-align: right;\n",
       "    }\n",
       "</style>\n",
       "<table border=\"1\" class=\"dataframe\">\n",
       "  <thead>\n",
       "    <tr style=\"text-align: right;\">\n",
       "      <th></th>\n",
       "      <th>Adj Close</th>\n",
       "      <th>Dv</th>\n",
       "      <th>Adj Close Mercado</th>\n",
       "      <th>Dv Mercado</th>\n",
       "    </tr>\n",
       "  </thead>\n",
       "  <tbody>\n",
       "    <tr>\n",
       "      <th>Adj Close</th>\n",
       "      <td>0.087205</td>\n",
       "      <td>0.000670</td>\n",
       "      <td>166.469302</td>\n",
       "      <td>0.000099</td>\n",
       "    </tr>\n",
       "    <tr>\n",
       "      <th>Dv</th>\n",
       "      <td>0.000670</td>\n",
       "      <td>0.000668</td>\n",
       "      <td>1.189667</td>\n",
       "      <td>0.000275</td>\n",
       "    </tr>\n",
       "    <tr>\n",
       "      <th>Adj Close Mercado</th>\n",
       "      <td>166.469302</td>\n",
       "      <td>1.189667</td>\n",
       "      <td>351466.547370</td>\n",
       "      <td>0.415540</td>\n",
       "    </tr>\n",
       "    <tr>\n",
       "      <th>Dv Mercado</th>\n",
       "      <td>0.000099</td>\n",
       "      <td>0.000275</td>\n",
       "      <td>0.415540</td>\n",
       "      <td>0.000186</td>\n",
       "    </tr>\n",
       "  </tbody>\n",
       "</table>\n",
       "</div>"
      ],
      "text/plain": [
       "                    Adj Close        Dv  Adj Close Mercado  Dv Mercado\n",
       "Adj Close            0.087205  0.000670         166.469302    0.000099\n",
       "Dv                   0.000670  0.000668           1.189667    0.000275\n",
       "Adj Close Mercado  166.469302  1.189667      351466.547370    0.415540\n",
       "Dv Mercado           0.000099  0.000275           0.415540    0.000186"
      ]
     },
     "execution_count": 165,
     "metadata": {},
     "output_type": "execute_result"
    }
   ],
   "source": [
    "cov"
   ]
  },
  {
   "cell_type": "code",
   "execution_count": 168,
   "metadata": {},
   "outputs": [],
   "source": [
    "cov_CABK = cov.iloc[1,3]"
   ]
  },
  {
   "cell_type": "code",
   "execution_count": 169,
   "metadata": {},
   "outputs": [
    {
     "data": {
      "text/plain": [
       "0.00027533428273065916"
      ]
     },
     "execution_count": 169,
     "metadata": {},
     "output_type": "execute_result"
    }
   ],
   "source": [
    "cov_CABK"
   ]
  },
  {
   "cell_type": "markdown",
   "metadata": {},
   "source": [
    "*Calculemos ahora la varianza del mercado*"
   ]
  },
  {
   "cell_type": "code",
   "execution_count": 170,
   "metadata": {},
   "outputs": [
    {
     "data": {
      "text/plain": [
       "0.00018588973412030505"
      ]
     },
     "execution_count": 170,
     "metadata": {},
     "output_type": "execute_result"
    }
   ],
   "source": [
    "IBEX_var = data['Dv Mercado'].var()\n",
    "IBEX_var"
   ]
  },
  {
   "cell_type": "markdown",
   "metadata": {},
   "source": [
    "*Finalmente calculamos la Beta de la compañía*"
   ]
  },
  {
   "cell_type": "code",
   "execution_count": 171,
   "metadata": {},
   "outputs": [
    {
     "data": {
      "text/plain": [
       "1.4811699206179236"
      ]
     },
     "execution_count": 171,
     "metadata": {},
     "output_type": "execute_result"
    }
   ],
   "source": [
    "\n",
    "CABK_beta= cov_CABK / IBEX_var # division entre la covarianza contra mercado dividido entre la varianza del mercado\n",
    "CABK_beta"
   ]
  },
  {
   "cell_type": "code",
   "execution_count": null,
   "metadata": {},
   "outputs": [],
   "source": []
  }
 ],
 "metadata": {
  "kernelspec": {
   "display_name": "Python 3",
   "language": "python",
   "name": "python3"
  },
  "language_info": {
   "codemirror_mode": {
    "name": "ipython",
    "version": 3
   },
   "file_extension": ".py",
   "mimetype": "text/x-python",
   "name": "python",
   "nbconvert_exporter": "python",
   "pygments_lexer": "ipython3",
   "version": "3.8.3"
  }
 },
 "nbformat": 4,
 "nbformat_minor": 4
}
