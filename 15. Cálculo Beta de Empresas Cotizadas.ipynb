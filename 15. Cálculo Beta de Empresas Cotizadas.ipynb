{
 "cells": [
  {
   "cell_type": "markdown",
   "metadata": {},
   "source": [
    "# *Cálculo Beta en Empresas Cotizadas*"
   ]
  },
  {
   "cell_type": "markdown",
   "metadata": {},
   "source": [
    "*En anteriores apartados, hemos hecho referencia al cálculo de la Beta de una compañía que cotiza en bolsa. Vamos a ver un ejemplo de como calcularlo en Python, y además los pasos en Excel para ver la diferncia entre ambos.*\n",
    "\n",
    "*También en este apartado vamos a ver cómo descargar datos desde una web, lo que en muchas ocasiones nos será de mucha utilidad*"
   ]
  },
  {
   "cell_type": "code",
   "execution_count": 1,
   "metadata": {},
   "outputs": [],
   "source": [
    "import pandas as pd\n",
    "import scipy.stats as stats\n",
    "import matplotlib.pyplot as plt\n",
    "import numpy as np"
   ]
  },
  {
   "cell_type": "code",
   "execution_count": 2,
   "metadata": {},
   "outputs": [],
   "source": [
    "plt.close(\"all\")"
   ]
  },
  {
   "cell_type": "markdown",
   "metadata": {},
   "source": [
    "*Importamos esta librería que nos permite leer datos del la página yahoo finance, donde están los principales índices búrsatiles y podemos descargar los datos historicos*"
   ]
  },
  {
   "cell_type": "code",
   "execution_count": 3,
   "metadata": {},
   "outputs": [
    {
     "name": "stdout",
     "output_type": "stream",
     "text": [
      "Requirement already satisfied: yfinance in c:\\users\\jgarr\\anaconda3\\lib\\site-packages (0.1.59)Note: you may need to restart the kernel to use updated packages.\n",
      "Requirement already satisfied: pandas>=0.24 in c:\\users\\jgarr\\anaconda3\\lib\\site-packages (from yfinance) (1.1.3)\n",
      "Requirement already satisfied: multitasking>=0.0.7 in c:\\users\\jgarr\\anaconda3\\lib\\site-packages (from yfinance) (0.0.9)\n",
      "Requirement already satisfied: requests>=2.20 in c:\\users\\jgarr\\anaconda3\\lib\\site-packages (from yfinance) (2.24.0)\n",
      "Requirement already satisfied: numpy>=1.15 in c:\\users\\jgarr\\anaconda3\\lib\\site-packages (from yfinance) (1.19.2)\n",
      "Requirement already satisfied: lxml>=4.5.1 in c:\\users\\jgarr\\anaconda3\\lib\\site-packages (from yfinance) (4.6.1)\n",
      "Requirement already satisfied: python-dateutil>=2.7.3 in c:\\users\\jgarr\\anaconda3\\lib\\site-packages (from pandas>=0.24->yfinance) (2.8.1)\n",
      "Requirement already satisfied: pytz>=2017.2 in c:\\users\\jgarr\\anaconda3\\lib\\site-packages (from pandas>=0.24->yfinance) (2020.1)\n",
      "Requirement already satisfied: chardet<4,>=3.0.2 in c:\\users\\jgarr\\anaconda3\\lib\\site-packages (from requests>=2.20->yfinance) (3.0.4)\n",
      "Requirement already satisfied: idna<3,>=2.5 in c:\\users\\jgarr\\anaconda3\\lib\\site-packages (from requests>=2.20->yfinance) (2.10)\n",
      "Requirement already satisfied: certifi>=2017.4.17 in c:\\users\\jgarr\\anaconda3\\lib\\site-packages (from requests>=2.20->yfinance) (2020.6.20)\n",
      "Requirement already satisfied: urllib3!=1.25.0,!=1.25.1,<1.26,>=1.21.1 in c:\\users\\jgarr\\anaconda3\\lib\\site-packages (from requests>=2.20->yfinance) (1.25.11)\n",
      "Requirement already satisfied: six>=1.5 in c:\\users\\jgarr\\anaconda3\\lib\\site-packages (from python-dateutil>=2.7.3->pandas>=0.24->yfinance) (1.15.0)\n",
      "\n"
     ]
    }
   ],
   "source": [
    "pip install yfinance"
   ]
  },
  {
   "cell_type": "code",
   "execution_count": 4,
   "metadata": {},
   "outputs": [],
   "source": [
    "import yfinance as yf"
   ]
  },
  {
   "cell_type": "markdown",
   "metadata": {},
   "source": [
    "*En este apartado instalamos la librería **yfinance** que nos permite descargar datos desde la página Yahoo Finance de forma rápida y sencilla*"
   ]
  },
  {
   "cell_type": "markdown",
   "metadata": {},
   "source": [
    "*Para descargar el histórico de cotizaciones de una empresa utilizamos esta función, indicando en primer lugar el código de la empresa (a continuación indicamos alguns de los códigos de las empresas cotizadas en el Ibex35, pero podemos buscarlo en la propia página de yahoo), y después indicamos el histórico que queremos descargar, o bien indicamos una fecha de inicio o fin, existen ambas posibilidades.*\n",
    "\n",
    "**Símbolo\tNombre de la empresa**\n",
    "\n",
    "**NTGY.MC**\tNaturgy Energy Group, S.A.\n",
    "\n",
    "**CABK.MC**\tCaixaBank, S.A.\n",
    "\n",
    "**ACS.MC**\tACS, Actividades de Construcción y Servicios, S.A.\n",
    "\n",
    "**ENG.MC**\tEnagás, S.A.\n",
    "\n",
    "**BKT.MC**\tBankinter, S.A.\n",
    "\n",
    "**AENA.MC**\tAena S.M.E., S.A.\n",
    "\n",
    "**ELE.MC**\tEndesa, Sociedad Anonima\n",
    "\n",
    "**SGRE.MC**\tSiemens Gamesa Renewable Energy, S.A.\n",
    "\n",
    "**TEF.MC**\tTelefónica, S.A.\n",
    "\n",
    "**REP.MC**\tRepsol, S.A.\n",
    "\n",
    "**IBE.MC**\tIberdrola, S.A.\n",
    "\n",
    "**SAN.MC**\tBanco Santander, S.A.\n",
    "\n",
    "**MAP.MC**\tMapfre, S.A.\n",
    "\n",
    "*En el caso de Excel hay algunos tutoriales acerca de diversas opciones para importar datos desde web, sin embargo en este caso se pueden copiar los datos y directamente pegarlos, Excel va a reconocer cada importe en cada celda realizando una tabla*"
   ]
  },
  {
   "cell_type": "code",
   "execution_count": 5,
   "metadata": {},
   "outputs": [
    {
     "name": "stdout",
     "output_type": "stream",
     "text": [
      "[*********************100%***********************]  1 of 1 completed\n"
     ]
    }
   ],
   "source": [
    "data = yf.download(\"CABK.MC\", period = '5y')\n",
    "data = pd.DataFrame(data)"
   ]
  },
  {
   "cell_type": "markdown",
   "metadata": {},
   "source": [
    "*Aquí podemos ver el precio de cotización de apertura, el más alto del día, el más bajo y el precio de cierre, además del precio de cierro ajustado y el volumen de operaciones. Hemos seleccionado Caixabank pero podemos elegir el valor que queramos dentro del Ibex indicando los códigos*\n",
    "\n",
    "*La columna que nos interesa será los precios de cierre, por ello mediante la librería pandas vamos a eliminar el resto de columnas. Este paso se puede realizar de múltiples maneras, en nuestro caso hemos selecionado esta, pero cualquier otra fórmula dentro de pandas que nos deje tan solo la columna \"Close\" es válida*"
   ]
  },
  {
   "cell_type": "code",
   "execution_count": 6,
   "metadata": {},
   "outputs": [
    {
     "data": {
      "text/html": [
       "<div>\n",
       "<style scoped>\n",
       "    .dataframe tbody tr th:only-of-type {\n",
       "        vertical-align: middle;\n",
       "    }\n",
       "\n",
       "    .dataframe tbody tr th {\n",
       "        vertical-align: top;\n",
       "    }\n",
       "\n",
       "    .dataframe thead th {\n",
       "        text-align: right;\n",
       "    }\n",
       "</style>\n",
       "<table border=\"1\" class=\"dataframe\">\n",
       "  <thead>\n",
       "    <tr style=\"text-align: right;\">\n",
       "      <th></th>\n",
       "      <th>Open</th>\n",
       "      <th>High</th>\n",
       "      <th>Low</th>\n",
       "      <th>Close</th>\n",
       "      <th>Adj Close</th>\n",
       "      <th>Volume</th>\n",
       "    </tr>\n",
       "    <tr>\n",
       "      <th>Date</th>\n",
       "      <th></th>\n",
       "      <th></th>\n",
       "      <th></th>\n",
       "      <th></th>\n",
       "      <th></th>\n",
       "      <th></th>\n",
       "    </tr>\n",
       "  </thead>\n",
       "  <tbody>\n",
       "    <tr>\n",
       "      <th>2016-04-18</th>\n",
       "      <td>2.603</td>\n",
       "      <td>2.642</td>\n",
       "      <td>2.547</td>\n",
       "      <td>2.598</td>\n",
       "      <td>2.142713</td>\n",
       "      <td>21383874</td>\n",
       "    </tr>\n",
       "    <tr>\n",
       "      <th>2016-04-19</th>\n",
       "      <td>2.614</td>\n",
       "      <td>2.652</td>\n",
       "      <td>2.600</td>\n",
       "      <td>2.612</td>\n",
       "      <td>2.154259</td>\n",
       "      <td>23250852</td>\n",
       "    </tr>\n",
       "    <tr>\n",
       "      <th>2016-04-20</th>\n",
       "      <td>2.567</td>\n",
       "      <td>2.700</td>\n",
       "      <td>2.560</td>\n",
       "      <td>2.686</td>\n",
       "      <td>2.215292</td>\n",
       "      <td>18153323</td>\n",
       "    </tr>\n",
       "    <tr>\n",
       "      <th>2016-04-21</th>\n",
       "      <td>2.700</td>\n",
       "      <td>2.810</td>\n",
       "      <td>2.692</td>\n",
       "      <td>2.794</td>\n",
       "      <td>2.304365</td>\n",
       "      <td>18341491</td>\n",
       "    </tr>\n",
       "    <tr>\n",
       "      <th>2016-04-22</th>\n",
       "      <td>2.785</td>\n",
       "      <td>2.847</td>\n",
       "      <td>2.780</td>\n",
       "      <td>2.828</td>\n",
       "      <td>2.332407</td>\n",
       "      <td>16461857</td>\n",
       "    </tr>\n",
       "    <tr>\n",
       "      <th>...</th>\n",
       "      <td>...</td>\n",
       "      <td>...</td>\n",
       "      <td>...</td>\n",
       "      <td>...</td>\n",
       "      <td>...</td>\n",
       "      <td>...</td>\n",
       "    </tr>\n",
       "    <tr>\n",
       "      <th>2021-04-12</th>\n",
       "      <td>2.583</td>\n",
       "      <td>2.627</td>\n",
       "      <td>2.555</td>\n",
       "      <td>2.601</td>\n",
       "      <td>2.601000</td>\n",
       "      <td>7111565</td>\n",
       "    </tr>\n",
       "    <tr>\n",
       "      <th>2021-04-13</th>\n",
       "      <td>2.606</td>\n",
       "      <td>2.619</td>\n",
       "      <td>2.538</td>\n",
       "      <td>2.559</td>\n",
       "      <td>2.559000</td>\n",
       "      <td>17478085</td>\n",
       "    </tr>\n",
       "    <tr>\n",
       "      <th>2021-04-14</th>\n",
       "      <td>2.557</td>\n",
       "      <td>2.588</td>\n",
       "      <td>2.542</td>\n",
       "      <td>2.588</td>\n",
       "      <td>2.588000</td>\n",
       "      <td>7407855</td>\n",
       "    </tr>\n",
       "    <tr>\n",
       "      <th>2021-04-15</th>\n",
       "      <td>2.589</td>\n",
       "      <td>2.597</td>\n",
       "      <td>2.535</td>\n",
       "      <td>2.535</td>\n",
       "      <td>2.535000</td>\n",
       "      <td>8628620</td>\n",
       "    </tr>\n",
       "    <tr>\n",
       "      <th>2021-04-16</th>\n",
       "      <td>2.552</td>\n",
       "      <td>2.576</td>\n",
       "      <td>2.526</td>\n",
       "      <td>2.558</td>\n",
       "      <td>2.558000</td>\n",
       "      <td>11330930</td>\n",
       "    </tr>\n",
       "  </tbody>\n",
       "</table>\n",
       "<p>1279 rows × 6 columns</p>\n",
       "</div>"
      ],
      "text/plain": [
       "             Open   High    Low  Close  Adj Close    Volume\n",
       "Date                                                       \n",
       "2016-04-18  2.603  2.642  2.547  2.598   2.142713  21383874\n",
       "2016-04-19  2.614  2.652  2.600  2.612   2.154259  23250852\n",
       "2016-04-20  2.567  2.700  2.560  2.686   2.215292  18153323\n",
       "2016-04-21  2.700  2.810  2.692  2.794   2.304365  18341491\n",
       "2016-04-22  2.785  2.847  2.780  2.828   2.332407  16461857\n",
       "...           ...    ...    ...    ...        ...       ...\n",
       "2021-04-12  2.583  2.627  2.555  2.601   2.601000   7111565\n",
       "2021-04-13  2.606  2.619  2.538  2.559   2.559000  17478085\n",
       "2021-04-14  2.557  2.588  2.542  2.588   2.588000   7407855\n",
       "2021-04-15  2.589  2.597  2.535  2.535   2.535000   8628620\n",
       "2021-04-16  2.552  2.576  2.526  2.558   2.558000  11330930\n",
       "\n",
       "[1279 rows x 6 columns]"
      ]
     },
     "execution_count": 6,
     "metadata": {},
     "output_type": "execute_result"
    }
   ],
   "source": [
    "data"
   ]
  },
  {
   "cell_type": "code",
   "execution_count": 7,
   "metadata": {},
   "outputs": [],
   "source": [
    "data = data.loc[:,[\"Adj Close\"]]"
   ]
  },
  {
   "cell_type": "markdown",
   "metadata": {},
   "source": [
    "*Vamos a añadir una columna que nos calcula el logaritmo de todos los retornos, lo que implica la rentabilidad del valor. Para ello necesitamos la librería numpy, y selecionamos la fila anterior mediante el código \"shift(1)\" de pandas*"
   ]
  },
  {
   "cell_type": "code",
   "execution_count": 8,
   "metadata": {},
   "outputs": [],
   "source": [
    "data[\"Rentabilidad Valor\"] = np.log( data / data.shift(1))"
   ]
  },
  {
   "cell_type": "code",
   "execution_count": 9,
   "metadata": {},
   "outputs": [
    {
     "data": {
      "text/html": [
       "<div>\n",
       "<style scoped>\n",
       "    .dataframe tbody tr th:only-of-type {\n",
       "        vertical-align: middle;\n",
       "    }\n",
       "\n",
       "    .dataframe tbody tr th {\n",
       "        vertical-align: top;\n",
       "    }\n",
       "\n",
       "    .dataframe thead th {\n",
       "        text-align: right;\n",
       "    }\n",
       "</style>\n",
       "<table border=\"1\" class=\"dataframe\">\n",
       "  <thead>\n",
       "    <tr style=\"text-align: right;\">\n",
       "      <th></th>\n",
       "      <th>Adj Close</th>\n",
       "      <th>Rentabilidad Valor</th>\n",
       "    </tr>\n",
       "    <tr>\n",
       "      <th>Date</th>\n",
       "      <th></th>\n",
       "      <th></th>\n",
       "    </tr>\n",
       "  </thead>\n",
       "  <tbody>\n",
       "    <tr>\n",
       "      <th>2016-04-18</th>\n",
       "      <td>2.142713</td>\n",
       "      <td>NaN</td>\n",
       "    </tr>\n",
       "    <tr>\n",
       "      <th>2016-04-19</th>\n",
       "      <td>2.154259</td>\n",
       "      <td>0.005374</td>\n",
       "    </tr>\n",
       "    <tr>\n",
       "      <th>2016-04-20</th>\n",
       "      <td>2.215292</td>\n",
       "      <td>0.027937</td>\n",
       "    </tr>\n",
       "    <tr>\n",
       "      <th>2016-04-21</th>\n",
       "      <td>2.304365</td>\n",
       "      <td>0.039421</td>\n",
       "    </tr>\n",
       "    <tr>\n",
       "      <th>2016-04-22</th>\n",
       "      <td>2.332407</td>\n",
       "      <td>0.012095</td>\n",
       "    </tr>\n",
       "    <tr>\n",
       "      <th>...</th>\n",
       "      <td>...</td>\n",
       "      <td>...</td>\n",
       "    </tr>\n",
       "    <tr>\n",
       "      <th>2021-04-12</th>\n",
       "      <td>2.601000</td>\n",
       "      <td>0.005397</td>\n",
       "    </tr>\n",
       "    <tr>\n",
       "      <th>2021-04-13</th>\n",
       "      <td>2.559000</td>\n",
       "      <td>-0.016279</td>\n",
       "    </tr>\n",
       "    <tr>\n",
       "      <th>2021-04-14</th>\n",
       "      <td>2.588000</td>\n",
       "      <td>0.011269</td>\n",
       "    </tr>\n",
       "    <tr>\n",
       "      <th>2021-04-15</th>\n",
       "      <td>2.535000</td>\n",
       "      <td>-0.020692</td>\n",
       "    </tr>\n",
       "    <tr>\n",
       "      <th>2021-04-16</th>\n",
       "      <td>2.558000</td>\n",
       "      <td>0.009032</td>\n",
       "    </tr>\n",
       "  </tbody>\n",
       "</table>\n",
       "<p>1279 rows × 2 columns</p>\n",
       "</div>"
      ],
      "text/plain": [
       "            Adj Close  Rentabilidad Valor\n",
       "Date                                     \n",
       "2016-04-18   2.142713                 NaN\n",
       "2016-04-19   2.154259            0.005374\n",
       "2016-04-20   2.215292            0.027937\n",
       "2016-04-21   2.304365            0.039421\n",
       "2016-04-22   2.332407            0.012095\n",
       "...               ...                 ...\n",
       "2021-04-12   2.601000            0.005397\n",
       "2021-04-13   2.559000           -0.016279\n",
       "2021-04-14   2.588000            0.011269\n",
       "2021-04-15   2.535000           -0.020692\n",
       "2021-04-16   2.558000            0.009032\n",
       "\n",
       "[1279 rows x 2 columns]"
      ]
     },
     "execution_count": 9,
     "metadata": {},
     "output_type": "execute_result"
    }
   ],
   "source": [
    "data"
   ]
  },
  {
   "cell_type": "markdown",
   "metadata": {},
   "source": [
    "*En Excel tendremos que usar la fórmula **=LN((valor día/valor día anterior))**.*"
   ]
  },
  {
   "cell_type": "code",
   "execution_count": 10,
   "metadata": {},
   "outputs": [
    {
     "data": {
      "text/plain": [
       "array([<AxesSubplot:xlabel='Date'>], dtype=object)"
      ]
     },
     "execution_count": 10,
     "metadata": {},
     "output_type": "execute_result"
    },
    {
     "data": {
      "image/png": "[encoded data removed]",
      "text/plain": [
       "<Figure size 1152x504 with 1 Axes>"
      ]
     },
     "metadata": {
      "needs_background": "light"
     },
     "output_type": "display_data"
    }
   ],
   "source": [
    "data['Rentabilidad Valor'].cumsum().plot(subplots=True,figsize=(16,7)) "
   ]
  },
  {
   "cell_type": "markdown",
   "metadata": {},
   "source": [
    "*Mediante este gráfico podemos ver la evolución de CaixaBank en los últimos 5 años*\n",
    "\n",
    "*Ahora, vamos a hacer lo mismo pero con el índice de referencia, en este caso **IBEX35**. Hay que tener en cuenta que podemos hacerlo con cualquiera de los índices que están publicados*"
   ]
  },
  {
   "cell_type": "code",
   "execution_count": 11,
   "metadata": {},
   "outputs": [
    {
     "name": "stdout",
     "output_type": "stream",
     "text": [
      "[*********************100%***********************]  1 of 1 completed\n"
     ]
    }
   ],
   "source": [
    "mercado = yf.download(\"^IBEX\", period = '5y')\n",
    "mercado = pd.DataFrame(mercado)"
   ]
  },
  {
   "cell_type": "code",
   "execution_count": 49,
   "metadata": {
    "scrolled": true
   },
   "outputs": [
    {
     "data": {
      "text/html": [
       "<div>\n",
       "<style scoped>\n",
       "    .dataframe tbody tr th:only-of-type {\n",
       "        vertical-align: middle;\n",
       "    }\n",
       "\n",
       "    .dataframe tbody tr th {\n",
       "        vertical-align: top;\n",
       "    }\n",
       "\n",
       "    .dataframe thead th {\n",
       "        text-align: right;\n",
       "    }\n",
       "</style>\n",
       "<table border=\"1\" class=\"dataframe\">\n",
       "  <thead>\n",
       "    <tr style=\"text-align: right;\">\n",
       "      <th></th>\n",
       "      <th>Open</th>\n",
       "      <th>High</th>\n",
       "      <th>Low</th>\n",
       "      <th>Close</th>\n",
       "      <th>Adj Close</th>\n",
       "      <th>Volume</th>\n",
       "    </tr>\n",
       "    <tr>\n",
       "      <th>Date</th>\n",
       "      <th></th>\n",
       "      <th></th>\n",
       "      <th></th>\n",
       "      <th></th>\n",
       "      <th></th>\n",
       "      <th></th>\n",
       "    </tr>\n",
       "  </thead>\n",
       "  <tbody>\n",
       "    <tr>\n",
       "      <th>2016-04-18</th>\n",
       "      <td>8703.400391</td>\n",
       "      <td>8891.500000</td>\n",
       "      <td>8674.099609</td>\n",
       "      <td>8881.599609</td>\n",
       "      <td>8881.590820</td>\n",
       "      <td>243875900</td>\n",
       "    </tr>\n",
       "    <tr>\n",
       "      <th>2016-04-19</th>\n",
       "      <td>8914.500000</td>\n",
       "      <td>9004.200195</td>\n",
       "      <td>8890.200195</td>\n",
       "      <td>8971.299805</td>\n",
       "      <td>8971.291016</td>\n",
       "      <td>293009300</td>\n",
       "    </tr>\n",
       "    <tr>\n",
       "      <th>2016-04-20</th>\n",
       "      <td>8948.400391</td>\n",
       "      <td>9161.900391</td>\n",
       "      <td>8940.000000</td>\n",
       "      <td>9147.200195</td>\n",
       "      <td>9147.191406</td>\n",
       "      <td>305434000</td>\n",
       "    </tr>\n",
       "    <tr>\n",
       "      <th>2016-04-21</th>\n",
       "      <td>9178.500000</td>\n",
       "      <td>9218.700195</td>\n",
       "      <td>9120.599609</td>\n",
       "      <td>9197.200195</td>\n",
       "      <td>9197.190430</td>\n",
       "      <td>324423800</td>\n",
       "    </tr>\n",
       "    <tr>\n",
       "      <th>2016-04-22</th>\n",
       "      <td>9183.900391</td>\n",
       "      <td>9244.400391</td>\n",
       "      <td>9161.599609</td>\n",
       "      <td>9232.799805</td>\n",
       "      <td>9232.790039</td>\n",
       "      <td>299600000</td>\n",
       "    </tr>\n",
       "    <tr>\n",
       "      <th>...</th>\n",
       "      <td>...</td>\n",
       "      <td>...</td>\n",
       "      <td>...</td>\n",
       "      <td>...</td>\n",
       "      <td>...</td>\n",
       "      <td>...</td>\n",
       "    </tr>\n",
       "    <tr>\n",
       "      <th>2021-04-12</th>\n",
       "      <td>8556.099609</td>\n",
       "      <td>8556.900391</td>\n",
       "      <td>8481.000000</td>\n",
       "      <td>8532.599609</td>\n",
       "      <td>8532.599609</td>\n",
       "      <td>131409400</td>\n",
       "    </tr>\n",
       "    <tr>\n",
       "      <th>2021-04-13</th>\n",
       "      <td>8533.200195</td>\n",
       "      <td>8568.299805</td>\n",
       "      <td>8467.299805</td>\n",
       "      <td>8525.099609</td>\n",
       "      <td>8525.099609</td>\n",
       "      <td>152574000</td>\n",
       "    </tr>\n",
       "    <tr>\n",
       "      <th>2021-04-14</th>\n",
       "      <td>8532.599609</td>\n",
       "      <td>8595.700195</td>\n",
       "      <td>8510.099609</td>\n",
       "      <td>8588.400391</td>\n",
       "      <td>8588.400391</td>\n",
       "      <td>133519000</td>\n",
       "    </tr>\n",
       "    <tr>\n",
       "      <th>2021-04-15</th>\n",
       "      <td>8603.099609</td>\n",
       "      <td>8621.900391</td>\n",
       "      <td>8564.700195</td>\n",
       "      <td>8571.599609</td>\n",
       "      <td>8571.599609</td>\n",
       "      <td>146073800</td>\n",
       "    </tr>\n",
       "    <tr>\n",
       "      <th>2021-04-16</th>\n",
       "      <td>8585.000000</td>\n",
       "      <td>8656.400391</td>\n",
       "      <td>8553.599609</td>\n",
       "      <td>8613.500000</td>\n",
       "      <td>8613.500000</td>\n",
       "      <td>176861600</td>\n",
       "    </tr>\n",
       "  </tbody>\n",
       "</table>\n",
       "<p>1278 rows × 6 columns</p>\n",
       "</div>"
      ],
      "text/plain": [
       "                   Open         High          Low        Close    Adj Close  \\\n",
       "Date                                                                          \n",
       "2016-04-18  8703.400391  8891.500000  8674.099609  8881.599609  8881.590820   \n",
       "2016-04-19  8914.500000  9004.200195  8890.200195  8971.299805  8971.291016   \n",
       "2016-04-20  8948.400391  9161.900391  8940.000000  9147.200195  9147.191406   \n",
       "2016-04-21  9178.500000  9218.700195  9120.599609  9197.200195  9197.190430   \n",
       "2016-04-22  9183.900391  9244.400391  9161.599609  9232.799805  9232.790039   \n",
       "...                 ...          ...          ...          ...          ...   \n",
       "2021-04-12  8556.099609  8556.900391  8481.000000  8532.599609  8532.599609   \n",
       "2021-04-13  8533.200195  8568.299805  8467.299805  8525.099609  8525.099609   \n",
       "2021-04-14  8532.599609  8595.700195  8510.099609  8588.400391  8588.400391   \n",
       "2021-04-15  8603.099609  8621.900391  8564.700195  8571.599609  8571.599609   \n",
       "2021-04-16  8585.000000  8656.400391  8553.599609  8613.500000  8613.500000   \n",
       "\n",
       "               Volume  \n",
       "Date                   \n",
       "2016-04-18  243875900  \n",
       "2016-04-19  293009300  \n",
       "2016-04-20  305434000  \n",
       "2016-04-21  324423800  \n",
       "2016-04-22  299600000  \n",
       "...               ...  \n",
       "2021-04-12  131409400  \n",
       "2021-04-13  152574000  \n",
       "2021-04-14  133519000  \n",
       "2021-04-15  146073800  \n",
       "2021-04-16  176861600  \n",
       "\n",
       "[1278 rows x 6 columns]"
      ]
     },
     "execution_count": 49,
     "metadata": {},
     "output_type": "execute_result"
    }
   ],
   "source": [
    "mercado"
   ]
  },
  {
   "cell_type": "code",
   "execution_count": 12,
   "metadata": {},
   "outputs": [],
   "source": [
    "mercado = mercado.loc[:,[\"Close\"]]"
   ]
  },
  {
   "cell_type": "code",
   "execution_count": 13,
   "metadata": {},
   "outputs": [
    {
     "data": {
      "text/html": [
       "<div>\n",
       "<style scoped>\n",
       "    .dataframe tbody tr th:only-of-type {\n",
       "        vertical-align: middle;\n",
       "    }\n",
       "\n",
       "    .dataframe tbody tr th {\n",
       "        vertical-align: top;\n",
       "    }\n",
       "\n",
       "    .dataframe thead th {\n",
       "        text-align: right;\n",
       "    }\n",
       "</style>\n",
       "<table border=\"1\" class=\"dataframe\">\n",
       "  <thead>\n",
       "    <tr style=\"text-align: right;\">\n",
       "      <th></th>\n",
       "      <th>Close</th>\n",
       "    </tr>\n",
       "    <tr>\n",
       "      <th>Date</th>\n",
       "      <th></th>\n",
       "    </tr>\n",
       "  </thead>\n",
       "  <tbody>\n",
       "    <tr>\n",
       "      <th>2016-04-18</th>\n",
       "      <td>8881.599609</td>\n",
       "    </tr>\n",
       "    <tr>\n",
       "      <th>2016-04-19</th>\n",
       "      <td>8971.299805</td>\n",
       "    </tr>\n",
       "    <tr>\n",
       "      <th>2016-04-20</th>\n",
       "      <td>9147.200195</td>\n",
       "    </tr>\n",
       "    <tr>\n",
       "      <th>2016-04-21</th>\n",
       "      <td>9197.200195</td>\n",
       "    </tr>\n",
       "    <tr>\n",
       "      <th>2016-04-22</th>\n",
       "      <td>9232.799805</td>\n",
       "    </tr>\n",
       "    <tr>\n",
       "      <th>...</th>\n",
       "      <td>...</td>\n",
       "    </tr>\n",
       "    <tr>\n",
       "      <th>2021-04-12</th>\n",
       "      <td>8532.599609</td>\n",
       "    </tr>\n",
       "    <tr>\n",
       "      <th>2021-04-13</th>\n",
       "      <td>8525.099609</td>\n",
       "    </tr>\n",
       "    <tr>\n",
       "      <th>2021-04-14</th>\n",
       "      <td>8588.400391</td>\n",
       "    </tr>\n",
       "    <tr>\n",
       "      <th>2021-04-15</th>\n",
       "      <td>8571.599609</td>\n",
       "    </tr>\n",
       "    <tr>\n",
       "      <th>2021-04-16</th>\n",
       "      <td>8613.500000</td>\n",
       "    </tr>\n",
       "  </tbody>\n",
       "</table>\n",
       "<p>1278 rows × 1 columns</p>\n",
       "</div>"
      ],
      "text/plain": [
       "                  Close\n",
       "Date                   \n",
       "2016-04-18  8881.599609\n",
       "2016-04-19  8971.299805\n",
       "2016-04-20  9147.200195\n",
       "2016-04-21  9197.200195\n",
       "2016-04-22  9232.799805\n",
       "...                 ...\n",
       "2021-04-12  8532.599609\n",
       "2021-04-13  8525.099609\n",
       "2021-04-14  8588.400391\n",
       "2021-04-15  8571.599609\n",
       "2021-04-16  8613.500000\n",
       "\n",
       "[1278 rows x 1 columns]"
      ]
     },
     "execution_count": 13,
     "metadata": {},
     "output_type": "execute_result"
    }
   ],
   "source": [
    "mercado"
   ]
  },
  {
   "cell_type": "code",
   "execution_count": 28,
   "metadata": {},
   "outputs": [],
   "source": [
    "mercado[\"Rentabilidad mercado\"] = np.log(1 + mercado.pct_change())"
   ]
  },
  {
   "cell_type": "code",
   "execution_count": 29,
   "metadata": {},
   "outputs": [
    {
     "data": {
      "text/html": [
       "<div>\n",
       "<style scoped>\n",
       "    .dataframe tbody tr th:only-of-type {\n",
       "        vertical-align: middle;\n",
       "    }\n",
       "\n",
       "    .dataframe tbody tr th {\n",
       "        vertical-align: top;\n",
       "    }\n",
       "\n",
       "    .dataframe thead th {\n",
       "        text-align: right;\n",
       "    }\n",
       "</style>\n",
       "<table border=\"1\" class=\"dataframe\">\n",
       "  <thead>\n",
       "    <tr style=\"text-align: right;\">\n",
       "      <th></th>\n",
       "      <th>Close</th>\n",
       "      <th>Rentabilidad mercado</th>\n",
       "    </tr>\n",
       "    <tr>\n",
       "      <th>Date</th>\n",
       "      <th></th>\n",
       "      <th></th>\n",
       "    </tr>\n",
       "  </thead>\n",
       "  <tbody>\n",
       "    <tr>\n",
       "      <th>2016-04-18</th>\n",
       "      <td>8881.599609</td>\n",
       "      <td>NaN</td>\n",
       "    </tr>\n",
       "    <tr>\n",
       "      <th>2016-04-19</th>\n",
       "      <td>8971.299805</td>\n",
       "      <td>0.010049</td>\n",
       "    </tr>\n",
       "    <tr>\n",
       "      <th>2016-04-20</th>\n",
       "      <td>9147.200195</td>\n",
       "      <td>0.019417</td>\n",
       "    </tr>\n",
       "    <tr>\n",
       "      <th>2016-04-21</th>\n",
       "      <td>9197.200195</td>\n",
       "      <td>0.005451</td>\n",
       "    </tr>\n",
       "    <tr>\n",
       "      <th>2016-04-22</th>\n",
       "      <td>9232.799805</td>\n",
       "      <td>0.003863</td>\n",
       "    </tr>\n",
       "    <tr>\n",
       "      <th>...</th>\n",
       "      <td>...</td>\n",
       "      <td>...</td>\n",
       "    </tr>\n",
       "    <tr>\n",
       "      <th>2021-04-12</th>\n",
       "      <td>8532.599609</td>\n",
       "      <td>-0.003883</td>\n",
       "    </tr>\n",
       "    <tr>\n",
       "      <th>2021-04-13</th>\n",
       "      <td>8525.099609</td>\n",
       "      <td>-0.000879</td>\n",
       "    </tr>\n",
       "    <tr>\n",
       "      <th>2021-04-14</th>\n",
       "      <td>8588.400391</td>\n",
       "      <td>0.007398</td>\n",
       "    </tr>\n",
       "    <tr>\n",
       "      <th>2021-04-15</th>\n",
       "      <td>8571.599609</td>\n",
       "      <td>-0.001958</td>\n",
       "    </tr>\n",
       "    <tr>\n",
       "      <th>2021-04-16</th>\n",
       "      <td>8613.500000</td>\n",
       "      <td>0.004876</td>\n",
       "    </tr>\n",
       "  </tbody>\n",
       "</table>\n",
       "<p>1278 rows × 2 columns</p>\n",
       "</div>"
      ],
      "text/plain": [
       "                  Close  Rentabilidad mercado\n",
       "Date                                         \n",
       "2016-04-18  8881.599609                   NaN\n",
       "2016-04-19  8971.299805              0.010049\n",
       "2016-04-20  9147.200195              0.019417\n",
       "2016-04-21  9197.200195              0.005451\n",
       "2016-04-22  9232.799805              0.003863\n",
       "...                 ...                   ...\n",
       "2021-04-12  8532.599609             -0.003883\n",
       "2021-04-13  8525.099609             -0.000879\n",
       "2021-04-14  8588.400391              0.007398\n",
       "2021-04-15  8571.599609             -0.001958\n",
       "2021-04-16  8613.500000              0.004876\n",
       "\n",
       "[1278 rows x 2 columns]"
      ]
     },
     "execution_count": 29,
     "metadata": {},
     "output_type": "execute_result"
    }
   ],
   "source": [
    "mercado"
   ]
  },
  {
   "cell_type": "code",
   "execution_count": 30,
   "metadata": {},
   "outputs": [
    {
     "data": {
      "text/plain": [
       "array([<AxesSubplot:xlabel='Date'>], dtype=object)"
      ]
     },
     "execution_count": 30,
     "metadata": {},
     "output_type": "execute_result"
    },
    {
     "data": {
      "image/png": "[encoded data removed]",
      "text/plain": [
       "<Figure size 1152x504 with 1 Axes>"
      ]
     },
     "metadata": {
      "needs_background": "light"
     },
     "output_type": "display_data"
    }
   ],
   "source": [
    "mercado['Rentabilidad mercado'].cumsum().plot(subplots=True,figsize=(16,7)) "
   ]
  },
  {
   "cell_type": "markdown",
   "metadata": {},
   "source": [
    "*En este gráfico vemos la evolución del Ibex35 en los últimos 5 años. Hasta aquí hemos realizado exactamente los mismos pasos para descargar el valor y el índice.*\n",
    "\n",
    "*Ahora vamos a hacer un único DataFrame para tener los datos en un mismo archivo*"
   ]
  },
  {
   "cell_type": "code",
   "execution_count": 31,
   "metadata": {},
   "outputs": [],
   "source": [
    "data[\"Close Mercado\"] = mercado['Close']\n",
    "data[\"Rentabilidad Mercado\"] = mercado['Rentabilidad mercado']"
   ]
  },
  {
   "cell_type": "code",
   "execution_count": 32,
   "metadata": {},
   "outputs": [
    {
     "data": {
      "text/html": [
       "<div>\n",
       "<style scoped>\n",
       "    .dataframe tbody tr th:only-of-type {\n",
       "        vertical-align: middle;\n",
       "    }\n",
       "\n",
       "    .dataframe tbody tr th {\n",
       "        vertical-align: top;\n",
       "    }\n",
       "\n",
       "    .dataframe thead th {\n",
       "        text-align: right;\n",
       "    }\n",
       "</style>\n",
       "<table border=\"1\" class=\"dataframe\">\n",
       "  <thead>\n",
       "    <tr style=\"text-align: right;\">\n",
       "      <th></th>\n",
       "      <th>Adj Close</th>\n",
       "      <th>Rentabilidad Valor</th>\n",
       "      <th>Close Mercado</th>\n",
       "      <th>Rentabilidad Mercado</th>\n",
       "    </tr>\n",
       "    <tr>\n",
       "      <th>Date</th>\n",
       "      <th></th>\n",
       "      <th></th>\n",
       "      <th></th>\n",
       "      <th></th>\n",
       "    </tr>\n",
       "  </thead>\n",
       "  <tbody>\n",
       "    <tr>\n",
       "      <th>2016-04-19</th>\n",
       "      <td>2.154259</td>\n",
       "      <td>0.005374</td>\n",
       "      <td>8971.299805</td>\n",
       "      <td>0.010049</td>\n",
       "    </tr>\n",
       "    <tr>\n",
       "      <th>2016-04-20</th>\n",
       "      <td>2.215292</td>\n",
       "      <td>0.027937</td>\n",
       "      <td>9147.200195</td>\n",
       "      <td>0.019417</td>\n",
       "    </tr>\n",
       "    <tr>\n",
       "      <th>2016-04-21</th>\n",
       "      <td>2.304365</td>\n",
       "      <td>0.039421</td>\n",
       "      <td>9197.200195</td>\n",
       "      <td>0.005451</td>\n",
       "    </tr>\n",
       "    <tr>\n",
       "      <th>2016-04-22</th>\n",
       "      <td>2.332407</td>\n",
       "      <td>0.012095</td>\n",
       "      <td>9232.799805</td>\n",
       "      <td>0.003863</td>\n",
       "    </tr>\n",
       "    <tr>\n",
       "      <th>2016-04-25</th>\n",
       "      <td>2.264777</td>\n",
       "      <td>-0.029424</td>\n",
       "      <td>9140.000000</td>\n",
       "      <td>-0.010102</td>\n",
       "    </tr>\n",
       "    <tr>\n",
       "      <th>...</th>\n",
       "      <td>...</td>\n",
       "      <td>...</td>\n",
       "      <td>...</td>\n",
       "      <td>...</td>\n",
       "    </tr>\n",
       "    <tr>\n",
       "      <th>2021-04-12</th>\n",
       "      <td>2.601000</td>\n",
       "      <td>0.005397</td>\n",
       "      <td>8532.599609</td>\n",
       "      <td>-0.003883</td>\n",
       "    </tr>\n",
       "    <tr>\n",
       "      <th>2021-04-13</th>\n",
       "      <td>2.559000</td>\n",
       "      <td>-0.016279</td>\n",
       "      <td>8525.099609</td>\n",
       "      <td>-0.000879</td>\n",
       "    </tr>\n",
       "    <tr>\n",
       "      <th>2021-04-14</th>\n",
       "      <td>2.588000</td>\n",
       "      <td>0.011269</td>\n",
       "      <td>8588.400391</td>\n",
       "      <td>0.007398</td>\n",
       "    </tr>\n",
       "    <tr>\n",
       "      <th>2021-04-15</th>\n",
       "      <td>2.535000</td>\n",
       "      <td>-0.020692</td>\n",
       "      <td>8571.599609</td>\n",
       "      <td>-0.001958</td>\n",
       "    </tr>\n",
       "    <tr>\n",
       "      <th>2021-04-16</th>\n",
       "      <td>2.558000</td>\n",
       "      <td>0.009032</td>\n",
       "      <td>8613.500000</td>\n",
       "      <td>0.004876</td>\n",
       "    </tr>\n",
       "  </tbody>\n",
       "</table>\n",
       "<p>1276 rows × 4 columns</p>\n",
       "</div>"
      ],
      "text/plain": [
       "            Adj Close  Rentabilidad Valor  Close Mercado  Rentabilidad Mercado\n",
       "Date                                                                          \n",
       "2016-04-19   2.154259            0.005374    8971.299805              0.010049\n",
       "2016-04-20   2.215292            0.027937    9147.200195              0.019417\n",
       "2016-04-21   2.304365            0.039421    9197.200195              0.005451\n",
       "2016-04-22   2.332407            0.012095    9232.799805              0.003863\n",
       "2016-04-25   2.264777           -0.029424    9140.000000             -0.010102\n",
       "...               ...                 ...            ...                   ...\n",
       "2021-04-12   2.601000            0.005397    8532.599609             -0.003883\n",
       "2021-04-13   2.559000           -0.016279    8525.099609             -0.000879\n",
       "2021-04-14   2.588000            0.011269    8588.400391              0.007398\n",
       "2021-04-15   2.535000           -0.020692    8571.599609             -0.001958\n",
       "2021-04-16   2.558000            0.009032    8613.500000              0.004876\n",
       "\n",
       "[1276 rows x 4 columns]"
      ]
     },
     "execution_count": 32,
     "metadata": {},
     "output_type": "execute_result"
    }
   ],
   "source": [
    "data.dropna()"
   ]
  },
  {
   "cell_type": "markdown",
   "metadata": {},
   "source": [
    "*Podemos exportar este fichero a Excel, en este caso lo hemos realizado para cotejar los resultados y verificar que los cálculos son correctos, pero no es necesario. También podemos descargar varios valores, unirlos en un DataFrame y exportar a Excel para realizar cálculos u visualizaciones*"
   ]
  },
  {
   "cell_type": "code",
   "execution_count": 57,
   "metadata": {},
   "outputs": [],
   "source": [
    "data.to_excel(\"Data.xlsx\", sheet_name=\"Sheet1\")"
   ]
  },
  {
   "cell_type": "markdown",
   "metadata": {},
   "source": [
    "*Recordemos cómo se calcula la Beta de una compañía*"
   ]
  },
  {
   "attachments": {
    "image.png": {
     "image/png": "[encoded data removed]"
    }
   },
   "cell_type": "markdown",
   "metadata": {},
   "source": [
    "![image.png](attachment:image.png)"
   ]
  },
  {
   "cell_type": "markdown",
   "metadata": {},
   "source": [
    "*Ahora directamente vamos a aplicar la fórmula. Igualmente hay varios métodos para este cálculo, se puede hacer por partes, para que vayamos viendo cada uno de los pasos, o bien se puede aplicar de una sola vez.*\n",
    "\n",
    "*En este caso, el primer paso es calcular la covarianza del título de mercado, que en nuestro caso es Caixabank. Mediante \"data.cov()\" calculamos la covarianza de todo el fichero, pero a nostros la que nos interesa es la del título, por ello seleccionamos la fila 1, la columna 3*"
   ]
  },
  {
   "cell_type": "code",
   "execution_count": 33,
   "metadata": {},
   "outputs": [],
   "source": [
    "cov = data.cov()"
   ]
  },
  {
   "cell_type": "code",
   "execution_count": 34,
   "metadata": {
    "scrolled": true
   },
   "outputs": [
    {
     "data": {
      "text/html": [
       "<div>\n",
       "<style scoped>\n",
       "    .dataframe tbody tr th:only-of-type {\n",
       "        vertical-align: middle;\n",
       "    }\n",
       "\n",
       "    .dataframe tbody tr th {\n",
       "        vertical-align: top;\n",
       "    }\n",
       "\n",
       "    .dataframe thead th {\n",
       "        text-align: right;\n",
       "    }\n",
       "</style>\n",
       "<table border=\"1\" class=\"dataframe\">\n",
       "  <thead>\n",
       "    <tr style=\"text-align: right;\">\n",
       "      <th></th>\n",
       "      <th>Adj Close</th>\n",
       "      <th>Rentabilidad Valor</th>\n",
       "      <th>Close Mercado</th>\n",
       "      <th>Rentabilidad Mercado</th>\n",
       "    </tr>\n",
       "  </thead>\n",
       "  <tbody>\n",
       "    <tr>\n",
       "      <th>Adj Close</th>\n",
       "      <td>0.488068</td>\n",
       "      <td>0.000555</td>\n",
       "      <td>6.357812e+02</td>\n",
       "      <td>0.000178</td>\n",
       "    </tr>\n",
       "    <tr>\n",
       "      <th>Rentabilidad Valor</th>\n",
       "      <td>0.000555</td>\n",
       "      <td>0.000525</td>\n",
       "      <td>1.107394e+00</td>\n",
       "      <td>0.000229</td>\n",
       "    </tr>\n",
       "    <tr>\n",
       "      <th>Close Mercado</th>\n",
       "      <td>635.781167</td>\n",
       "      <td>1.107394</td>\n",
       "      <td>1.142471e+06</td>\n",
       "      <td>0.693111</td>\n",
       "    </tr>\n",
       "    <tr>\n",
       "      <th>Rentabilidad Mercado</th>\n",
       "      <td>0.000178</td>\n",
       "      <td>0.000229</td>\n",
       "      <td>6.931114e-01</td>\n",
       "      <td>0.000172</td>\n",
       "    </tr>\n",
       "  </tbody>\n",
       "</table>\n",
       "</div>"
      ],
      "text/plain": [
       "                       Adj Close  Rentabilidad Valor  Close Mercado  \\\n",
       "Adj Close               0.488068            0.000555   6.357812e+02   \n",
       "Rentabilidad Valor      0.000555            0.000525   1.107394e+00   \n",
       "Close Mercado         635.781167            1.107394   1.142471e+06   \n",
       "Rentabilidad Mercado    0.000178            0.000229   6.931114e-01   \n",
       "\n",
       "                      Rentabilidad Mercado  \n",
       "Adj Close                         0.000178  \n",
       "Rentabilidad Valor                0.000229  \n",
       "Close Mercado                     0.693111  \n",
       "Rentabilidad Mercado              0.000172  "
      ]
     },
     "execution_count": 34,
     "metadata": {},
     "output_type": "execute_result"
    }
   ],
   "source": [
    "cov"
   ]
  },
  {
   "cell_type": "code",
   "execution_count": 35,
   "metadata": {},
   "outputs": [],
   "source": [
    "cov_CABK = cov.iloc[1,3]  #usamos la covarianza que corresponde a la línea 1, columna 3 (teniendo en cuenta que hay 0,1,2,3)"
   ]
  },
  {
   "cell_type": "code",
   "execution_count": 36,
   "metadata": {},
   "outputs": [
    {
     "data": {
      "text/plain": [
       "0.00022894469513139152"
      ]
     },
     "execution_count": 36,
     "metadata": {},
     "output_type": "execute_result"
    }
   ],
   "source": [
    "cov_CABK"
   ]
  },
  {
   "cell_type": "markdown",
   "metadata": {},
   "source": [
    "*Calculemos ahora la varianza del mercado*"
   ]
  },
  {
   "cell_type": "code",
   "execution_count": 37,
   "metadata": {},
   "outputs": [
    {
     "data": {
      "text/plain": [
       "0.000172299683079531"
      ]
     },
     "execution_count": 37,
     "metadata": {},
     "output_type": "execute_result"
    }
   ],
   "source": [
    "IBEX_var = data['Rentabilidad Mercado'].var()\n",
    "IBEX_var"
   ]
  },
  {
   "cell_type": "markdown",
   "metadata": {},
   "source": [
    "*Finalmente calculamos la Beta de la compañía*"
   ]
  },
  {
   "cell_type": "code",
   "execution_count": 38,
   "metadata": {},
   "outputs": [
    {
     "data": {
      "text/plain": [
       "1.3287586549170494"
      ]
     },
     "execution_count": 38,
     "metadata": {},
     "output_type": "execute_result"
    }
   ],
   "source": [
    "CABK_beta= cov_CABK / IBEX_var # division entre la covarianza contra mercado dividido entre la varianza del mercado\n",
    "CABK_beta"
   ]
  },
  {
   "cell_type": "markdown",
   "metadata": {},
   "source": [
    "*En Excel usaremos la fórmula **COVAR(matriz rentabilidad valor; matriz rentabilidad mercado)**, por otro lado **=VAR(matriz rentabilidad mercado)**, para después dividir ambos valores.*"
   ]
  },
  {
   "cell_type": "markdown",
   "metadata": {},
   "source": [
    "**Interpretación:** *La Beta es una variable que mide la diferencia de rentabilidad de una acción respecto a su índice de referencia.\n",
    "Por ejemplo, si Acerinox tiene una Beta de 1,1 respecto al Ibex 35 quiere decir que Acerinox se moverá un 10% más de lo que lo haga el Ibex 35. Si el Ibex 35 sube un 10% Acerinox subirá un 11%, y si el Ibex 35 baja un 10% Acerinox bajará un 11%.\n",
    "De forma similar si Abertis tiene una Beta de 0,80 en caso de que el Ibex 35 suba un 10% Abertis subirá un 8%, mientras que si el Ibex 35 cae un 10% Abertis bajará un 8%.\n",
    "Un valor con una Beta de 1 se movería exactamente igual que el mercado.\n",
    "Algunos valores pueden tener Beta negativa. Eso quiere decir que cuando el mercado cae esos valores suben y cuando el mercado sube esos valores bajan. Son casos raros pero existen.\n",
    "De igual forma la Beta de una compañía cambia en función del tiempo que analicemos*"
   ]
  },
  {
   "cell_type": "code",
   "execution_count": 36,
   "metadata": {},
   "outputs": [
    {
     "data": {
      "text/plain": [
       "array([<AxesSubplot:xlabel='Date'>], dtype=object)"
      ]
     },
     "execution_count": 36,
     "metadata": {},
     "output_type": "execute_result"
    },
    {
     "data": {
      "image/png": "[encoded data removed]",
      "text/plain": [
       "<Figure size 1152x504 with 1 Axes>"
      ]
     },
     "metadata": {
      "needs_background": "light"
     },
     "output_type": "display_data"
    }
   ],
   "source": [
    "mercado['Rentabilidad mercado'].cumsum().plot(subplots=True,figsize=(16,7), color = 'red')\n",
    "data['Rentabilidad Valor'].cumsum().plot(subplots=True,figsize=(16,7), color = 'green') "
   ]
  },
  {
   "cell_type": "markdown",
   "metadata": {},
   "source": [
    "*En este gráfico podemos comprobar la evolución de la rentabilidad de Caixabank respecto al IBEX35, en rojo vemos la volatilidad del índice, mientras que en verde vemos la de nuestro valor. Si analizamos el periodo anterior al 2017 nuestra Beta será menor que si analizamos el periodo comprendido entre 2017 y 2020, en cualquier caso la mayor parte de la veces nuestra Beta es mayor a 1, porque sigue los movimientos del Ibex35, superándolos, si el índice baja, nuestro valor baja más, y si el índice sube, nuestro valor lo hace más también.*\n",
    "\n",
    "*Estre gráfico nos permite ver ciertas anomalías que pueden afectar a índice bursátil, como en este caso el Covid19, donde podemos ver claramente que índice y valor se fusionan prácticamente.*"
   ]
  }
 ],
 "metadata": {
  "kernelspec": {
   "display_name": "Python 3",
   "language": "python",
   "name": "python3"
  },
  "language_info": {
   "codemirror_mode": {
    "name": "ipython",
    "version": 3
   },
   "file_extension": ".py",
   "mimetype": "text/x-python",
   "name": "python",
   "nbconvert_exporter": "python",
   "pygments_lexer": "ipython3",
   "version": "3.8.5"
  }
 },
 "nbformat": 4,
 "nbformat_minor": 4
}
