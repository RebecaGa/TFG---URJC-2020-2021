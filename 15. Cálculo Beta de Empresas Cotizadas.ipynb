{
 "cells": [
  {
   "cell_type": "markdown",
   "metadata": {},
   "source": [
    "# *Cálculo Beta en Empresas Cotizadas*"
   ]
  },
  {
   "cell_type": "markdown",
   "metadata": {},
   "source": [
    "*En anteriores apartados, hemos hecho referencia al cálculo de la Beta de una compañía que cotiza en bolsa. Vamos a ver un ejemplo de como calcularlo en Python, y además los pasos en Excel para ver la diferncia entre ambos.*\n",
    "\n",
    "*También en este apartado vamos a ver cómo descargar datos desde una web, lo que en muchas ocasiones nos será de mucha utilidad*"
   ]
  },
  {
   "cell_type": "code",
   "execution_count": 117,
   "metadata": {},
   "outputs": [],
   "source": [
    "import pandas as pd\n",
    "import scipy.stats as stats\n",
    "import matplotlib.pyplot as plt"
   ]
  },
  {
   "cell_type": "code",
   "execution_count": 118,
   "metadata": {},
   "outputs": [],
   "source": [
    "plt.close(\"all\")"
   ]
  },
  {
   "cell_type": "markdown",
   "metadata": {},
   "source": [
    "*Importamos esta librería que nos permite leer datos del la página yahoo finance, donde están los principales índices búrsatiles y podemos descargar los datos historicos*"
   ]
  },
  {
   "cell_type": "code",
   "execution_count": 119,
   "metadata": {},
   "outputs": [
    {
     "name": "stdout",
     "output_type": "stream",
     "text": [
      "Requirement already satisfied: yfinance in c:\\users\\rebec\\anaconda3\\lib\\site-packages (0.1.59)\n",
      "Requirement already satisfied: requests>=2.20 in c:\\users\\rebec\\anaconda3\\lib\\site-packages (from yfinance) (2.24.0)\n",
      "Requirement already satisfied: multitasking>=0.0.7 in c:\\users\\rebec\\anaconda3\\lib\\site-packages (from yfinance) (0.0.9)\n",
      "Requirement already satisfied: numpy>=1.15 in c:\\users\\rebec\\anaconda3\\lib\\site-packages (from yfinance) (1.18.5)\n",
      "Requirement already satisfied: pandas>=0.24 in c:\\users\\rebec\\anaconda3\\lib\\site-packages (from yfinance) (1.0.5)\n",
      "Requirement already satisfied: lxml>=4.5.1 in c:\\users\\rebec\\anaconda3\\lib\\site-packages (from yfinance) (4.5.2)\n",
      "Requirement already satisfied: urllib3!=1.25.0,!=1.25.1,<1.26,>=1.21.1 in c:\\users\\rebec\\anaconda3\\lib\\site-packages (from requests>=2.20->yfinance) (1.25.9)\n",
      "Requirement already satisfied: chardet<4,>=3.0.2 in c:\\users\\rebec\\anaconda3\\lib\\site-packages (from requests>=2.20->yfinance) (3.0.4)\n",
      "Requirement already satisfied: certifi>=2017.4.17 in c:\\users\\rebec\\anaconda3\\lib\\site-packages (from requests>=2.20->yfinance) (2020.6.20)\n",
      "Requirement already satisfied: idna<3,>=2.5 in c:\\users\\rebec\\anaconda3\\lib\\site-packages (from requests>=2.20->yfinance) (2.10)\n",
      "Requirement already satisfied: python-dateutil>=2.6.1 in c:\\users\\rebec\\anaconda3\\lib\\site-packages (from pandas>=0.24->yfinance) (2.8.1)\n",
      "Requirement already satisfied: pytz>=2017.2 in c:\\users\\rebec\\anaconda3\\lib\\site-packages (from pandas>=0.24->yfinance) (2020.1)\n",
      "Requirement already satisfied: six>=1.5 in c:\\users\\rebec\\anaconda3\\lib\\site-packages (from python-dateutil>=2.6.1->pandas>=0.24->yfinance) (1.15.0)\n",
      "Note: you may need to restart the kernel to use updated packages.\n"
     ]
    }
   ],
   "source": [
    "pip install yfinance"
   ]
  },
  {
   "cell_type": "code",
   "execution_count": 120,
   "metadata": {},
   "outputs": [],
   "source": [
    "import yfinance as yf"
   ]
  },
  {
   "cell_type": "markdown",
   "metadata": {},
   "source": [
    "*En este apartado instalamos la librería **yfinance** que nos permite descargar datos desde la página Yahoo Finance de forma rápida y sencilla*"
   ]
  },
  {
   "cell_type": "markdown",
   "metadata": {},
   "source": [
    "*Para descargar el histórico de cotizaciones de una empresa utilizamos esta función, indicando en primer lugar el código de la empresa (a continuación indicamos alguns de los códigos de las empresas cotizadas en el Ibex35, pero podemos buscarlo en la propia página de yahoo), y después indicamos el histórico que queremos descargar, o bien indicamos una fecha de inicio o fin, existen ambas posibilidades.*\n",
    "\n",
    "**Símbolo\tNombre de la empresa**\n",
    "\n",
    "**NTGY.MC**\tNaturgy Energy Group, S.A.\n",
    "\n",
    "**CABK.MC**\tCaixaBank, S.A.\n",
    "\n",
    "**ACS.MC**\tACS, Actividades de Construcción y Servicios, S.A.\n",
    "\n",
    "**ENG.MC**\tEnagás, S.A.\n",
    "\n",
    "**BKT.MC**\tBankinter, S.A.\n",
    "\n",
    "**AENA.MC**\tAena S.M.E., S.A.\n",
    "\n",
    "**ELE.MC**\tEndesa, Sociedad Anonima\n",
    "\n",
    "**SGRE.MC**\tSiemens Gamesa Renewable Energy, S.A.\n",
    "\n",
    "**TEF.MC**\tTelefónica, S.A.\n",
    "\n",
    "**REP.MC**\tRepsol, S.A.\n",
    "\n",
    "**IBE.MC**\tIberdrola, S.A.\n",
    "\n",
    "**SAN.MC**\tBanco Santander, S.A.\n",
    "\n",
    "**MAP.MC**\tMapfre, S.A.\n",
    "\n",
    "*En el caso de Excel hay algunos tutoriales acerca de diversas opciones para importar datos desde web, sin embargo en este caso se pueden copiar los datos y directamente pegarlos, Excel va a reconocer cada importe en cada celda realizando una tabla*"
   ]
  },
  {
   "cell_type": "code",
   "execution_count": 121,
   "metadata": {},
   "outputs": [
    {
     "name": "stdout",
     "output_type": "stream",
     "text": [
      "[*********************100%***********************]  1 of 1 completed\n"
     ]
    }
   ],
   "source": [
    "data = yf.download(\"CABK.MC\", period = '5y')\n",
    "data = pd.DataFrame(data)"
   ]
  },
  {
   "cell_type": "markdown",
   "metadata": {},
   "source": [
    "*Aquí podemos ver el precio de cotización de apertura, el más alto del día, el más bajo y el precio de cierre, además del precio de cierro ajustado y el volumen de operaciones. Hemos seleccionado Caixabank pero podemos elegir el valor que queramos dentro del Ibex indicando los códigos*\n",
    "\n",
    "*La columna que nos interesa será los precios de cierre, por ello mediante la librería pandas vamos a eliminar el resto de columnas. Este paso se puede realizar de múltiples maneras, en nuestro caso hemos selecionado esta, pero cualquier otra fórmula dentro de pandas que nos deje tan solo la columna \"Close\" es válida*"
   ]
  },
  {
   "cell_type": "code",
   "execution_count": 122,
   "metadata": {},
   "outputs": [
    {
     "data": {
      "text/html": [
       "<div>\n",
       "<style scoped>\n",
       "    .dataframe tbody tr th:only-of-type {\n",
       "        vertical-align: middle;\n",
       "    }\n",
       "\n",
       "    .dataframe tbody tr th {\n",
       "        vertical-align: top;\n",
       "    }\n",
       "\n",
       "    .dataframe thead th {\n",
       "        text-align: right;\n",
       "    }\n",
       "</style>\n",
       "<table border=\"1\" class=\"dataframe\">\n",
       "  <thead>\n",
       "    <tr style=\"text-align: right;\">\n",
       "      <th></th>\n",
       "      <th>Open</th>\n",
       "      <th>High</th>\n",
       "      <th>Low</th>\n",
       "      <th>Close</th>\n",
       "      <th>Adj Close</th>\n",
       "      <th>Volume</th>\n",
       "    </tr>\n",
       "    <tr>\n",
       "      <th>Date</th>\n",
       "      <th></th>\n",
       "      <th></th>\n",
       "      <th></th>\n",
       "      <th></th>\n",
       "      <th></th>\n",
       "      <th></th>\n",
       "    </tr>\n",
       "  </thead>\n",
       "  <tbody>\n",
       "    <tr>\n",
       "      <th>2016-04-08</th>\n",
       "      <td>2.420</td>\n",
       "      <td>2.519</td>\n",
       "      <td>2.420</td>\n",
       "      <td>2.485</td>\n",
       "      <td>2.049515</td>\n",
       "      <td>11485795</td>\n",
       "    </tr>\n",
       "    <tr>\n",
       "      <th>2016-04-11</th>\n",
       "      <td>2.493</td>\n",
       "      <td>2.570</td>\n",
       "      <td>2.452</td>\n",
       "      <td>2.527</td>\n",
       "      <td>2.084155</td>\n",
       "      <td>10264436</td>\n",
       "    </tr>\n",
       "    <tr>\n",
       "      <th>2016-04-12</th>\n",
       "      <td>2.534</td>\n",
       "      <td>2.585</td>\n",
       "      <td>2.455</td>\n",
       "      <td>2.507</td>\n",
       "      <td>2.067660</td>\n",
       "      <td>13235888</td>\n",
       "    </tr>\n",
       "    <tr>\n",
       "      <th>2016-04-13</th>\n",
       "      <td>2.553</td>\n",
       "      <td>2.663</td>\n",
       "      <td>2.539</td>\n",
       "      <td>2.641</td>\n",
       "      <td>2.178177</td>\n",
       "      <td>16004846</td>\n",
       "    </tr>\n",
       "    <tr>\n",
       "      <th>2016-04-14</th>\n",
       "      <td>2.655</td>\n",
       "      <td>2.688</td>\n",
       "      <td>2.595</td>\n",
       "      <td>2.674</td>\n",
       "      <td>2.205395</td>\n",
       "      <td>15485681</td>\n",
       "    </tr>\n",
       "    <tr>\n",
       "      <th>...</th>\n",
       "      <td>...</td>\n",
       "      <td>...</td>\n",
       "      <td>...</td>\n",
       "      <td>...</td>\n",
       "      <td>...</td>\n",
       "      <td>...</td>\n",
       "    </tr>\n",
       "    <tr>\n",
       "      <th>2021-03-31</th>\n",
       "      <td>2.685</td>\n",
       "      <td>2.700</td>\n",
       "      <td>2.639</td>\n",
       "      <td>2.639</td>\n",
       "      <td>2.639000</td>\n",
       "      <td>90831719</td>\n",
       "    </tr>\n",
       "    <tr>\n",
       "      <th>2021-04-01</th>\n",
       "      <td>2.600</td>\n",
       "      <td>2.602</td>\n",
       "      <td>2.562</td>\n",
       "      <td>2.600</td>\n",
       "      <td>2.600000</td>\n",
       "      <td>36653487</td>\n",
       "    </tr>\n",
       "    <tr>\n",
       "      <th>2021-04-06</th>\n",
       "      <td>2.607</td>\n",
       "      <td>2.639</td>\n",
       "      <td>2.581</td>\n",
       "      <td>2.598</td>\n",
       "      <td>2.598000</td>\n",
       "      <td>14825783</td>\n",
       "    </tr>\n",
       "    <tr>\n",
       "      <th>2021-04-07</th>\n",
       "      <td>2.615</td>\n",
       "      <td>2.624</td>\n",
       "      <td>2.583</td>\n",
       "      <td>2.617</td>\n",
       "      <td>2.617000</td>\n",
       "      <td>12527937</td>\n",
       "    </tr>\n",
       "    <tr>\n",
       "      <th>2021-04-08</th>\n",
       "      <td>2.629</td>\n",
       "      <td>2.636</td>\n",
       "      <td>2.545</td>\n",
       "      <td>2.579</td>\n",
       "      <td>2.579000</td>\n",
       "      <td>11855845</td>\n",
       "    </tr>\n",
       "  </tbody>\n",
       "</table>\n",
       "<p>1279 rows × 6 columns</p>\n",
       "</div>"
      ],
      "text/plain": [
       "             Open   High    Low  Close  Adj Close    Volume\n",
       "Date                                                       \n",
       "2016-04-08  2.420  2.519  2.420  2.485   2.049515  11485795\n",
       "2016-04-11  2.493  2.570  2.452  2.527   2.084155  10264436\n",
       "2016-04-12  2.534  2.585  2.455  2.507   2.067660  13235888\n",
       "2016-04-13  2.553  2.663  2.539  2.641   2.178177  16004846\n",
       "2016-04-14  2.655  2.688  2.595  2.674   2.205395  15485681\n",
       "...           ...    ...    ...    ...        ...       ...\n",
       "2021-03-31  2.685  2.700  2.639  2.639   2.639000  90831719\n",
       "2021-04-01  2.600  2.602  2.562  2.600   2.600000  36653487\n",
       "2021-04-06  2.607  2.639  2.581  2.598   2.598000  14825783\n",
       "2021-04-07  2.615  2.624  2.583  2.617   2.617000  12527937\n",
       "2021-04-08  2.629  2.636  2.545  2.579   2.579000  11855845\n",
       "\n",
       "[1279 rows x 6 columns]"
      ]
     },
     "execution_count": 122,
     "metadata": {},
     "output_type": "execute_result"
    }
   ],
   "source": [
    "data"
   ]
  },
  {
   "cell_type": "code",
   "execution_count": 123,
   "metadata": {},
   "outputs": [],
   "source": [
    "data = data.loc[:,[\"Close\"]]"
   ]
  },
  {
   "cell_type": "markdown",
   "metadata": {},
   "source": [
    "*Vamos a añadir una columna que nos calcula el logaritmo de todos los retornos, lo que implica la rentabilidad del valor. Para ello necesitamos la librería numpy, y selecionamos la fila anterior mediante el código \"shift(1)\" de pandas*"
   ]
  },
  {
   "cell_type": "code",
   "execution_count": 124,
   "metadata": {},
   "outputs": [],
   "source": [
    "data[\"Rentabilidad Valor\"] = np.log( data / data.shift(1))"
   ]
  },
  {
   "cell_type": "code",
   "execution_count": 125,
   "metadata": {},
   "outputs": [
    {
     "data": {
      "text/html": [
       "<div>\n",
       "<style scoped>\n",
       "    .dataframe tbody tr th:only-of-type {\n",
       "        vertical-align: middle;\n",
       "    }\n",
       "\n",
       "    .dataframe tbody tr th {\n",
       "        vertical-align: top;\n",
       "    }\n",
       "\n",
       "    .dataframe thead th {\n",
       "        text-align: right;\n",
       "    }\n",
       "</style>\n",
       "<table border=\"1\" class=\"dataframe\">\n",
       "  <thead>\n",
       "    <tr style=\"text-align: right;\">\n",
       "      <th></th>\n",
       "      <th>Close</th>\n",
       "      <th>Rentabilidad Valor</th>\n",
       "    </tr>\n",
       "    <tr>\n",
       "      <th>Date</th>\n",
       "      <th></th>\n",
       "      <th></th>\n",
       "    </tr>\n",
       "  </thead>\n",
       "  <tbody>\n",
       "    <tr>\n",
       "      <th>2016-04-08</th>\n",
       "      <td>2.485</td>\n",
       "      <td>NaN</td>\n",
       "    </tr>\n",
       "    <tr>\n",
       "      <th>2016-04-11</th>\n",
       "      <td>2.527</td>\n",
       "      <td>0.016760</td>\n",
       "    </tr>\n",
       "    <tr>\n",
       "      <th>2016-04-12</th>\n",
       "      <td>2.507</td>\n",
       "      <td>-0.007946</td>\n",
       "    </tr>\n",
       "    <tr>\n",
       "      <th>2016-04-13</th>\n",
       "      <td>2.641</td>\n",
       "      <td>0.052071</td>\n",
       "    </tr>\n",
       "    <tr>\n",
       "      <th>2016-04-14</th>\n",
       "      <td>2.674</td>\n",
       "      <td>0.012418</td>\n",
       "    </tr>\n",
       "    <tr>\n",
       "      <th>...</th>\n",
       "      <td>...</td>\n",
       "      <td>...</td>\n",
       "    </tr>\n",
       "    <tr>\n",
       "      <th>2021-03-31</th>\n",
       "      <td>2.639</td>\n",
       "      <td>-0.017653</td>\n",
       "    </tr>\n",
       "    <tr>\n",
       "      <th>2021-04-01</th>\n",
       "      <td>2.600</td>\n",
       "      <td>-0.014889</td>\n",
       "    </tr>\n",
       "    <tr>\n",
       "      <th>2021-04-06</th>\n",
       "      <td>2.598</td>\n",
       "      <td>-0.000769</td>\n",
       "    </tr>\n",
       "    <tr>\n",
       "      <th>2021-04-07</th>\n",
       "      <td>2.617</td>\n",
       "      <td>0.007287</td>\n",
       "    </tr>\n",
       "    <tr>\n",
       "      <th>2021-04-08</th>\n",
       "      <td>2.579</td>\n",
       "      <td>-0.014627</td>\n",
       "    </tr>\n",
       "  </tbody>\n",
       "</table>\n",
       "<p>1279 rows × 2 columns</p>\n",
       "</div>"
      ],
      "text/plain": [
       "            Close  Rentabilidad Valor\n",
       "Date                                 \n",
       "2016-04-08  2.485                 NaN\n",
       "2016-04-11  2.527            0.016760\n",
       "2016-04-12  2.507           -0.007946\n",
       "2016-04-13  2.641            0.052071\n",
       "2016-04-14  2.674            0.012418\n",
       "...           ...                 ...\n",
       "2021-03-31  2.639           -0.017653\n",
       "2021-04-01  2.600           -0.014889\n",
       "2021-04-06  2.598           -0.000769\n",
       "2021-04-07  2.617            0.007287\n",
       "2021-04-08  2.579           -0.014627\n",
       "\n",
       "[1279 rows x 2 columns]"
      ]
     },
     "execution_count": 125,
     "metadata": {},
     "output_type": "execute_result"
    }
   ],
   "source": [
    "data"
   ]
  },
  {
   "cell_type": "markdown",
   "metadata": {},
   "source": [
    "*En Excel tendremos que usar la fórmula **=LN((valor día/valor día anterior))**.*"
   ]
  },
  {
   "cell_type": "code",
   "execution_count": 95,
   "metadata": {},
   "outputs": [
    {
     "data": {
      "text/plain": [
       "array([<matplotlib.axes._subplots.AxesSubplot object at 0x000002BD34611040>],\n",
       "      dtype=object)"
      ]
     },
     "execution_count": 95,
     "metadata": {},
     "output_type": "execute_result"
    },
    {
     "data": {
      "image/png": "[encoded data removed]",
      "text/plain": [
       "<Figure size 1152x504 with 1 Axes>"
      ]
     },
     "metadata": {
      "needs_background": "light"
     },
     "output_type": "display_data"
    }
   ],
   "source": [
    "data['Rentabilidad Valor'].cumsum().plot(subplots=True,figsize=(16,7)) "
   ]
  },
  {
   "cell_type": "markdown",
   "metadata": {},
   "source": [
    "*Mediante este gráfico podemos ver la evolución de CaixaBank en los últimos 5 años*\n",
    "\n",
    "*Ahora, vamos a hacer lo mismo pero con el índice de referencia, en este caso **IBEX35**. Hay que tener en cuenta que podemos hacerlo con cualquiera de los índices que están publicados*"
   ]
  },
  {
   "cell_type": "code",
   "execution_count": 126,
   "metadata": {},
   "outputs": [
    {
     "name": "stdout",
     "output_type": "stream",
     "text": [
      "[*********************100%***********************]  1 of 1 completed\n"
     ]
    }
   ],
   "source": [
    "mercado = yf.download(\"^IBEX\", period = '5y')\n",
    "mercado = pd.DataFrame(mercado)"
   ]
  },
  {
   "cell_type": "code",
   "execution_count": 127,
   "metadata": {
    "scrolled": true
   },
   "outputs": [
    {
     "data": {
      "text/html": [
       "<div>\n",
       "<style scoped>\n",
       "    .dataframe tbody tr th:only-of-type {\n",
       "        vertical-align: middle;\n",
       "    }\n",
       "\n",
       "    .dataframe tbody tr th {\n",
       "        vertical-align: top;\n",
       "    }\n",
       "\n",
       "    .dataframe thead th {\n",
       "        text-align: right;\n",
       "    }\n",
       "</style>\n",
       "<table border=\"1\" class=\"dataframe\">\n",
       "  <thead>\n",
       "    <tr style=\"text-align: right;\">\n",
       "      <th></th>\n",
       "      <th>Open</th>\n",
       "      <th>High</th>\n",
       "      <th>Low</th>\n",
       "      <th>Close</th>\n",
       "      <th>Adj Close</th>\n",
       "      <th>Volume</th>\n",
       "    </tr>\n",
       "    <tr>\n",
       "      <th>Date</th>\n",
       "      <th></th>\n",
       "      <th></th>\n",
       "      <th></th>\n",
       "      <th></th>\n",
       "      <th></th>\n",
       "      <th></th>\n",
       "    </tr>\n",
       "  </thead>\n",
       "  <tbody>\n",
       "    <tr>\n",
       "      <th>2016-04-08</th>\n",
       "      <td>8309.900391</td>\n",
       "      <td>8462.799805</td>\n",
       "      <td>8309.900391</td>\n",
       "      <td>8427.599609</td>\n",
       "      <td>8427.590820</td>\n",
       "      <td>297771900</td>\n",
       "    </tr>\n",
       "    <tr>\n",
       "      <th>2016-04-11</th>\n",
       "      <td>8413.400391</td>\n",
       "      <td>8563.400391</td>\n",
       "      <td>8344.400391</td>\n",
       "      <td>8497.599609</td>\n",
       "      <td>8497.590820</td>\n",
       "      <td>270182600</td>\n",
       "    </tr>\n",
       "    <tr>\n",
       "      <th>2016-04-12</th>\n",
       "      <td>8519.799805</td>\n",
       "      <td>8587.900391</td>\n",
       "      <td>8425.599609</td>\n",
       "      <td>8546.299805</td>\n",
       "      <td>8546.291016</td>\n",
       "      <td>326591700</td>\n",
       "    </tr>\n",
       "    <tr>\n",
       "      <th>2016-04-13</th>\n",
       "      <td>8660.099609</td>\n",
       "      <td>8820.700195</td>\n",
       "      <td>8596.099609</td>\n",
       "      <td>8820.700195</td>\n",
       "      <td>8820.691406</td>\n",
       "      <td>415148700</td>\n",
       "    </tr>\n",
       "    <tr>\n",
       "      <th>2016-04-14</th>\n",
       "      <td>8854.000000</td>\n",
       "      <td>8870.900391</td>\n",
       "      <td>8743.500000</td>\n",
       "      <td>8861.500000</td>\n",
       "      <td>8861.491211</td>\n",
       "      <td>343392500</td>\n",
       "    </tr>\n",
       "    <tr>\n",
       "      <th>...</th>\n",
       "      <td>...</td>\n",
       "      <td>...</td>\n",
       "      <td>...</td>\n",
       "      <td>...</td>\n",
       "      <td>...</td>\n",
       "      <td>...</td>\n",
       "    </tr>\n",
       "    <tr>\n",
       "      <th>2021-03-31</th>\n",
       "      <td>8594.700195</td>\n",
       "      <td>8652.200195</td>\n",
       "      <td>8568.000000</td>\n",
       "      <td>8580.000000</td>\n",
       "      <td>8580.000000</td>\n",
       "      <td>265542300</td>\n",
       "    </tr>\n",
       "    <tr>\n",
       "      <th>2021-04-01</th>\n",
       "      <td>8595.599609</td>\n",
       "      <td>8610.099609</td>\n",
       "      <td>8542.700195</td>\n",
       "      <td>8577.599609</td>\n",
       "      <td>8577.599609</td>\n",
       "      <td>150979000</td>\n",
       "    </tr>\n",
       "    <tr>\n",
       "      <th>2021-04-06</th>\n",
       "      <td>8673.200195</td>\n",
       "      <td>8691.900391</td>\n",
       "      <td>8615.500000</td>\n",
       "      <td>8634.599609</td>\n",
       "      <td>8634.599609</td>\n",
       "      <td>201717300</td>\n",
       "    </tr>\n",
       "    <tr>\n",
       "      <th>2021-04-07</th>\n",
       "      <td>8648.299805</td>\n",
       "      <td>8661.799805</td>\n",
       "      <td>8592.200195</td>\n",
       "      <td>8597.400391</td>\n",
       "      <td>8597.400391</td>\n",
       "      <td>137394800</td>\n",
       "    </tr>\n",
       "    <tr>\n",
       "      <th>2021-04-08</th>\n",
       "      <td>8626.500000</td>\n",
       "      <td>8637.799805</td>\n",
       "      <td>8564.400391</td>\n",
       "      <td>8637.799805</td>\n",
       "      <td>8637.799805</td>\n",
       "      <td>165761781</td>\n",
       "    </tr>\n",
       "  </tbody>\n",
       "</table>\n",
       "<p>1278 rows × 6 columns</p>\n",
       "</div>"
      ],
      "text/plain": [
       "                   Open         High          Low        Close    Adj Close  \\\n",
       "Date                                                                          \n",
       "2016-04-08  8309.900391  8462.799805  8309.900391  8427.599609  8427.590820   \n",
       "2016-04-11  8413.400391  8563.400391  8344.400391  8497.599609  8497.590820   \n",
       "2016-04-12  8519.799805  8587.900391  8425.599609  8546.299805  8546.291016   \n",
       "2016-04-13  8660.099609  8820.700195  8596.099609  8820.700195  8820.691406   \n",
       "2016-04-14  8854.000000  8870.900391  8743.500000  8861.500000  8861.491211   \n",
       "...                 ...          ...          ...          ...          ...   \n",
       "2021-03-31  8594.700195  8652.200195  8568.000000  8580.000000  8580.000000   \n",
       "2021-04-01  8595.599609  8610.099609  8542.700195  8577.599609  8577.599609   \n",
       "2021-04-06  8673.200195  8691.900391  8615.500000  8634.599609  8634.599609   \n",
       "2021-04-07  8648.299805  8661.799805  8592.200195  8597.400391  8597.400391   \n",
       "2021-04-08  8626.500000  8637.799805  8564.400391  8637.799805  8637.799805   \n",
       "\n",
       "               Volume  \n",
       "Date                   \n",
       "2016-04-08  297771900  \n",
       "2016-04-11  270182600  \n",
       "2016-04-12  326591700  \n",
       "2016-04-13  415148700  \n",
       "2016-04-14  343392500  \n",
       "...               ...  \n",
       "2021-03-31  265542300  \n",
       "2021-04-01  150979000  \n",
       "2021-04-06  201717300  \n",
       "2021-04-07  137394800  \n",
       "2021-04-08  165761781  \n",
       "\n",
       "[1278 rows x 6 columns]"
      ]
     },
     "execution_count": 127,
     "metadata": {},
     "output_type": "execute_result"
    }
   ],
   "source": [
    "mercado"
   ]
  },
  {
   "cell_type": "code",
   "execution_count": 128,
   "metadata": {},
   "outputs": [],
   "source": [
    "mercado = mercado.loc[:,[\"Close\"]]"
   ]
  },
  {
   "cell_type": "code",
   "execution_count": 129,
   "metadata": {},
   "outputs": [
    {
     "data": {
      "text/html": [
       "<div>\n",
       "<style scoped>\n",
       "    .dataframe tbody tr th:only-of-type {\n",
       "        vertical-align: middle;\n",
       "    }\n",
       "\n",
       "    .dataframe tbody tr th {\n",
       "        vertical-align: top;\n",
       "    }\n",
       "\n",
       "    .dataframe thead th {\n",
       "        text-align: right;\n",
       "    }\n",
       "</style>\n",
       "<table border=\"1\" class=\"dataframe\">\n",
       "  <thead>\n",
       "    <tr style=\"text-align: right;\">\n",
       "      <th></th>\n",
       "      <th>Close</th>\n",
       "    </tr>\n",
       "    <tr>\n",
       "      <th>Date</th>\n",
       "      <th></th>\n",
       "    </tr>\n",
       "  </thead>\n",
       "  <tbody>\n",
       "    <tr>\n",
       "      <th>2016-04-08</th>\n",
       "      <td>8427.599609</td>\n",
       "    </tr>\n",
       "    <tr>\n",
       "      <th>2016-04-11</th>\n",
       "      <td>8497.599609</td>\n",
       "    </tr>\n",
       "    <tr>\n",
       "      <th>2016-04-12</th>\n",
       "      <td>8546.299805</td>\n",
       "    </tr>\n",
       "    <tr>\n",
       "      <th>2016-04-13</th>\n",
       "      <td>8820.700195</td>\n",
       "    </tr>\n",
       "    <tr>\n",
       "      <th>2016-04-14</th>\n",
       "      <td>8861.500000</td>\n",
       "    </tr>\n",
       "    <tr>\n",
       "      <th>...</th>\n",
       "      <td>...</td>\n",
       "    </tr>\n",
       "    <tr>\n",
       "      <th>2021-03-31</th>\n",
       "      <td>8580.000000</td>\n",
       "    </tr>\n",
       "    <tr>\n",
       "      <th>2021-04-01</th>\n",
       "      <td>8577.599609</td>\n",
       "    </tr>\n",
       "    <tr>\n",
       "      <th>2021-04-06</th>\n",
       "      <td>8634.599609</td>\n",
       "    </tr>\n",
       "    <tr>\n",
       "      <th>2021-04-07</th>\n",
       "      <td>8597.400391</td>\n",
       "    </tr>\n",
       "    <tr>\n",
       "      <th>2021-04-08</th>\n",
       "      <td>8637.799805</td>\n",
       "    </tr>\n",
       "  </tbody>\n",
       "</table>\n",
       "<p>1278 rows × 1 columns</p>\n",
       "</div>"
      ],
      "text/plain": [
       "                  Close\n",
       "Date                   \n",
       "2016-04-08  8427.599609\n",
       "2016-04-11  8497.599609\n",
       "2016-04-12  8546.299805\n",
       "2016-04-13  8820.700195\n",
       "2016-04-14  8861.500000\n",
       "...                 ...\n",
       "2021-03-31  8580.000000\n",
       "2021-04-01  8577.599609\n",
       "2021-04-06  8634.599609\n",
       "2021-04-07  8597.400391\n",
       "2021-04-08  8637.799805\n",
       "\n",
       "[1278 rows x 1 columns]"
      ]
     },
     "execution_count": 129,
     "metadata": {},
     "output_type": "execute_result"
    }
   ],
   "source": [
    "mercado"
   ]
  },
  {
   "cell_type": "code",
   "execution_count": 130,
   "metadata": {},
   "outputs": [],
   "source": [
    "mercado[\"Rentabilidad\"] = np.log( mercado / mercado.shift(1))"
   ]
  },
  {
   "cell_type": "code",
   "execution_count": 131,
   "metadata": {},
   "outputs": [
    {
     "data": {
      "text/html": [
       "<div>\n",
       "<style scoped>\n",
       "    .dataframe tbody tr th:only-of-type {\n",
       "        vertical-align: middle;\n",
       "    }\n",
       "\n",
       "    .dataframe tbody tr th {\n",
       "        vertical-align: top;\n",
       "    }\n",
       "\n",
       "    .dataframe thead th {\n",
       "        text-align: right;\n",
       "    }\n",
       "</style>\n",
       "<table border=\"1\" class=\"dataframe\">\n",
       "  <thead>\n",
       "    <tr style=\"text-align: right;\">\n",
       "      <th></th>\n",
       "      <th>Close</th>\n",
       "      <th>Rentabilidad</th>\n",
       "    </tr>\n",
       "    <tr>\n",
       "      <th>Date</th>\n",
       "      <th></th>\n",
       "      <th></th>\n",
       "    </tr>\n",
       "  </thead>\n",
       "  <tbody>\n",
       "    <tr>\n",
       "      <th>2016-04-08</th>\n",
       "      <td>8427.599609</td>\n",
       "      <td>NaN</td>\n",
       "    </tr>\n",
       "    <tr>\n",
       "      <th>2016-04-11</th>\n",
       "      <td>8497.599609</td>\n",
       "      <td>0.008272</td>\n",
       "    </tr>\n",
       "    <tr>\n",
       "      <th>2016-04-12</th>\n",
       "      <td>8546.299805</td>\n",
       "      <td>0.005715</td>\n",
       "    </tr>\n",
       "    <tr>\n",
       "      <th>2016-04-13</th>\n",
       "      <td>8820.700195</td>\n",
       "      <td>0.031603</td>\n",
       "    </tr>\n",
       "    <tr>\n",
       "      <th>2016-04-14</th>\n",
       "      <td>8861.500000</td>\n",
       "      <td>0.004615</td>\n",
       "    </tr>\n",
       "    <tr>\n",
       "      <th>...</th>\n",
       "      <td>...</td>\n",
       "      <td>...</td>\n",
       "    </tr>\n",
       "    <tr>\n",
       "      <th>2021-03-31</th>\n",
       "      <td>8580.000000</td>\n",
       "      <td>-0.001770</td>\n",
       "    </tr>\n",
       "    <tr>\n",
       "      <th>2021-04-01</th>\n",
       "      <td>8577.599609</td>\n",
       "      <td>-0.000280</td>\n",
       "    </tr>\n",
       "    <tr>\n",
       "      <th>2021-04-06</th>\n",
       "      <td>8634.599609</td>\n",
       "      <td>0.006623</td>\n",
       "    </tr>\n",
       "    <tr>\n",
       "      <th>2021-04-07</th>\n",
       "      <td>8597.400391</td>\n",
       "      <td>-0.004317</td>\n",
       "    </tr>\n",
       "    <tr>\n",
       "      <th>2021-04-08</th>\n",
       "      <td>8637.799805</td>\n",
       "      <td>0.004688</td>\n",
       "    </tr>\n",
       "  </tbody>\n",
       "</table>\n",
       "<p>1278 rows × 2 columns</p>\n",
       "</div>"
      ],
      "text/plain": [
       "                  Close  Rentabilidad\n",
       "Date                                 \n",
       "2016-04-08  8427.599609           NaN\n",
       "2016-04-11  8497.599609      0.008272\n",
       "2016-04-12  8546.299805      0.005715\n",
       "2016-04-13  8820.700195      0.031603\n",
       "2016-04-14  8861.500000      0.004615\n",
       "...                 ...           ...\n",
       "2021-03-31  8580.000000     -0.001770\n",
       "2021-04-01  8577.599609     -0.000280\n",
       "2021-04-06  8634.599609      0.006623\n",
       "2021-04-07  8597.400391     -0.004317\n",
       "2021-04-08  8637.799805      0.004688\n",
       "\n",
       "[1278 rows x 2 columns]"
      ]
     },
     "execution_count": 131,
     "metadata": {},
     "output_type": "execute_result"
    }
   ],
   "source": [
    "mercado"
   ]
  },
  {
   "cell_type": "code",
   "execution_count": 132,
   "metadata": {},
   "outputs": [
    {
     "data": {
      "text/plain": [
       "array([<matplotlib.axes._subplots.AxesSubplot object at 0x000002BD37119BE0>],\n",
       "      dtype=object)"
      ]
     },
     "execution_count": 132,
     "metadata": {},
     "output_type": "execute_result"
    },
    {
     "data": {
      "image/png": "[encoded data removed]",
      "text/plain": [
       "<Figure size 1152x504 with 1 Axes>"
      ]
     },
     "metadata": {
      "needs_background": "light"
     },
     "output_type": "display_data"
    }
   ],
   "source": [
    "mercado['Rentabilidad'].cumsum().plot(subplots=True,figsize=(16,7)) "
   ]
  },
  {
   "cell_type": "markdown",
   "metadata": {},
   "source": [
    "*En este gráfico vemos la evolución del Ibex35 en los últimos 5 años. Hasta aquí hemos realizado exactamente los mismos pasos para descargar el valor y el índice.*\n",
    "\n",
    "*Ahora vamos a hacer un único DataFrame para tener los datos en un mismo archivo*"
   ]
  },
  {
   "cell_type": "code",
   "execution_count": 133,
   "metadata": {},
   "outputs": [],
   "source": [
    "data[\"Close Mercado\"] = mercado['Close']\n",
    "data[\"Rentabilidad Mercado\"] = mercado['Rentabilidad']"
   ]
  },
  {
   "cell_type": "code",
   "execution_count": 134,
   "metadata": {},
   "outputs": [
    {
     "data": {
      "text/html": [
       "<div>\n",
       "<style scoped>\n",
       "    .dataframe tbody tr th:only-of-type {\n",
       "        vertical-align: middle;\n",
       "    }\n",
       "\n",
       "    .dataframe tbody tr th {\n",
       "        vertical-align: top;\n",
       "    }\n",
       "\n",
       "    .dataframe thead th {\n",
       "        text-align: right;\n",
       "    }\n",
       "</style>\n",
       "<table border=\"1\" class=\"dataframe\">\n",
       "  <thead>\n",
       "    <tr style=\"text-align: right;\">\n",
       "      <th></th>\n",
       "      <th>Close</th>\n",
       "      <th>Rentabilidad Valor</th>\n",
       "      <th>Close Mercado</th>\n",
       "      <th>Rentabilidad Mercado</th>\n",
       "    </tr>\n",
       "    <tr>\n",
       "      <th>Date</th>\n",
       "      <th></th>\n",
       "      <th></th>\n",
       "      <th></th>\n",
       "      <th></th>\n",
       "    </tr>\n",
       "  </thead>\n",
       "  <tbody>\n",
       "    <tr>\n",
       "      <th>2016-04-08</th>\n",
       "      <td>2.485</td>\n",
       "      <td>NaN</td>\n",
       "      <td>8427.599609</td>\n",
       "      <td>NaN</td>\n",
       "    </tr>\n",
       "    <tr>\n",
       "      <th>2016-04-11</th>\n",
       "      <td>2.527</td>\n",
       "      <td>0.016760</td>\n",
       "      <td>8497.599609</td>\n",
       "      <td>0.008272</td>\n",
       "    </tr>\n",
       "    <tr>\n",
       "      <th>2016-04-12</th>\n",
       "      <td>2.507</td>\n",
       "      <td>-0.007946</td>\n",
       "      <td>8546.299805</td>\n",
       "      <td>0.005715</td>\n",
       "    </tr>\n",
       "    <tr>\n",
       "      <th>2016-04-13</th>\n",
       "      <td>2.641</td>\n",
       "      <td>0.052071</td>\n",
       "      <td>8820.700195</td>\n",
       "      <td>0.031603</td>\n",
       "    </tr>\n",
       "    <tr>\n",
       "      <th>2016-04-14</th>\n",
       "      <td>2.674</td>\n",
       "      <td>0.012418</td>\n",
       "      <td>8861.500000</td>\n",
       "      <td>0.004615</td>\n",
       "    </tr>\n",
       "    <tr>\n",
       "      <th>...</th>\n",
       "      <td>...</td>\n",
       "      <td>...</td>\n",
       "      <td>...</td>\n",
       "      <td>...</td>\n",
       "    </tr>\n",
       "    <tr>\n",
       "      <th>2021-03-31</th>\n",
       "      <td>2.639</td>\n",
       "      <td>-0.017653</td>\n",
       "      <td>8580.000000</td>\n",
       "      <td>-0.001770</td>\n",
       "    </tr>\n",
       "    <tr>\n",
       "      <th>2021-04-01</th>\n",
       "      <td>2.600</td>\n",
       "      <td>-0.014889</td>\n",
       "      <td>8577.599609</td>\n",
       "      <td>-0.000280</td>\n",
       "    </tr>\n",
       "    <tr>\n",
       "      <th>2021-04-06</th>\n",
       "      <td>2.598</td>\n",
       "      <td>-0.000769</td>\n",
       "      <td>8634.599609</td>\n",
       "      <td>0.006623</td>\n",
       "    </tr>\n",
       "    <tr>\n",
       "      <th>2021-04-07</th>\n",
       "      <td>2.617</td>\n",
       "      <td>0.007287</td>\n",
       "      <td>8597.400391</td>\n",
       "      <td>-0.004317</td>\n",
       "    </tr>\n",
       "    <tr>\n",
       "      <th>2021-04-08</th>\n",
       "      <td>2.579</td>\n",
       "      <td>-0.014627</td>\n",
       "      <td>8637.799805</td>\n",
       "      <td>0.004688</td>\n",
       "    </tr>\n",
       "  </tbody>\n",
       "</table>\n",
       "<p>1279 rows × 4 columns</p>\n",
       "</div>"
      ],
      "text/plain": [
       "            Close  Rentabilidad Valor  Close Mercado  Rentabilidad Mercado\n",
       "Date                                                                      \n",
       "2016-04-08  2.485                 NaN    8427.599609                   NaN\n",
       "2016-04-11  2.527            0.016760    8497.599609              0.008272\n",
       "2016-04-12  2.507           -0.007946    8546.299805              0.005715\n",
       "2016-04-13  2.641            0.052071    8820.700195              0.031603\n",
       "2016-04-14  2.674            0.012418    8861.500000              0.004615\n",
       "...           ...                 ...            ...                   ...\n",
       "2021-03-31  2.639           -0.017653    8580.000000             -0.001770\n",
       "2021-04-01  2.600           -0.014889    8577.599609             -0.000280\n",
       "2021-04-06  2.598           -0.000769    8634.599609              0.006623\n",
       "2021-04-07  2.617            0.007287    8597.400391             -0.004317\n",
       "2021-04-08  2.579           -0.014627    8637.799805              0.004688\n",
       "\n",
       "[1279 rows x 4 columns]"
      ]
     },
     "execution_count": 134,
     "metadata": {},
     "output_type": "execute_result"
    }
   ],
   "source": [
    "data"
   ]
  },
  {
   "cell_type": "markdown",
   "metadata": {},
   "source": [
    "*Podemos exportar este fichero a Excel, en este caso lo hemos realizado para cotejar los resultados y verificar que los cálculos son correctos, pero no es necesario. También podemos descargar varios valores, unirlos en un DataFrame y exportar a Excel para realizar cálculos u visualizaciones*"
   ]
  },
  {
   "cell_type": "code",
   "execution_count": 135,
   "metadata": {},
   "outputs": [],
   "source": [
    "data.to_excel(\"Data.xlsx\", sheet_name=\"Sheet1\")"
   ]
  },
  {
   "cell_type": "markdown",
   "metadata": {},
   "source": [
    "*Recordemos cómo se calcula la Beta de una compañía*"
   ]
  },
  {
   "attachments": {
    "image.png": {
     "image/png": "[encoded data removed]"
    }
   },
   "cell_type": "markdown",
   "metadata": {},
   "source": [
    "![image.png](attachment:image.png)"
   ]
  },
  {
   "cell_type": "markdown",
   "metadata": {},
   "source": [
    "*Ahora directamente vamos a aplicar la fórmula. Igualmente hay varios métodos para este cálculo, se puede hacer por partes, para que vayamos viendo cada uno de los pasos, o bien se puede aplicar de una sola vez.*\n",
    "\n",
    "*En este caso, el primer paso es calcular la covarianza del título de mercado, que en nuestro caso es Caixabank. Mediante \"data.cov()\" calculamos la covarianza de todo el fichero, pero a nostros la que nos interesa es la del título, por ello seleccionamos la fila 1, la columna 3*"
   ]
  },
  {
   "cell_type": "code",
   "execution_count": 107,
   "metadata": {},
   "outputs": [],
   "source": [
    "cov = data.cov()"
   ]
  },
  {
   "cell_type": "code",
   "execution_count": 108,
   "metadata": {
    "scrolled": true
   },
   "outputs": [
    {
     "data": {
      "text/html": [
       "<div>\n",
       "<style scoped>\n",
       "    .dataframe tbody tr th:only-of-type {\n",
       "        vertical-align: middle;\n",
       "    }\n",
       "\n",
       "    .dataframe tbody tr th {\n",
       "        vertical-align: top;\n",
       "    }\n",
       "\n",
       "    .dataframe thead th {\n",
       "        text-align: right;\n",
       "    }\n",
       "</style>\n",
       "<table border=\"1\" class=\"dataframe\">\n",
       "  <thead>\n",
       "    <tr style=\"text-align: right;\">\n",
       "      <th></th>\n",
       "      <th>Adj Close</th>\n",
       "      <th>Rentabilidad Valor</th>\n",
       "      <th>Adj Close Mercado</th>\n",
       "      <th>Rentabilidad Mercado</th>\n",
       "    </tr>\n",
       "  </thead>\n",
       "  <tbody>\n",
       "    <tr>\n",
       "      <th>Adj Close</th>\n",
       "      <td>0.489685</td>\n",
       "      <td>0.000535</td>\n",
       "      <td>6.365632e+02</td>\n",
       "      <td>0.000155</td>\n",
       "    </tr>\n",
       "    <tr>\n",
       "      <th>Rentabilidad Valor</th>\n",
       "      <td>0.000535</td>\n",
       "      <td>0.000528</td>\n",
       "      <td>1.095005e+00</td>\n",
       "      <td>0.000230</td>\n",
       "    </tr>\n",
       "    <tr>\n",
       "      <th>Adj Close Mercado</th>\n",
       "      <td>636.563177</td>\n",
       "      <td>1.095005</td>\n",
       "      <td>1.142253e+06</td>\n",
       "      <td>0.681710</td>\n",
       "    </tr>\n",
       "    <tr>\n",
       "      <th>Rentabilidad Mercado</th>\n",
       "      <td>0.000155</td>\n",
       "      <td>0.000230</td>\n",
       "      <td>6.817104e-01</td>\n",
       "      <td>0.000173</td>\n",
       "    </tr>\n",
       "  </tbody>\n",
       "</table>\n",
       "</div>"
      ],
      "text/plain": [
       "                       Adj Close  Rentabilidad Valor  Adj Close Mercado  \\\n",
       "Adj Close               0.489685            0.000535       6.365632e+02   \n",
       "Rentabilidad Valor      0.000535            0.000528       1.095005e+00   \n",
       "Adj Close Mercado     636.563177            1.095005       1.142253e+06   \n",
       "Rentabilidad Mercado    0.000155            0.000230       6.817104e-01   \n",
       "\n",
       "                      Rentabilidad Mercado  \n",
       "Adj Close                         0.000155  \n",
       "Rentabilidad Valor                0.000230  \n",
       "Adj Close Mercado                 0.681710  \n",
       "Rentabilidad Mercado              0.000173  "
      ]
     },
     "execution_count": 108,
     "metadata": {},
     "output_type": "execute_result"
    }
   ],
   "source": [
    "cov"
   ]
  },
  {
   "cell_type": "code",
   "execution_count": 109,
   "metadata": {},
   "outputs": [],
   "source": [
    "cov_CABK = cov.iloc[1,3]  #usamos la covarianza que corresponde a la línea 1, columna 3 (teniendo en cuenta que hay 0,1,2,3)"
   ]
  },
  {
   "cell_type": "code",
   "execution_count": 110,
   "metadata": {},
   "outputs": [
    {
     "data": {
      "text/plain": [
       "0.00023026011729350714"
      ]
     },
     "execution_count": 110,
     "metadata": {},
     "output_type": "execute_result"
    }
   ],
   "source": [
    "cov_CABK"
   ]
  },
  {
   "cell_type": "markdown",
   "metadata": {},
   "source": [
    "*Calculemos ahora la varianza del mercado*"
   ]
  },
  {
   "cell_type": "code",
   "execution_count": 136,
   "metadata": {},
   "outputs": [
    {
     "data": {
      "text/plain": [
       "0.000173058446715128"
      ]
     },
     "execution_count": 136,
     "metadata": {},
     "output_type": "execute_result"
    }
   ],
   "source": [
    "IBEX_var = data['Rentabilidad Mercado'].var()\n",
    "IBEX_var"
   ]
  },
  {
   "cell_type": "markdown",
   "metadata": {},
   "source": [
    "*Finalmente calculamos la Beta de la compañía*"
   ]
  },
  {
   "cell_type": "code",
   "execution_count": 137,
   "metadata": {},
   "outputs": [
    {
     "data": {
      "text/plain": [
       "1.3305338263698794"
      ]
     },
     "execution_count": 137,
     "metadata": {},
     "output_type": "execute_result"
    }
   ],
   "source": [
    "\n",
    "CABK_beta= cov_CABK / IBEX_var # division entre la covarianza contra mercado dividido entre la varianza del mercado\n",
    "CABK_beta"
   ]
  },
  {
   "cell_type": "markdown",
   "metadata": {},
   "source": [
    "*En Excel usaremos la fórmula **COVAR(matriz rentabilidad valor; matriz rentabilidad mercado)**, por otro lado **=VAR(matriz rentabilidad mercado)**, para después dividir ambos valores.*"
   ]
  },
  {
   "cell_type": "markdown",
   "metadata": {},
   "source": [
    "# Me da una pequeña diferencia entre el cálculo en Excel y el Cálculo en Python, no se el motivo#"
   ]
  },
  {
   "cell_type": "markdown",
   "metadata": {},
   "source": [
    "**Interpretación:** *La Beta es una variable que mide la diferencia de rentabilidad de una acción respecto a su índice de referencia.\n",
    "Por ejemplo, si Acerinox tiene una Beta de 1,1 respecto al Ibex 35 quiere decir que Acerinox se moverá un 10% más de lo que lo haga el Ibex 35. Si el Ibex 35 sube un 10% Acerinox subirá un 11%, y si el Ibex 35 baja un 10% Acerinox bajará un 11%.\n",
    "De forma similar si Abertis tiene una Beta de 0,80 en caso de que el Ibex 35 suba un 10% Abertis subirá un 8%, mientras que si el Ibex 35 cae un 10% Abertis bajará un 8%.\n",
    "Un valor con una Beta de 1 se movería exactamente igual que el mercado.\n",
    "Algunos valores pueden tener Beta negativa. Eso quiere decir que cuando el mercado cae esos valores suben y cuando el mercado sube esos valores bajan. Son casos raros pero existen.\n",
    "De igual forma la Beta de una compañía cambia en función del tiempo que analicemos*"
   ]
  },
  {
   "cell_type": "code",
   "execution_count": 114,
   "metadata": {},
   "outputs": [
    {
     "data": {
      "text/plain": [
       "array([<matplotlib.axes._subplots.AxesSubplot object at 0x000002BD36EC3AC0>],\n",
       "      dtype=object)"
      ]
     },
     "execution_count": 114,
     "metadata": {},
     "output_type": "execute_result"
    },
    {
     "data": {
      "image/png": "[encoded data removed]",
      "text/plain": [
       "<Figure size 1152x504 with 1 Axes>"
      ]
     },
     "metadata": {
      "needs_background": "light"
     },
     "output_type": "display_data"
    }
   ],
   "source": [
    "mercado['Rentabilidad'].cumsum().plot(subplots=True,figsize=(16,7), color = 'red')\n",
    "data['Rentabilidad Valor'].cumsum().plot(subplots=True,figsize=(16,7), color = 'green') "
   ]
  },
  {
   "cell_type": "markdown",
   "metadata": {},
   "source": [
    "*En este gráfico podemos comprobar la evolución de la rentabilidad de Caixabank respecto al IBEX35, en rojo vemos la volatilidad del índice, mientras que en verde vemos la de nuestro valor. Si analizamos el periodo anterior al 2017 nuestra Beta será menor que si analizamos el periodo comprendido entre 2017 y 2020, en cualquier caso la mayor parte de la veces nuestra Beta es mayor a 1, porque sigue los movimientos del Ibex35, superándolos, si el índice baja, nuestro valor baja más, y si el índice sube, nuestro valor lo hace más también.*\n",
    "\n",
    "*Estre gráfico nos permite ver ciertas anomalías que pueden afectar a índice bursátil, como en este caso el Covid19, donde podemos ver claramente que índice y valor se fusionan prácticamente.*"
   ]
  }
 ],
 "metadata": {
  "kernelspec": {
   "display_name": "Python 3",
   "language": "python",
   "name": "python3"
  },
  "language_info": {
   "codemirror_mode": {
    "name": "ipython",
    "version": 3
   },
   "file_extension": ".py",
   "mimetype": "text/x-python",
   "name": "python",
   "nbconvert_exporter": "python",
   "pygments_lexer": "ipython3",
   "version": "3.8.3"
  }
 },
 "nbformat": 4,
 "nbformat_minor": 4
}
