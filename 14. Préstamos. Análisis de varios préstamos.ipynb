{
 "cells": [
  {
   "cell_type": "markdown",
   "metadata": {},
   "source": [
    "**Análisis de varios préstamos**\n",
    "\n",
    "*Hemos visto como calcular cuadros de amortización para préstamos, siguiendo una serie de condiciones, pero la ventaja que nos ofrece Python, es el manejo de un volumen elevado de datos, su rápido cálculo, y su análisis*\n",
    "\n",
    "*Imaginemos que queremos comparar 1.000.000 de tipos de interés, no es algo habitual, pero con esto lo que pretendemos es mostrar la potencia de la herramienta, y ver cómo actúa*\n",
    "\n",
    "*vamos a ver un ejemplo*"
   ]
  },
  {
   "cell_type": "code",
   "execution_count": 1,
   "metadata": {},
   "outputs": [
    {
     "name": "stdout",
     "output_type": "stream",
     "text": [
      "Requirement already satisfied: numpy-financial in c:\\users\\lenovo\\anaconda3\\lib\\site-packages (1.0.0)Note: you may need to restart the kernel to use updated packages.\n",
      "\n",
      "Requirement already satisfied: numpy>=1.15 in c:\\users\\lenovo\\anaconda3\\lib\\site-packages (from numpy-financial) (1.19.2)\n"
     ]
    }
   ],
   "source": [
    "pip install numpy-financial"
   ]
  },
  {
   "cell_type": "code",
   "execution_count": 2,
   "metadata": {},
   "outputs": [],
   "source": [
    "import numpy_financial as npf\n",
    "import numpy as np\n",
    "import pandas as pd"
   ]
  },
  {
   "cell_type": "code",
   "execution_count": 3,
   "metadata": {},
   "outputs": [],
   "source": [
    "rate = np.arange(0,10000,0.01)\n",
    "\n",
    "pago = []\n",
    "total = []\n",
    "total_inter = []\n",
    "\n",
    "\n",
    "\n",
    "a = npf.pmt(rate=rate, nper=10, pv=-100000, fv=0, when='end')\n",
    "pago.extend(a)  #Observese que aquí utilizamos extend, para lograr que nuestra lista pago tenga 100 elementos, de manera que luego podamos construir un Dataframe\n",
    "\n",
    "\n",
    "for i in pago:\n",
    "    b = i*10\n",
    "    total.append(b)\n",
    "    \n",
    "for i in total:\n",
    "    c = i-100000\n",
    "    total_inter.append(c)\n"
   ]
  },
  {
   "cell_type": "code",
   "execution_count": 4,
   "metadata": {},
   "outputs": [],
   "source": [
    "Prestamos = pd.DataFrame(\n",
    "   ...:     {\n",
    "   ...:         \"Interés\": rate,\n",
    "   ...:         \"Pago mensual\": pago,\n",
    "   ...:         \"Total pagado\": total,\n",
    "   ...:         \"Total intereses pagados\":total_inter,\n",
    "   ...:         \n",
    "   ...:     }\n",
    "   ...: )\n",
    "   ...: "
   ]
  },
  {
   "cell_type": "code",
   "execution_count": 5,
   "metadata": {},
   "outputs": [
    {
     "data": {
      "text/html": [
       "<div>\n",
       "<style scoped>\n",
       "    .dataframe tbody tr th:only-of-type {\n",
       "        vertical-align: middle;\n",
       "    }\n",
       "\n",
       "    .dataframe tbody tr th {\n",
       "        vertical-align: top;\n",
       "    }\n",
       "\n",
       "    .dataframe thead th {\n",
       "        text-align: right;\n",
       "    }\n",
       "</style>\n",
       "<table border=\"1\" class=\"dataframe\">\n",
       "  <thead>\n",
       "    <tr style=\"text-align: right;\">\n",
       "      <th></th>\n",
       "      <th>Interés</th>\n",
       "      <th>Pago mensual</th>\n",
       "      <th>Total pagado</th>\n",
       "      <th>Total intereses pagados</th>\n",
       "    </tr>\n",
       "  </thead>\n",
       "  <tbody>\n",
       "    <tr>\n",
       "      <th>0</th>\n",
       "      <td>0.00</td>\n",
       "      <td>1.000000e+04</td>\n",
       "      <td>1.000000e+05</td>\n",
       "      <td>0.000000e+00</td>\n",
       "    </tr>\n",
       "    <tr>\n",
       "      <th>1</th>\n",
       "      <td>0.01</td>\n",
       "      <td>1.055821e+04</td>\n",
       "      <td>1.055821e+05</td>\n",
       "      <td>5.582080e+03</td>\n",
       "    </tr>\n",
       "    <tr>\n",
       "      <th>2</th>\n",
       "      <td>0.02</td>\n",
       "      <td>1.113265e+04</td>\n",
       "      <td>1.113265e+05</td>\n",
       "      <td>1.132653e+04</td>\n",
       "    </tr>\n",
       "    <tr>\n",
       "      <th>3</th>\n",
       "      <td>0.03</td>\n",
       "      <td>1.172305e+04</td>\n",
       "      <td>1.172305e+05</td>\n",
       "      <td>1.723051e+04</td>\n",
       "    </tr>\n",
       "    <tr>\n",
       "      <th>4</th>\n",
       "      <td>0.04</td>\n",
       "      <td>1.232909e+04</td>\n",
       "      <td>1.232909e+05</td>\n",
       "      <td>2.329094e+04</td>\n",
       "    </tr>\n",
       "    <tr>\n",
       "      <th>...</th>\n",
       "      <td>...</td>\n",
       "      <td>...</td>\n",
       "      <td>...</td>\n",
       "      <td>...</td>\n",
       "    </tr>\n",
       "    <tr>\n",
       "      <th>999995</th>\n",
       "      <td>9999.95</td>\n",
       "      <td>9.999950e+08</td>\n",
       "      <td>9.999950e+09</td>\n",
       "      <td>9.999850e+09</td>\n",
       "    </tr>\n",
       "    <tr>\n",
       "      <th>999996</th>\n",
       "      <td>9999.96</td>\n",
       "      <td>9.999960e+08</td>\n",
       "      <td>9.999960e+09</td>\n",
       "      <td>9.999860e+09</td>\n",
       "    </tr>\n",
       "    <tr>\n",
       "      <th>999997</th>\n",
       "      <td>9999.97</td>\n",
       "      <td>9.999970e+08</td>\n",
       "      <td>9.999970e+09</td>\n",
       "      <td>9.999870e+09</td>\n",
       "    </tr>\n",
       "    <tr>\n",
       "      <th>999998</th>\n",
       "      <td>9999.98</td>\n",
       "      <td>9.999980e+08</td>\n",
       "      <td>9.999980e+09</td>\n",
       "      <td>9.999880e+09</td>\n",
       "    </tr>\n",
       "    <tr>\n",
       "      <th>999999</th>\n",
       "      <td>9999.99</td>\n",
       "      <td>9.999990e+08</td>\n",
       "      <td>9.999990e+09</td>\n",
       "      <td>9.999890e+09</td>\n",
       "    </tr>\n",
       "  </tbody>\n",
       "</table>\n",
       "<p>1000000 rows × 4 columns</p>\n",
       "</div>"
      ],
      "text/plain": [
       "        Interés  Pago mensual  Total pagado  Total intereses pagados\n",
       "0          0.00  1.000000e+04  1.000000e+05             0.000000e+00\n",
       "1          0.01  1.055821e+04  1.055821e+05             5.582080e+03\n",
       "2          0.02  1.113265e+04  1.113265e+05             1.132653e+04\n",
       "3          0.03  1.172305e+04  1.172305e+05             1.723051e+04\n",
       "4          0.04  1.232909e+04  1.232909e+05             2.329094e+04\n",
       "...         ...           ...           ...                      ...\n",
       "999995  9999.95  9.999950e+08  9.999950e+09             9.999850e+09\n",
       "999996  9999.96  9.999960e+08  9.999960e+09             9.999860e+09\n",
       "999997  9999.97  9.999970e+08  9.999970e+09             9.999870e+09\n",
       "999998  9999.98  9.999980e+08  9.999980e+09             9.999880e+09\n",
       "999999  9999.99  9.999990e+08  9.999990e+09             9.999890e+09\n",
       "\n",
       "[1000000 rows x 4 columns]"
      ]
     },
     "execution_count": 5,
     "metadata": {},
     "output_type": "execute_result"
    }
   ],
   "source": [
    "round(Prestamos, 2)"
   ]
  },
  {
   "cell_type": "markdown",
   "metadata": {},
   "source": [
    "*Realmente esta tabla no tiene mucho sentido, porque al calcular tantos datos las cifras disminuyen hasta el punto de ser ilegibles, pero nos muestra que en un tiempo muy pequeño, apenas segundos, ha calculado los pagos para 1.000.000 de tipos de interés distintos, el total que vamos a abonar, y el total de los intereses, mostrandonos un tabla, todo ello calculado para un préstamo francés, pero podríamos realizarlo con cualquier otro tipo de préstamo.*\n",
    "\n",
    "*Vamos ahora a realizar menos calculos, nos vamos a quedar con 100, y ver cómo rápidamente podemos tomar una decisión*\n",
    "\n",
    "*Creamos los valores para nuestro interés, desde 0% al 100%, con una variación de 0.01*\n",
    "\n",
    "*Nuestro préstamo será de 100.000 euros, a devolver en 10 años, cuotas anuales, calculadas mediante préstamo francés, amortizables al final del periodo*"
   ]
  },
  {
   "cell_type": "code",
   "execution_count": 6,
   "metadata": {},
   "outputs": [],
   "source": [
    "rate = np.arange(0,0.1,0.001)\n",
    "\n",
    "pago = []\n",
    "total = []\n",
    "total_inter = []\n",
    "\n",
    "\n",
    "\n",
    "a = npf.pmt(rate=rate, nper=10, pv=-100000, fv=0, when='end')\n",
    "pago.extend(a)  #Observese que aquí utilizamos extend, para lograr que nuestra lista pago tenga 100 elementos, de manera que luego podamos construir un Dataframe\n",
    "\n",
    "\n",
    "for i in pago:\n",
    "    b = i*10\n",
    "    total.append(b)\n",
    "    \n",
    "for i in total:\n",
    "    c = i-100000\n",
    "    total_inter.append(c)"
   ]
  },
  {
   "cell_type": "code",
   "execution_count": 7,
   "metadata": {},
   "outputs": [],
   "source": [
    "Prestamos2 = pd.DataFrame(\n",
    "   ...:     {\n",
    "   ...:         \"Interés\": rate,\n",
    "   ...:         \"Pago mensual\": pago,\n",
    "   ...:         \"Total pagado\": total,\n",
    "   ...:         \"Total intereses pagados\":total_inter,\n",
    "   ...:         \n",
    "   ...:     }\n",
    "   ...: )\n",
    "   ...: "
   ]
  },
  {
   "cell_type": "code",
   "execution_count": 8,
   "metadata": {},
   "outputs": [
    {
     "data": {
      "text/html": [
       "<div>\n",
       "<style scoped>\n",
       "    .dataframe tbody tr th:only-of-type {\n",
       "        vertical-align: middle;\n",
       "    }\n",
       "\n",
       "    .dataframe tbody tr th {\n",
       "        vertical-align: top;\n",
       "    }\n",
       "\n",
       "    .dataframe thead th {\n",
       "        text-align: right;\n",
       "    }\n",
       "</style>\n",
       "<table border=\"1\" class=\"dataframe\">\n",
       "  <thead>\n",
       "    <tr style=\"text-align: right;\">\n",
       "      <th></th>\n",
       "      <th>Interés</th>\n",
       "      <th>Pago mensual</th>\n",
       "      <th>Total pagado</th>\n",
       "      <th>Total intereses pagados</th>\n",
       "    </tr>\n",
       "  </thead>\n",
       "  <tbody>\n",
       "    <tr>\n",
       "      <th>count</th>\n",
       "      <td>100.00</td>\n",
       "      <td>100.00</td>\n",
       "      <td>100.00</td>\n",
       "      <td>100.00</td>\n",
       "    </tr>\n",
       "    <tr>\n",
       "      <th>mean</th>\n",
       "      <td>0.05</td>\n",
       "      <td>12981.42</td>\n",
       "      <td>129814.21</td>\n",
       "      <td>29814.21</td>\n",
       "    </tr>\n",
       "    <tr>\n",
       "      <th>std</th>\n",
       "      <td>0.03</td>\n",
       "      <td>1820.72</td>\n",
       "      <td>18207.16</td>\n",
       "      <td>18207.16</td>\n",
       "    </tr>\n",
       "    <tr>\n",
       "      <th>min</th>\n",
       "      <td>0.00</td>\n",
       "      <td>10000.00</td>\n",
       "      <td>100000.00</td>\n",
       "      <td>0.00</td>\n",
       "    </tr>\n",
       "    <tr>\n",
       "      <th>25%</th>\n",
       "      <td>0.02</td>\n",
       "      <td>11411.14</td>\n",
       "      <td>114111.36</td>\n",
       "      <td>14111.36</td>\n",
       "    </tr>\n",
       "    <tr>\n",
       "      <th>50%</th>\n",
       "      <td>0.05</td>\n",
       "      <td>12919.05</td>\n",
       "      <td>129190.49</td>\n",
       "      <td>29190.49</td>\n",
       "    </tr>\n",
       "    <tr>\n",
       "      <th>75%</th>\n",
       "      <td>0.07</td>\n",
       "      <td>14518.75</td>\n",
       "      <td>145187.54</td>\n",
       "      <td>45187.54</td>\n",
       "    </tr>\n",
       "    <tr>\n",
       "      <th>max</th>\n",
       "      <td>0.10</td>\n",
       "      <td>16204.69</td>\n",
       "      <td>162046.92</td>\n",
       "      <td>62046.92</td>\n",
       "    </tr>\n",
       "  </tbody>\n",
       "</table>\n",
       "</div>"
      ],
      "text/plain": [
       "       Interés  Pago mensual  Total pagado  Total intereses pagados\n",
       "count   100.00        100.00        100.00                   100.00\n",
       "mean      0.05      12981.42     129814.21                 29814.21\n",
       "std       0.03       1820.72      18207.16                 18207.16\n",
       "min       0.00      10000.00     100000.00                     0.00\n",
       "25%       0.02      11411.14     114111.36                 14111.36\n",
       "50%       0.05      12919.05     129190.49                 29190.49\n",
       "75%       0.07      14518.75     145187.54                 45187.54\n",
       "max       0.10      16204.69     162046.92                 62046.92"
      ]
     },
     "execution_count": 8,
     "metadata": {},
     "output_type": "execute_result"
    }
   ],
   "source": [
    "round(Prestamos2.describe(),2)"
   ]
  },
  {
   "cell_type": "markdown",
   "metadata": {},
   "source": [
    "*Para estos 100 cálculos que hemos realizado, sabemos que su media, evidentemente se encuentra en 5%, siendo su desviación estandar de 0.03*\n",
    "\n",
    "*La cuota mínima que podemos realizar, en el caso de no pagar ningún tipo de interés, es de 10.000 euros anuales, y la cuota máxima sería de 16.204 euros anuales, en caso de pagar 10% de interés.*\n"
   ]
  },
  {
   "cell_type": "markdown",
   "metadata": {},
   "source": [
    "*La duda que nos suele surgir a la hora de solicitar un préstamo siempre es el plazo de devolución, y cómo nos afecta a la hora de pagar más o menos intereses. Aquí tenemos un ejemplo, en este caso es un préstamo de 1.000.000 de euros, a un 5% que podemos devolver hasta en 35 años, mediante cuotas mensuales.*"
   ]
  },
  {
   "cell_type": "code",
   "execution_count": 10,
   "metadata": {},
   "outputs": [
    {
     "name": "stdout",
     "output_type": "stream",
     "text": [
      "Introduzca el tiempo que quiere estudiar: 10\n",
      "Introduzca el importe del prestamo: 10000\n",
      "Introduzca el tipo de interés (8% = 0.08): 0.07\n",
      "Introduzca 0 si amortiza al final, 1 si amortiza al principio: 0\n"
     ]
    }
   ],
   "source": [
    "t = int(input(\"Introduzca el tiempo que quiere estudiar: \"))\n",
    "pv = float(input(\"Introduzca el importe del prestamo: \"))\n",
    "rate = float(input(\"Introduzca el tipo de interés (8% = 0.08): \"))\n",
    "when = int(input(\"Introduzca 0 si amortiza al final, 1 si amortiza al principio: \"))\n",
    "m = 12\n",
    "\n",
    "\n",
    "nper = np.arange(1,t+1,1)\n",
    "\n",
    "pago = []\n",
    "total = []\n",
    "total_inter = []\n",
    "porct_pago = [0]\n",
    "\n",
    "\n",
    "\n",
    "\n",
    "a = npf.pmt(rate= rate/m, nper=nper*m, pv=-pv, fv=0, when=when)\n",
    "b = a*nper*m\n",
    "pago.extend(a)  #Observese que aquí utilizamos extend, para lograr que nuestra lista pago tenga 100 elementos, de manera que luego podamos construir un Dataframe\n",
    "total.extend(b)\n",
    "n = 1\n",
    "    \n",
    "for i in total:\n",
    "    c = i-pv\n",
    "    total_inter.append(c)\n",
    "    \n",
    "for i in pago:\n",
    "    d =pago[n-1]\n",
    "    e = pago[n]\n",
    "    f = ((e-d)/d)*100\n",
    "    porct_pago.append(f)\n",
    "    n +=1\n",
    "    if n == len(nper):\n",
    "        break\n",
    "        \n",
    "portct_inter = [0]\n",
    "l = 1\n",
    "for i in total_inter:\n",
    "    g = total_inter[l-1]\n",
    "    h = total_inter[l]\n",
    "    i = ((h-g)/h)*100\n",
    "    portct_inter.append(i)\n",
    "    l +=1\n",
    "    if l == len(nper):\n",
    "        break"
   ]
  },
  {
   "cell_type": "code",
   "execution_count": 11,
   "metadata": {},
   "outputs": [],
   "source": [
    "Prestamos3 = pd.DataFrame(\n",
    "   ...:     {\n",
    "   ...:         \"Nº de cuotas\": nper*12,\n",
    "   ...:         \"Cuota Mensual\": pago,\n",
    "   ...:         \"Total pagado\": total,\n",
    "   ...:         \"Total intereses pagados\":total_inter,\n",
    "   ...:         \"Variación cuota %\": porct_pago,\n",
    "   ...:         \"Variación inter %\": portct_inter,\n",
    "   ...:     }\n",
    "   ...: )\n",
    "   ...: "
   ]
  },
  {
   "cell_type": "code",
   "execution_count": 12,
   "metadata": {},
   "outputs": [
    {
     "data": {
      "text/html": [
       "<div>\n",
       "<style scoped>\n",
       "    .dataframe tbody tr th:only-of-type {\n",
       "        vertical-align: middle;\n",
       "    }\n",
       "\n",
       "    .dataframe tbody tr th {\n",
       "        vertical-align: top;\n",
       "    }\n",
       "\n",
       "    .dataframe thead th {\n",
       "        text-align: right;\n",
       "    }\n",
       "</style>\n",
       "<table border=\"1\" class=\"dataframe\">\n",
       "  <thead>\n",
       "    <tr style=\"text-align: right;\">\n",
       "      <th></th>\n",
       "      <th>Nº de cuotas</th>\n",
       "      <th>Cuota Mensual</th>\n",
       "      <th>Total pagado</th>\n",
       "      <th>Total intereses pagados</th>\n",
       "      <th>Variación cuota %</th>\n",
       "      <th>Variación inter %</th>\n",
       "    </tr>\n",
       "  </thead>\n",
       "  <tbody>\n",
       "    <tr>\n",
       "      <th>0</th>\n",
       "      <td>12</td>\n",
       "      <td>865.27</td>\n",
       "      <td>10383.21</td>\n",
       "      <td>383.21</td>\n",
       "      <td>0.00</td>\n",
       "      <td>0.00</td>\n",
       "    </tr>\n",
       "    <tr>\n",
       "      <th>1</th>\n",
       "      <td>24</td>\n",
       "      <td>447.73</td>\n",
       "      <td>10745.42</td>\n",
       "      <td>745.42</td>\n",
       "      <td>-48.26</td>\n",
       "      <td>48.59</td>\n",
       "    </tr>\n",
       "    <tr>\n",
       "      <th>2</th>\n",
       "      <td>36</td>\n",
       "      <td>308.77</td>\n",
       "      <td>11115.75</td>\n",
       "      <td>1115.75</td>\n",
       "      <td>-31.04</td>\n",
       "      <td>33.19</td>\n",
       "    </tr>\n",
       "    <tr>\n",
       "      <th>3</th>\n",
       "      <td>48</td>\n",
       "      <td>239.46</td>\n",
       "      <td>11494.20</td>\n",
       "      <td>1494.20</td>\n",
       "      <td>-22.45</td>\n",
       "      <td>25.33</td>\n",
       "    </tr>\n",
       "    <tr>\n",
       "      <th>4</th>\n",
       "      <td>60</td>\n",
       "      <td>198.01</td>\n",
       "      <td>11880.72</td>\n",
       "      <td>1880.72</td>\n",
       "      <td>-17.31</td>\n",
       "      <td>20.55</td>\n",
       "    </tr>\n",
       "    <tr>\n",
       "      <th>5</th>\n",
       "      <td>72</td>\n",
       "      <td>170.49</td>\n",
       "      <td>12275.28</td>\n",
       "      <td>2275.28</td>\n",
       "      <td>-13.90</td>\n",
       "      <td>17.34</td>\n",
       "    </tr>\n",
       "    <tr>\n",
       "      <th>6</th>\n",
       "      <td>84</td>\n",
       "      <td>150.93</td>\n",
       "      <td>12677.85</td>\n",
       "      <td>2677.85</td>\n",
       "      <td>-11.47</td>\n",
       "      <td>15.03</td>\n",
       "    </tr>\n",
       "    <tr>\n",
       "      <th>7</th>\n",
       "      <td>96</td>\n",
       "      <td>136.34</td>\n",
       "      <td>13088.37</td>\n",
       "      <td>3088.37</td>\n",
       "      <td>-9.67</td>\n",
       "      <td>13.29</td>\n",
       "    </tr>\n",
       "    <tr>\n",
       "      <th>8</th>\n",
       "      <td>108</td>\n",
       "      <td>125.06</td>\n",
       "      <td>13506.78</td>\n",
       "      <td>3506.78</td>\n",
       "      <td>-8.27</td>\n",
       "      <td>11.93</td>\n",
       "    </tr>\n",
       "    <tr>\n",
       "      <th>9</th>\n",
       "      <td>120</td>\n",
       "      <td>116.11</td>\n",
       "      <td>13933.02</td>\n",
       "      <td>3933.02</td>\n",
       "      <td>-7.16</td>\n",
       "      <td>10.84</td>\n",
       "    </tr>\n",
       "  </tbody>\n",
       "</table>\n",
       "</div>"
      ],
      "text/plain": [
       "   Nº de cuotas  Cuota Mensual  Total pagado  Total intereses pagados  \\\n",
       "0            12         865.27      10383.21                   383.21   \n",
       "1            24         447.73      10745.42                   745.42   \n",
       "2            36         308.77      11115.75                  1115.75   \n",
       "3            48         239.46      11494.20                  1494.20   \n",
       "4            60         198.01      11880.72                  1880.72   \n",
       "5            72         170.49      12275.28                  2275.28   \n",
       "6            84         150.93      12677.85                  2677.85   \n",
       "7            96         136.34      13088.37                  3088.37   \n",
       "8           108         125.06      13506.78                  3506.78   \n",
       "9           120         116.11      13933.02                  3933.02   \n",
       "\n",
       "   Variación cuota %  Variación inter %  \n",
       "0               0.00               0.00  \n",
       "1             -48.26              48.59  \n",
       "2             -31.04              33.19  \n",
       "3             -22.45              25.33  \n",
       "4             -17.31              20.55  \n",
       "5             -13.90              17.34  \n",
       "6             -11.47              15.03  \n",
       "7              -9.67              13.29  \n",
       "8              -8.27              11.93  \n",
       "9              -7.16              10.84  "
      ]
     },
     "execution_count": 12,
     "metadata": {},
     "output_type": "execute_result"
    }
   ],
   "source": [
    "round(Prestamos3.head(35),2)"
   ]
  },
  {
   "cell_type": "markdown",
   "metadata": {},
   "source": [
    "*Si observamos los datos, vemos que si en vez de pagar nuestro préstamo en un año, lo pagamos en dos, nuestra cuota varia en un 17% (del primer año respecto al segundo), siendo de un 9%, bajando a 2% en el año 5, y por debajo 1% a partir del año 14.*"
   ]
  },
  {
   "cell_type": "markdown",
   "metadata": {},
   "source": [
    "*Podemos verlo mejor en la siguiente gráfica*"
   ]
  },
  {
   "cell_type": "code",
   "execution_count": 13,
   "metadata": {},
   "outputs": [],
   "source": [
    "import matplotlib.pyplot as plt"
   ]
  },
  {
   "cell_type": "code",
   "execution_count": 14,
   "metadata": {},
   "outputs": [],
   "source": [
    "plt.close(\"all\") #Cuando usamos pandas, y una gran cantidad de datos hay que poner este código porque de lo contrario sale una advertencia."
   ]
  },
  {
   "cell_type": "code",
   "execution_count": 26,
   "metadata": {},
   "outputs": [
    {
     "data": {
      "image/png": "[encoded data removed]",
      "text/plain": [
       "<Figure size 1440x864 with 1 Axes>"
      ]
     },
     "metadata": {
      "needs_background": "light"
     },
     "output_type": "display_data"
    }
   ],
   "source": [
    "figure =plt.figure(figsize = (20,12))\n",
    "plt.bar(nper, pago)\n",
    "plt.grid()\n",
    "plt.title(\"Evolución Intereses Totales\", fontsize = 16)\n",
    "plt.xlabel(\"Devolución en Años\", fontsize=12)\n",
    "plt.ylabel(\"Total intereses pagados\", fontsize = 12)\n",
    "plt.xticks(range(0,t+1,1))\n",
    "\n",
    "plt.show()\n",
    "plt.close(figure)"
   ]
  },
  {
   "cell_type": "markdown",
   "metadata": {},
   "source": [
    "*Si vemos la gráfica de la cuota, esta disminuye radicalmente hasta el 5 año aproximadamente, a partir de ese momento, la cuota disminuye paulatinamente. Si tenemos que tomar una decisión, los 5 primeros años presentan grandes diferencias, a partir del décimo, la diferencias son mucho menores.*"
   ]
  },
  {
   "cell_type": "code",
   "execution_count": 28,
   "metadata": {},
   "outputs": [
    {
     "data": {
      "image/png": "[encoded data removed]",
      "text/plain": [
       "<Figure size 1440x864 with 1 Axes>"
      ]
     },
     "metadata": {
      "needs_background": "light"
     },
     "output_type": "display_data"
    }
   ],
   "source": [
    "figure =plt.figure(figsize = (20,12))\n",
    "plt.bar(nper, total_inter)\n",
    "plt.grid()\n",
    "plt.title(\"Evolución Intereses Totales\", fontsize = 16)\n",
    "plt.xlabel(\"Devolución en Años\", fontsize=12)\n",
    "plt.ylabel(\"Total intereses pagados\", fontsize = 12)\n",
    "plt.xticks(range(0,t+1,1))\n",
    "\n",
    "plt.show()\n",
    "plt.close(figure)"
   ]
  },
  {
   "cell_type": "code",
   "execution_count": 27,
   "metadata": {},
   "outputs": [
    {
     "data": {
      "image/png": "[encoded data removed]",
      "text/plain": [
       "<Figure size 576x288 with 1 Axes>"
      ]
     },
     "metadata": {
      "needs_background": "light"
     },
     "output_type": "display_data"
    }
   ],
   "source": [
    "figure =plt.figure(figsize = (8,4))\n",
    "#plt.bar(nper, pago)\n",
    "plt.bar(nper, pago, label = 'Cuota', color='blue')\n",
    "plt.bar(nper, total_inter, bottom= pago, label='Intereses', color= 'pink')\n",
    "plt.grid()\n",
    "plt.legend(fontsize = 10)\n",
    "plt.title(\"Evolucion cuotas anuales\", fontsize = 15)\n",
    "plt.xlabel(\"Devolución en Años\", fontsize=12)\n",
    "plt.ylabel(\"Cuota mensual/Total intereses pagados\", fontsize = 12)\n",
    "plt.xticks(range(0,t+1,1))\n",
    "plt.show()\n",
    "plt.close(figure)"
   ]
  },
  {
   "cell_type": "markdown",
   "metadata": {},
   "source": [
    "*Mediante la función describe, podemos obtener rápidamente los datos estadisticos resumidos de nuestro DataFrame*"
   ]
  },
  {
   "cell_type": "code",
   "execution_count": 39,
   "metadata": {},
   "outputs": [
    {
     "data": {
      "text/html": [
       "<div>\n",
       "<style scoped>\n",
       "    .dataframe tbody tr th:only-of-type {\n",
       "        vertical-align: middle;\n",
       "    }\n",
       "\n",
       "    .dataframe tbody tr th {\n",
       "        vertical-align: top;\n",
       "    }\n",
       "\n",
       "    .dataframe thead th {\n",
       "        text-align: right;\n",
       "    }\n",
       "</style>\n",
       "<table border=\"1\" class=\"dataframe\">\n",
       "  <thead>\n",
       "    <tr style=\"text-align: right;\">\n",
       "      <th></th>\n",
       "      <th>Nº de cuotas</th>\n",
       "      <th>Cuota Mensual</th>\n",
       "      <th>Total pagado</th>\n",
       "      <th>Total intereses pagados</th>\n",
       "      <th>Variación cuota %</th>\n",
       "      <th>Variación inter %</th>\n",
       "    </tr>\n",
       "  </thead>\n",
       "  <tbody>\n",
       "    <tr>\n",
       "      <th>count</th>\n",
       "      <td>35.00</td>\n",
       "      <td>35.00</td>\n",
       "      <td>35.00</td>\n",
       "      <td>35.00</td>\n",
       "      <td>35.00</td>\n",
       "      <td>35.00</td>\n",
       "    </tr>\n",
       "    <tr>\n",
       "      <th>mean</th>\n",
       "      <td>216.00</td>\n",
       "      <td>12.28</td>\n",
       "      <td>1538.01</td>\n",
       "      <td>538.01</td>\n",
       "      <td>-7.11</td>\n",
       "      <td>9.45</td>\n",
       "    </tr>\n",
       "    <tr>\n",
       "      <th>std</th>\n",
       "      <td>122.96</td>\n",
       "      <td>15.09</td>\n",
       "      <td>330.29</td>\n",
       "      <td>330.29</td>\n",
       "      <td>9.96</td>\n",
       "      <td>9.56</td>\n",
       "    </tr>\n",
       "    <tr>\n",
       "      <th>min</th>\n",
       "      <td>12.00</td>\n",
       "      <td>5.05</td>\n",
       "      <td>1027.29</td>\n",
       "      <td>27.29</td>\n",
       "      <td>-48.75</td>\n",
       "      <td>0.00</td>\n",
       "    </tr>\n",
       "    <tr>\n",
       "      <th>25%</th>\n",
       "      <td>114.00</td>\n",
       "      <td>5.68</td>\n",
       "      <td>1258.33</td>\n",
       "      <td>258.33</td>\n",
       "      <td>-7.45</td>\n",
       "      <td>4.23</td>\n",
       "    </tr>\n",
       "    <tr>\n",
       "      <th>50%</th>\n",
       "      <td>216.00</td>\n",
       "      <td>7.03</td>\n",
       "      <td>1518.55</td>\n",
       "      <td>518.55</td>\n",
       "      <td>-3.24</td>\n",
       "      <td>5.89</td>\n",
       "    </tr>\n",
       "    <tr>\n",
       "      <th>75%</th>\n",
       "      <td>318.00</td>\n",
       "      <td>11.06</td>\n",
       "      <td>1806.54</td>\n",
       "      <td>806.54</td>\n",
       "      <td>-1.74</td>\n",
       "      <td>10.15</td>\n",
       "    </tr>\n",
       "    <tr>\n",
       "      <th>max</th>\n",
       "      <td>420.00</td>\n",
       "      <td>85.61</td>\n",
       "      <td>2119.69</td>\n",
       "      <td>1119.69</td>\n",
       "      <td>0.00</td>\n",
       "      <td>48.43</td>\n",
       "    </tr>\n",
       "  </tbody>\n",
       "</table>\n",
       "</div>"
      ],
      "text/plain": [
       "       Nº de cuotas  Cuota Mensual  Total pagado  Total intereses pagados  \\\n",
       "count         35.00          35.00         35.00                    35.00   \n",
       "mean         216.00          12.28       1538.01                   538.01   \n",
       "std          122.96          15.09        330.29                   330.29   \n",
       "min           12.00           5.05       1027.29                    27.29   \n",
       "25%          114.00           5.68       1258.33                   258.33   \n",
       "50%          216.00           7.03       1518.55                   518.55   \n",
       "75%          318.00          11.06       1806.54                   806.54   \n",
       "max          420.00          85.61       2119.69                  1119.69   \n",
       "\n",
       "       Variación cuota %  Variación inter %  \n",
       "count              35.00              35.00  \n",
       "mean               -7.11               9.45  \n",
       "std                 9.96               9.56  \n",
       "min               -48.75               0.00  \n",
       "25%                -7.45               4.23  \n",
       "50%                -3.24               5.89  \n",
       "75%                -1.74              10.15  \n",
       "max                 0.00              48.43  "
      ]
     },
     "execution_count": 39,
     "metadata": {},
     "output_type": "execute_result"
    }
   ],
   "source": [
    "round(Prestamos3.describe(),2)"
   ]
  },
  {
   "cell_type": "markdown",
   "metadata": {},
   "source": [
    "*Mediante esta función podemos crear un archivo de Excel con nuestros datos, que se guardará donde estemos trabajando con Python*"
   ]
  },
  {
   "cell_type": "code",
   "execution_count": 41,
   "metadata": {},
   "outputs": [],
   "source": [
    "Prestamos3.to_excel(\"Prestamo.xlsx\", sheet_name=\"Sheet1\")"
   ]
  },
  {
   "cell_type": "code",
   "execution_count": null,
   "metadata": {},
   "outputs": [],
   "source": []
  }
 ],
 "metadata": {
  "kernelspec": {
   "display_name": "Python 3",
   "language": "python",
   "name": "python3"
  },
  "language_info": {
   "codemirror_mode": {
    "name": "ipython",
    "version": 3
   },
   "file_extension": ".py",
   "mimetype": "text/x-python",
   "name": "python",
   "nbconvert_exporter": "python",
   "pygments_lexer": "ipython3",
   "version": "3.8.5"
  }
 },
 "nbformat": 4,
 "nbformat_minor": 4
}
