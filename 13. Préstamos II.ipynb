{
 "cells": [
  {
   "cell_type": "markdown",
   "metadata": {},
   "source": [
    "**Préstamos II**\n",
    "\n",
    "*Ya hemos visto la teoría acerca de los préstamos, ahora, lo que debemos construir es una función que nos permita calcular las cuotas, intereses y demás datos de nuestro préstamo para poder realizar comparaciones. Incluso comprobar un préstamo teniendo en cuenta distintas variables, así por ejemplo, si vamos a solicitar un hipoteca, teniendo en cuenta las distintas condiciones que nos van a ofrecer, poder hacer una simulación rápida, que nos permita decidir que banco o producto se adapta mejor a nuestras necesidades*"
   ]
  },
  {
   "cell_type": "markdown",
   "metadata": {},
   "source": [
    "*Hemos construido una función, que tiene en cuenta si el préstamo es francés, americano o italiano. Además, se ha tenido en cuenta si es mensual o anual, para lo que hay que tener en cuenta que dos tipos de meses, por un lado los que pasan el interés a mensual, y por otro lado, los que marcan el periodo. Pero aún faltan más consideraciones, que vamos a intentar solucionar en el siguiente archivo*"
   ]
  },
  {
   "cell_type": "code",
   "execution_count": 7,
   "metadata": {},
   "outputs": [
    {
     "name": "stdout",
     "output_type": "stream",
     "text": [
      "Requirement already satisfied: numpy-financial in c:\\users\\lenovo\\anaconda3\\lib\\site-packages (1.0.0)Note: you may need to restart the kernel to use updated packages.\n",
      "Requirement already satisfied: numpy>=1.15 in c:\\users\\lenovo\\anaconda3\\lib\\site-packages (from numpy-financial) (1.19.2)\n",
      "\n"
     ]
    }
   ],
   "source": [
    "pip install numpy-financial"
   ]
  },
  {
   "cell_type": "code",
   "execution_count": 1,
   "metadata": {},
   "outputs": [
    {
     "name": "stdout",
     "output_type": "stream",
     "text": [
      "Requirement already satisfied: tabulate in c:\\users\\lenovo\\anaconda3\\lib\\site-packages (0.8.9)\n",
      "Note: you may need to restart the kernel to use updated packages.\n"
     ]
    }
   ],
   "source": [
    "pip install tabulate"
   ]
  },
  {
   "cell_type": "code",
   "execution_count": 2,
   "metadata": {},
   "outputs": [],
   "source": [
    "import numpy_financial as npf\n",
    "import numpy as np\n",
    "import tabulate as tab"
   ]
  },
  {
   "cell_type": "code",
   "execution_count": 3,
   "metadata": {},
   "outputs": [],
   "source": [
    "def PFrances(Capital, tasa, años='', meses = ''):\n",
    "    if not años:\n",
    "        años = 1\n",
    "        meses = meses\n",
    "        meses1 = 12\n",
    "    elif años == 0:\n",
    "        años = 1\n",
    "        meses = meses\n",
    "        meses1 = 12\n",
    "    elif not meses:\n",
    "        meses = 1\n",
    "        meses1 = 1\n",
    "    elif meses == 0:\n",
    "        meses = 1\n",
    "        meses1 = 1\n",
    "    else:\n",
    "        meses = 12\n",
    "        meses1 = 12\n",
    "    \n",
    "    datos = []\n",
    "    saldo = Capital\n",
    "    saldo2= 0\n",
    "    linea1 = [0,0,0,0,Capital,0]\n",
    "    datos.append(linea1)\n",
    "    \n",
    "    Anualidad = npf.pmt(rate=tasa/meses1, nper=años*meses, pv=-Capital, fv=0, when='end')\n",
    "    \n",
    "    for i in range(1, (años*meses)+1):\n",
    "        pago_capital = npf.ppmt(rate=tasa/meses1, per=i, nper=años*meses, pv=-Capital, fv=0, when='end')\n",
    "        pago_int = Anualidad - pago_capital\n",
    "        saldo -= pago_capital\n",
    "        saldo2 += pago_capital\n",
    "    \n",
    "        linea = [i, format(Anualidad, '.0f'),  format(pago_int, '.0f'), format(pago_capital, '.0f'),\n",
    "                 format(saldo, '.0f'), format(saldo2, '.0f')]\n",
    "        datos.append(linea)\n",
    "    \n",
    "    return print(tab.tabulate(datos, headers= ['Periodo', 'Cuota a pagar', \n",
    "                                               'Intereses', 'Amortización','Capital Vivo','Capital Amortizado'], \n",
    "                              tablefmt = 'psql'))\n",
    "    "
   ]
  },
  {
   "cell_type": "code",
   "execution_count": 4,
   "metadata": {},
   "outputs": [
    {
     "name": "stdout",
     "output_type": "stream",
     "text": [
      "+-----------+-----------------+-------------+----------------+----------------+----------------------+\n",
      "|   Periodo |   Cuota a pagar |   Intereses |   Amortización |   Capital Vivo |   Capital Amortizado |\n",
      "|-----------+-----------------+-------------+----------------+----------------+----------------------|\n",
      "|         0 |               0 |           0 |              0 |         100000 |                    0 |\n",
      "|         1 |           10417 |         750 |           9667 |          90333 |                 9667 |\n",
      "|         2 |           10417 |         677 |           9740 |          80593 |                19407 |\n",
      "|         3 |           10417 |         604 |           9813 |          70781 |                29219 |\n",
      "|         4 |           10417 |         531 |           9886 |          60894 |                39106 |\n",
      "|         5 |           10417 |         457 |           9960 |          50934 |                49066 |\n",
      "|         6 |           10417 |         382 |          10035 |          40899 |                59101 |\n",
      "|         7 |           10417 |         307 |          10110 |          30788 |                69212 |\n",
      "|         8 |           10417 |         231 |          10186 |          20602 |                79398 |\n",
      "|         9 |           10417 |         155 |          10263 |          10340 |                89660 |\n",
      "|        10 |           10417 |          78 |          10340 |              0 |               100000 |\n",
      "+-----------+-----------------+-------------+----------------+----------------+----------------------+\n"
     ]
    }
   ],
   "source": [
    "PFrances(100000, 0.09, 0, 10)"
   ]
  },
  {
   "cell_type": "code",
   "execution_count": 5,
   "metadata": {},
   "outputs": [],
   "source": [
    "def PAmericano(Capital, tasa, años='', meses = ''):\n",
    "    if not años:\n",
    "        años = 1\n",
    "        meses = meses\n",
    "        meses1 = 12\n",
    "    elif años == 0:\n",
    "        años = 1\n",
    "        meses = meses\n",
    "        meses1 = 12\n",
    "    elif not meses:\n",
    "        meses = 1\n",
    "        meses1 = 1\n",
    "    elif meses == 0:\n",
    "        meses = 1\n",
    "        meses1 = 1\n",
    "    else:\n",
    "        meses = 12\n",
    "        meses1 = 12\n",
    "    datos = []\n",
    "    saldo = Capital\n",
    "    saldo2 = 0\n",
    "    linea1 = [0,0,0,0,Capital,0]\n",
    "    datos.append(linea1)\n",
    "\n",
    "    Anualidad = Capital*(tasa/meses1)\n",
    "\n",
    "    for i in range(1, (años*meses)+1):\n",
    "        pago_capital = 0\n",
    "        pago_int = Anualidad\n",
    "        saldo2 += 0\n",
    "        \n",
    "        linea = [i, format(Anualidad, '.0f'),  format(pago_int, '.0f'), format(pago_capital, '.0f'), format(saldo, '.0f'), format(saldo2, '.0f')]\n",
    "        datos.append(linea)\n",
    "    \n",
    "    datos[-1] = [años*meses,Anualidad+Capital,Anualidad,Capital,0,Capital]\n",
    "    \n",
    "    \n",
    "    return print(tab.tabulate(datos, headers= ['Periodo', 'Cuota a pagar', 'Intereses', 'Amortización','Capital Vivo','Capital Amortizado'], tablefmt = 'psql'))"
   ]
  },
  {
   "cell_type": "code",
   "execution_count": 6,
   "metadata": {},
   "outputs": [
    {
     "name": "stdout",
     "output_type": "stream",
     "text": [
      "+-----------+-----------------+-------------+----------------+----------------+----------------------+\n",
      "|   Periodo |   Cuota a pagar |   Intereses |   Amortización |   Capital Vivo |   Capital Amortizado |\n",
      "|-----------+-----------------+-------------+----------------+----------------+----------------------|\n",
      "|         0 |               0 |           0 |              0 |         100000 |                    0 |\n",
      "|         1 |            5000 |        5000 |              0 |         100000 |                    0 |\n",
      "|         2 |          105000 |        5000 |         100000 |              0 |               100000 |\n",
      "+-----------+-----------------+-------------+----------------+----------------+----------------------+\n"
     ]
    }
   ],
   "source": [
    "PAmericano(100000, 0.05, 2, 0)"
   ]
  },
  {
   "cell_type": "code",
   "execution_count": 7,
   "metadata": {},
   "outputs": [],
   "source": [
    "def PItaliano(Capital, tasa, años = '', meses = ''):\n",
    "    if not años:\n",
    "        años = 1\n",
    "        meses = meses\n",
    "        meses1 = 12\n",
    "    elif años == 0:\n",
    "        años = 1\n",
    "        meses = meses\n",
    "        meses1 = 12\n",
    "    elif not meses:\n",
    "        meses = 1\n",
    "        meses1 = 1\n",
    "    elif meses == 0:\n",
    "        meses = 1\n",
    "        meses1 = 1\n",
    "    else:\n",
    "        meses = 12\n",
    "        meses1 = 12\n",
    "    datos =[]\n",
    "    saldo = Capital\n",
    "    saldo2 = 0\n",
    "    linea1 = [0,0,0,0,Capital,0]\n",
    "    datos.append(linea1)\n",
    "\n",
    "    for i in range(1, (años*meses)+1):\n",
    "        pago_capital = Capital/(años*meses)\n",
    "        pago_int = saldo*(tasa/meses1)\n",
    "        saldo -= pago_capital\n",
    "        saldo2 += pago_capital\n",
    "        Anualidad = pago_capital + pago_int\n",
    "        linea = [i, format(Anualidad, '.0f'),  format(pago_int, '.0f'), format(pago_capital, '.0f'), format(saldo, '.0f'), format(saldo2, '.0f')]\n",
    "        datos.append(linea)\n",
    "    \n",
    "    return print(tab.tabulate(datos, headers= ['Periodo', 'Cuota a pagar', 'Intereses', 'Amortización','Capital Vivo','Capital Amortizado'], tablefmt = 'psql'))"
   ]
  },
  {
   "cell_type": "code",
   "execution_count": 8,
   "metadata": {},
   "outputs": [
    {
     "name": "stdout",
     "output_type": "stream",
     "text": [
      "+-----------+-----------------+-------------+----------------+----------------+----------------------+\n",
      "|   Periodo |   Cuota a pagar |   Intereses |   Amortización |   Capital Vivo |   Capital Amortizado |\n",
      "|-----------+-----------------+-------------+----------------+----------------+----------------------|\n",
      "|         0 |               0 |           0 |              0 |          10000 |                    0 |\n",
      "|         1 |            3358 |          25 |           3333 |           6667 |                 3333 |\n",
      "|         2 |            3350 |          17 |           3333 |           3333 |                 6667 |\n",
      "|         3 |            3342 |           8 |           3333 |             -0 |                10000 |\n",
      "+-----------+-----------------+-------------+----------------+----------------+----------------------+\n"
     ]
    }
   ],
   "source": [
    "PItaliano(10000, 0.03, 0, 3)"
   ]
  },
  {
   "cell_type": "code",
   "execution_count": 9,
   "metadata": {},
   "outputs": [
    {
     "name": "stdout",
     "output_type": "stream",
     "text": [
      "Importe del Préstamo: 100000\n",
      "Tipo de interés del Préstamo (Ej. 8% = 0.08): 0.07\n",
      "Periodo del Préstamo (años): 5\n",
      "Introduzca 0 para prestamos anuales o 1 para prestamos mensuales0\n",
      "Tipo de Préstamo (Francés, Americano, Italiano): f\n",
      "+-----------+-----------------+-------------+----------------+----------------+----------------------+\n",
      "|   Periodo |   Cuota a pagar |   Intereses |   Amortización |   Capital Vivo |   Capital Amortizado |\n",
      "|-----------+-----------------+-------------+----------------+----------------+----------------------|\n",
      "|         0 |               0 |           0 |              0 |         100000 |                    0 |\n",
      "|         1 |           24389 |        7000 |          17389 |          82611 |                17389 |\n",
      "|         2 |           24389 |        5783 |          18606 |          64005 |                35995 |\n",
      "|         3 |           24389 |        4480 |          19909 |          44096 |                55904 |\n",
      "|         4 |           24389 |        3087 |          21302 |          22794 |                77206 |\n",
      "|         5 |           24389 |        1596 |          22794 |              0 |               100000 |\n",
      "+-----------+-----------------+-------------+----------------+----------------+----------------------+\n"
     ]
    }
   ],
   "source": [
    "Capital = float(input(\"Importe del Préstamo: \"))\n",
    "tasa = float(input(\"Tipo de interés del Préstamo (Ej. 8% = 0.08): \"))\n",
    "años = int(input(\"Periodo del Préstamo (años): \"))\n",
    "meses = int(input(\"Introduzca 0 para prestamos anuales o 1 para prestamos mensuales\"))\n",
    "tipo = input(\"Tipo de Préstamo (Francés, Americano, Italiano): \").lower()\n",
    "\n",
    "frances = ['frances', 'f']\n",
    "americano = ['americano', 'a']\n",
    "italiano = ['italiano', 'i']\n",
    "\n",
    "if tipo in frances:\n",
    "    PFrances(Capital, tasa, años, meses)\n",
    "    \n",
    "elif tipo in americano:\n",
    "    PAmericano(Capital, tasa, años, meses)\n",
    "\n",
    "elif tipo in italiano:\n",
    "    PItaliano(Capital, tasa, años, meses)\n",
    "    \n",
    "    "
   ]
  }
 ],
 "metadata": {
  "kernelspec": {
   "display_name": "Python 3",
   "language": "python",
   "name": "python3"
  },
  "language_info": {
   "codemirror_mode": {
    "name": "ipython",
    "version": 3
   },
   "file_extension": ".py",
   "mimetype": "text/x-python",
   "name": "python",
   "nbconvert_exporter": "python",
   "pygments_lexer": "ipython3",
   "version": "3.8.5"
  }
 },
 "nbformat": 4,
 "nbformat_minor": 4
}
