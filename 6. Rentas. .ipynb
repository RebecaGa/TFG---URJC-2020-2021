{
 "cells": [
  {
   "cell_type": "markdown",
   "metadata": {},
   "source": [
    "# **RENTAS**\n",
    "\n",
    "*Ya hemos hecho una primera aproximación a las rentas al ver cómo funciona la librería de Numpy Financial, pero en este apartado vamos a profundizar más en la teoría de las Rentas, ver su clasificación y documentarlo mediante ejemplos prácticos*"
   ]
  },
  {
   "cell_type": "markdown",
   "metadata": {},
   "source": [
    "**Clasificación de las Rentas**\n",
    "\n",
    ">**Primera Clasificación**\n",
    "\n",
    "*Rentas discretas: en las que las cuantías vencen en un momento concreto*\n",
    "\n",
    "*Rentas continuas: trabajan con una distribución de cuantía. Normalmente son rentas teóricas que encontramos en libros de Finanzas*\n",
    "\n",
    ">**Segunda Clasificación**\n",
    "\n",
    "*Rentas de cuantía constante: su cuantía no varia, siempre es la misma*\n",
    "    \n",
    "    -Rentas Unitarias: aquellas cuya cuantía es de 1 €\n",
    "    \n",
    "*Rentas de cuantía variable: la renta no es constante*\n",
    "\n",
    "    -Rentas de progresión aritmética: la cuantía varía siguiendo una progresión aritmética.\n",
    "    -Rentas de progresión geométrica: la cuantía varía siguiendo una progresión geométrica.\n",
    "    \n",
    ">**Tercera Clasificación**\n",
    "\n",
    "*Rentas inmediatas: el instante de valoración está situado en el principio y final de la renta.*\n",
    "*Rentas diferidas: el punto de valoración es anterior al origen de la renta.*\n",
    "*Rentas anticipadas: el punto de valoración es posterior al origen de la renta.*\n",
    "\n",
    ">**Cuarta Clasificación**\n",
    "\n",
    "*Rentas temporales: su número de términos es finito.*\n",
    "*Rentas perpetuas: su número de términos tiende a infinito.*\n",
    "\n",
    ">**Quinta Clasificación**\n",
    "\n",
    "*Rentas prepagables: la cuantía vence al inicio del periodo.*\n",
    "*Rentas pospagables: la cuantía vence al final del periodo.*\n",
    "\n",
    "\n"
   ]
  },
  {
   "cell_type": "markdown",
   "metadata": {},
   "source": [
    "**Importamos liberías que nos permitirán ver algunos ejemplos**"
   ]
  },
  {
   "cell_type": "code",
   "execution_count": 1,
   "metadata": {},
   "outputs": [
    {
     "name": "stdout",
     "output_type": "stream",
     "text": [
      "Requirement already satisfied: numpy-financial in c:\\users\\lenovo\\anaconda3\\lib\\site-packages (1.0.0)\n",
      "Requirement already satisfied: numpy>=1.15 in c:\\users\\lenovo\\anaconda3\\lib\\site-packages (from numpy-financial) (1.19.2)\n",
      "Note: you may need to restart the kernel to use updated packages.\n"
     ]
    }
   ],
   "source": [
    "pip install numpy-financial"
   ]
  },
  {
   "cell_type": "code",
   "execution_count": 2,
   "metadata": {},
   "outputs": [],
   "source": [
    "import numpy_financial as npf"
   ]
  },
  {
   "cell_type": "markdown",
   "metadata": {},
   "source": [
    "**Vamos a comprobar distintos métodos de realizar cálculos con Rentas mediante algunos ejemplos**\n"
   ]
  },
  {
   "cell_type": "markdown",
   "metadata": {},
   "source": [
    "*1. Calcular el valor final de una renta de 120 términos mensuales, prepagables, constantes de 1.000 €, valorada al 7% efectivo anual.*"
   ]
  },
  {
   "cell_type": "code",
   "execution_count": 3,
   "metadata": {},
   "outputs": [
    {
     "name": "stdout",
     "output_type": "stream",
     "text": [
      "Resultado método 1: 172018.88 euros.\n",
      "Resultado método 2: 172018.88 euros\n"
     ]
    }
   ],
   "source": [
    "n = 120\n",
    "pmt = 1000\n",
    "i = 0.07\n",
    "m = 12\n",
    "im = (1+i)**(1/m)-1\n",
    "\n",
    "#Método 1. Mediante fórmula de fv\n",
    "\n",
    "fv = npf.fv(rate=im, nper=n, pmt=-pmt, pv=0, when='begin')\n",
    "print(\"Resultado método 1: {} euros.\".format(round(fv,2)))\n",
    "\n",
    "#Método 2. Mediante fórmula Cf = pmt*(1+im)*(1+im)^(n)-1/im\n",
    "\n",
    "Cf = pmt*(1+im)*((1+im)**n-1)/im\n",
    "print(\"Resultado método 2: {} euros\".format(round(Cf,2)))\n"
   ]
  },
  {
   "cell_type": "markdown",
   "metadata": {},
   "source": [
    "Vamos a realizar el paso a paso de lo que nuestra función está calculando"
   ]
  },
  {
   "cell_type": "code",
   "execution_count": 4,
   "metadata": {},
   "outputs": [
    {
     "name": "stdout",
     "output_type": "stream",
     "text": [
      "100.0\n",
      "110.0\n",
      "121.0\n",
      "133.1\n",
      "464.1\n"
     ]
    }
   ],
   "source": [
    "n = 4\n",
    "pmt = 100\n",
    "tasa = 0.10\n",
    "#m = 12\n",
    "#im = (1+tasa)**(1/m)-1\n",
    "\n",
    "\n",
    "#vamos a crear una lista\n",
    "periodos = range(n)\n",
    "renta = [0]\n",
    "\n",
    "for i in periodos:\n",
    "    a = pmt*(1+tasa)**i\n",
    "    print(round(a,2))\n",
    "    renta.append(a) \n",
    "\n",
    "renta_total = sum(renta)\n",
    "print(round(renta_total,2))"
   ]
  },
  {
   "cell_type": "code",
   "execution_count": 5,
   "metadata": {},
   "outputs": [
    {
     "name": "stdout",
     "output_type": "stream",
     "text": [
      "Valor actual de la renta 316.99\n",
      "Valor final de la renta 464.1\n"
     ]
    }
   ],
   "source": [
    "valor_actual = npf.pv(0.10,4,-100,0,0)\n",
    "print(\"Valor actual de la renta\", round(valor_actual,2))\n",
    "\n",
    "valor_final = npf.fv(0.10,4,-100,0,0)\n",
    "print(\"Valor final de la renta\", round(valor_final,2))"
   ]
  },
  {
   "cell_type": "code",
   "execution_count": 6,
   "metadata": {},
   "outputs": [],
   "source": [
    "import matplotlib.pyplot as plt\n",
    "import numpy as np"
   ]
  },
  {
   "cell_type": "code",
   "execution_count": 7,
   "metadata": {},
   "outputs": [
    {
     "data": {
      "image/png": "[encoded data removed]",
      "text/plain": [
       "<Figure size 432x288 with 1 Axes>"
      ]
     },
     "metadata": {
      "needs_background": "light"
     },
     "output_type": "display_data"
    }
   ],
   "source": [
    "\n",
    "fig, ax = plt.subplots()\n",
    "ax.annotate('100 €', xy=(4, 1), xycoords='data',\n",
    "            xytext=(1, 1), textcoords='data',\n",
    "            arrowprops=dict(facecolor='black', shrink= 1),\n",
    "            horizontalalignment='right', verticalalignment='top')\n",
    "ax.annotate(\"133,1 €\", [4, 1])\n",
    "ax.annotate('100 €', xy=(4, 2), xycoords='data',\n",
    "            xytext=(2, 2), textcoords='data',\n",
    "            arrowprops=dict(facecolor='blue', shrink= 1),\n",
    "            horizontalalignment='right', verticalalignment='top')\n",
    "ax.annotate(\"121 €\", [4, 2])\n",
    "ax.annotate('100 ', xy=(4, 3), xycoords='data',\n",
    "            xytext=(3, 3), textcoords='data',\n",
    "            arrowprops=dict(facecolor='green', shrink= 1),\n",
    "            horizontalalignment='right', verticalalignment='top')\n",
    "ax.annotate(\"110 €\", [4, 3])\n",
    "ax.annotate('100 €', xy=(4, 4), xycoords='data',\n",
    "            xytext=(4, 4), textcoords='data',\n",
    "            arrowprops=dict(facecolor='darkblue', shrink= 1),\n",
    "            horizontalalignment='right', verticalalignment='top')\n",
    "\n",
    "plt.title(\"Valor final de las Rentas = 464,1\", fontsize = 20)\n",
    "plt.xlabel(\"Periodos\", fontsize = 15)\n",
    "plt.ylabel(\"Rentas recibidas\", fontsize = 15)\n",
    "plt.xlim(0, 5)\n",
    "plt.xticks(np.arange(0, 5, 1))\n",
    "plt.yticks((1, 5))\n",
    "plt.show()"
   ]
  },
  {
   "cell_type": "markdown",
   "metadata": {},
   "source": [
    "En este gráfico podemos ver capitalizada cada una de las rentas recibidas."
   ]
  },
  {
   "cell_type": "code",
   "execution_count": 8,
   "metadata": {},
   "outputs": [
    {
     "name": "stdout",
     "output_type": "stream",
     "text": [
      "100.0\n",
      "90.91\n",
      "82.64\n",
      "75.13\n",
      "68.3\n",
      "316.99\n"
     ]
    }
   ],
   "source": [
    "n = 4\n",
    "pmt = 100\n",
    "tasa = 0.10\n",
    "#m = 12\n",
    "#im = (1+tasa)**(1/m)-1\n",
    "\n",
    "\n",
    "#vamos a crear una lista\n",
    "periodos = range(n+1)\n",
    "renta = [0]\n",
    "\n",
    "for i in periodos:\n",
    "    a = pmt*(1+tasa)**-i\n",
    "    print(round(a,2))\n",
    "    renta.append(a) \n",
    "\n",
    "renta_total = sum(renta)-pmt\n",
    "print(round(renta_total,2))"
   ]
  },
  {
   "cell_type": "code",
   "execution_count": 9,
   "metadata": {},
   "outputs": [
    {
     "data": {
      "image/png": "[encoded data removed]",
      "text/plain": [
       "<Figure size 432x288 with 1 Axes>"
      ]
     },
     "metadata": {
      "needs_background": "light"
     },
     "output_type": "display_data"
    }
   ],
   "source": [
    "\n",
    "fig, ax = plt.subplots()\n",
    "ax.annotate('100 €', xy=(0, 1), xycoords='data',\n",
    "            xytext=(4.1, 1), textcoords='data',\n",
    "            arrowprops=dict(facecolor='black', shrink= 1),\n",
    "            horizontalalignment='left', verticalalignment='top')\n",
    "ax.annotate(\"68.3 €\", [0, 0.5])\n",
    "ax.annotate('100 €', xy=(0, 2), xycoords='data',\n",
    "            xytext=(3.5, 2), textcoords='data',\n",
    "            arrowprops=dict(facecolor='blue', shrink= 1),\n",
    "            horizontalalignment='right', verticalalignment='top')\n",
    "ax.annotate(\"75.13 €\", [0, 1.5])\n",
    "ax.annotate('100 ', xy=(0, 3), xycoords='data',\n",
    "            xytext=(2.3, 3), textcoords='data',\n",
    "            arrowprops=dict(facecolor='green', shrink= 1),\n",
    "            horizontalalignment='right', verticalalignment='top')\n",
    "ax.annotate(\"82.64 €\", [0, 2.5])\n",
    "ax.annotate('100 €', xy=(0, 4), xycoords='data',\n",
    "            xytext=(1.3, 4), textcoords='data',\n",
    "            arrowprops=dict(facecolor='darkblue', shrink= 1),\n",
    "            horizontalalignment='right', verticalalignment='top')\n",
    "ax.annotate(\"90.91\", [0, 3.5])\n",
    "\n",
    "plt.title(\"Valor Actual de las Rentas = 316.99 €\", fontsize = 20)\n",
    "plt.xlabel(\"Periodos\", fontsize = 15)\n",
    "plt.ylabel(\"Rentas recibidas\", fontsize = 15)\n",
    "plt.xlim(0, 5)\n",
    "plt.xticks(np.arange(0, 5, 1))\n",
    "plt.yticks((1, 5))\n",
    "plt.show()"
   ]
  },
  {
   "cell_type": "markdown",
   "metadata": {},
   "source": [
    "En este otro gráfico sin embargo vemos descontadas las rentas recibidas."
   ]
  },
  {
   "cell_type": "markdown",
   "metadata": {},
   "source": [
    "*2. De una renta prepagable, de 500 € mensuales y duración un año, sabemos que su valor actual es de 5.700 €. Calcular el tanto efectivo anual al que se calculó el valor actual*\n"
   ]
  },
  {
   "cell_type": "code",
   "execution_count": 11,
   "metadata": {},
   "outputs": [
    {
     "name": "stdout",
     "output_type": "stream",
     "text": [
      "Resultado método 1: 11.97 %.\n"
     ]
    }
   ],
   "source": [
    "n = 1\n",
    "pmt = 500\n",
    "pv = 5700\n",
    "m = 12\n",
    "\n",
    "\n",
    "#Método 1. Mediante fórmula de fv\n",
    "\n",
    "rate = npf.rate(nper=m, pmt=pmt, pv=-pv, fv=0, when='begin')\n",
    "i = (1+rate)**m-1\n",
    "print(\"Resultado método 1: {} %.\".format(round((i*100),2)))\n",
    "\n"
   ]
  },
  {
   "cell_type": "markdown",
   "metadata": {},
   "source": [
    "*3. Un agricultor desea adquirir un tractor dentro de 4 años por importe de 60.000 €. Para ello decide ahorrar efectuando aportaciones trimestrales de 3.000 €, comenzando hoy mismo la primera. El depósito se remunera al 6% nominal anual. Es consciente de que a pesar de las 16 aportaciones realizadas al fondo, no llegará al montante necesario y tendrá que pagar, dentro de 4 años, un importe X para poder adquirir el tractor. Calcular X.*"
   ]
  },
  {
   "cell_type": "code",
   "execution_count": 12,
   "metadata": {},
   "outputs": [
    {
     "name": "stdout",
     "output_type": "stream",
     "text": [
      "Al final del periodo, el agricultor ha ahorrado 54604.07 euros\n",
      "El agricultor tendrá que abonar 5395.93 euros dentro de 4 años\n"
     ]
    }
   ],
   "source": [
    "n = 4\n",
    "m = n*4\n",
    "fv = 60000\n",
    "pmt = 3000\n",
    "i = 0.06\n",
    "itr = i/4\n",
    "# X = ?\n",
    "\n",
    "fv1 = npf.fv(rate=itr, nper=m, pmt=-pmt, pv=0, when='begin')\n",
    "print(\"Al final del periodo, el agricultor ha ahorrado {} euros\".format(round(fv1,2)))\n",
    "\n",
    "x = fv - fv1 \n",
    "print(\"El agricultor tendrá que abonar {} euros dentro de 4 años\".format(round(x,2)))"
   ]
  },
  {
   "cell_type": "code",
   "execution_count": null,
   "metadata": {},
   "outputs": [],
   "source": []
  }
 ],
 "metadata": {
  "kernelspec": {
   "display_name": "Python 3",
   "language": "python",
   "name": "python3"
  },
  "language_info": {
   "codemirror_mode": {
    "name": "ipython",
    "version": 3
   },
   "file_extension": ".py",
   "mimetype": "text/x-python",
   "name": "python",
   "nbconvert_exporter": "python",
   "pygments_lexer": "ipython3",
   "version": "3.8.5"
  }
 },
 "nbformat": 4,
 "nbformat_minor": 4
}
