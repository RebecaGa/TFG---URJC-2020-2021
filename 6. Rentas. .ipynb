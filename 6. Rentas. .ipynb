{
 "cells": [
  {
   "cell_type": "markdown",
   "metadata": {},
   "source": [
    "# **RENTAS**\n",
    "\n",
    "*Ya hemos hecho una primera aproximación a las rentas al ver cómo funciona la librería de Numpy Financial, pero en este apartado vamos a profundizar más en la teoría de las Rentar, ver su clasificación y documentarlo mediante ejemplos prácticos*"
   ]
  },
  {
   "cell_type": "markdown",
   "metadata": {},
   "source": [
    "**Clasificación de las Rentas**\n",
    "\n",
    ">**Primera Clasificación**\n",
    "\n",
    "*Rentas discretas: en las que las cuantías vencen en un momento concreto*\n",
    "\n",
    "*Rentas continuas: trabajan con una distribución de cuantía. Normalmente son rentas teóricas que encontramos en libros de Finanzas*\n",
    "\n",
    ">**Segunda Clasificación**\n",
    "\n",
    "*Rentas de cuantía constante: su cuantía no varia, siempre es la misma*\n",
    "    \n",
    "    -Rentas Unitarias: aquellas cuya cuantía es de 1 €\n",
    "    \n",
    "*Rentas de cuantía variable: la renta no es constante*\n",
    "\n",
    "    -Rentas de progresión aritmética: la cuantía varía siguiendo una progresión aritmética.\n",
    "    -Rentas de progresión geométrica: la cuantía varía siguiendo una progresión geométrica.\n",
    "    \n",
    ">**Tercera Clasificación**\n",
    "\n",
    "*Rentas inmediatas: el instante de valoración está situado en el principio y final de la renta.*\n",
    "*Rentas diferidas: el punto de valoración es anterior al origen de la renta.*\n",
    "*Rentas anticipadas: el punto de valoración es posterior al origen de la renta.*\n",
    "\n",
    ">**Cuarta Clasificación**\n",
    "\n",
    "*Rentas temporales: su número de términos es finito.*\n",
    "*Rentas perpetuas: su número de términos tiende a infinito.*\n",
    "\n",
    ">**Quinta Clasificación**\n",
    "\n",
    "*Rentas prepagables: la cuantía vence al inicio del periodo.*\n",
    "*Rentas pospagables: la cuantía vence al final del periodo.*\n",
    "\n",
    "\n"
   ]
  },
  {
   "cell_type": "markdown",
   "metadata": {},
   "source": [
    "**Vamos a comprobar distintos métodos de realizar cálculos con Rentas mediante algunos ejemplos**\n"
   ]
  },
  {
   "cell_type": "markdown",
   "metadata": {},
   "source": [
    "*1. Calcular el valor final de una renta de 120 términos mensuales, prepagables, constantes de 1.000 €, valorada al 7% efectivo anual.*"
   ]
  },
  {
   "cell_type": "code",
   "execution_count": 1,
   "metadata": {},
   "outputs": [
    {
     "name": "stdout",
     "output_type": "stream",
     "text": [
      "Requirement already satisfied: numpy-financial in c:\\users\\rebec\\anaconda3\\lib\\site-packages (1.0.0)\n",
      "Requirement already satisfied: numpy>=1.15 in c:\\users\\rebec\\anaconda3\\lib\\site-packages (from numpy-financial) (1.18.5)\n",
      "Note: you may need to restart the kernel to use updated packages.\n"
     ]
    }
   ],
   "source": [
    "pip install numpy-financial"
   ]
  },
  {
   "cell_type": "code",
   "execution_count": 2,
   "metadata": {},
   "outputs": [],
   "source": [
    "import numpy_financial as npf"
   ]
  },
  {
   "cell_type": "code",
   "execution_count": 15,
   "metadata": {},
   "outputs": [
    {
     "name": "stdout",
     "output_type": "stream",
     "text": [
      "Resultado método 1: 172018.88 euros.\n",
      "Resultado método 2: 172018.88 euros\n"
     ]
    }
   ],
   "source": [
    "n = 120\n",
    "pmt = 1000\n",
    "i = 0.07\n",
    "im = (1+i)**(1/m)-1\n",
    "m = 12\n",
    "\n",
    "\n",
    "#Método 1. Mediante fórmula de fv\n",
    "\n",
    "fv = npf.fv(rate=im, nper=n, pmt=-pmt, pv=0, when='begin')\n",
    "print(\"Resultado método 1: {} euros.\".format(round(fv,2)))\n",
    "\n",
    "#Método 2. Mediante fórmula Cf = pmt*(1+im)*(1+im)^(n)-1/im\n",
    "\n",
    "Cf = pmt*(1+im)*((1+im)**n-1)/im\n",
    "print(\"Resultado método 2: {} euros\".format(round(Cf,2)))\n"
   ]
  },
  {
   "cell_type": "markdown",
   "metadata": {},
   "source": [
    "*2. De una renta prepagable, de 500 € mensuales y duración un año, sabemos que su valor actual es de 5.700 €. Calcular el tanto efectivo anual al que se calculó el valor actual*\n"
   ]
  },
  {
   "cell_type": "code",
   "execution_count": 31,
   "metadata": {},
   "outputs": [
    {
     "name": "stdout",
     "output_type": "stream",
     "text": [
      "Resultado método 1: 11.97065425691477 %.\n"
     ]
    }
   ],
   "source": [
    "n = 1\n",
    "pmt = 500\n",
    "pv = 5700\n",
    "m = 12\n",
    "\n",
    "\n",
    "#Método 1. Mediante fórmula de fv\n",
    "\n",
    "rate = npf.rate(nper=m, pmt=pmt, pv=-pv, fv=0, when='begin')\n",
    "i = (1+rate)**m-1\n",
    "print(\"Resultado método 1: {} %.\".format((i*100)))\n",
    "\n"
   ]
  },
  {
   "cell_type": "markdown",
   "metadata": {},
   "source": [
    "*3. Un agricultor desea adquirir un tractor dentro de 4 años por importe de 60.000 €. Para ello decide ahorrar efectuando aportaciones trimestrales de 3.000 €, comenzando hoy mismo la primera. El depósito se remunera al 6% nominal anual. Es consciente de que a pesar de las 16 aportaciones realizadas al fondo, no llegará al montante necesario y tendrá que pagar, dentro de 4 años, un importe X para poder adquirir el tractor. Calcular X.*"
   ]
  },
  {
   "cell_type": "code",
   "execution_count": 44,
   "metadata": {},
   "outputs": [
    {
     "name": "stdout",
     "output_type": "stream",
     "text": [
      "Al final del periodo, el agricultor ha ahorrado 54604.07 euros\n",
      "El agricultor tendrá que abonar 5395.93 euros dentro de 4 años\n"
     ]
    }
   ],
   "source": [
    "n = 4\n",
    "m = n*4\n",
    "fv = 60000\n",
    "pmt = 3000\n",
    "i = 0.06\n",
    "itr = i/4\n",
    "# X = ?\n",
    "\n",
    "fv1 = npf.fv(rate=itr, nper=m, pmt=-pmt, pv=0, when='begin')\n",
    "print(\"Al final del periodo, el agricultor ha ahorrado {} euros\".format(round(fv1,2)))\n",
    "\n",
    "x = fv - fv1 \n",
    "print(\"El agricultor tendrá que abonar {} euros dentro de 4 años\".format(round(x,2)))"
   ]
  }
 ],
 "metadata": {
  "kernelspec": {
   "display_name": "Python 3",
   "language": "python",
   "name": "python3"
  },
  "language_info": {
   "codemirror_mode": {
    "name": "ipython",
    "version": 3
   },
   "file_extension": ".py",
   "mimetype": "text/x-python",
   "name": "python",
   "nbconvert_exporter": "python",
   "pygments_lexer": "ipython3",
   "version": "3.8.3"
  }
 },
 "nbformat": 4,
 "nbformat_minor": 4
}
