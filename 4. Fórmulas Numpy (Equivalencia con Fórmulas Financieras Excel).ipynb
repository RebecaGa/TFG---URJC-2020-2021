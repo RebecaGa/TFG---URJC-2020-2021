{
 "cells": [
  {
   "cell_type": "markdown",
   "metadata": {},
   "source": [
    "*Numpy financiero ya tiene programadas las principales fórmulas utilizadas en el capital simple. Vamos a conocerlas, y compararlas con las fórmulas que habitualmente utilizamos en Excel*\n",
    "\n",
    "*Lo primero que tenemos que hacer es instalar el paquete que contiene estas funciones y posteriormente importarlo como en otras ocasiones* \n"
   ]
  },
  {
   "cell_type": "code",
   "execution_count": 2,
   "metadata": {},
   "outputs": [
    {
     "name": "stdout",
     "output_type": "stream",
     "text": [
      "Requirement already satisfied: numpy-financial in c:\\users\\rebec\\anaconda3\\lib\\site-packages (1.0.0)\n",
      "Requirement already satisfied: numpy>=1.15 in c:\\users\\rebec\\anaconda3\\lib\\site-packages (from numpy-financial) (1.18.5)\n",
      "Note: you may need to restart the kernel to use updated packages.\n"
     ]
    }
   ],
   "source": [
    "pip install numpy-financial\n"
   ]
  },
  {
   "cell_type": "code",
   "execution_count": 4,
   "metadata": {},
   "outputs": [],
   "source": [
    "import numpy_financial as npf"
   ]
  },
  {
   "cell_type": "markdown",
   "metadata": {},
   "source": [
    "*La primera fórmula que vamos a comprobar es fv que corresponde a future value en inglés, o valor futuro. Esta fórmula se corresponde en Excel con VF o FV (en inglés).*\n",
    "\n",
    "*La fórmula en Excel tiene el siguiente formato **=VF(tasa;nper;pago;[va];[tipo])**:*\n",
    "\n",
    ">**tasa (rate)**  *corresponde al tipo de interés*\n",
    "\n",
    ">**nper (nper)** *corresponde al plazo de la operación*\n",
    "\n",
    ">**pago (pmt)** *corresponde a los posibles pagos/cobros que se puedan realizar a lo largo de la operación, en este caso hablamos bien de rentas o préstamos, donde se realizan una serie de pagos/cobros a lo largo de la operación*\n",
    "\n",
    ">**Va (pv)** *en negativo, corresponde al capital inicial* \n",
    "\n",
    ">**tipo (type)** *se indica con 0 o 1 si los intereses son abonados al comienzo o al final de la operación*\n",
    "\n",
    "*La fórmula en Numpy es **npf.fv(rate,nper,pmt,pv,[when])**\n",
    "\n",
    ">**rate** *es el interés*\n",
    "\n",
    ">**nper** *es el plazo*\n",
    "\n",
    ">**pmt** *son los pagos, si los hay*\n",
    "\n",
    ">**pv** *corresponde al valor incial*\n",
    "\n",
    ">**when** *nos pide igualmente si los pagos de inetereses se realizan al comienzo'begin' o al final del periodo 'end'*\n",
    "\n",
    "*Podemos comprobar que los comandos en Excel y Python son prácticamente similares. La comunidad de programadores ha diseñado el código de manera que no es necesario tener grandes conocimientos de Python para poder utilizarlo, y esto es una de sus grandes ventajas. Usando esta fórmula, podremos obtener los datos esenciales de una inversión que utilice interés compuesto, vamos a verlo con ejemplos*"
   ]
  },
  {
   "cell_type": "markdown",
   "metadata": {},
   "source": [
    "**Capital Final**"
   ]
  },
  {
   "cell_type": "code",
   "execution_count": 15,
   "metadata": {},
   "outputs": [
    {
     "name": "stdout",
     "output_type": "stream",
     "text": [
      "Interes: 0.10\n",
      "Plazo: 4\n",
      "Capital inicial: 10000\n",
      "El capital final en esta operación es 14641.0\n"
     ]
    }
   ],
   "source": [
    "i = float(input(\"Interes: \"))\n",
    "n = float(input(\"Plazo: \"))\n",
    "C0 = float(input(\"Capital inicial: \"))\n",
    "\n",
    "fv = npf.fv(rate=i, nper=n, pmt= 0,pv=-C0, when='end')\n",
    "print(\"El capital final en esta operación es {}\".format(round(fv,2)))"
   ]
  },
  {
   "cell_type": "markdown",
   "metadata": {},
   "source": [
    "**Interés**"
   ]
  },
  {
   "cell_type": "code",
   "execution_count": 18,
   "metadata": {},
   "outputs": [
    {
     "name": "stdout",
     "output_type": "stream",
     "text": [
      "Capital final: 14641\n",
      "Plazo: 4\n",
      "Capital inicial: 10000\n",
      "El tipo de interés de esta operación es 10.0 %\n"
     ]
    }
   ],
   "source": [
    "Cn = float(input(\"Capital final: \"))\n",
    "n = float(input(\"Plazo: \"))\n",
    "C0 = float(input(\"Capital inicial: \"))\n",
    "\n",
    "rate = npf.rate(nper=n, pmt=0, pv=C0, fv=-Cn, when='end')\n",
    "print(\"El tipo de interés de esta operación es {}%\".format(round(rate*100,2)))\n"
   ]
  },
  {
   "cell_type": "markdown",
   "metadata": {},
   "source": [
    "**Capital Inicial**"
   ]
  },
  {
   "cell_type": "code",
   "execution_count": 20,
   "metadata": {},
   "outputs": [
    {
     "name": "stdout",
     "output_type": "stream",
     "text": [
      "Capital final: 14641\n",
      "Plazo: 4\n",
      "Interés: 0.10\n",
      "El Capital Inicial de esta operación es 10000.0\n"
     ]
    }
   ],
   "source": [
    "Cn = float(input(\"Capital final: \"))\n",
    "n = float(input(\"Plazo: \"))\n",
    "i = float(input(\"Interés: \"))\n",
    "\n",
    "C0 = npf.pv(rate=i, nper=n, pmt=0, fv=-Cn, when='end')\n",
    "print(\"El Capital Inicial de esta operación es {}\".format(round(C0,2)))"
   ]
  },
  {
   "cell_type": "markdown",
   "metadata": {},
   "source": [
    "**Tiempo**"
   ]
  },
  {
   "cell_type": "code",
   "execution_count": 31,
   "metadata": {},
   "outputs": [
    {
     "name": "stdout",
     "output_type": "stream",
     "text": [
      "Capital final: 14641\n",
      "Capital inicial: 10000\n",
      "Interés: 0.10\n",
      "El Plazo de esta operación es 3.9999999999999964\n"
     ]
    }
   ],
   "source": [
    "Cn = float(input(\"Capital final: \"))\n",
    "C0 = float(input(\"Capital inicial: \"))\n",
    "i = float(input(\"Interés: \"))\n",
    "\n",
    "n = npf.nper(rate=i, pmt=0, pv=C0, fv=-Cn, when='end')\n",
    "print(\"El Plazo de esta operación es {}\".format(n))\n",
    "\n"
   ]
  },
  {
   "cell_type": "code",
   "execution_count": null,
   "metadata": {},
   "outputs": [],
   "source": []
  }
 ],
 "metadata": {
  "kernelspec": {
   "display_name": "Python 3",
   "language": "python",
   "name": "python3"
  },
  "language_info": {
   "codemirror_mode": {
    "name": "ipython",
    "version": 3
   },
   "file_extension": ".py",
   "mimetype": "text/x-python",
   "name": "python",
   "nbconvert_exporter": "python",
   "pygments_lexer": "ipython3",
   "version": "3.8.3"
  }
 },
 "nbformat": 4,
 "nbformat_minor": 4
}
