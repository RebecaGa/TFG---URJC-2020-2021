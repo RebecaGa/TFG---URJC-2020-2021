{
 "cells": [
  {
   "cell_type": "markdown",
   "metadata": {},
   "source": [
    "# **CÁLCULO INTERÉS, PLAZO, CAPITAL INICIAL O CAPITAL FINAL EN INTERÉS COMPUESTO**\n",
    "\n",
    "*Lo más habitual sin embargo es utilizar las fórmulas que veremos a continuación*\n",
    "*En ocasiones, no nos interesa conocer el capital final en una operación, quizás lo que nos interesa son los plazos o pagos, el interes aplicado o sabiendo el capital final, queremos conocer el inicial. Vamos a comprobar cómo funciona esta fórmula.*"
   ]
  },
  {
   "cell_type": "markdown",
   "metadata": {},
   "source": [
    "**Importación de librerías que usaremos durante este documento**"
   ]
  },
  {
   "cell_type": "code",
   "execution_count": null,
   "metadata": {},
   "outputs": [],
   "source": [
    "import math "
   ]
  },
  {
   "cell_type": "markdown",
   "metadata": {},
   "source": [
    "*En primer lugar, vamos a ver cómo funciona la fórmula si queremos conocer el capital final (VF)*\n",
    "\n",
    "**Cn = C0 (1+i)^n**\n",
    "\n",
    "*Cn corresponde al valor final de la operación.Es la parte más sencilla, y la que hemos visto anteriormente*\n",
    "    "
   ]
  },
  {
   "cell_type": "code",
   "execution_count": 13,
   "metadata": {},
   "outputs": [
    {
     "name": "stdout",
     "output_type": "stream",
     "text": [
      "Capital inicial: 10000\n",
      "Interes: 0.10\n",
      "Plazo: 4\n",
      "El Valor Final es 14641.0\n"
     ]
    }
   ],
   "source": [
    "c0 = float(input(\"Capital inicial: \"))\n",
    "i = float(input(\"Interes: \"))\n",
    "n = float(input(\"Plazo: \"))\n",
    "\n",
    "Cn = c0*(1+i)**n\n",
    "\n",
    "print(\"El Valor Final es {}\".format(round(Cn,2)))"
   ]
  },
  {
   "cell_type": "markdown",
   "metadata": {},
   "source": [
    "*Sin embargo, en ocasiones necesitamos conocer el importe del pago/cobro.Para ello utilizamos la siguiente función*\n",
    "\n",
    "**n= ln(Cn/c0)/ln(1*i)**\n",
    "\n",
    "*Para resolver esta incognita, tendremos que utilizar el paquete **math** de Python, que nos permite realizar operaciones matemáticas como raíces cuadradas, logarismos, etc.*"
   ]
  },
  {
   "cell_type": "code",
   "execution_count": 18,
   "metadata": {},
   "outputs": [
    {
     "name": "stdout",
     "output_type": "stream",
     "text": [
      "Capital inicial: 10000\n",
      "Interes: 0.10\n",
      "Capital final: 14641\n",
      "El plazo de esta inversión es 4.0 periodos\n"
     ]
    }
   ],
   "source": [
    "c0 = float(input(\"Capital inicial: \"))\n",
    "i = float(input(\"Interes: \"))\n",
    "Cn = float(input(\"Capital final: \"))\n",
    "\n",
    "n = (math.log(Cn/c0))/(math.log(1+i))\n",
    "print(\"El plazo de esta inversión es {} periodos\".format(round(n,0)))"
   ]
  },
  {
   "cell_type": "markdown",
   "metadata": {},
   "source": [
    "*En otras ocasiones, lo que necesitamos conocer es el tipo de interes, para lo que tenemos que utilizar la siguiente fórmula*\n",
    "\n",
    "**i = ((Cn/c0)^(1/n))-1**\n",
    "\n",
    "*Vamos a comprobar como funcionaría:*"
   ]
  },
  {
   "cell_type": "code",
   "execution_count": 21,
   "metadata": {},
   "outputs": [
    {
     "name": "stdout",
     "output_type": "stream",
     "text": [
      "Capital inicial: 10000\n",
      "Plazo: 4\n",
      "Capital final: 14641\n",
      "El interés de esta operación es 10.0 %\n"
     ]
    }
   ],
   "source": [
    "c0 = float(input(\"Capital inicial: \"))\n",
    "n = float(input(\"Plazo: \"))\n",
    "Cn = float(input(\"Capital final: \"))\n",
    "\n",
    "i = ((Cn/c0)**(1/n))-1\n",
    "print(\"El interés de esta operación es {} %\".format(round(i,2)*100))"
   ]
  },
  {
   "cell_type": "markdown",
   "metadata": {},
   "source": [
    "*Por último nos podemos encontrar el caso de querer saber cúal era nuestro capital inicial, teniendo el resto de datos, para ello usamos la siguiente fórmula*\n",
    "\n",
    "**c0 = Cn*(1+i)^-n**\n",
    "\n",
    "*Pongamos un ejemplo*"
   ]
  },
  {
   "cell_type": "code",
   "execution_count": 23,
   "metadata": {},
   "outputs": [
    {
     "name": "stdout",
     "output_type": "stream",
     "text": [
      "Interes: 0.10\n",
      "Plazo: 4\n",
      "Capital final: 14641\n",
      "El capital inicial de esta operación es: 10000.0\n"
     ]
    }
   ],
   "source": [
    "i = float(input(\"Interes: \"))\n",
    "n = float(input(\"Plazo: \"))\n",
    "Cn = float(input(\"Capital final: \"))\n",
    "\n",
    "c0 = Cn*(1+i)**(-n)\n",
    "print(\"El capital inicial de esta operación es: {}\".format(round(c0,0)))\n"
   ]
  },
  {
   "cell_type": "markdown",
   "metadata": {},
   "source": [
    "*De esta manera tan sencilla, hemos visto cómo funcionan las fórmulas, sin embargo, Python tiene además programadas una serie de funciones al igual que en Excel, donde podemos calcular estos datos sin necesidad de conocer su formulación.*"
   ]
  },
  {
   "cell_type": "code",
   "execution_count": null,
   "metadata": {},
   "outputs": [],
   "source": []
  }
 ],
 "metadata": {
  "kernelspec": {
   "display_name": "Python 3",
   "language": "python",
   "name": "python3"
  },
  "language_info": {
   "codemirror_mode": {
    "name": "ipython",
    "version": 3
   },
   "file_extension": ".py",
   "mimetype": "text/x-python",
   "name": "python",
   "nbconvert_exporter": "python",
   "pygments_lexer": "ipython3",
   "version": "3.8.3"
  }
 },
 "nbformat": 4,
 "nbformat_minor": 4
}
