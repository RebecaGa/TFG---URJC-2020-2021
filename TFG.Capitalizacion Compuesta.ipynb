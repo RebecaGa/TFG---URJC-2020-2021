{
 "cells": [
  {
   "cell_type": "markdown",
   "metadata": {
    "slideshow": {
     "slide_type": "notes"
    }
   },
   "source": [
    "## Capitalización Compuesta\n",
    "\n",
    "**Fórmula Cn = C0 * (1+i)^n**\n",
    "\n",
    "*Sin embargo, lo que más nos vamos a encontrar en el mundo de las finanzas es la capitalización* \n",
    "*Compuesta, que nos permitirá calcular cuadros de amortización de préstamos u otras*\n",
    "*operaciones.*\n",
    "\n",
    "\n",
    "\n",
    "*Esto implica que los intereses que se van generando, también generan a su vez más interses.*"
   ]
  },
  {
   "cell_type": "code",
   "execution_count": 14,
   "metadata": {
    "slideshow": {
     "slide_type": "slide"
    }
   },
   "outputs": [
    {
     "data": {
      "text/plain": [
       "1092.727"
      ]
     },
     "execution_count": 14,
     "metadata": {},
     "output_type": "execute_result"
    }
   ],
   "source": [
    "C0 = 1000\n",
    "i = 0.03\n",
    "n = 3\n",
    "\n",
    "Cn = C0 * (1+i)**n\n",
    "Cn"
   ]
  },
  {
   "cell_type": "markdown",
   "metadata": {
    "slideshow": {
     "slide_type": "notes"
    }
   },
   "source": [
    "*También podemos realizar una Calculadora*"
   ]
  },
  {
   "cell_type": "code",
   "execution_count": 5,
   "metadata": {
    "slideshow": {
     "slide_type": "slide"
    }
   },
   "outputs": [
    {
     "name": "stdout",
     "output_type": "stream",
     "text": [
      "Indique que tipo de periodo: \n",
      "                          m = mensual\n",
      "                          a = anual\n",
      "                          t = trimestral\n",
      "                          s = semestral a\n",
      "Importe a invertir: 1000\n",
      "Tasa de interés anual (TIN): 6\n",
      "Número de periodos (EN AÑOS): 2\n",
      "Su inversión tendrá un valor futuro de: 1123.6000000000001\n"
     ]
    }
   ],
   "source": [
    "def CalculaFinanciera():\n",
    "    \n",
    "    mes = ['m', 'M', 'mes', 'mensual','MENSUAL', 'MES']\n",
    "    año = ['a', 'A' , 'anual' , 'ANUAL' , 'Anual' , 'Año' , 'AÑO']\n",
    "    trimestral = ['t' , 'T' , 'trimestral' , 'Trimestral' , 'TRIMESTRAL' , 'TRES']\n",
    "    semestral = ['s', 'S', 'semestre', 'SEMESTRE', 'Semestre', 'semestral', 'SEMESTRAL', 'seis', 'Semestral']\n",
    "    try:\n",
    "        tipo = input('''Indique que tipo de periodo: \n",
    "                          m = mensual\n",
    "                          a = anual\n",
    "                          t = trimestral\n",
    "                          s = semestral ''')\n",
    "        if tipo in mes:\n",
    "                Importe = float(input('Importe a invertir: '))\n",
    "                interesm = float(input('Tasa de interés anual (TIN): '))\n",
    "                Periodos = int(input('Número de periodos (EN MESES): '))\n",
    "                interesm = (interesm / 100) / 12\n",
    "                vf = Importe * (1 + interesm) ** Periodos\n",
    "        elif tipo in año:\n",
    "                Importe = float(input('Importe a invertir: '))\n",
    "                interesa = float(input('Tasa de interés anual (TIN): '))\n",
    "                Periodos = int(input('Número de periodos (EN AÑOS): '))\n",
    "                interesa = interesa / 100\n",
    "                vf = Importe * (1 + interesa) ** Periodos\n",
    "        elif tipo in trimestral:\n",
    "                Importe = float(input('Importe a invertir: '))\n",
    "                interest = float(input('Tasa de interés anual (TIN): '))\n",
    "                Periodos = int(input('Número de periodos (EN TRIMESTRES): '))\n",
    "                interest = (interest / 100)/4\n",
    "                vf = Importe * (1 + interest) ** Periodos\n",
    "        elif tipo in semestral:\n",
    "                Importe = float(input('Importe a invertir: '))\n",
    "                interesb = float(input('Tasa de interés anual (TIN): '))\n",
    "                Periodos = int(input('Número de periodos (EN SEMESTRES): '))\n",
    "                interesb = (interesb / 100)/2\n",
    "                vf = Importe * (1 + interesb) ** Periodos\n",
    "        print(\"Su inversión tendrá un valor futuro de: {}\".format(vf))\n",
    "    except ValueError:\n",
    "        print('Error!, solo se admiten numeros')\n",
    "        \n",
    "        \n",
    "        \n",
    "        \n",
    "      \n",
    "\n",
    "CalculaFinanciera()"
   ]
  },
  {
   "cell_type": "markdown",
   "metadata": {},
   "source": [
    "*O bien podemos hacer los siguiente:*"
   ]
  },
  {
   "cell_type": "code",
   "execution_count": 14,
   "metadata": {},
   "outputs": [
    {
     "name": "stdout",
     "output_type": "stream",
     "text": [
      "Capital inicial: 10000\n",
      "Interes: 0.10\n",
      "Plazo: 4\n",
      "[0, 1000.0, 1100.0, 1210.0, 1331.0, 1464.1]\n",
      "[10000.0, 11000.0, 12100.0, 13310.0, 14641.0]\n",
      "[0, 1, 2, 3, 4]\n",
      "[]\n"
     ]
    }
   ],
   "source": [
    "c0 = float(input(\"Capital inicial: \"))\n",
    "interes = float(input(\"Interes: \"))\n",
    "n = float(input(\"Plazo: \"))\n",
    "t = 0\n",
    "a = 0\n",
    "intacum = []\n",
    "intereses = [0]\n",
    "capital = []\n",
    "tiempo = []\n",
    "\n",
    "\n",
    "while (t <= n): \n",
    "    tiempo.append(t)\n",
    "    c = sum(intereses, start = c0)\n",
    "    capital.append(c)\n",
    "    ianual = round(c * (interes), 2)\n",
    "    intereses.append(ianual)\n",
    "    t = t+1\n",
    "    \n",
    "    if (t > n):\n",
    "        break\n",
    "\n",
    "    \n",
    "        \n",
    "print(intereses)\n",
    "print(capital)\n",
    "print(tiempo)\n",
    "print(intacum)"
   ]
  },
  {
   "cell_type": "code",
   "execution_count": 4,
   "metadata": {},
   "outputs": [],
   "source": [
    "import matplotlib.pyplot as plt\n",
    "import numpy as np"
   ]
  },
  {
   "cell_type": "markdown",
   "metadata": {},
   "source": [
    "*y hacer una gráfica con estas librerías*"
   ]
  },
  {
   "cell_type": "code",
   "execution_count": 9,
   "metadata": {},
   "outputs": [
    {
     "data": {
      "image/png": "[encoded data removed]",
      "text/plain": [
       "<Figure size 432x288 with 1 Axes>"
      ]
     },
     "metadata": {
      "needs_background": "light"
     },
     "output_type": "display_data"
    }
   ],
   "source": [
    "fig, ax = plt.subplots()\n",
    "ax.bar(tiempo, capital, color = \"purple\")\n",
    "plt.plot(, color = \"orange\", marker = '*', markersize = 4)\n",
    "plt.title(\"Capital Compuesto\", fontsize = 20)\n",
    "plt.xlabel(\"Tiempo en años\", fontsize = 15)\n",
    "plt.ylabel(\"Capital en €\", fontsize = 15)\n",
    "plt.xticks(np.arange(tiempo[0], tiempo[-1], 1))\n",
    "plt.yticks(np.arange(0,capital[-1],1000))\n",
    "plt.show()"
   ]
  },
  {
   "cell_type": "markdown",
   "metadata": {
    "slideshow": {
     "slide_type": "subslide"
    }
   },
   "source": [
    "*Sin embargo, lo más habitual*"
   ]
  },
  {
   "cell_type": "code",
   "execution_count": null,
   "metadata": {},
   "outputs": [],
   "source": []
  }
 ],
 "metadata": {
  "kernelspec": {
   "display_name": "Python 3",
   "language": "python",
   "name": "python3"
  },
  "language_info": {
   "codemirror_mode": {
    "name": "ipython",
    "version": 3
   },
   "file_extension": ".py",
   "mimetype": "text/x-python",
   "name": "python",
   "nbconvert_exporter": "python",
   "pygments_lexer": "ipython3",
   "version": "3.8.3"
  }
 },
 "nbformat": 4,
 "nbformat_minor": 4
}
