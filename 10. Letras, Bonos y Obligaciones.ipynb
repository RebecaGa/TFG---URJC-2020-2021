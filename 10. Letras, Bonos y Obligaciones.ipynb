{
 "cells": [
  {
   "cell_type": "markdown",
   "metadata": {},
   "source": [
    "# Letras de cambio\n",
    "\n",
    "Una letra de cambio es un documento mercantil mediante el cuál una persona o empresa queda obligada a pagarle una cantidad de dinero a otra en un plazo preestablecido. En otras palabras, es un título-valor que garantiza una deuda entre dos partes.\n",
    "\n",
    "En toda letra de cambio intervienen como mínimo las siguientes partes:\n",
    "\n",
    "**El librador o girador.** Es la persona (física o jurídica) que emite la letra de cambio, es decir, quién elabora el documento y da la orden de pago.\n",
    "\n",
    "**El librado o girado.** Es quién acepta la orden de pago y, por tanto, tiene la obligación de pagar la deuda a su beneficiario. El librado es el deudor oficial de esta operación.\n",
    "\n",
    "**El beneficiario o tomador.** Es a quién finalmente se le paga, es decir, la persona que recibe el dinero correspondiente a la deuda. Puede coincidir con el librador, aunque no tiene por qué. Dependerá de si la letra ha sido endosada o no.\n",
    "\n",
    "Si estamos en posesión de letras de cambio, podemos llevarlas al banco para su descuento, y aquí es donde entra la parte de matemática financiera para calcular los intereses que nos cobrará el banco, y el montante final que nos será abonado.\n"
   ]
  },
  {
   "attachments": {
    "image.png": {
     "image/png": "[encoded data removed]"
    }
   },
   "cell_type": "markdown",
   "metadata": {},
   "source": [
    "FÓRMULA MATEMÁTICA FINANCIERA\n",
    "\n",
    "La fórmula que nos permite calcular el montante final, así como los intereses es:\n",
    "\n",
    "![image.png](attachment:image.png)\n",
    "\n",
    "\n",
    "Donde:\n",
    "\n",
    "Cn = nominal del título\n",
    "\n",
    "n= número de días que van desde la fecha de liquidación a la fecha de vencimiento\n",
    "\n",
    "d= tipo o tasa de descuento\n",
    "\n",
    "B= base anual aplicada (360 o 365)"
   ]
  },
  {
   "cell_type": "markdown",
   "metadata": {},
   "source": [
    "Con estos datos vamos a cálcularlo mediante Python de una forma sencilla\n",
    "\n",
    "**Ejemplo 1.** Nuestra empresa lleva a descontar una letra de cambio que posee en su cartera de efectos el día 20 de octubre de 2014. La letra tiene un valor nominal de 1.500 euros y vence el 30 de diciembre de 2014. La letra se descuenta en el Banco de Sabadell y le aplica un tipo de interés de descuento del 5 %."
   ]
  },
  {
   "cell_type": "markdown",
   "metadata": {},
   "source": [
    "En este módulo trabajaremos con fechas, por lo que es necesario importar una libería que nos permita realizar operaciones con fechas y calcular los días, o cualquier otra cosa que necesitemos"
   ]
  },
  {
   "cell_type": "code",
   "execution_count": 1,
   "metadata": {},
   "outputs": [],
   "source": [
    "from datetime import datetime, date, time, timedelta"
   ]
  },
  {
   "cell_type": "code",
   "execution_count": 2,
   "metadata": {},
   "outputs": [
    {
     "name": "stdout",
     "output_type": "stream",
     "text": [
      "Los días a descontar son 71 días\n",
      "Los intereses aplicados son 14.79\n"
     ]
    }
   ],
   "source": [
    "Cn = 1500                  #Valor nominal de la letra\n",
    "f_vto = date(2014,12,30)   #fecha de vencimiento de la letra (Docstring:      date(year, month, day) --> date object)\n",
    "f_liq = date(2014,10,20)   #fecha en la que llevamos a descontar la letra, fecha de liquidación (Docstring:      date(year, month, day) --> date object)\n",
    "t = 0.05                   #Tasa de descuento de la letra\n",
    "b = 360                    #puede ser 365 o 360\n",
    "\n",
    "n = f_vto - f_liq\n",
    "print(\"Los días a descontar son\", n.days, \"días\")\n",
    "\n",
    "D = (Cn*n.days*t)/b\n",
    "print(\"Los intereses aplicados son {}\".format(round(D,2)))"
   ]
  },
  {
   "cell_type": "markdown",
   "metadata": {},
   "source": [
    "**Ejemplo 2.** El 7 de enero de 2013 una empresa descuenta en Gestión Bank una letra de cambio de 2.485 euros de valor nominal y cuya fecha de vencimiento es el 7 de marzo de 2014. El banco le aplica un tipo de interés de descuento del 6 %.\n",
    "\n",
    "¿Cuál será el interés total cobrado por el banco en la operación de descuento?"
   ]
  },
  {
   "cell_type": "code",
   "execution_count": 63,
   "metadata": {},
   "outputs": [
    {
     "name": "stdout",
     "output_type": "stream",
     "text": [
      "Los intereses totales cobrado por el banco son 175.61\n",
      "Y por tanto el efectivo recibido es  2309.39\n"
     ]
    }
   ],
   "source": [
    "Cn = 2485                  \n",
    "f_liq = date(2013,1,7)  \n",
    "f_vto = date(2014,3,7)  \n",
    "t = 0.06                 \n",
    "b = 360    \n",
    "n = f_vto -f_liq\n",
    "\n",
    "\n",
    "D = (Cn*(n.days)*t)/b\n",
    "print(\"Los intereses totales cobrado por el banco son {}\".format(round(D,2)))\n",
    "\n",
    "efectivo = Cn-D\n",
    "print(\"Y por tanto el efectivo recibido es \", round(efectivo,2))"
   ]
  },
  {
   "cell_type": "markdown",
   "metadata": {},
   "source": [
    "Si tuvieramos que realizar esta operación mediante **Excel** utilizaríamos la fórmula **INT.ACUM.V**\n",
    "\n",
    "En anteriores apartados hemos visto que Numpy Financial contiene varias fórmulas financieras equivalentes en Excel, pero no es este el caso. Por ello vamos a crear una función que nos permita realizar este cálculo de forma atumática."
   ]
  },
  {
   "cell_type": "code",
   "execution_count": 82,
   "metadata": {},
   "outputs": [],
   "source": [
    "def INT_ACUM_V(i, f_vto, f_liq, b, Cn):\n",
    "    '''\n",
    "       INTERESES ACUMULADOS\n",
    "      ======================\n",
    "    \n",
    "        nos devuelve el total de intereses producidos por un activo financiero con pago de dichos intereses al vencimiento\n",
    "    \n",
    "        i = tasa\n",
    "        f_vto = fecha de vencimiento real de letra utilizando el formato date(AAAA,MM,DD)\n",
    "        f_liq = fecha en la que llevamos la letra al descuento, formato date(AAAA,MM,DD) \n",
    "        b = base de referencia según tablas\n",
    "        Cn = importe de la letra de cambio\n",
    "        \n",
    "        TABLA BASES\n",
    "        1 = 365\n",
    "        2 = 360'''\n",
    "    \n",
    "    if b == 1:\n",
    "        b = 365\n",
    "    elif b == 2:\n",
    "        b= 360\n",
    "    else:\n",
    "        print(\"Error! Debe introducir 1 o 2 para el valor b\")\n",
    "        \n",
    "    n = f_vto -f_liq\n",
    "    D = (Cn*(n.days)*i)/b\n",
    "    return print(\"Los intereses totales cobrados por el banco son {}\".format(round(D,2)))"
   ]
  },
  {
   "cell_type": "code",
   "execution_count": 91,
   "metadata": {},
   "outputs": [],
   "source": [
    "def EFECTIVO(D, Cn):\n",
    "    '''\n",
    "        CÁLCULO DE TOTAL EFECTIVO RECIBIDO\n",
    "        ==================================\n",
    "        \n",
    "        esta función nos calcula el importe efectivo recibido una vez descontados los intereses\n",
    "    \n",
    "        D = intereses cobrados por el banco\n",
    "        Cn = Importe Letra de Cambio'''\n",
    "    \n",
    "    efectivo = Cn-D\n",
    "    \n",
    "    return print(\"Y por tanto el efectivo recibido es \", round(efectivo,2))"
   ]
  },
  {
   "cell_type": "code",
   "execution_count": 83,
   "metadata": {},
   "outputs": [
    {
     "name": "stdout",
     "output_type": "stream",
     "text": [
      "Introduzca el tipo de interés (Ejemplo 8%: 0.08) : 0.06\n",
      "Introduzca la fecha de vencimiento de la Letra de Cambio (forma YYYY-MM-DD)2014-03-07\n",
      "Introduzca la fecha de liquidación de la Letra de Cambio (forma YYYY-MM-DD)2013-01-07\n",
      "Introduzca 1 para base de 365 días o 2 para base de 3602\n",
      "Introduzca importe de la Letra de Cambio2485\n",
      "Los intereses totales cobrado por el banco son 175.61\n"
     ]
    }
   ],
   "source": [
    "i = float(input('Introduzca el tipo de interés (Ejemplo 8%: 0.08) : '))\n",
    "datos_vto = input('Introduzca la fecha de vencimiento de la Letra de Cambio (forma YYYY-MM-DD)')\n",
    "año, mes, dia = map(int, datos_vto.split('-'))\n",
    "f_vto = date(año, mes, dia)\n",
    "datos_liq = input('Introduzca la fecha de liquidación de la Letra de Cambio (forma YYYY-MM-DD)')\n",
    "año, mes, dia = map(int, datos_liq.split('-'))\n",
    "f_liq = date(año, mes, dia)\n",
    "b = float(input('Introduzca 1 para base de 365 días o 2 para base de 360'))\n",
    "Cn = float(input('Introduzca importe de la Letra de Cambio'))\n",
    "\n",
    "\n",
    "INT_ACUM_V(i, f_vto, f_liq, b, Cn)"
   ]
  },
  {
   "cell_type": "code",
   "execution_count": 85,
   "metadata": {},
   "outputs": [
    {
     "name": "stdout",
     "output_type": "stream",
     "text": [
      "Introduzca importe de la Letra de Cambio2485\n",
      "Introduzca los intereses cobrados por el Banco175.61\n",
      "Y por tanto el efectivo recibido es  2309.39\n"
     ]
    }
   ],
   "source": [
    "Cn = float(input('Introduzca importe de la Letra de Cambio'))\n",
    "D = float(input('Introduzca los intereses cobrados por el Banco'))\n",
    "\n",
    "\n",
    "EFECTIVO(D, Cn)"
   ]
  },
  {
   "attachments": {
    "image-2.png": {
     "image/png": "[encoded data removed]"
    },
    "image-3.png": {
     "image/png": "[encoded data removed]"
    },
    "image-4.png": {
     "image/png": "[encoded data removed]"
    },
    "image.png": {
     "image/png": "[encoded data removed]"
    }
   },
   "cell_type": "markdown",
   "metadata": {},
   "source": [
    "# Letras del Tesoro\n",
    "\n",
    "Las Letras del Tesoro son títulos de deuda pública emitidos al descuento como forma de financiación del Estado, normalmente a corto plazo, y aunque son inversiones de renta fija no están exentas de cierto riesgo aunque menor en comparación con otros productos, por eso su rentabilidad suele ser menor también.\n",
    "\n",
    "Que las letras estén emitidas al descuento significa que el valor nominal de la letra es de 1.000 euros, y su precio de compra estará por debajo de ese valor, la diferencia entre el valor de compra y venta nos determinará su rentabilidad.\n",
    "\n",
    "Por tanto, las letras del tesoro pueden ser adquiridas en múltiplos de 1.000 eruos, y dado que son a corto plazo (hecho que las distingue de los Bonos y Obligaciones), su duración es menor a 18 meses, normalmente 3, 6, 12 y 18 meses.\n",
    "\n",
    "FÓRMULA MATEMÁTICA FINANCIERA\n",
    "\n",
    "La fórmula que nos permite calcular el montante final, así como los intereses es:\n",
    "\n",
    "![image.png](attachment:image.png)\n",
    "\n",
    "\n",
    "Donde:\n",
    "\n",
    "**P** es el precio del título expresado en tanto por ciento del valor nominal.\n",
    "\n",
    "**n** es el número de días comprendidos entre la fecha de adquisición y la fecha de vencimiento.\n",
    "\n",
    "**d** es el tipo o tasa de descuento\n",
    "\n",
    "Debemos tener en cuenta que la función estudiada está diseñada para aquellos mercados, por ejemplo en EEUU, que cotizan al descuento y publican directamente el tipo de descuento.\n",
    "\n",
    "Para adaptar esta función al mercado español de Letras del Tesoro deberemos calcular el tipo de descuento “d” equivalente al tipo de interés “i” publicado en la subasta de los títulos, a partir de la ecuación de igualdad entre descuento comercial y descuento racional:\n",
    "\n",
    "![image-3.png](attachment:image-3.png)\n",
    "![image-4.png](attachment:image-4.png)\n",
    "![image-2.png](attachment:image-2.png)\n",
    "\n",
    "Donde:\n",
    "\n",
    "**Cn** es el valor nominal del título descontado.\n",
    "\n",
    "**n** son los días que van desde la fecha de adquisición hasta la fecha de vencimiento.\n",
    "\n",
    "**i** es el tipo de interés\n",
    "\n",
    "**d** es la tasa de descuento\n",
    "\n",
    "Vamos a ver algunos ejemplos para comprender la teoría:"
   ]
  },
  {
   "cell_type": "markdown",
   "metadata": {},
   "source": [
    "**Ejemplo 1.** En la subasta realizada el 23 de septiembre de 2014 nuestra empresa solicitó 60 letras del Tesoro en el tramo no competitivo. La dirección General del tesoro nos comunica que nos han adjudicado los 60 títulos. Los resultados de la subasta han sido los siguientes:\n",
    "\n",
    "Fecha de adquisición: 26 de septiembre de 2014\n",
    "\n",
    "Fecha de vencimiento: 12 de diciembre de 2014\n",
    "\n",
    "Tipo de interés medio: 0,056 %\n",
    "\n",
    "Se pide:\n",
    "\n",
    "Calcular el precio medio de una letra en tanto por ciento sobre su valor nominal.\n",
    "\n",
    "Calcular la inversión y el rendimiento obtenido si las letras se mantienen hasta la fecha de su vencimiento."
   ]
  },
  {
   "cell_type": "code",
   "execution_count": 25,
   "metadata": {},
   "outputs": [
    {
     "name": "stdout",
     "output_type": "stream",
     "text": [
      "La tasa de descuento es 0.00056\n",
      "El precio medio de una letra es  0.99988\n",
      "El precio medio de una letra en porcentaje es  99.988 %\n",
      "El capital invertido es 59992.81 euros\n",
      "El valor de amortización es 60000 euros\n",
      "Rendimiento de la inversión es 7.19 euros\n"
     ]
    }
   ],
   "source": [
    "f_adq = date(2014,9,26)\n",
    "f_vto = date(2014,12,12)\n",
    "n = f_adq - f_vto\n",
    "i = 0.00056\n",
    "\n",
    "#Primer paso: Cálculo tasa de descuento\n",
    "\n",
    "d = i/(1+(n.days*i/360))\n",
    "print(\"La tasa de descuento es\", round(d,6))\n",
    "\n",
    "#Segundo paso: Cálculo precio de adquisición\n",
    "\n",
    "P = (1+(d*n.days/360))\n",
    "print(\"El precio medio de una letra es \", round(P,6))\n",
    "\n",
    "#En porcentaje:\n",
    "\n",
    "Po = 100*(1+(d*n.days/360))\n",
    "print(\"El precio medio de una letra en porcentaje es \", round(Po,3), \"%\")\n",
    "\n",
    "#Capital que hemos invertido: nos han adjudicado 60 títulos:\n",
    "\n",
    "títulos = 60\n",
    "C_inver = P*títulos*1000\n",
    "print(\"El capital invertido es\", round(C_inver,2), \"euros\")\n",
    "\n",
    "#Pero su valor de amortización es:\n",
    "\n",
    "V_amortz = títulos*1000\n",
    "print(\"El valor de amortización es\", round(V_amortz,2), \"euros\")\n",
    "\n",
    "#Y por tanto el rendimiento es:\n",
    "rendim = V_amortz - C_inver\n",
    "print(\"Rendimiento de la inversión es\", round(rendim,2), \"euros\")\n"
   ]
  },
  {
   "cell_type": "markdown",
   "metadata": {},
   "source": [
    "**Ejemplo 2.** En la subasta realizada el 16 de septiembre de 2014 nuestra empresa solicitó 100 letras del Tesoro en el tramo no competitivo. La dirección General del Tesoro nos comunica que nos han adjudicado los 60 títulos. Los resultados de la subasta han sido los siguientes:\n",
    "\n",
    "Fecha de adquisición: 16 de septiembre de 2014\n",
    "\n",
    "Fecha de vencimiento: 18 de septiembre de 2015\n",
    "\n",
    "Tipo de interés medio: 0,219 %"
   ]
  },
  {
   "cell_type": "code",
   "execution_count": 87,
   "metadata": {
    "scrolled": false
   },
   "outputs": [
    {
     "name": "stdout",
     "output_type": "stream",
     "text": [
      "La tasa de descuento es 0.002195\n",
      "El precio medio de una letra es  0.997762\n",
      "El precio medio de una letra en porcentaje es  99.776 %\n",
      "El capital invertido es 59865.75 euros\n",
      "El valor de amortización es 60000 euros\n",
      "Rendimiento de la inversión es 134.25 euros\n"
     ]
    }
   ],
   "source": [
    "f_adq = date(2014,9,16)\n",
    "f_vto = date(2015,9,18)\n",
    "n = f_adq - f_vto\n",
    "i = 0.00219\n",
    "títulos = 60\n",
    "\n",
    "d = i/(1+(n.days*i/360))\n",
    "print(\"La tasa de descuento es\", round(d,6))\n",
    "\n",
    "P = (1+(d*n.days/360))\n",
    "print(\"El precio medio de una letra es \", round(P,6))\n",
    "\n",
    "Po = 100*(1+(d*n.days/360))\n",
    "print(\"El precio medio de una letra en porcentaje es \", round(Po,3), \"%\")\n",
    "\n",
    "títulos = 60\n",
    "C_inver = P*títulos*1000\n",
    "print(\"El capital invertido es\", round(C_inver,2), \"euros\")\n",
    "\n",
    "V_amortz = títulos*1000\n",
    "print(\"El valor de amortización es\", round(V_amortz,2), \"euros\")\n",
    "\n",
    "rendim = V_amortz - C_inver\n",
    "print(\"Rendimiento de la inversión es\", round(rendim,2), \"euros\")"
   ]
  },
  {
   "cell_type": "markdown",
   "metadata": {},
   "source": [
    "Si tuvieramos que realizar esta operación mediante **Excel** utilizaríamos la fórmula **LETRA.DE.TES.PRECIO**\n",
    "\n",
    "En anteriores apartados hemos visto que Numpy Financial contiene varias fórmulas financieras equivalentes en Excel, pero no es este el caso. Por ello vamos a crear una función que nos permita realizar este cálculo de forma atumática."
   ]
  },
  {
   "cell_type": "code",
   "execution_count": 88,
   "metadata": {},
   "outputs": [],
   "source": [
    "def LETRA_DE_TES_PRECIO(i, f_adq, f_vto):\n",
    "    '''\n",
    "        CÁLCULO DEL PRECIO\n",
    "        ==================\n",
    "        \n",
    "        Esta función nos calcula el precio por cada cien euros de valor nominal, \n",
    "        de una Letra del Tesoro o cualquier otro activo financiero que funcione al descuento, \n",
    "        tales como pagarés o letras de cambio, a un tipo o una tasa de descuento determinada, \n",
    "        siempre que los días de descuento sean inferiores a 366.\n",
    "        \n",
    "        i = Tipo o tasa de descuento anual del título\n",
    "        f_adq = Introducimos la fecha de compra o adquisición del activo financiero\n",
    "        f_vto = Introduciremos la fecha de vencimiento del activo financiero'''\n",
    "    \n",
    "    n = f_adq - f_vto\n",
    "    d = i/(1+(n.days*i/360))\n",
    "    Po = 100*(1+(d*n.days/360))\n",
    "    return print(\"El precio medio de una letra en porcentaje es \", round(Po,3), \"%\")"
   ]
  },
  {
   "cell_type": "code",
   "execution_count": 90,
   "metadata": {},
   "outputs": [
    {
     "name": "stdout",
     "output_type": "stream",
     "text": [
      "Introduzca el tipo de interés (Ejemplo 8%: 0.08) : 0.00219\n",
      "Introduzca la fecha de vencimiento de la Letra de Cambio (forma YYYY-MM-DD)2014-9-16\n",
      "Introduzca la fecha de liquidación de la Letra de Cambio (forma YYYY-MM-DD)2015-9-18\n",
      "El precio medio de una letra en porcentaje es  99.776 %\n"
     ]
    }
   ],
   "source": [
    "i = float(input('Introduzca el tipo de interés (Ejemplo 8%: 0.08) : '))\n",
    "datos_vto = input('Introduzca la fecha de vencimiento de la Letra de Cambio (forma YYYY-MM-DD)')\n",
    "año, mes, dia = map(int, datos_vto.split('-'))\n",
    "f_adq = date(año, mes, dia)\n",
    "datos_liq = input('Introduzca la fecha de liquidación de la Letra de Cambio (forma YYYY-MM-DD)')\n",
    "año, mes, dia = map(int, datos_liq.split('-'))\n",
    "f_vto = date(año, mes, dia)\n",
    "\n",
    "LETRA_DE_TES_PRECIO(i, f_adq, f_vto)"
   ]
  },
  {
   "attachments": {
    "image.png": {
     "image/png": "[encoded data removed]"
    }
   },
   "cell_type": "markdown",
   "metadata": {},
   "source": [
    "**Ejemplo 3.** En la subasta realizada el 23 de septiembre de 2014 nuestra empresa solicitó 60 letras del Tesoro en el tramo no competitivo. La dirección General del tesoro nos comunica que nos han adjudicado los 60 títulos. Los resultados de la subasta han sido los siguientes:\n",
    "\n",
    "Fecha de adquisición: 26 de septiembre de 2014\n",
    "\n",
    "Fecha de vencimiento: 12 de diciembre de 2014\n",
    "\n",
    "Precio medio en la subasta: 99,988\n",
    "\n",
    "SE PIDE: Calcular el tipo de interés de la operación financiera utilizando la función\n",
    "\n",
    "*Para solucionar este ejercicio necesitamos la fórmula matemática:*\n",
    "\n",
    "![image.png](attachment:image.png)"
   ]
  },
  {
   "cell_type": "code",
   "execution_count": 107,
   "metadata": {},
   "outputs": [
    {
     "name": "stdout",
     "output_type": "stream",
     "text": [
      "El tipo de interés de esta operación es 0.056 %\n"
     ]
    }
   ],
   "source": [
    "f_adq = date(2014,9,26)\n",
    "f_vto = date(2014,12,12)\n",
    "n = f_vto -f_adq\n",
    "Pm = 99.988\n",
    "\n",
    "i = ((100-Pm)*360)/(Pm*n.days)\n",
    "i = i*100\n",
    "print(\"El tipo de interés de esta operación es\", round(i,3), \"%\")"
   ]
  },
  {
   "cell_type": "markdown",
   "metadata": {},
   "source": [
    "Si tuvieramos que realizar esta operación mediante **Excel** utilizaríamos la fórmula **LETRA.DE.TES.RENDTO**\n",
    "\n",
    "En anteriores apartados hemos visto que Numpy Financial contiene varias fórmulas financieras equivalentes en Excel, pero no es este el caso. Por ello vamos a crear una función que nos permita realizar este cálculo de forma atumática."
   ]
  },
  {
   "cell_type": "code",
   "execution_count": 111,
   "metadata": {},
   "outputs": [],
   "source": [
    "def LETRA_DE_TES_RENDTO(Pm, f_adq, f_vto):\n",
    "    '''\n",
    "        CÁLCULO DEL RENDIMIENTO\n",
    "        =======================\n",
    "        \n",
    "        Esta función nos calcula el tipo de interés o rendimiento, \n",
    "        en régimen de capitalización simple (año comercial de 360 días), \n",
    "        de una Letra del Tesoro Público o pagaré a un plazo que no supere los 365 días \n",
    "        y siempre que conozcamos su precio expresado en porcentaje de su valor nominal.\n",
    "        \n",
    "        Pm = Es el precio de la letra o pagaré expresado en tanto por ciento de su valor nominal\n",
    "        f_adq = Introducimos la fecha de compra o adquisición del activo financiero\n",
    "        f_vto = Introduciremos la fecha de vencimiento del activo financiero'''\n",
    "    \n",
    "    n = f_vto -f_adq\n",
    "    i = ((100-Pm)*360)/(Pm*n.days)\n",
    "    i = i*100\n",
    "    return print(\"El tipo de interés de esta operación es\", round(i,3), \"%\")"
   ]
  },
  {
   "cell_type": "code",
   "execution_count": 116,
   "metadata": {},
   "outputs": [
    {
     "name": "stdout",
     "output_type": "stream",
     "text": [
      "Introduzca el precio de la letra expresado en tanto por ciento (Ejemplo: 99.998): 99.988\n",
      "Introduzca la fecha de vencimiento de la Letra de Cambio (forma YYYY-MM-DD)2014-12-12\n",
      "Introduzca la fecha de liquidación de la Letra de Cambio (forma YYYY-MM-DD)2014-9-26\n",
      "El tipo de interés de esta operación es 0.056 %\n"
     ]
    }
   ],
   "source": [
    "Pm = float(input('Introduzca el precio de la letra expresado en tanto por ciento (Ejemplo: 99.998): '))\n",
    "datos_vto = input('Introduzca la fecha de vencimiento de la Letra de Cambio (forma YYYY-MM-DD)')\n",
    "año, mes, dia = map(int, datos_vto.split('-'))\n",
    "f_vto = date(año, mes, dia)\n",
    "datos_adq = input('Introduzca la fecha de liquidación de la Letra de Cambio (forma YYYY-MM-DD)')\n",
    "año, mes, dia = map(int, datos_liq.split('-'))\n",
    "f_adq = date(año, mes, dia)\n",
    "\n",
    "LETRA_DE_TES_RENDTO(Pm, f_adq, f_vto)"
   ]
  },
  {
   "attachments": {
    "image.png": {
     "image/png": "[encoded data removed]"
    }
   },
   "cell_type": "markdown",
   "metadata": {},
   "source": [
    "# Bonos y Obligaciones\n",
    "\n",
    "*Mientras que las Letras del Tesoro están pensadas como un producto a corto plazo (menos de 18 meses), los bonos se emiten a largo plazo (entre 3 y 5 años) y las obligaciones a más largo plazo (10, 15 ó 30 años), por tanto funcionan de una forma parecida a los depósitos, solo que la emisión de deuda se hace en múltiplos de 1.000 euros.*\n",
    "\n",
    "*Además, la contratación de Bonos u Obligaciones no se realiza a descuento, sino que se ofrece un tipo de interes al que se será remunerado anualmente la inversión, es decir, si contratas un bono a 3 años, cada año se abonarán unos intereses a una rentabilidad previamente fijada, se denomina **Cupón**. Por tanto su funcionamiento es similar a los depósitos, solo que los intereses están calculados mediante interés simple*\n",
    "\n",
    "FÓRMULA MATEMÁTICA FINANCIERA\n",
    "\n",
    "![image.png](attachment:image.png)\n",
    "\n",
    "Donde:\n",
    "\n",
    "**Ai** es el número de días acumulados para el iésimo período de un cuasi-cupón dentro de un período irregular.\n",
    "\n",
    "**NC** número de períodos de un cuasi-cupón en un período irregular. Si este número contiene una fracción, auméntelo al siguiente número entero.\n",
    "\n",
    "**NLi** duración normal en días del iésimo período de un cuasi-cupón dentro de un período irregular."
   ]
  },
  {
   "attachments": {
    "image.png": {
     "image/png": "[encoded data removed]"
    }
   },
   "cell_type": "markdown",
   "metadata": {},
   "source": [
    "Vamos a ver un ejemplo práctico:\n",
    "\n",
    "**Ejemplo 3** Nuestra empresa compra el 19 de junio de 2014 un Bono del Estado a 5 años emitido el 15 de marzo de 2014 a un tipo nominal de interés del 3,25 %, cuyo valor nominal es de 1.000 euros y paga el cupón anualmente.\n",
    "\n",
    "Si nuestra empresa vende el título el 19 de junio de 2016, calcula el importe de los intereses acumulados por dicho bono hasta la fecha en que se vende. \n",
    "\n",
    "![image.png](attachment:image.png)"
   ]
  },
  {
   "cell_type": "code",
   "execution_count": 44,
   "metadata": {},
   "outputs": [
    {
     "name": "stdout",
     "output_type": "stream",
     "text": [
      "Los intereses acumulados hasta la fecha '2016-06-19' son 73.55 euros\n"
     ]
    }
   ],
   "source": [
    "Cn = 1000                         #Valor nominal de nuestro Bono\n",
    "f_emision = date(2014,3,15)       #Fecha Emisión Bono\n",
    "f_venta = date(2016,6,19)         #Fecha en la que se vende el Bono\n",
    "n = (f_venta-f_emision)           #Cálculo de días para el cálculo de intereses (restamos 1 día porque incluye todos, pero el de la venta no se debe incluir)\n",
    "n = n.days -1\n",
    "base = 365                        #Base del año (puede ser 360 o 365)\n",
    "i = 0.0325                        #tipo de interés\n",
    "\n",
    "int_acum = Cn*i*((n)/base)        #Fórmula intereses simple\n",
    "print(\"Los intereses acumulados hasta la fecha '{}' son {} euros\".format(f_venta, round(int_acum,2)))"
   ]
  },
  {
   "cell_type": "markdown",
   "metadata": {},
   "source": []
  },
  {
   "cell_type": "markdown",
   "metadata": {},
   "source": [
    "En toda letra de Tesoro intervienen como mínimo las siguientes partes:\n",
    "\n",
    "**Emisión** Fecha en en que el título es emitido por el organismo correspondiente\n",
    "\n",
    "**Primer interés** Fecha de pago del primer cupón\n",
    "\n",
    "**Liquidación** Fecha de negociación o liquidación del título\n",
    "\n",
    "**Tasa** Es el tipo de interés nominal del título\n",
    "\n",
    "**Par** Es el valor nominal del título (1.000 euros)\n",
    "\n",
    "**Frecuencia** Es el número de cupones que paga el título al año (anual, semestral, trimestral, etc.)\n",
    "\n",
    "Vamos a ver algunos ejemplos para comprender la teoría:"
   ]
  },
  {
   "cell_type": "code",
   "execution_count": 4,
   "metadata": {},
   "outputs": [
    {
     "name": "stdout",
     "output_type": "stream",
     "text": [
      "Collecting numpy-financial\n",
      "  Downloading numpy_financial-1.0.0-py3-none-any.whl (14 kB)\n",
      "Requirement already satisfied: numpy>=1.15 in c:\\users\\lenovo\\anaconda3\\lib\\site-packages (from numpy-financial) (1.19.2)\n",
      "Installing collected packages: numpy-financial\n",
      "Successfully installed numpy-financial-1.0.0\n",
      "Note: you may need to restart the kernel to use updated packages.\n"
     ]
    }
   ],
   "source": [
    "pip install numpy-financial"
   ]
  },
  {
   "cell_type": "code",
   "execution_count": 5,
   "metadata": {},
   "outputs": [],
   "source": [
    "import numpy_financial as npf\n",
    "import numpy as np\n",
    "import pandas as pd\n",
    "import matplotlib.pyplot as plt"
   ]
  },
  {
   "cell_type": "code",
   "execution_count": null,
   "metadata": {},
   "outputs": [],
   "source": []
  },
  {
   "cell_type": "code",
   "execution_count": null,
   "metadata": {},
   "outputs": [],
   "source": []
  },
  {
   "cell_type": "code",
   "execution_count": 30,
   "metadata": {},
   "outputs": [
    {
     "name": "stdout",
     "output_type": "stream",
     "text": [
      "Precio de compra de la letra(incluyendo gastos y comisiones): 999.88\n",
      "Vencimiento en meses: 2\n",
      "La rentabilidad de la letra es 0.01 %\n"
     ]
    }
   ],
   "source": [
    "C0 = float(input(\"Precio de compra de la letra(incluyendo gastos y comisiones): \"))  #solicitamos el precio de compra\n",
    "n = int(input(\"Vencimiento en meses: \"))             #el vencimiento\n",
    "Cn = 1000                                            #Al final siempre obtendremos el nominal, que son 1.000 euros\n",
    "cf = []    #Vamos a generar nuestros flujos para calcular la rentabilidad\n",
    "\n",
    "cf.append(-C0)   #Lo primero incorporar en negativo el desembolso inicial      \n",
    "\n",
    "for i in range(1, n, 1):   #después vamos a rellenar con 0 los periodos entre el incio y el final\n",
    "    cf.append(0)\n",
    "\n",
    "cf.append(Cn)     #por último incorporamos el nominal\n",
    "\n",
    "tir = (npf.irr(cf))*100  #Con la fórmula financiera IRR calculamos la rentabilidad de la Letra.\n",
    "\n",
    "print(\"La rentabilidad de la letra es {} %\".format(round(tir,2)))\n"
   ]
  },
  {
   "cell_type": "code",
   "execution_count": 12,
   "metadata": {},
   "outputs": [],
   "source": [
    "def TIR(nper, pv, fv = 1000):\n",
    "    cf = []   \n",
    "    cf.append(-pv)        \n",
    "    for i in range(1, nper, 1):   \n",
    "        cf.append(0)\n",
    "\n",
    "    cf.append(fv) \n",
    "\n",
    "    tir = (npf.irr(cf))*100\n",
    "    return tir\n",
    "    "
   ]
  },
  {
   "cell_type": "code",
   "execution_count": 38,
   "metadata": {},
   "outputs": [],
   "source": [
    "class Letras:\n",
    "    \n",
    "    @property \n",
    "    def nper(self): return self._nper\n",
    "    @nper.setter\n",
    "    def nper(self, nper):\n",
    "        if type(nper) == int and nper > 0:\n",
    "            self._nper = nper\n",
    "        else: print(\"Periodo debe ser > 0\")\n",
    "            \n",
    "    @property\n",
    "    def pv(self): return self._pv\n",
    "    @pv.setter\n",
    "    def pv(self, pv):\n",
    "        if (type(pv) == int or type(pv) == float) and pv > 0:\n",
    "            self._pv = pv\n",
    "        else: print(\"El precio de compra debe ser > 0\")\n",
    "    \n",
    "    def __init__(self, nper, pv, fv = 1000):                   \n",
    "        self.nper = nper\n",
    "        self.pv = pv                 \n",
    "        self.fv = fv #al llamar a la función de inicio si no se pone esta cantidad no pasa nada.\n",
    "        \n",
    "    def TIR(self):\n",
    "        tir = TIR(self.nper, self.pv, self.fv)\n",
    "        return print(\"La rentabilidad de la letra es {} %\".format(round(tir,2)))\n",
    "    \n",
    "    def TIRr(self):\n",
    "        tir = TIR(self.nper, self.pv, self.fv)\n",
    "        return tir\n",
    "        "
   ]
  },
  {
   "cell_type": "markdown",
   "metadata": {},
   "source": [
    "*Ejemplo de como funciona*"
   ]
  },
  {
   "cell_type": "code",
   "execution_count": 26,
   "metadata": {},
   "outputs": [
    {
     "name": "stdout",
     "output_type": "stream",
     "text": [
      "La rentabilidad de la letra es 1.72 %\n"
     ]
    }
   ],
   "source": [
    "Letra1 = Letras(3,950)\n",
    "Letra1.TIR()"
   ]
  },
  {
   "cell_type": "markdown",
   "metadata": {},
   "source": [
    "*Probemos con varias letras*"
   ]
  },
  {
   "cell_type": "code",
   "execution_count": 59,
   "metadata": {},
   "outputs": [],
   "source": [
    "letra1 = Letras(6, 958)\n",
    "letra2 = Letras(9, 879)\n",
    "letra3 = Letras(6, 960)\n",
    "letra4 = Letras(12, 898)\n",
    "letra5 = Letras(3, 980)"
   ]
  },
  {
   "cell_type": "code",
   "execution_count": 60,
   "metadata": {},
   "outputs": [
    {
     "name": "stdout",
     "output_type": "stream",
     "text": [
      "[0.7176881420101644, 1.443320963148742, 0.6826863266752081, 0.9005744103874003, 0.6756961723555666]\n"
     ]
    }
   ],
   "source": [
    "rentabilidad = []\n",
    "\n",
    "a = letra1.TIRr()\n",
    "rentabilidad.append(a)\n",
    "\n",
    "a = letra2.TIRr()\n",
    "rentabilidad.append(a)\n",
    "\n",
    "a = letra3.TIRr()\n",
    "rentabilidad.append(a)\n",
    "\n",
    "a = letra4.TIRr()\n",
    "rentabilidad.append(a)\n",
    "\n",
    "a = letra5.TIRr()\n",
    "rentabilidad.append(a)\n",
    "\n",
    "print(rentabilidad)"
   ]
  },
  {
   "cell_type": "code",
   "execution_count": 61,
   "metadata": {},
   "outputs": [
    {
     "data": {
      "image/png": "[encoded data removed]",
      "text/plain": [
       "<Figure size 720x360 with 1 Axes>"
      ]
     },
     "metadata": {
      "needs_background": "light"
     },
     "output_type": "display_data"
    }
   ],
   "source": [
    "p = ['letra1', 'letra2', 'letra3', 'letra4', 'letra5']\n",
    "plt.figure(figsize = (10, 5))\n",
    "plt.bar(p, rentabilidad)\n",
    "plt.title(\"Comparativa Letras\", fontsize = 16)\n",
    "plt.xlabel(\"Letras\", fontsize = 12)\n",
    "plt.ylabel(\"Rentabilidad (%)\", fontsize=12)\n",
    "plt.show()"
   ]
  },
  {
   "cell_type": "markdown",
   "metadata": {},
   "source": [
    "En este caso, la letra más rentable es la 2"
   ]
  }
 ],
 "metadata": {
  "kernelspec": {
   "display_name": "Python 3",
   "language": "python",
   "name": "python3"
  },
  "language_info": {
   "codemirror_mode": {
    "name": "ipython",
    "version": 3
   },
   "file_extension": ".py",
   "mimetype": "text/x-python",
   "name": "python",
   "nbconvert_exporter": "python",
   "pygments_lexer": "ipython3",
   "version": "3.8.5"
  }
 },
 "nbformat": 4,
 "nbformat_minor": 4
}
