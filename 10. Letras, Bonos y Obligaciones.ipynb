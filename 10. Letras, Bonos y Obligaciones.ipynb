{
 "cells": [
  {
   "cell_type": "markdown",
   "metadata": {},
   "source": [
    "# Análisis Letras del Tesoro#\n",
    "\n",
    "*Las Letras del Tesoro son títulos de deuda pública emitidos al descuento como forma de financiación del Estado, normalmente a corto plazo, y aunque son inversiones de renta fija no están exentas de cierto riesgo aunque menor en comparación con otros productos, por eso su rentabilidad suele ser menor también.*\n",
    "\n",
    "*Que las letras estén emitidas al descuento significa que el valor nominal de la letra es de 1.000 euros, y su precio de compra estará por debajo de ese valor, la diferencia entre el valor de compra y venta nos determinará su rentabilidad.*\n",
    "\n",
    "*Conociendo la teoría vamos crear un sistema que nos permita calcular la rentabilidad de las letras de forma rápida y sencilla para poder analizarlo y ver si nos interesa o no su adquisición*\n"
   ]
  },
  {
   "cell_type": "code",
   "execution_count": 1,
   "metadata": {},
   "outputs": [
    {
     "name": "stdout",
     "output_type": "stream",
     "text": [
      "Requirement already satisfied: numpy-financial in c:\\users\\rebec\\anaconda3\\lib\\site-packages (1.0.0)Note: you may need to restart the kernel to use updated packages.\n",
      "Requirement already satisfied: numpy>=1.15 in c:\\users\\rebec\\anaconda3\\lib\\site-packages (from numpy-financial) (1.18.5)\n",
      "\n"
     ]
    }
   ],
   "source": [
    "pip install numpy-financial"
   ]
  },
  {
   "cell_type": "code",
   "execution_count": 43,
   "metadata": {},
   "outputs": [],
   "source": [
    "import numpy_financial as npf\n",
    "import numpy as np\n",
    "import pandas as pd\n",
    "import matplotlib.pyplot as plt"
   ]
  },
  {
   "cell_type": "code",
   "execution_count": 10,
   "metadata": {},
   "outputs": [
    {
     "name": "stdout",
     "output_type": "stream",
     "text": [
      "Precio de compra de la letra(incluyendo gastos y comisiones): 950\n",
      "Vencimiento en meses: 3\n",
      "La rentabilidad de la letra es 1.72 %\n"
     ]
    }
   ],
   "source": [
    "C0 = float(input(\"Precio de compra de la letra(incluyendo gastos y comisiones): \"))  #solicitamos el precio de compra\n",
    "n = int(input(\"Vencimiento en meses: \"))             #el vencimiento\n",
    "Cn = 1000                                            #Al final siempre obtendremos el nominal, que son 1.000 euros\n",
    "cf = []    #Vamos a generar nuestros flujos para calcular la rentabilidad\n",
    "\n",
    "cf.append(-C0)   #Lo primero incorporar en negativo el desembolso inicial      \n",
    "\n",
    "for i in range(1, n, 1):   #después vamos a rellenar con 0 los periodos entre el incio y el final\n",
    "    cf.append(0)\n",
    "\n",
    "cf.append(Cn)     #por último incorporamos el nominal\n",
    "\n",
    "tir = (npf.irr(cf))*100  #Con la fórmula financiera IRR calculamos la rentabilidad de la Letra.\n",
    "\n",
    "print(\"La rentabilidad de la letra es {} %\".format(round(tir,2)))\n"
   ]
  },
  {
   "cell_type": "code",
   "execution_count": 12,
   "metadata": {},
   "outputs": [],
   "source": [
    "def TIR(nper, pv, fv = 1000):\n",
    "    cf = []   \n",
    "    cf.append(-pv)        \n",
    "    for i in range(1, nper, 1):   \n",
    "        cf.append(0)\n",
    "\n",
    "    cf.append(fv) \n",
    "\n",
    "    tir = (npf.irr(cf))*100\n",
    "    return tir\n",
    "    "
   ]
  },
  {
   "cell_type": "code",
   "execution_count": 38,
   "metadata": {},
   "outputs": [],
   "source": [
    "class Letras:\n",
    "    \n",
    "    @property \n",
    "    def nper(self): return self._nper\n",
    "    @nper.setter\n",
    "    def nper(self, nper):\n",
    "        if type(nper) == int and nper > 0:\n",
    "            self._nper = nper\n",
    "        else: print(\"Periodo debe ser > 0\")\n",
    "            \n",
    "    @property\n",
    "    def pv(self): return self._pv\n",
    "    @pv.setter\n",
    "    def pv(self, pv):\n",
    "        if (type(pv) == int or type(pv) == float) and pv > 0:\n",
    "            self._pv = pv\n",
    "        else: print(\"El precio de compra debe ser > 0\")\n",
    "    \n",
    "    def __init__(self, nper, pv, fv = 1000):                   \n",
    "        self.nper = nper\n",
    "        self.pv = pv                 \n",
    "        self.fv = fv #al llamar a la función de inicio si no se pone esta cantidad no pasa nada.\n",
    "        \n",
    "    def TIR(self):\n",
    "        tir = TIR(self.nper, self.pv, self.fv)\n",
    "        return print(\"La rentabilidad de la letra es {} %\".format(round(tir,2)))\n",
    "    \n",
    "    def TIRr(self):\n",
    "        tir = TIR(self.nper, self.pv, self.fv)\n",
    "        return tir\n",
    "        "
   ]
  },
  {
   "cell_type": "markdown",
   "metadata": {},
   "source": [
    "*Ejemplo de como funciona*"
   ]
  },
  {
   "cell_type": "code",
   "execution_count": 26,
   "metadata": {},
   "outputs": [
    {
     "name": "stdout",
     "output_type": "stream",
     "text": [
      "La rentabilidad de la letra es 1.72 %\n"
     ]
    }
   ],
   "source": [
    "Letra1 = Letras(3,950)\n",
    "Letra1.TIR()"
   ]
  },
  {
   "cell_type": "markdown",
   "metadata": {},
   "source": [
    "*Probemos con varias letras*"
   ]
  },
  {
   "cell_type": "code",
   "execution_count": 59,
   "metadata": {},
   "outputs": [],
   "source": [
    "letra1 = Letras(6, 958)\n",
    "letra2 = Letras(9, 879)\n",
    "letra3 = Letras(6, 960)\n",
    "letra4 = Letras(12, 898)\n",
    "letra5 = Letras(3, 980)"
   ]
  },
  {
   "cell_type": "code",
   "execution_count": 60,
   "metadata": {},
   "outputs": [
    {
     "name": "stdout",
     "output_type": "stream",
     "text": [
      "[0.7176881420101644, 1.443320963148742, 0.6826863266752081, 0.9005744103874003, 0.6756961723555666]\n"
     ]
    }
   ],
   "source": [
    "rentabilidad = []\n",
    "\n",
    "a = letra1.TIRr()\n",
    "rentabilidad.append(a)\n",
    "\n",
    "a = letra2.TIRr()\n",
    "rentabilidad.append(a)\n",
    "\n",
    "a = letra3.TIRr()\n",
    "rentabilidad.append(a)\n",
    "\n",
    "a = letra4.TIRr()\n",
    "rentabilidad.append(a)\n",
    "\n",
    "a = letra5.TIRr()\n",
    "rentabilidad.append(a)\n",
    "\n",
    "print(rentabilidad)"
   ]
  },
  {
   "cell_type": "code",
   "execution_count": 61,
   "metadata": {},
   "outputs": [
    {
     "data": {
      "image/png": "[encoded data removed]",
      "text/plain": [
       "<Figure size 720x360 with 1 Axes>"
      ]
     },
     "metadata": {
      "needs_background": "light"
     },
     "output_type": "display_data"
    }
   ],
   "source": [
    "p = ['letra1', 'letra2', 'letra3', 'letra4', 'letra5']\n",
    "plt.figure(figsize = (10, 5))\n",
    "plt.bar(p, rentabilidad)\n",
    "plt.title(\"Comparativa Letras\", fontsize = 16)\n",
    "plt.xlabel(\"Letras\", fontsize = 12)\n",
    "plt.ylabel(\"Rentabilidad (%)\", fontsize=12)\n",
    "plt.show()"
   ]
  },
  {
   "cell_type": "markdown",
   "metadata": {},
   "source": [
    "En este caso, la letra más rentable es la 2"
   ]
  },
  {
   "cell_type": "markdown",
   "metadata": {},
   "source": [
    "# Bonos y Obligaciones#\n",
    "\n",
    "*Mientras que las Letras del Tesoro están pensadas como un producto a corto plazo (menos de 18 meses), los bonos se emiten a largo plazo (entre 3 y 5 años) y las obligaciones a más largo plazo (10, 15 ó 30 años), por tanto funcionan de una forma parecida a los depósitos, solo que la emisión de deuda se hace en múltiplos de 1.000 euros.*\n",
    "\n",
    "*Además, la contratación de Bonos u Obligaciones no se realiza a descuento, sino que se ofrece un tipo de interes al que se será remunerado anualmente la inversión, es decir, si contratas un bono a 3 años, cada año se abonarán unos intereses a una rentabilidad previamente fijada, se denomina **Cupón**. Por tanto su funcionamiento es similar a los depósitos, solo que los intereses están calculados mediante interés simple*\n",
    "\n",
    "**De momento voy a dejar este apartado pendiente**"
   ]
  }
 ],
 "metadata": {
  "kernelspec": {
   "display_name": "Python 3",
   "language": "python",
   "name": "python3"
  },
  "language_info": {
   "codemirror_mode": {
    "name": "ipython",
    "version": 3
   },
   "file_extension": ".py",
   "mimetype": "text/x-python",
   "name": "python",
   "nbconvert_exporter": "python",
   "pygments_lexer": "ipython3",
   "version": "3.8.3"
  }
 },
 "nbformat": 4,
 "nbformat_minor": 4
}
