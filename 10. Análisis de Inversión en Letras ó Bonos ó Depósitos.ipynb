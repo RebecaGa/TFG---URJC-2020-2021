{
 "cells": [
  {
   "cell_type": "markdown",
   "metadata": {},
   "source": [
    "# Análisis de Inversiones #\n",
    "\n",
    "*Hemos visto cómo analizar proyectos, ahora vamos a realizar la misma operación, pero esta vez lo que se va a analizar son inversiones de renta fija, tales como Letras del Tesoro, Depósitos, Bonos del Estado, que si bien pueden tener variaciones en su tipo de interés, se las considera de Renta Fija porque no suponen mucho riesgo.*\n",
    "\n",
    "*Normalmente, este tipo de inversiones consisten en una inversión inicial, que genera unos intereses que se reinvierten generando más intereses, y recuperas la inversión más los intereses al final del periodo. El tipo de interés suele estar pactado de antemano, ya sea por tramos o constante*\n"
   ]
  },
  {
   "cell_type": "code",
   "execution_count": 1,
   "metadata": {},
   "outputs": [
    {
     "name": "stdout",
     "output_type": "stream",
     "text": [
      "Requirement already satisfied: numpy-financial in c:\\users\\rebec\\anaconda3\\lib\\site-packages (1.0.0)\n",
      "Requirement already satisfied: numpy>=1.15 in c:\\users\\rebec\\anaconda3\\lib\\site-packages (from numpy-financial) (1.18.5)\n",
      "Note: you may need to restart the kernel to use updated packages.\n"
     ]
    }
   ],
   "source": [
    "pip install numpy-financial"
   ]
  },
  {
   "cell_type": "code",
   "execution_count": 2,
   "metadata": {},
   "outputs": [],
   "source": [
    "import numpy_financial as npf\n",
    "import numpy as np\n",
    "import pandas as pd"
   ]
  },
  {
   "cell_type": "code",
   "execution_count": 3,
   "metadata": {},
   "outputs": [],
   "source": [
    "import matplotlib.pyplot as plt"
   ]
  },
  {
   "cell_type": "code",
   "execution_count": 4,
   "metadata": {},
   "outputs": [],
   "source": [
    "plt.close(\"all\")"
   ]
  },
  {
   "cell_type": "code",
   "execution_count": null,
   "metadata": {},
   "outputs": [],
   "source": [
    "#Damos forma a determinadas funciones que después vamos a incorporar en nuestra class\n",
    "\n",
    "def VAN(rate, values):     #para su calculo necesitamos una tasa de descuento y unos flujos de caja\n",
    "    VAN = 0\n",
    "    for i in range(len(values)):\n",
    "        VAN += values[i]/(1+rate)**(i)\n",
    "    return VAN\n",
    "\n",
    "def TIR(values):           #Para el cálculo de la TIR solo necesitamos los flujos de caja\n",
    "    TIR = npf.irr(values)\n",
    "    return TIR\n",
    "\n",
    "def PAYBACK(values):       #Igualmente, para el Payback solo necesitamos los flujos de caja\n",
    "\n",
    "    Acum_FC = 0\n",
    "\n",
    "    for i in range(len(FC)):\n",
    "        Acum_FC += FC[i]\n",
    "    \n",
    "        if Acum_FC > 0:\n",
    "            return i\n",
    "            break\n",
    "        \n",
    "        elif Acum_FC <= 0 and i == len(FC)-1:\n",
    "            print(\"El proyecto no recupera su inversión\")\n",
    "            \n",
    "            \n",
    "def IR(rate, pv, values):    #Para el índice de rentabilidad necesitamos varios datos.\n",
    "    values = values[1:]\n",
    "    \n",
    "    VA = npf.npv(rate, values)\n",
    "    IR = VA / pv\n",
    "    return IR"
   ]
  }
 ],
 "metadata": {
  "kernelspec": {
   "display_name": "Python 3",
   "language": "python",
   "name": "python3"
  },
  "language_info": {
   "codemirror_mode": {
    "name": "ipython",
    "version": 3
   },
   "file_extension": ".py",
   "mimetype": "text/x-python",
   "name": "python",
   "nbconvert_exporter": "python",
   "pygments_lexer": "ipython3",
   "version": "3.8.3"
  }
 },
 "nbformat": 4,
 "nbformat_minor": 4
}
