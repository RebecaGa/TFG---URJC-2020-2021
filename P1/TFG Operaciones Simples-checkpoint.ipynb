{
 "cells": [
  {
   "cell_type": "code",
   "execution_count": 3,
   "metadata": {},
   "outputs": [],
   "source": [
    "# Capitalización Simple: Fórmula - Cn = C0 * (1 + i * n)#\n",
    "\n",
    "#En Python podemos hacer nuestra propia función"
   ]
  },
  {
   "cell_type": "code",
   "execution_count": 1,
   "metadata": {},
   "outputs": [
    {
     "output_type": "execute_result",
     "data": {
      "text/plain": [
       "1120.0"
      ]
     },
     "metadata": {},
     "execution_count": 1
    }
   ],
   "source": [
    "C0 = 1000\n",
    "i = 0.03\n",
    "n = 4\n",
    "\n",
    "Cn = C0 * (1 + i * n)\n",
    "Cn"
   ]
  },
  {
   "cell_type": "code",
   "execution_count": 2,
   "metadata": {},
   "outputs": [],
   "source": [
    "#O bien podemos crear una simple calculadora financiera, que nos vaya pidiendo los pasos,\n",
    "#sin necesidad de conocer la fórmula"
   ]
  },
  {
   "cell_type": "code",
   "execution_count": 32,
   "metadata": {},
   "outputs": [
    {
     "name": "stdout",
     "output_type": "stream",
     "text": [
      "Indique que tipo de periodo: \n",
      "                          m = mensual\n",
      "                          a = anual\n",
      "                          t = trimestral\n",
      "                          s = semestral m\n",
      "Importe a invertir: 1500\n",
      "Tasa de interés anual (TIN): 3\n",
      "Número de periodos (EN MESES): 12\n",
      "Su inversión tendrá un valor futuro de: 1545.0\n"
     ]
    }
   ],
   "source": [
    "def CalculaFinanciera():\n",
    "    \n",
    "    mes = ['m', 'M', 'mes', 'mensual','MENSUAL', 'MES']\n",
    "    año = ['a', 'A' , 'anual' , 'ANUAL' , 'Anual' , 'Año' , 'AÑO']\n",
    "    trimestral = ['t' , 'T' , 'trimestral' , 'Trimestral' , 'TRIMESTRAL' , 'TRES']\n",
    "    semestral = ['s', 'S', 'semestre', 'SEMESTRE', 'Semestre', 'semestral', 'SEMESTRAL', 'seis', 'Semestral']\n",
    "    try:\n",
    "        tipo = input('''Indique que tipo de periodo: \n",
    "                          m = mensual\n",
    "                          a = anual\n",
    "                          t = trimestral\n",
    "                          s = semestral ''')\n",
    "        if tipo in mes:\n",
    "                Importe = float(input('Importe a invertir: '))\n",
    "                interesm = float(input('Tasa de interés anual (TIN): '))\n",
    "                Periodos = int(input('Número de periodos (EN MESES): '))\n",
    "                interesm = (interesm / 100) / 12\n",
    "                vf = Importe * (1 + interesm * Periodos)\n",
    "        elif tipo in año:\n",
    "                Importe = float(input('Importe a invertir: '))\n",
    "                interesa = float(input('Tasa de interés anual (TIN): '))\n",
    "                Periodos = int(input('Número de periodos (EN AÑOS): '))\n",
    "                interesa = interesa / 100\n",
    "                vf = Importe * (1 + interesa * Periodos)\n",
    "        elif tipo in trimestral:\n",
    "                Importe = float(input('Importe a invertir: '))\n",
    "                interest = float(input('Tasa de interés anual (TIN): '))\n",
    "                Periodos = int(input('Número de periodos (EN TRIMESTRES): '))\n",
    "                interest = (interest / 100)/4\n",
    "                vf = Importe * (1 + interest * Periodos)\n",
    "        elif tipo in semestral:\n",
    "                Importe = float(input('Importe a invertir: '))\n",
    "                interesb = float(input('Tasa de interés anual (TIN): '))\n",
    "                Periodos = int(input('Número de periodos (EN SEMESTRES): '))\n",
    "                interesb = (interesb / 100)/2\n",
    "                vf = Importe * (1 + interesb * Periodos)\n",
    "        print(\"Su inversión tendrá un valor futuro de: {}\".format(vf))\n",
    "    except ValueError:\n",
    "        print('Error!, solo se admiten numeros')\n",
    "        \n",
    "        \n",
    "        \n",
    "        \n",
    "      \n",
    "\n",
    "CalculaFinanciera()"
   ]
  },
  {
   "cell_type": "code",
   "execution_count": 4,
   "metadata": {},
   "outputs": [
    {
     "output_type": "error",
     "ename": "ValueError",
     "evalue": "could not convert string to float: ''",
     "traceback": [
      "\u001b[1;31m---------------------------------------------------------------------------\u001b[0m",
      "\u001b[1;31mValueError\u001b[0m                                Traceback (most recent call last)",
      "\u001b[1;32m<ipython-input-4-a57ce9b73006>\u001b[0m in \u001b[0;36m<module>\u001b[1;34m\u001b[0m\n\u001b[0;32m      1\u001b[0m \u001b[1;31m# O bien podemos:\u001b[0m\u001b[1;33m\u001b[0m\u001b[1;33m\u001b[0m\u001b[1;33m\u001b[0m\u001b[0m\n\u001b[0;32m      2\u001b[0m \u001b[1;33m\u001b[0m\u001b[0m\n\u001b[1;32m----> 3\u001b[1;33m \u001b[0mc0\u001b[0m \u001b[1;33m=\u001b[0m \u001b[0mfloat\u001b[0m\u001b[1;33m(\u001b[0m\u001b[0minput\u001b[0m\u001b[1;33m(\u001b[0m\u001b[1;34m\"Capital inicial: \"\u001b[0m\u001b[1;33m)\u001b[0m\u001b[1;33m)\u001b[0m\u001b[1;33m\u001b[0m\u001b[1;33m\u001b[0m\u001b[0m\n\u001b[0m\u001b[0;32m      4\u001b[0m \u001b[0minteres\u001b[0m \u001b[1;33m=\u001b[0m \u001b[0mfloat\u001b[0m\u001b[1;33m(\u001b[0m\u001b[0minput\u001b[0m\u001b[1;33m(\u001b[0m\u001b[1;34m\"Interes: \"\u001b[0m\u001b[1;33m)\u001b[0m\u001b[1;33m)\u001b[0m\u001b[1;33m\u001b[0m\u001b[1;33m\u001b[0m\u001b[0m\n\u001b[0;32m      5\u001b[0m \u001b[0mn\u001b[0m \u001b[1;33m=\u001b[0m \u001b[0mfloat\u001b[0m\u001b[1;33m(\u001b[0m\u001b[0minput\u001b[0m\u001b[1;33m(\u001b[0m\u001b[1;34m\"Plazo: \"\u001b[0m\u001b[1;33m)\u001b[0m\u001b[1;33m)\u001b[0m\u001b[1;33m\u001b[0m\u001b[1;33m\u001b[0m\u001b[0m\n",
      "\u001b[1;31mValueError\u001b[0m: could not convert string to float: ''"
     ]
    }
   ],
   "source": [
    "# O bien podemos:\n",
    "\n",
    "c0 = float(input(\"Capital inicial: \"))\n",
    "interes = float(input(\"Interes: \"))\n",
    "n = float(input(\"Plazo: \"))\n",
    "t = 0\n",
    "intereses = []\n",
    "capital = []\n",
    "tiempo = []\n",
    "\n",
    "\n",
    "while (t < n): \n",
    "    tiempo.append(t)\n",
    "    ianual = c0 * (interes/100)\n",
    "    intereses.append(ianual)\n",
    "    c = sum(intereses, start = c0)\n",
    "    capital.append(c)\n",
    "    t = t+1\n",
    "    \n",
    "    if (t > n):\n",
    "        break\n",
    "        \n",
    "\n",
    "    \n",
    "        \n",
    "print(intereses)\n",
    "print(capital)\n",
    "print(tiempo)"
   ]
  },
  {
   "cell_type": "code",
   "execution_count": null,
   "metadata": {},
   "outputs": [],
   "source": [
    "import matplotlib.pyplot as plt\n",
    "import numpy as np\n",
    "\n",
    "#y hacer una gráfica con estas librerías"
   ]
  },
  {
   "cell_type": "code",
   "execution_count": null,
   "metadata": {},
   "outputs": [],
   "source": [
    "fig, ax = plt.subplots()\n",
    "ax.bar(tiempo, capital, color = \"purple\")\n",
    "plt.plot(capital, color = \"orange\", marker = '*', markersize = 4)\n",
    "plt.title(\"Capital Simple\", fontsize = 20)\n",
    "plt.xlabel(\"Tiempo en años\", fontsize = 15)\n",
    "plt.ylabel(\"Capital en €\", fontsize = 15)\n",
    "plt.xticks(np.arange(tiempo[0], tiempo[-1], 1))\n",
    "plt.yticks(np.arange(0,capital[-1],1000))\n",
    "plt.show()"
   ]
  },
  {
   "cell_type": "code",
   "execution_count": null,
   "metadata": {},
   "outputs": [],
   "source": [
    "#en el gráfico podemos comprobar como cada año aumentan mis intereses en la misma cantidad, \n",
    "#se van acumulando pero no generan más intereses."
   ]
  },
  {
   "cell_type": "code",
   "execution_count": null,
   "metadata": {},
   "outputs": [],
   "source": []
  }
 ],
 "metadata": {
  "kernelspec": {
   "display_name": "Python 3",
   "language": "python",
   "name": "python3"
  },
  "language_info": {
   "codemirror_mode": {
    "name": "ipython",
    "version": 3
   },
   "file_extension": ".py",
   "mimetype": "text/x-python",
   "name": "python",
   "nbconvert_exporter": "python",
   "pygments_lexer": "ipython3",
   "version": "3.8.3-final"
  }
 },
 "nbformat": 4,
 "nbformat_minor": 4
}