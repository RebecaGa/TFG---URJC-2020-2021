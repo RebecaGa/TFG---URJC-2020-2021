{
 "cells": [
  {
   "cell_type": "markdown",
   "metadata": {},
   "source": [
    "# **Análisis de un Proyecto**\n",
    "\n",
    "*Ya hemos comprobado diferentes índices que nos indican la liquidez y rentabilidad de un proyecto, ahora lo que vamos a tratar es de crear un sistema que nos permita realizar todos los cálculos y nos determine si un proyecto es viable o no, incluso comparar varios proyectos para tomar una rápida decisión*\n",
    "\n",
    "*Nos vamos a ayudar de objeto de Clases, para trabajar esta parte de Python, pero podríamos hacerlo de muchas maneras*"
   ]
  },
  {
   "cell_type": "code",
   "execution_count": 7,
   "metadata": {},
   "outputs": [
    {
     "name": "stdout",
     "output_type": "stream",
     "text": [
      "Requirement already satisfied: numpy-financial in c:\\users\\rebec\\anaconda3\\lib\\site-packages (1.0.0)\n",
      "Requirement already satisfied: numpy>=1.15 in c:\\users\\rebec\\anaconda3\\lib\\site-packages (from numpy-financial) (1.18.5)\n",
      "Note: you may need to restart the kernel to use updated packages.\n"
     ]
    }
   ],
   "source": [
    "pip install numpy-financial"
   ]
  },
  {
   "cell_type": "code",
   "execution_count": 1,
   "metadata": {},
   "outputs": [],
   "source": [
    "import numpy_financial as npf\n",
    "import numpy as np\n",
    "import pandas as pd"
   ]
  },
  {
   "cell_type": "code",
   "execution_count": 2,
   "metadata": {},
   "outputs": [],
   "source": [
    "import matplotlib.pyplot as plt"
   ]
  },
  {
   "cell_type": "code",
   "execution_count": 3,
   "metadata": {},
   "outputs": [],
   "source": [
    "plt.close(\"all\")"
   ]
  },
  {
   "cell_type": "code",
   "execution_count": 17,
   "metadata": {},
   "outputs": [],
   "source": [
    "#Damos forma a determinadas funciones que después vamos a incorporar en nuestra class\n",
    "\n",
    "def VAN(rate, values):     #para su calculo necesitamos una tasa de descuento y unos flujos de caja\n",
    "    VAN = 0\n",
    "    for i in range(len(values)):\n",
    "        VAN += values[i]/(1+rate)**(i)\n",
    "    return VAN\n",
    "\n",
    "def TIR(values):           #Para el cálculo de la TIR solo necesitamos los flujos de caja\n",
    "    TIR = npf.irr(values)\n",
    "    return TIR\n",
    "\n",
    "def PAYBACK(values):       #Igualmente, para el Payback solo necesitamos los flujos de caja\n",
    "    FC = []\n",
    "    Acum_FC = 0\n",
    "\n",
    "    for i in range(len(FC)):\n",
    "        Acum_FC += FC[i]\n",
    "    \n",
    "        if Acum_FC > 0:\n",
    "            return i\n",
    "            break\n",
    "        \n",
    "        elif Acum_FC <= 0 and i == len(FC)-1:\n",
    "            print(\"El proyecto no recupera su inversión\")\n",
    "            \n",
    "            \n",
    "def IR(rate, pv, values):    #Para el índice de rentabilidad necesitamos varios datos.\n",
    "    values = values[1:]\n",
    "    \n",
    "    VA = npf.npv(rate, values)\n",
    "    IR = VA / pv\n",
    "    return IR\n",
    "            "
   ]
  },
  {
   "cell_type": "code",
   "execution_count": 18,
   "metadata": {},
   "outputs": [],
   "source": [
    "\n",
    "\n",
    "#Definimos class Proyecto, empezando por las propiedades de las variables, evitando valores nulos.\n",
    "\n",
    "class Proyecto:\n",
    "    \n",
    "    @property \n",
    "    def nper(self): return self._nper #Todo proyecto debe tener un periodo superior a 0\n",
    "    @nper.setter\n",
    "    def nper(self, nper):\n",
    "        if type(nper) == int and nper > 0:\n",
    "            self._nper = nper\n",
    "        else: print(\"La duración del periodo debe ser > 0\")\n",
    "            \n",
    "    @property \n",
    "    def pv(self): return self._pv #Todo proyecto debe tener una inversión inicial superior a 0\n",
    "    @pv.setter\n",
    "    def pv(self, pv):\n",
    "        if (type(pv) == int or type(pv) == float) and pv > 0:\n",
    "            self._pv = pv\n",
    "        else: print(\"La inversión inicial debe ser > 0\")\n",
    "            \n",
    "    @property\n",
    "    def rate(self): return self._rate #En este caso, vamos a pedir una tasa de interés, más adelante veremos calcular\n",
    "    @rate.setter\n",
    "    def rate(self, rate):\n",
    "        if type(rate) == float and rate > 0: \n",
    "            self._rate = rate\n",
    "        else: print(\"El interés (8% = 0.08) de ser > 0\")\n",
    "            \n",
    "    def __init__(self, rate, nper, pv, values):  #Definimos qué datos necesitamos para analizar nuestro proyecto\n",
    "        self.rate = rate             #tasa de descuento\n",
    "        self.nper = nper             #duración del proyecto\n",
    "        self.pv = pv                 #inversión inicial\n",
    "        self.values = values         #flujos de caja del proyecto (más adelante veremos si podemos calcularlos)\n",
    "        \n",
    "    def VAN(self):\n",
    "        return VAN(self.rate, self.values)   # definimos la función para todos los objetos de Proyecto.\n",
    "    \n",
    "    def TIR(self):\n",
    "        return TIR(self.values)              # definimos la función para todos los objetos de Proyecto\n",
    "    \n",
    "    def PAYBACK(self):\n",
    "        return PAYBACK(self.values)          # definimos la función de Payback para Proyecto\n",
    "    \n",
    "    def IR(self):\n",
    "        return IR(self.rate, self.pv, self.values) # definimos la función de Indice Rentabilidad para Proyecto\n",
    "    \n",
    "    def ANALISIS(self):\n",
    "        return \"Este proyecto tiene un VAN de {}, una TIR de {}, su PayBack es de {} años, y su indice de retorno es de {}\".format(round(VAN(self.rate, self.values),2), round(TIR(self.values),2), PAYBACK(self.values), round(IR(self.rate, self.pv, self.values),2)) \n",
    "    \n",
    "       "
   ]
  },
  {
   "cell_type": "markdown",
   "metadata": {},
   "source": [
    "*Ahora podemos usar nuestra class para el análisis de cualquier proyecto. Bien podemos usar de forma separada las funciones, o acudir a la función ANÁLISIS que nos realizará todos los cálculos*"
   ]
  },
  {
   "cell_type": "code",
   "execution_count": 19,
   "metadata": {},
   "outputs": [],
   "source": [
    "cf1=[-1000, 200, 300, 1000, 500]\n",
    "Proyecto1 = Proyecto(0.05, 3, 1000, cf1)"
   ]
  },
  {
   "cell_type": "code",
   "execution_count": 20,
   "metadata": {},
   "outputs": [
    {
     "data": {
      "text/plain": [
       "737.7738699410224"
      ]
     },
     "execution_count": 20,
     "metadata": {},
     "output_type": "execute_result"
    }
   ],
   "source": [
    "Proyecto1.VAN()"
   ]
  },
  {
   "cell_type": "code",
   "execution_count": 21,
   "metadata": {},
   "outputs": [
    {
     "data": {
      "text/plain": [
       "0.28116785840687086"
      ]
     },
     "execution_count": 21,
     "metadata": {},
     "output_type": "execute_result"
    }
   ],
   "source": [
    "Proyecto1.TIR()"
   ]
  },
  {
   "cell_type": "code",
   "execution_count": 22,
   "metadata": {},
   "outputs": [],
   "source": [
    "Proyecto1.PAYBACK()"
   ]
  },
  {
   "cell_type": "code",
   "execution_count": 23,
   "metadata": {},
   "outputs": [
    {
     "data": {
      "text/plain": [
       "1.8246625634380738"
      ]
     },
     "execution_count": 23,
     "metadata": {},
     "output_type": "execute_result"
    }
   ],
   "source": [
    "Proyecto1.IR()"
   ]
  },
  {
   "cell_type": "code",
   "execution_count": 24,
   "metadata": {},
   "outputs": [
    {
     "data": {
      "text/plain": [
       "'Este proyecto tiene un VAN de 737.77, una TIR de 0.28, su PayBack es de None años, y su indice de retorno es de 1.82'"
      ]
     },
     "execution_count": 24,
     "metadata": {},
     "output_type": "execute_result"
    }
   ],
   "source": [
    "Proyecto1.ANALISIS()"
   ]
  },
  {
   "cell_type": "markdown",
   "metadata": {},
   "source": [
    "*Igualmente, podemos tener tantos proyectos como queramos, y analizarlos todos*"
   ]
  },
  {
   "cell_type": "code",
   "execution_count": 25,
   "metadata": {},
   "outputs": [],
   "source": [
    "Proyecto2 = Proyecto(0.05,3,1000,[-1000, 500, 500, 500])\n",
    "Proyecto3 = Proyecto(0.03,4,500,[-500, 200, 200, 200, 200])\n",
    "Proyecto4 = Proyecto(0.02,2,200,[-200, 500, 500])\n",
    "Proyecto5 = Proyecto(0.08,5,1500,[-1500, 400, 400, 400, 400, 400])\n",
    "Proyecto6 = Proyecto(0.03,3,400,[-400, 500, 500, 500])\n",
    "Proyecto7 = Proyecto(0.07,2,800,[-800, 600, 600])\n",
    "Proyecto8 = Proyecto(0.05,4,700,[-700, 400, 400, 400, 400])\n",
    "Proyecto9 = Proyecto(0.06,3,900,[-900, 800, 800, 800])"
   ]
  },
  {
   "cell_type": "code",
   "execution_count": 26,
   "metadata": {},
   "outputs": [
    {
     "data": {
      "text/plain": [
       "'Este proyecto tiene un VAN de 361.62, una TIR de 0.23, su PayBack es de None años, y su indice de retorno es de 1.43'"
      ]
     },
     "execution_count": 26,
     "metadata": {},
     "output_type": "execute_result"
    }
   ],
   "source": [
    "Proyecto2.ANALISIS()"
   ]
  },
  {
   "cell_type": "code",
   "execution_count": 27,
   "metadata": {},
   "outputs": [
    {
     "data": {
      "text/plain": [
       "'Este proyecto tiene un VAN de 243.42, una TIR de 0.22, su PayBack es de None años, y su indice de retorno es de 1.53'"
      ]
     },
     "execution_count": 27,
     "metadata": {},
     "output_type": "execute_result"
    }
   ],
   "source": [
    "Proyecto3.ANALISIS()"
   ]
  }
 ],
 "metadata": {
  "kernelspec": {
   "display_name": "Python 3",
   "language": "python",
   "name": "python3"
  },
  "language_info": {
   "codemirror_mode": {
    "name": "ipython",
    "version": 3
   },
   "file_extension": ".py",
   "mimetype": "text/x-python",
   "name": "python",
   "nbconvert_exporter": "python",
   "pygments_lexer": "ipython3",
   "version": "3.8.5"
  }
 },
 "nbformat": 4,
 "nbformat_minor": 4
}
