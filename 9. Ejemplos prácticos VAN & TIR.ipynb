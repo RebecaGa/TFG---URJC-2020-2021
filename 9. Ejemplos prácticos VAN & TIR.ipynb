{
 "cells": [
  {
   "cell_type": "markdown",
   "metadata": {},
   "source": [
    "**Al principio de cada archivo, están las librerías que vamos a utilizar.**"
   ]
  },
  {
   "cell_type": "code",
   "execution_count": 28,
   "metadata": {},
   "outputs": [
    {
     "name": "stdout",
     "output_type": "stream",
     "text": [
      "Requirement already satisfied: numpy-financial in c:\\users\\lenovo\\anaconda3\\lib\\site-packages (1.0.0)\n",
      "Requirement already satisfied: numpy>=1.15 in c:\\users\\lenovo\\anaconda3\\lib\\site-packages (from numpy-financial) (1.19.2)\n",
      "Note: you may need to restart the kernel to use updated packages.\n"
     ]
    }
   ],
   "source": [
    "pip install numpy-financial"
   ]
  },
  {
   "cell_type": "code",
   "execution_count": 1,
   "metadata": {},
   "outputs": [],
   "source": [
    "import numpy_financial as npf\n",
    "import numpy as np\n",
    "import matplotlib.pyplot as plt"
   ]
  },
  {
   "cell_type": "code",
   "execution_count": 2,
   "metadata": {},
   "outputs": [],
   "source": [
    "plt.close(\"all\")"
   ]
  },
  {
   "cell_type": "markdown",
   "metadata": {},
   "source": [
    "**Ejemplos prácticos**"
   ]
  },
  {
   "cell_type": "markdown",
   "metadata": {},
   "source": [
    "1. Aplicando una tasa de 8% efectivo anual, calcular el VAN de una operación de inversión con las siguientes características: Desembolso de 1.100.000 €. Siendo las recuperaciones de 200.000 € transcurrido un trimestre, 300.000 € transcurridos dos trimestres, 400.000 € transcurridos un trimestre más, y 500.000 transcurrido cuatro trimestres más. La duración total de la operación es de dos años."
   ]
  },
  {
   "cell_type": "code",
   "execution_count": 3,
   "metadata": {},
   "outputs": [
    {
     "name": "stdout",
     "output_type": "stream",
     "text": [
      "178,402.55 €\n"
     ]
    }
   ],
   "source": [
    "cf = [-1100000, 200000, 0, 300000, 400000, 0, 0, 0, 500000] #Los periodos sin retorno de inversión se deben valorar a 0\n",
    "i = 0.08\n",
    "m = 4\n",
    "i4 = (1+i)**(1/m)-1\n",
    "\n",
    "VAN = npf.npv(rate = i4, values = cf)\n",
    "print(\"{:,.2f} €\".format(VAN))"
   ]
  },
  {
   "cell_type": "markdown",
   "metadata": {},
   "source": [
    "2. Aplicando una tasa de 10% efectivo anual, calcular el VAN de una operación de inversión cuyo desembolso es de 70.000 € y consta de 8 recuperaciones semestrales de 12.000 € cada una. En este caso, dado que la renta es constate podemos aplicar tanto la fórmula de VNA o VA, vamos a verlo aplicado."
   ]
  },
  {
   "cell_type": "code",
   "execution_count": 4,
   "metadata": {},
   "outputs": [
    {
     "name": "stdout",
     "output_type": "stream",
     "text": [
      "7,933.38 €\n",
      "7,933.38 €\n"
     ]
    }
   ],
   "source": [
    "#Fórmula VNA\n",
    "\n",
    "cf = [-70000, 12000, 12000, 12000, 12000, 12000, 12000, 12000, 12000]\n",
    "i = 0.10\n",
    "m = 2\n",
    "i2 = (1+i)**(1/m)-1 # i2 es el tanto semestral efectivo\n",
    "\n",
    "VAN = npf.npv(rate = i2, values = cf)\n",
    "print(\"{:,.2f} €\".format(VAN))\n",
    "\n",
    "#Fórmula VA\n",
    "\n",
    "pago = 70000\n",
    "pmt = 12000\n",
    "n = 8\n",
    "\n",
    "VA = npf.pv(rate = i2, nper = n, pmt=-pmt, fv=0, when='end')-pago #tenemos que sacar fuera el pago inicial\n",
    "print(\"{:,.2f} €\".format(VA))\n"
   ]
  },
  {
   "cell_type": "markdown",
   "metadata": {},
   "source": [
    "3. Ejemplo de Cálculo VAN con tasas diferentes."
   ]
  },
  {
   "cell_type": "markdown",
   "metadata": {},
   "source": [
    "Imaginemos que tenemos un proyecto, en que tendremos que realizar un desembolso inicial de 7.000 €, posteriormente nos va a generar unos flujos de caja de 1.000 euros, que irán aumentando 200 euros cada año, hasta llegar al sexto. Igualmente, el primer flujo de caja tendrá una tasa de descuento de 2% que se irá incrementando hasta llegar al 7% en el último año. Queremos conocer el VAN de esta operación para saber si es viable o no."
   ]
  },
  {
   "cell_type": "code",
   "execution_count": 5,
   "metadata": {},
   "outputs": [
    {
     "name": "stdout",
     "output_type": "stream",
     "text": [
      "Flujos de caja: [-7000  1000  1200  1400  1600  1800  2000]\n",
      "Tasas de descuento: [0.01 0.02 0.03 0.04 0.05 0.06 0.07]\n",
      "Periodos: [0 1 2 3 4 5 6]\n",
      "VAN usando la ETTI: 350.18\n"
     ]
    }
   ],
   "source": [
    "#En primer lugar, pensemos que los tipos de interés se corresponden con la ETTI (Estructura Temporal de los Tipos de Interés),\n",
    "# es decir, que los tipos van cambiando y el segundo flujo de caja estará descontado al 2% dos años, sin tener en cuenta el tipo del primer año.\n",
    "\n",
    "cf = [-7000]+ list(range(1000, 2200, 200))\n",
    "cf = np.array(cf)\n",
    "\n",
    "print(\"Flujos de caja: {}\".format(cf))\n",
    "\n",
    "rates = np.arange(0.01,0.075,0.01)\n",
    "factores = rates + 1\n",
    "print(\"Tasas de descuento: {}\".format(rates))\n",
    "\n",
    "n = np.arange(0,7,1)\n",
    "print(\"Periodos: {}\".format(n))\n",
    "\n",
    "\n",
    "VAN = (cf/factores**n).sum()\n",
    "print(\"VAN usando la ETTI: {:,.2f}\".format(VAN))"
   ]
  },
  {
   "attachments": {
    "image.png": {
     "image/png": "[encoded data removed]"
    }
   },
   "cell_type": "markdown",
   "metadata": {},
   "source": [
    "Sin embargo, podemos considerar que el tipo de interés no cambia, y que el primer año siempre será la misma tasa, el segundo año la misma, teniendo que tener en cuenta la primera, y así sucesivamente.\n",
    "\n",
    "![image.png](attachment:image.png)"
   ]
  },
  {
   "cell_type": "code",
   "execution_count": 6,
   "metadata": {},
   "outputs": [
    {
     "name": "stdout",
     "output_type": "stream",
     "text": [
      "815.72 €\n",
      "[1.   1.02 1.03 1.04 1.05 1.06 1.07]\n",
      "[1.         1.02       1.0506     1.092624   1.1472552  1.21609051\n",
      " 1.30121685]\n"
     ]
    }
   ],
   "source": [
    "#Segunda opción:\n",
    "\n",
    "cf = [-7000]\n",
    "b = list(range(1000, 2200, 200))\n",
    "cf1 = cf + b\n",
    "cf = np.array(cf1)\n",
    "\n",
    "\n",
    "rate = np.arange(0.01,0.075,0.01)\n",
    "rate = rate + 1\n",
    "rate[0]= 1\n",
    "\n",
    "a=1\n",
    "rate1 = []\n",
    "for i in rate:\n",
    "    a = a*i\n",
    "    rate1.append(a)\n",
    "\n",
    "rate1 = np.array(rate1)\n",
    "\n",
    "VAN = (cf/rate1).sum()\n",
    "print(\"{:,.2f} €\".format(VAN)) \n",
    "\n",
    "print(rate)\n",
    "print(rate1)"
   ]
  },
  {
   "cell_type": "code",
   "execution_count": 7,
   "metadata": {},
   "outputs": [
    {
     "name": "stdout",
     "output_type": "stream",
     "text": [
      "Flujos de caja: [-7000  1000  1200  1400  1600  1800  2000]\n",
      "Factores (1+r): [1.01 1.02 1.03 1.04 1.05 1.06 1.07]\n",
      "factoresMult= [1.01, 1.0302, 1.061106, 1.1035502400000001, 1.158727752, 1.22825141712, 1.3142290163184]\n",
      "VAN: 807.6480765075753\n"
     ]
    }
   ],
   "source": [
    "cf = [-7000]\n",
    "b = list(range(1000, 2200, 200))\n",
    "cf1 = cf + b\n",
    "cf = np.array(cf1)\n",
    "print(\"Flujos de caja: {}\".format(cf))\n",
    "\n",
    "#lista de tipos de interés entre 1% y 6,5% con incrementos del 1%\n",
    "rates = np.append([],np.arange(0.01,0.075,0.01))\n",
    "factores = rates + 1\n",
    "print('Factores (1+r):', factores)\n",
    "\n",
    "factoresMult=[] # lista formada por los fm (factores multiplicados)\n",
    "fm=1            # los fm (factores multiplicados) se inicializan en 1\n",
    "for f in factores:\n",
    "    fm*=f\n",
    "    factoresMult.append(fm)\n",
    "print('factoresMult=',factoresMult)\n",
    "\n",
    "VAN = (cf/factoresMult).sum()\n",
    "print('VAN:',VAN)"
   ]
  },
  {
   "cell_type": "markdown",
   "metadata": {},
   "source": [
    "Lo ideal es crear una función que nos permita calcularlo en ambos casos."
   ]
  },
  {
   "cell_type": "code",
   "execution_count": 8,
   "metadata": {},
   "outputs": [
    {
     "name": "stdout",
     "output_type": "stream",
     "text": [
      "350.1752684214696\n",
      "815.7245572726517\n"
     ]
    }
   ],
   "source": [
    "cf = np.array([-7000, 1000, 1200, 1400, 1600, 1800, 2000])\n",
    "rate = np.array([1, 1.02, 1.03, 1.04, 1.05, 1.06, 1.07])\n",
    "n = [0, 1, 2, 3, 4, 5, 6]\n",
    "\n",
    "def Calculo_Van(values, rate, n=None):\n",
    "    if not n:\n",
    "        a = 1\n",
    "        rate1 = []\n",
    "        for i in rate:\n",
    "            a = a*i\n",
    "            rate1.append(a)\n",
    "            \n",
    "        VAN = (values/rate1).sum()\n",
    "        return VAN\n",
    "    \n",
    "    else:\n",
    "        VAN = (values/(rate**n)).sum()\n",
    "        return VAN\n",
    "    \n",
    "print(Calculo_Van(values=cf, rate=rate, n=n))    \n",
    "print(Calculo_Van(values=cf, rate=rate))"
   ]
  },
  {
   "cell_type": "markdown",
   "metadata": {},
   "source": [
    "4. Calcular la TIR de una operación de inversión con las siguientes características: Desembolso de 100.000 €. Siendo las recuperaciones de 10.000 € mensuales durante un año.\n",
    "\n",
    "Dado que es una renta constante podemos utilizar también dos métodos, TIR (IRR) o mediante TASA (RATE)"
   ]
  },
  {
   "cell_type": "code",
   "execution_count": 9,
   "metadata": {},
   "outputs": [
    {
     "name": "stdout",
     "output_type": "stream",
     "text": [
      "0.029228540769133504\n",
      "0.029228540769158345\n"
     ]
    }
   ],
   "source": [
    "#Métdodo TIR(IRR)\n",
    "\n",
    "cf = [-100000, 10000, 10000, 10000, 10000, 10000, 10000, 10000, 10000, 10000, 10000, 10000, 10000]\n",
    "\n",
    "TIR = npf.irr(cf)\n",
    "print(TIR)\n",
    "\n",
    "#Método TASA(RATE)\n",
    "\n",
    "n = 12\n",
    "pmt = 10000\n",
    "va = 100000\n",
    "\n",
    "TASA = npf.rate(nper=n, pmt=pmt, pv=-va, fv=0, when='end')\n",
    "print(TASA)"
   ]
  },
  {
   "cell_type": "markdown",
   "metadata": {},
   "source": [
    "5. Calcular la TIR de una operación de inversión con las siguientes características: Desembolso de 100.000 €. Siendo las recuperaciones de 10.000 € mensuales durante un año, salvo el 3º mes que no se recupera nada y el mes 9º donde se perciben 20.000 €.\n"
   ]
  },
  {
   "cell_type": "code",
   "execution_count": 10,
   "metadata": {},
   "outputs": [
    {
     "name": "stdout",
     "output_type": "stream",
     "text": [
      "Rentabilidad mensual:2.6973355461856086% tanto efectivo mensual\n",
      "TIR = 37.62905031900152% tanto efectivo anual\n"
     ]
    }
   ],
   "source": [
    "cf = [-100000, 10000, 10000, 0, 10000, 10000, 10000, 10000, 10000, 20000, 10000, 10000, 10000]\n",
    "m = 12 # frecuencia\n",
    "\n",
    "r12 = npf.irr(cf)     #r12 es la TIR mensual\n",
    "print('Rentabilidad mensual:{}% tanto efectivo mensual'.format(r12*100))\n",
    "r = (1+r12)**m-1\n",
    "print('TIR = {}% tanto efectivo anual'.format(r*100))"
   ]
  },
  {
   "cell_type": "markdown",
   "metadata": {},
   "source": [
    "6.**TIR MÚLTIPLE** En raras ocasiones, en las que tenemos un proyecto en el que los flujos de caja son positivos y negativos podemos encontrarnos que tenemos varios puntos en el que nuestro VAN es cero y por tanto, múltiples TIR\n",
    "\n",
    "Veamos un ejemplo"
   ]
  },
  {
   "cell_type": "code",
   "execution_count": 11,
   "metadata": {},
   "outputs": [
    {
     "name": "stdout",
     "output_type": "stream",
     "text": [
      "-0.005 0.01626\n",
      "-0.001 0.10061\n",
      "-0.008 0.36125\n"
     ]
    }
   ],
   "source": [
    "cf = [-1200, 700, 700, 700, 700, 700, -700, -700, -700, -700, -700, 0, 0, 0, 0, 0, 0, 0, 0, 0, 1300]\n",
    "r = np.arange(0,1.05,0.00001)  \n",
    "\n",
    "\n",
    "objetivo = 0                       \n",
    "tolerancia1 = 0.001\n",
    "tolerancia2 = -0.008\n",
    "\n",
    "VAN = []\n",
    "\n",
    "for i in r:\n",
    "    a= npf.npv(rate=i, values=cf)\n",
    "    VAN.append(a)\n",
    "    diff = a - objetivo\n",
    "    if diff < tolerancia1 and diff > tolerancia2:\n",
    "        print(round(a,3),i)"
   ]
  },
  {
   "cell_type": "markdown",
   "metadata": {},
   "source": [
    "Podemos ver, que este proyecto tiene tres puntos en los que su VAN es prácticamente cero, que corresponde a TIR = 1,62%, TIR = 10,06% y TIR = 36,12%.\n",
    "\n",
    "Podemos ver esta gráfica"
   ]
  },
  {
   "cell_type": "code",
   "execution_count": 12,
   "metadata": {},
   "outputs": [
    {
     "data": {
      "image/png": "[encoded data removed]",
      "text/plain": [
       "<Figure size 576x576 with 1 Axes>"
      ]
     },
     "metadata": {
      "needs_background": "light"
     },
     "output_type": "display_data"
    }
   ],
   "source": [
    "plt.figure(figsize = (8, 8))\n",
    "\n",
    "plt.plot(r, VAN, color = \"red\", linewidth = 2, linestyle='-', label = \"VAN(r)\")\n",
    "plt.grid()\n",
    "plt.hlines(y=0, xmin = r[0], xmax=r[-1], linestyle=\"dashed\", color=\"blue\", label=\"VAN = 0\")\n",
    "plt.title(\"TIR MÚLTIPLE\", fontsize=15)\n",
    "plt.xlabel(\"Interés\", fontsize=12)\n",
    "plt.ylabel(\"VAN\", fontsize=12)\n",
    "plt.annotate(\"TIR 1\", xy = (0.020, 0), xytext=(0.020, 50), arrowprops = {'color':'black'}, fontsize=15)\n",
    "plt.annotate(\"TIR 2\", xy = (0.100, 0), xytext=(0.100, 50), arrowprops = {'color':'black'}, fontsize=15)\n",
    "plt.annotate(\"TIR 3\", xy = (0.360, 0), xytext=(0.360, 50), arrowprops = {'color':'black'}, fontsize=15)\n",
    "plt.legend(loc=\"best\", fontsize=15)\n",
    "plt.show()"
   ]
  },
  {
   "cell_type": "markdown",
   "metadata": {},
   "source": [
    "Otra forma de realizar el cálculo, con mayor precisión."
   ]
  },
  {
   "cell_type": "code",
   "execution_count": 13,
   "metadata": {},
   "outputs": [
    {
     "name": "stdout",
     "output_type": "stream",
     "text": [
      "TIR18 = 0.016258725121618686 \tVAN(TIR18) = 9.094947017729282e-13\n",
      "TIR102 = 0.10061094102965763 \tVAN(TIR102) = 7.958078640513122e-13\n",
      "TIR363 = 0.36124183951893607 \tVAN(TIR363) = 4.711786516509164e-13\n"
     ]
    }
   ],
   "source": [
    "from numpy_financial import npv\n",
    "from numpy import arange\n",
    "\n",
    "\n",
    "\n",
    "def TIR(cf,k_inicial=0,k_final=1):\n",
    "    a=npv(k_inicial,cf)\n",
    "    b=npv(k_final,cf)\n",
    "    if a==0:\n",
    "        return k_inicial\n",
    "    elif b==0:\n",
    "        return k_final\n",
    "    elif a*b>0:  #Si el producto es positivo es que ambos VAN tienen el mismo signo,o los 2 positivos o los 2 neg.\n",
    "        return \"En el rango considerado no se corta el eje\" #al ser los dos VAN del mismo signo no hay corte\n",
    "    else:\n",
    "        while True:\n",
    "            k_medio=(k_inicial+k_final)/2\n",
    "            m=npv(k_medio,cf)              # m es el VAN para el k_medio\n",
    "            if abs(m)<1e-12:               # si el valor absoluto de m es menor que el error admitido (tolerancia)\n",
    "                break                      # paramos el bucle y luego retornamos el k_medio \n",
    "            else:\n",
    "                if a*m<0:                  # si el VAN de la izquierda y el del medio tienen distinto signo\n",
    "                    k_final=k_medio\n",
    "                elif b*m<0:                # si el VAN de la derecha y el del medio tienen el mismo signo\n",
    "                    k_inicial=k_medio\n",
    "        return k_medio\n",
    "\n",
    "\n",
    "\n",
    "cf = [-1200, 700, 700, 700, 700, 700, -700, -700, -700, -700, -700, 0, 0, 0, 0, 0, 0, 0, 0, 0, 1300]\n",
    "r = arange(0,.4,0.001)\n",
    "tasaAnterior=0  # para detectar el cambio de signo en la tasa de descuento necesitamos recordar la tasa anterior\n",
    "contador=1      # vamos contando el número de cortes con el eje\n",
    "\n",
    "for i in r:\n",
    "   \n",
    "    if npv(tasaAnterior,cf)*npv(i,cf)<0:      # si se produce un cambio de signo en el VAN\n",
    "        # pedimos a la función TIR que calcule el corte entre la tasaAnterior e i\n",
    "        miTIR = TIR(cf,tasaAnterior,i)\n",
    "        print('TIR'+str(contador)+' =',miTIR,'\\tVAN(TIR'+str(contador)+') =',npv(miTIR,cf)) \n",
    "        \n",
    "    contador+=1\n",
    "    tasaAnterior=i                            # este i es ahora la tasaAnterior\n"
   ]
  },
  {
   "cell_type": "markdown",
   "metadata": {},
   "source": [
    "En principio es bastante raro encontrar casos de TIR múltiple, ya que carece de sentido financiero\n",
    "\n",
    "Una alternativa es calcular TIR modificada, para ello, lo que debemos estimar es una tasa de financiación, y una tasa de reinversión, que no siempre son fáciles de determinar. Para nuestro ejemplo hemos utilizado una tasa de financiación 8% y una tasa de reinversión de 10%\n"
   ]
  },
  {
   "cell_type": "code",
   "execution_count": 14,
   "metadata": {},
   "outputs": [
    {
     "data": {
      "text/plain": [
       "0.09528522181235122"
      ]
     },
     "execution_count": 14,
     "metadata": {},
     "output_type": "execute_result"
    }
   ],
   "source": [
    "cf = [-1200, 700, 700, 700, 700, 700, -700, -700, -700, -700, -700, 0, 0, 0, 0, 0, 0, 0, 0, 0, 1300]\n",
    "\n",
    "npf.mirr(values=cf, finance_rate=0.08, reinvest_rate=0.10)"
   ]
  },
  {
   "cell_type": "markdown",
   "metadata": {},
   "source": [
    "Veamos el desarrollo de esta función"
   ]
  },
  {
   "cell_type": "code",
   "execution_count": 15,
   "metadata": {},
   "outputs": [
    {
     "name": "stdout",
     "output_type": "stream",
     "text": [
      "0.09528522181314958\n"
     ]
    }
   ],
   "source": [
    "#El primer paso es dividir los flujos de caja en positivos y negativos:\n",
    "cf = [-1200, 700, 700, 700, 700, 700, -700, -700, -700, -700, -700, 0, 0, 0, 0, 0, 0, 0, 0, 0, 1300]\n",
    "n=20\n",
    "positivos = []\n",
    "negativos = []\n",
    "\n",
    "for i in cf:\n",
    "    if i > 0:\n",
    "        positivos.append(i)\n",
    "        negativos.append(0)\n",
    "    else:\n",
    "        negativos.append(i)\n",
    "        positivos.append(0)\n",
    "\n",
    "        \n",
    "#En segundo lugar, actualizamos los flujos negativos al momento t(0)\n",
    "\n",
    "i = 0.08\n",
    "r = 0.10\n",
    "\n",
    "a = -npf.npv(rate=i, values=negativos)\n",
    "\n",
    "\n",
    "#Después calculamos el valor final de nuestros flujos de caja positivos.\n",
    "\n",
    "b = npf.npv(rate=r, values=positivos)*(1+r)**n\n",
    "\n",
    "\n",
    "#Finalmente calculamos la tasa de ambos\n",
    "\n",
    "TIRm = npf.rate(nper=n, pmt=0, pv=-a, fv=b)\n",
    "print(TIRm)"
   ]
  }
 ],
 "metadata": {
  "kernelspec": {
   "display_name": "Python 3",
   "language": "python",
   "name": "python3"
  },
  "language_info": {
   "codemirror_mode": {
    "name": "ipython",
    "version": 3
   },
   "file_extension": ".py",
   "mimetype": "text/x-python",
   "name": "python",
   "nbconvert_exporter": "python",
   "pygments_lexer": "ipython3",
   "version": "3.8.5"
  }
 },
 "nbformat": 4,
 "nbformat_minor": 4
}
