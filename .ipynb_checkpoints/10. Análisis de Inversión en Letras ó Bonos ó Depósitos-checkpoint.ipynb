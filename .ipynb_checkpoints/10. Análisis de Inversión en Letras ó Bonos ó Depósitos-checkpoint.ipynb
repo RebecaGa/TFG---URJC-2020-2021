{
 "cells": [
  {
   "cell_type": "markdown",
   "metadata": {},
   "source": [
    "# Análisis de Inversiones #\n",
    "\n",
    "*Hemos visto cómo analizar proyectos, ahora vamos a realizar la misma operación, pero esta vez lo que se va a analizar son inversiones de renta fija, tales como Letras del Tesoro, Depósitos, Bonos del Estado, que si bien pueden tener variaciones en su tipo de interés, se las considera de Renta Fija porque no suponen mucho riesgo.*\n",
    "\n",
    "*Normalmente, este tipo de inversiones consisten en una inversión inicial, que genera unos intereses que se reinvierten generando más intereses, y recuperas la inversión más los intereses al final del periodo. El tipo de interés suele estar pactado de antemano, ya sea por tramos o constante*\n"
   ]
  },
  {
   "cell_type": "code",
   "execution_count": 2,
   "metadata": {},
   "outputs": [
    {
     "name": "stdout",
     "output_type": "stream",
     "text": [
      "Requirement already satisfied: numpy-financial in c:\\users\\rebec\\anaconda3\\lib\\site-packages (1.0.0)\n",
      "Note: you may need to restart the kernel to use updated packages.Requirement already satisfied: numpy>=1.15 in c:\\users\\rebec\\anaconda3\\lib\\site-packages (from numpy-financial) (1.18.5)\n",
      "\n"
     ]
    }
   ],
   "source": [
    "pip install numpy-financial"
   ]
  },
  {
   "cell_type": "code",
   "execution_count": 3,
   "metadata": {},
   "outputs": [],
   "source": [
    "import numpy_financial as npf\n",
    "import numpy as np\n",
    "import pandas as pd"
   ]
  },
  {
   "cell_type": "code",
   "execution_count": 4,
   "metadata": {},
   "outputs": [],
   "source": [
    "import matplotlib.pyplot as plt"
   ]
  },
  {
   "cell_type": "code",
   "execution_count": 5,
   "metadata": {},
   "outputs": [],
   "source": [
    "plt.close(\"all\")"
   ]
  },
  {
   "cell_type": "markdown",
   "metadata": {},
   "source": [
    "*Vamos a empezar por desarrollar funciones que nos den respuesta a las siguientes preguntas*\n",
    "\n",
    "- ¿Cuánto dinero voy a ganar con mi inversión?\n",
    "- ¿A determinado interés, cuánto tiempo debo mantener mi inversión para llegar a la ganancia objetivo?\n",
    "- ¿Qué tipo de interés debo buscar si quiero obtener una ganancia concreta y durante un tiempo concreto?\n",
    "- Comparativa de distintas inversiones\n",
    "\n"
   ]
  },
  {
   "cell_type": "code",
   "execution_count": 43,
   "metadata": {},
   "outputs": [],
   "source": [
    "#Damos forma a determinadas funciones que después vamos a incorporar en nuestra class\n",
    "#Empezamos por los DEPÓSITOS\n",
    "\n",
    "def VF(rate, nper, pmt, pv, when=0):     #para conocer el importe que voy a obtener al final de periodo\n",
    "    VF = npf.fv(rate, nper, pmt, pv, when)\n",
    "    return VF\n",
    "\n",
    "def RATE(nper, pmt, pv, fv, when=0):           #En caso de conocer el resto de los datos pero no el interés.\n",
    "    RATE = npf.rate(nper, pmt, pv, fv, when)\n",
    "    return RATE\n",
    "\n",
    "def INTERESES(rate, nper, pmt, pv, when=0):       #Para conocer los intereses que genera mi depósito\n",
    "    pv = pv\n",
    "    VF = npf.fv(rate, nper, pmt, -pv, when)\n",
    "    INTERESES = VF - pv\n",
    "    return INTERESES\n",
    "    \n",
    "def TIEMPO(rate, pmt, pv, fv=0, when=0):    #Si quiero conocer el tiempo que debo mantener una inversión \n",
    "    TIEMPO = npf.nper(rate, pmt, -pv, fv=0, when=when)\n",
    "    return TIEMPO"
   ]
  },
  {
   "cell_type": "code",
   "execution_count": 87,
   "metadata": {},
   "outputs": [],
   "source": [
    "class Depositos:   #En la primera parte definimos las propiedades que deben tener los datos iniciales\n",
    "    \n",
    "    @property \n",
    "    def nper(self): return self._nper \n",
    "    @nper.setter\n",
    "    def nper(self, nper):\n",
    "        if type(nper) == int and nper >= 0 or type(nper) == type(None):\n",
    "            self._nper = nper\n",
    "        else: print(\"La duración del periodo debe ser > 0\")\n",
    "            \n",
    "    @property \n",
    "    def pv(self): return self._pv \n",
    "    @pv.setter\n",
    "    def pv(self, pv):\n",
    "        if (type(pv) == int or type(pv) == float) and pv > 0:\n",
    "            self._pv = pv\n",
    "        else: print(\"La inversión inicial debe ser > 0\")\n",
    "            \n",
    "    @property \n",
    "    def pmt(self): return self._pmt \n",
    "    @pmt.setter\n",
    "    def pmt(self, pmt):\n",
    "        if (type(pmt) == int or type(pmt) == float) and pmt >= 0:\n",
    "            self._pmt = pmt\n",
    "        else: print(\"Los pagos deben ser > 0 o iguales a 0\")\n",
    "            \n",
    "    @property \n",
    "    def fv(self): return self._fv \n",
    "    @fv.setter\n",
    "    def fv(self, fv):\n",
    "        if (type(fv) == int or type(fv) == float) and fv > 0 or type(fv) == type(None):\n",
    "            self._fv = fv\n",
    "        else: print(\"La inversión final debe ser > 0 o no existir\")\n",
    "            \n",
    "    @property\n",
    "    def rate(self): return self._rate \n",
    "    @rate.setter\n",
    "    def rate(self, rate):\n",
    "        if type(rate) == float and rate >= 0 or type(rate) == type(None): \n",
    "            self._rate = rate\n",
    "        else: print(\"El interés (8% = 0.08) de ser > 0\")\n",
    "            \n",
    "    @property\n",
    "    def typ(self): return self._typ\n",
    "    @typ.setter\n",
    "    def typ(self, typ):\n",
    "        if typ == 0 or typ == 1:\n",
    "            self._typ = typ\n",
    "        else: print(\"typ must be 0 or 1\")\n",
    "            \n",
    "    def __init__(self, rate, nper, pmt, pv, typ, fv = None):  \n",
    "        self.rate = rate      #Para realizar los cálculos, debemos conocer todas estas variables, incluso si no existen o son 0             \n",
    "        self.nper = nper\n",
    "        self.pmt = pmt\n",
    "        self.pv = pv                 \n",
    "        self.typ = typ\n",
    "        self.fv = fv\n",
    "        \n",
    "    #Definimos funciones que podemos hacer con nuestros depositos\n",
    "    \n",
    "    def INTERESES(self):       \n",
    "        return INTERESES(self.rate, self.nper, self.pmt, self.pv, self.typ)\n",
    "        \n",
    "    #Este análisis nos hace un resumen de la inversión, además de calcular los intereses finales.\n",
    "        \n",
    "    def AnalisisFinal(self): \n",
    "        Final = round(VF(self.rate, self.nper, self.pmt, -self.pv, self.typ),2)\n",
    "        Interes = round(INTERESES(self.rate, self.nper, self.pmt, self.pv, self.typ),2)\n",
    "        return print(\"\"\"Si invierte un capital de {} euros, durante {} años, a un interés de {}, \n",
    "            obtendrá unos intereses de {} euros, y un capital final de {} euros.\"\"\".format(self.pv, self.nper, self.rate, Interes, Final))\n",
    "    \n",
    "    #Este análisis nos permite conocer el tipo de interés después de haber obtenido nuestros intereses. \n",
    "    #O bien, buscar un depósito que esté remunerado a un determinado tipo de interés.\n",
    "    \n",
    "    def AnalisisInter(self):\n",
    "        Inter = round(RATE(self.nper, self.pmt, -self.pv, self.fv, self.typ)*100,2)\n",
    "        return print(\"\"\"Si invierte un capital de {} euros, durante {} años, y obtiene al final {} euros,\n",
    "                Su inversión estará remunerada a un {} %\"\"\".format(self.pv, self.nper, self.fv, Inter))\n",
    "    \n",
    "    #Este análisis nos permite saber el tiempo que debemos mantener nuestro depósito para obtener determinado beneficio\n",
    "    \n",
    "    def AnalisisTiempo(self):\n",
    "        TEMPO = np.around(npf.nper(self.rate, self.pmt, -self.pv, self.fv, self.typ),2)\n",
    "      \n",
    "        return print(\"\"\"Si invierte un capital de {} euros, a un tipo de interés {} % y obtiene al final {} euros,\n",
    "                Su inversión habrá estado {} años\"\"\".format(self.pv, self.rate, self.fv, TEMPO,0))"
   ]
  },
  {
   "cell_type": "markdown",
   "metadata": {},
   "source": [
    "*Vamos a ver el funcionamiento*"
   ]
  },
  {
   "cell_type": "code",
   "execution_count": 72,
   "metadata": {},
   "outputs": [
    {
     "name": "stdout",
     "output_type": "stream",
     "text": [
      "Si invierte un capital de 1000 euros, durante 4 años, a un interés de 0.07, \n",
      "            obtendrá unos intereses de 310.8 euros, y un capital final de 1310.8 euros.\n"
     ]
    }
   ],
   "source": [
    "#Conocer los intereses finales.\n",
    "\n",
    "depo1 = Depositos(0.07,4,0,1000,0, None)\n",
    "    \n",
    "depo1.AnalisisFinal()"
   ]
  },
  {
   "cell_type": "code",
   "execution_count": 73,
   "metadata": {},
   "outputs": [
    {
     "name": "stdout",
     "output_type": "stream",
     "text": [
      "Si invierte un capital de 1000 euros, durante 4 años, y obtiene al final 1310.8 euros,\n",
      "                Su inversión estará remunerada a un 7.0 %\n"
     ]
    }
   ],
   "source": [
    "#Conocer el tipo de interés.\n",
    "\n",
    "depo2 = Depositos(0.0,4,0,1000,0, 1310.8)\n",
    "\n",
    "depo2.AnalisisInter()"
   ]
  },
  {
   "cell_type": "code",
   "execution_count": 76,
   "metadata": {},
   "outputs": [
    {
     "name": "stdout",
     "output_type": "stream",
     "text": [
      "Si invierte un capital de 1000 euros, a un tipo de interés 0.07 % y obtiene al final 1310.8 euros,\n",
      "                Su inversión habrá estado 4.0 años\n"
     ]
    }
   ],
   "source": [
    "#Conocer el tiempo\n",
    "\n",
    "depo3= Depositos(0.07,0,0,1000,0, 1310.8)\n",
    "\n",
    "depo3.AnalisisTiempo()"
   ]
  },
  {
   "cell_type": "markdown",
   "metadata": {},
   "source": [
    "*Vamos a utilizar estas funciones para hacer gráficas y comparar distintos depósitos*\n",
    "\n",
    "*Vamos a llamar a los Depósitos por entidades bancarias, y crear varios depósitos para trabajar con ellos*"
   ]
  },
  {
   "cell_type": "code",
   "execution_count": 89,
   "metadata": {},
   "outputs": [],
   "source": [
    "ING = Depositos(0.03, 4, 0, 1000, 0, fv = None)\n",
    "BANKIA = Depositos(0.035, 5, 0, 1000, 0, None)\n",
    "BSCH = Depositos(0.05, 3, 0, 1000, 0, None)\n",
    "BANKINTER = Depositos(0.02, 7, 0, 1000, 0, None)\n",
    "CAIXA = Depositos(0.04, 6, 0, 1000, 0, None)"
   ]
  },
  {
   "cell_type": "markdown",
   "metadata": {},
   "source": [
    "*Vamos a calcular los intereses de cada depósito en función de sus condiciones y crear una lista*"
   ]
  },
  {
   "cell_type": "code",
   "execution_count": 92,
   "metadata": {},
   "outputs": [
    {
     "name": "stdout",
     "output_type": "stream",
     "text": [
      "[125.50881000000004, 187.68630564687442, 157.62500000000023, 148.68566764928005, 265.31901849600035]\n"
     ]
    }
   ],
   "source": [
    "Intereses = []\n",
    "a = ING.INTERESES()\n",
    "Intereses.append(a)\n",
    "\n",
    "a = BANKIA.INTERESES()\n",
    "Intereses.append(a)\n",
    "\n",
    "a = BSCH.INTERESES()\n",
    "Intereses.append(a)\n",
    "\n",
    "a = BANKINTER.INTERESES()\n",
    "Intereses.append(a)\n",
    "\n",
    "a = CAIXA.INTERESES()\n",
    "Intereses.append(a)\n",
    "\n",
    "print(Intereses)"
   ]
  },
  {
   "cell_type": "code",
   "execution_count": 114,
   "metadata": {},
   "outputs": [
    {
     "data": {
      "image/png": "[encoded data removed]",
      "text/plain": [
       "<Figure size 720x360 with 1 Axes>"
      ]
     },
     "metadata": {
      "needs_background": "light"
     },
     "output_type": "display_data"
    }
   ],
   "source": [
    "p = ['ING', 'BANKIA', 'BSCH', 'BANKINTER', 'CAIXA']\n",
    "plt.figure(figsize = (10, 5))\n",
    "plt.barh(p, Intereses, height=0.8, align='center')\n",
    "plt.title(\"Comparativa Depósitos\", fontsize = 16)\n",
    "plt.xlabel(\"Intereses generados\", fontsize = 12)\n",
    "plt.ylabel(\"Entidad Bancaria\", fontsize=12)\n",
    "plt.show()"
   ]
  },
  {
   "cell_type": "code",
   "execution_count": null,
   "metadata": {},
   "outputs": [],
   "source": []
  }
 ],
 "metadata": {
  "kernelspec": {
   "display_name": "Python 3",
   "language": "python",
   "name": "python3"
  },
  "language_info": {
   "codemirror_mode": {
    "name": "ipython",
    "version": 3
   },
   "file_extension": ".py",
   "mimetype": "text/x-python",
   "name": "python",
   "nbconvert_exporter": "python",
   "pygments_lexer": "ipython3",
   "version": "3.8.3"
  }
 },
 "nbformat": 4,
 "nbformat_minor": 4
}
