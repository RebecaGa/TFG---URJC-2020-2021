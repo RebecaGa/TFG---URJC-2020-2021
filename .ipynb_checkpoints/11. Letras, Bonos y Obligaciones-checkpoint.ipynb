{
 "cells": [
  {
   "cell_type": "markdown",
   "metadata": {},
   "source": [
    "# Letras de cambio\n",
    "\n",
    "Una letra de cambio es un documento mercantil mediante el cuál una persona o empresa queda obligada a pagarle una cantidad de dinero a otra en un plazo preestablecido. En otras palabras, es un título-valor que garantiza una deuda entre dos partes.\n",
    "\n",
    "En toda letra de cambio intervienen como mínimo las siguientes partes:\n",
    "\n",
    "**El librador o girador.** Es la persona (física o jurídica) que emite la letra de cambio, es decir, quién elabora el documento y da la orden de pago.\n",
    "\n",
    "**El librado o girado.** Es quién acepta la orden de pago y, por tanto, tiene la obligación de pagar la deuda a su beneficiario. El librado es el deudor oficial de esta operación.\n",
    "\n",
    "**El beneficiario o tomador.** Es a quién finalmente se le paga, es decir, la persona que recibe el dinero correspondiente a la deuda. Puede coincidir con el librador, aunque no tiene por qué. Dependerá de si la letra ha sido endosada o no.\n",
    "\n",
    "Si estamos en posesión de letras de cambio, podemos llevarlas al banco para su descuento, y aquí es donde entra la parte de matemática financiera para calcular los intereses que nos cobrará el banco, y el montante final que nos será abonado.\n"
   ]
  },
  {
   "attachments": {
    "image.png": {
     "image/png": "[encoded data removed]"
    }
   },
   "cell_type": "markdown",
   "metadata": {},
   "source": [
    "FÓRMULA MATEMÁTICA FINANCIERA\n",
    "\n",
    "La fórmula que nos permite calcular el montante final, así como los intereses es:\n",
    "\n",
    "![image.png](attachment:image.png)\n",
    "\n",
    "\n",
    "Donde:\n",
    "\n",
    "Cn = nominal del título\n",
    "\n",
    "n= número de días que van desde la fecha de liquidación a la fecha de vencimiento\n",
    "\n",
    "d= tipo o tasa de descuento\n",
    "\n",
    "B= base anual aplicada (360 o 365)"
   ]
  },
  {
   "cell_type": "markdown",
   "metadata": {},
   "source": [
    "En este módulo trabajaremos con fechas, por lo que es necesario importar una libería que nos permita realizar operaciones con fechas y calcular los días, o cualquier otra cosa que necesitemos. Además vamos a crear una función para el cálculo de bases de 30/360, necesaria a lo largo del ejercicio"
   ]
  },
  {
   "cell_type": "code",
   "execution_count": 1,
   "metadata": {},
   "outputs": [],
   "source": [
    "from datetime import datetime, date, time, timedelta"
   ]
  },
  {
   "cell_type": "code",
   "execution_count": 2,
   "metadata": {},
   "outputs": [
    {
     "name": "stdout",
     "output_type": "stream",
     "text": [
      "60\n"
     ]
    }
   ],
   "source": [
    "#función para realizar calculos si la base es 30/360\n",
    "def calcular_dias(year1, month1, day1, year2, month2, day2):\n",
    "    \n",
    "    dayofmonth1 = [30, 30, 30, 30, 30, 30, 30,30, 30, 30, 30, 30]   # El subíndice de la lista comienza desde 0, por lo que al calcular el número de días del mes, el mes pasado debe ser -1\n",
    "    \n",
    "\n",
    "    year_temp = year2 - year1\n",
    "    month_temp = month2 - month1\n",
    "\n",
    "    if year_temp == 0:\n",
    "        if month_temp == 0:\n",
    "            days = day2 - day1\n",
    "        else:\n",
    "           \n",
    "            i = 1\n",
    "            sum = 0\n",
    "            # Suponiendo que calcule la cantidad de días desde el 5 de marzo hasta el 4 de junio, \n",
    "            #primero calcule la cantidad total de días en 3, 4 y mayo, por lo que es [mes1 + i-1-1], \n",
    "            #luego reste 5 y sume 4\n",
    "            while i < month_temp + 1:\n",
    "                day = dayofmonth1[month1 + i - 1-1]\n",
    "                sum += day\n",
    "                i+=1\n",
    "            days = sum - day1 + day2\n",
    "    return days\n",
    "\n",
    "# 2014 1.25   2018.3.26\n",
    "days=calcular_dias(2013,1,7,2013,3,7)\n",
    "print(days)"
   ]
  },
  {
   "cell_type": "markdown",
   "metadata": {},
   "source": [
    "\n",
    "**Ejemplo 1.** Nuestra empresa lleva a descontar una letra de cambio que posee en su cartera de efectos el día 20 de octubre de 2014. La letra tiene un valor nominal de 1.500 euros y vence el 30 de diciembre de 2014. La letra se descuenta en el Banco de Sabadell y le aplica un tipo de interés de descuento del 5 %."
   ]
  },
  {
   "cell_type": "code",
   "execution_count": 3,
   "metadata": {},
   "outputs": [
    {
     "name": "stdout",
     "output_type": "stream",
     "text": [
      "Los días a descontar son 71 días\n",
      "Los intereses aplicados son 14.79\n"
     ]
    }
   ],
   "source": [
    "Cn = 1500                  #Valor nominal de la letra\n",
    "f_vto = date(2014,12,30)   #fecha de vencimiento de la letra (Docstring:      date(year, month, day) --> date object)\n",
    "f_liq = date(2014,10,20)   #fecha en la que llevamos a descontar la letra, fecha de liquidación (Docstring:      date(year, month, day) --> date object)\n",
    "t = 0.05                   #Tasa de descuento de la letra\n",
    "b = 360                    #puede ser 365 o 360\n",
    "\n",
    "n = f_vto - f_liq\n",
    "print(\"Los días a descontar son\", n.days, \"días\")\n",
    "\n",
    "D = (Cn*n.days*t)/b\n",
    "print(\"Los intereses aplicados son {}\".format(round(D,2)))"
   ]
  },
  {
   "cell_type": "markdown",
   "metadata": {},
   "source": [
    "**Ejemplo 2.** El 7 de enero de 2013 una empresa descuenta en Gestión Bank una letra de cambio de 2.485 euros de valor nominal y cuya fecha de vencimiento es el 7 de marzo de 2014. El banco le aplica un tipo de interés de descuento del 6 %.\n",
    "\n",
    "¿Cuál será el interés total cobrado por el banco en la operación de descuento?"
   ]
  },
  {
   "cell_type": "code",
   "execution_count": 4,
   "metadata": {},
   "outputs": [
    {
     "name": "stdout",
     "output_type": "stream",
     "text": [
      "Los intereses totales cobrado por el banco son 175.61\n",
      "Y por tanto el efectivo recibido es  2309.39\n"
     ]
    }
   ],
   "source": [
    "Cn = 2485                  \n",
    "f_liq = date(2013,1,7)  \n",
    "f_vto = date(2014,3,7)  \n",
    "t = 0.06                 \n",
    "b = 360    \n",
    "n = f_vto -f_liq\n",
    "\n",
    "\n",
    "D = (Cn*(n.days)*t)/b\n",
    "print(\"Los intereses totales cobrado por el banco son {}\".format(round(D,2)))\n",
    "\n",
    "efectivo = Cn-D\n",
    "print(\"Y por tanto el efectivo recibido es \", round(efectivo,2))"
   ]
  },
  {
   "cell_type": "markdown",
   "metadata": {},
   "source": [
    "Si tuvieramos que realizar esta operación mediante **Excel** utilizaríamos la fórmula **INT.ACUM.V**\n",
    "\n",
    "En anteriores apartados hemos visto que Numpy Financial contiene varias fórmulas financieras equivalentes en Excel, pero no es este el caso. Por ello vamos a crear una función que nos permita realizar este cálculo de forma atumática."
   ]
  },
  {
   "cell_type": "code",
   "execution_count": 5,
   "metadata": {},
   "outputs": [],
   "source": [
    "def INT_ACUM_V(i, f_vto, f_liq, b, Cn):\n",
    "    '''\n",
    "       INTERESES ACUMULADOS\n",
    "      ======================\n",
    "    \n",
    "        nos devuelve el total de intereses producidos por un activo financiero con pago de dichos \n",
    "        intereses al vencimiento\n",
    "    \n",
    "        i = tasa\n",
    "        f_vto = fecha de vencimiento real de letra utilizando el formato date(AAAA,MM,DD)\n",
    "        f_liq = fecha en la que llevamos la letra al descuento, formato date(AAAA,MM,DD) \n",
    "        b = base de referencia según tablas\n",
    "        Cn = importe de la letra de cambio\n",
    "        \n",
    "        TABLA BASES\n",
    "        1 = 365\n",
    "        2 = 360'''\n",
    "    \n",
    "    if b == 1:\n",
    "        b = 365\n",
    "    elif b == 2:\n",
    "        b= 360\n",
    "    else:\n",
    "        print(\"Error! Debe introducir 1 o 2 para el valor b\")\n",
    "        \n",
    "    n = f_vto -f_liq\n",
    "    D = (Cn*(n.days)*i)/b\n",
    "    return print(\"Los intereses totales cobrados por el banco son {}\".format(round(D,2)))"
   ]
  },
  {
   "cell_type": "code",
   "execution_count": 6,
   "metadata": {},
   "outputs": [
    {
     "name": "stdout",
     "output_type": "stream",
     "text": [
      "Introduzca el tipo de interés (Ejemplo 8%: 0.08) : 0.06\n",
      "Introduzca la fecha de vencimiento de la Letra de Cambio (forma YYYY-MM-DD)2014-3-7\n",
      "Introduzca la fecha de liquidación de la Letra de Cambio (forma YYYY-MM-DD)2013-1-7\n",
      "Introduzca 1 para base de 365 días o 2 para base de 3602\n",
      "Introduzca importe de la Letra de Cambio2485\n",
      "Los intereses totales cobrados por el banco son 175.61\n"
     ]
    }
   ],
   "source": [
    "i = float(input('Introduzca el tipo de interés (Ejemplo 8%: 0.08) : '))\n",
    "datos_vto = input('Introduzca la fecha de vencimiento de la Letra de Cambio (forma YYYY-MM-DD)')\n",
    "año, mes, dia = map(int, datos_vto.split('-'))\n",
    "f_vto = date(año, mes, dia)\n",
    "datos_liq = input('Introduzca la fecha de liquidación de la Letra de Cambio (forma YYYY-MM-DD)')\n",
    "año, mes, dia = map(int, datos_liq.split('-'))\n",
    "f_liq = date(año, mes, dia)\n",
    "b = float(input('Introduzca 1 para base de 365 días o 2 para base de 360'))\n",
    "Cn = float(input('Introduzca importe de la Letra de Cambio'))\n",
    "\n",
    "\n",
    "INT_ACUM_V(i, f_vto, f_liq, b, Cn)"
   ]
  },
  {
   "attachments": {
    "image-2.png": {
     "image/png": "[encoded data removed]"
    },
    "image.png": {
     "image/png": "[encoded data removed]"
    }
   },
   "cell_type": "markdown",
   "metadata": {},
   "source": [
    "Si bien hemos incluído esta fórmula en el apartado de Letras de Cambio, se puede utilizar también en otro tipo de operaciones como los pagarés. \n",
    "\n",
    "Así mismo, puede interesarnos calcular el importe efectivo que vamos a recibir si descontamos a día de hoy un pagaré o una letra de cambio. Para ello existe un fórmula en **Excel** denominada **Precio_descuento** que nos permite realizar este cálculo.\n",
    "\n",
    "Esta fórmula matemática en la que se basa esta función es:\n",
    "\n",
    "![image.png](attachment:image.png)\n",
    "\n",
    "donde: \n",
    "\n",
    "**P**: es el precio del activo o título.\n",
    "\n",
    "**VR**: es el valor de amortización o reembolso del título en la fecha de vencimiento.\n",
    "\n",
    "**n**: es el número de días que van desde la fecha de liquidación del título hasta su vencimiento.\n",
    "\n",
    "**d**: es la tasa de descuento\n",
    "\n",
    "**B**: base que se toma para el cálculo (360 o 365 días)\n",
    "\n",
    "y en el mercado español debemos calcular el tipo de interes, equivalente a la tasa de descuento.\n",
    "\n",
    "![image-2.png](attachment:image-2.png)\n",
    "\n",
    "donde:\n",
    "\n",
    "**n** son los días que van desde la fecha de adquisición hasta la fecha de vencimiento.\n",
    "\n",
    "**i** es el tipo de interés\n",
    "\n",
    "**d** es la tasa de descuento\n",
    "\n",
    "vamos a desarrollar una función que nos permita calcularlo"
   ]
  },
  {
   "cell_type": "markdown",
   "metadata": {},
   "source": [
    "**Ejemplo** El 7 de enero de 2013 2014 una empresa descuenta en Gestión Bank un pagaré de 2.485 euros de valor nominal y cuya fecha de vencimiento es el 7 de marzo de 2013. ¿Qué efectivo recibirá hoy del banco por el descuento del pagaré si Gestión Bank aplica un 8,25 % de tasa de descuento en este tipo de operaciones?"
   ]
  },
  {
   "cell_type": "code",
   "execution_count": 172,
   "metadata": {},
   "outputs": [],
   "source": [
    "def PRECIO_DESCUENTO(f_liq, f_vto, descuento, amortizacion, base):\n",
    "    '''\n",
    "        CÁLCULO DE TOTAL EFECTIVO RECIBIDO\n",
    "        ==================================\n",
    "        \n",
    "        Esta función calcula el precio expresado en tanto por ciento del nominal\n",
    "        de cualquier activo descontado a una determinada tasa de descuento.\n",
    "    \n",
    "        liquidación = Introducimos la fecha de descuento del título\n",
    "        vencimiento = Introduciremos la fecha de vencimiento del título descontado\n",
    "        descuento = Es la tasa de descuento anual\n",
    "        amortizacion = Es el valor de reembolso en tanto por ciento del título a la fecha de vencimiento (Nominal)'''\n",
    "    \n",
    "    if base ==1:\n",
    "        base = 365\n",
    "    elif base == 2:\n",
    "        base = 360\n",
    "    else:\n",
    "        print(\"Error! Indique 1 para bases de 365 días o 2 para bases de 360 días.\")\n",
    "    \n",
    "    n = f_vto - f_liq\n",
    "    #print(n.days)\n",
    "    i = descuento/(1-(n.days*descuento/360))\n",
    "    #print(i)\n",
    "    inte = amortizacion*i/base*n.days\n",
    "    #print(inte)\n",
    "    P = amortizacion - (amortizacion*i/base*n.days)\n",
    "    return round(P,2)\n",
    "    \n",
    "                    "
   ]
  },
  {
   "cell_type": "code",
   "execution_count": 174,
   "metadata": {},
   "outputs": [
    {
     "data": {
      "text/plain": [
       "2420.83"
      ]
     },
     "execution_count": 174,
     "metadata": {},
     "output_type": "execute_result"
    }
   ],
   "source": [
    "#Con datos para ver cómo funciona \n",
    "\n",
    "f_liq = date(2013,1,1)\n",
    "f_vto = date(2013,3,7)\n",
    "descuento=0.08250\n",
    "amortizacion=2458\n",
    "base = 2\n",
    "\n",
    "PRECIO_DESCUENTO(f_liq, f_vto, descuento, amortizacion, base)"
   ]
  },
  {
   "cell_type": "code",
   "execution_count": 175,
   "metadata": {},
   "outputs": [
    {
     "name": "stdout",
     "output_type": "stream",
     "text": [
      "Introduzca el tipo de interés (Ejemplo 8%: 0.08) : 0.08250\n",
      "Introduzca la fecha de vencimiento del activo (forma YYYY-MM-DD)2013-3-7\n",
      "Introduzca la fecha de liquidación del activo (forma YYYY-MM-DD)2013-1-1\n",
      "Introduzca 1 para base de 365 días o 2 para base de 3602\n",
      "Introduzca el valor de reembolso del activo2458\n"
     ]
    },
    {
     "data": {
      "text/plain": [
       "2420.83"
      ]
     },
     "execution_count": 175,
     "metadata": {},
     "output_type": "execute_result"
    }
   ],
   "source": [
    "#desarrollo para introducir datos manualmente\n",
    "\n",
    "descuento = float(input('Introduzca el tipo de interés (Ejemplo 8%: 0.08) : '))\n",
    "datos_vto = input('Introduzca la fecha de vencimiento del activo (forma YYYY-MM-DD)')\n",
    "año, mes, dia = map(int, datos_vto.split('-'))\n",
    "f_vto = date(año, mes, dia)\n",
    "datos_liq = input('Introduzca la fecha de liquidación del activo (forma YYYY-MM-DD)')\n",
    "año, mes, dia = map(int, datos_liq.split('-'))\n",
    "f_liq = date(año, mes, dia)\n",
    "base = float(input('Introduzca 1 para base de 365 días o 2 para base de 360'))\n",
    "Amortizacion = float(input('Introduzca el valor de reembolso del activo'))\n",
    "\n",
    "PRECIO_DESCUENTO(f_liq, f_vto, descuento, amortizacion, base)"
   ]
  },
  {
   "attachments": {
    "image-2.png": {
     "image/png": "[encoded data removed]"
    },
    "image.png": {
     "image/png": "[encoded data removed]"
    }
   },
   "cell_type": "markdown",
   "metadata": {},
   "source": [
    "Sin embargo, en ocasiones lo que nos interesa conocer es el tipo de interés o el rendimiento si es una inversión, para lo que existe la fórmula en **Excel** llamada **RENDTO.DESC** que vamos a desarrollar a continuación.\n",
    "\n",
    "FÓRMULA MATEMÁTICA\n",
    "\n",
    "Esta función está basada en la fórmula matemática\n",
    "\n",
    "![image.png](attachment:image.png)\n",
    "\n",
    "donde:\n",
    "\n",
    "**P** es el precio del título expresado en tanto por ciento del valor nominal.\n",
    "\n",
    "**n** es el número de días comprendidos entre la fecha de adquisición y la fecha de vencimiento.\n",
    "\n",
    "**i** es el tipo de interés\n",
    "\n",
    "Y despejando “i” de la expresión anterior obtendríamos la fórmula del tipo de interés:\n",
    "\n",
    "![image-2.png](attachment:image-2.png)\n",
    "\n",
    "\n"
   ]
  },
  {
   "cell_type": "markdown",
   "metadata": {},
   "source": [
    "Con los siguientes datos, hagamos un ejemplo:\n",
    "    \n",
    "El 7 de enero de 2013 una empresa descuenta en Gestión Bank un pagaré de 2.485 euros de valor nominal y cuya fecha de vencimiento es el 7 de marzo de 2013. El banco le entrega en efectivo la cantidad de 2.421,38.\n",
    "\n",
    "¿A qué tasa de descuento se ha realizado la operación por parte de Gestión Bank?\n"
   ]
  },
  {
   "cell_type": "code",
   "execution_count": 318,
   "metadata": {},
   "outputs": [],
   "source": [
    "def RENDTO_DESC(liquidacion,vencimiento,pr,amortizacion,base):\n",
    "    '''\n",
    "        CÁLCULO DE TIPO INTERÉS\n",
    "        ========================\n",
    "        \n",
    "        Esta función nos calcula el tipo de interés o rendimiento, \n",
    "        en régimen de capitalización simple (año comercial de 360 días), \n",
    "        de un activo financiero emitido al descuento y siempre que conozcamos su valor de reembolso \n",
    "        o amortización en su fecha de vencimiento.\n",
    "    \n",
    "        liquidación = Introducimos la fecha de compra o adquisición del activo financiero\n",
    "        vencimiento = Introduciremos la fecha de vencimiento del activo financiero\n",
    "        pr = Es el precio de la letra o pagaré expresado en tanto por ciento de su valor nominal\n",
    "        amortizacion = Es el valor de reembolso expresado en tanto por ciento del nominal del título'''\n",
    "\n",
    "    if base == 1:\n",
    "        base = 365\n",
    "        n = vencimiento - liquidacion\n",
    "        n = n.days\n",
    "    elif base == 2:\n",
    "        base = 360\n",
    "        n = vencimiento - liquidacion\n",
    "        n = n.days\n",
    "    elif base == 3:\n",
    "        year1 = liquidacion.year\n",
    "        month1 = liquidacion.month\n",
    "        day1 = liquidacion.day\n",
    "        year2 = vencimiento.year\n",
    "        month2 = vencimiento.month\n",
    "        day2 = vencimiento.day\n",
    "        n = calcular_dias(year1, month1, day1, year2, month2, day2)\n",
    "        base = 360\n",
    "    else:\n",
    "        print(\"Error! Indique un número correcto para indicar la base.\")\n",
    " \n",
    "        \n",
    "    inter = pr - amortizacion\n",
    "    #print(inter)\n",
    "    #print(n)\n",
    "    i = (inter * base)  / (n*amortizacion)\n",
    "    #Una vez obtenido el interés, hay que convertirlo.\n",
    "    tasa = i/(1+n*i/base)\n",
    "    \n",
    "    #el resultado está en tanto por 1.\n",
    "   \n",
    "    return round(tasa,5) \n",
    "            \n",
    "    "
   ]
  },
  {
   "cell_type": "code",
   "execution_count": 320,
   "metadata": {},
   "outputs": [
    {
     "data": {
      "text/plain": [
       "0.08939"
      ]
     },
     "execution_count": 320,
     "metadata": {},
     "output_type": "execute_result"
    }
   ],
   "source": [
    "#Comprobación de la función \n",
    "\n",
    "liquidacion = date(2013,1,7)\n",
    "vencimiento = date(2013,3,7)\n",
    "pr= 2458\n",
    "amortizacion= 2421.38\n",
    "base=3\n",
    "\n",
    "\n",
    "RENDTO_DESC(liquidacion,vencimiento,pr,amortizacion,base)"
   ]
  },
  {
   "cell_type": "code",
   "execution_count": 323,
   "metadata": {},
   "outputs": [
    {
     "name": "stdout",
     "output_type": "stream",
     "text": [
      "Introduzca la fecha de vencimiento del activo (forma YYYY-MM-DD)2013-03-07\n",
      "Introduzca la fecha de liquidación del activo (forma YYYY-MM-DD)2013-01-07\n",
      "Introduzca:\n",
      "                      1 para base de 365 días\n",
      "                      2 para base de 360 días\n",
      "                      3 para meses de 30 dias y año 3603\n",
      "Introduzca el valor de reembolso del activo2421.38\n",
      "Introduzca el precio del activo2458\n"
     ]
    },
    {
     "data": {
      "text/plain": [
       "0.08939"
      ]
     },
     "execution_count": 323,
     "metadata": {},
     "output_type": "execute_result"
    }
   ],
   "source": [
    "#desarrollo para introducir datos manualmente\n",
    "\n",
    "datos_vto = input('Introduzca la fecha de vencimiento del activo (forma YYYY-MM-DD) ')\n",
    "año, mes, dia = map(int, datos_vto.split('-'))\n",
    "vencimiento = date(año, mes, dia)\n",
    "datos_liq = input('Introduzca la fecha de liquidación del activo (forma YYYY-MM-DD) ')\n",
    "año, mes, dia = map(int, datos_liq.split('-'))\n",
    "liquidacion = date(año, mes, dia)\n",
    "base = float(input('''Introduzca:\n",
    "                      1 para base de 365 días\n",
    "                      2 para base de 360 días\n",
    "                      3 para meses de 30 dias y año 360 '''))\n",
    "Amortizacion = float(input('Introduzca el valor de reembolso del activo '))\n",
    "pr = float(input('Introduzca el precio del activo '))\n",
    "\n",
    "RENDTO_DESC(liquidacion,vencimiento,pr,amortizacion,base)"
   ]
  },
  {
   "attachments": {
    "image-2.png": {
     "image/png": "[encoded data removed]"
    },
    "image-3.png": {
     "image/png": "[encoded data removed]"
    },
    "image-4.png": {
     "image/png": "[encoded data removed]"
    },
    "image.png": {
     "image/png": "[encoded data removed]"
    }
   },
   "cell_type": "markdown",
   "metadata": {},
   "source": [
    "# Letras del Tesoro\n",
    "\n",
    "Las Letras del Tesoro son títulos de deuda pública emitidos al descuento como forma de financiación del Estado, normalmente a corto plazo, y aunque son inversiones de renta fija no están exentas de cierto riesgo aunque menor en comparación con otros productos, por eso su rentabilidad suele ser menor también.\n",
    "\n",
    "Que las letras estén emitidas al descuento significa que el valor nominal de la letra es de 1.000 euros, y su precio de compra estará por debajo de ese valor, la diferencia entre el valor de compra y venta nos determinará su rentabilidad.\n",
    "\n",
    "Por tanto, las letras del tesoro pueden ser adquiridas en múltiplos de 1.000 eruos, y dado que son a corto plazo (hecho que las distingue de los Bonos y Obligaciones), su duración es menor a 18 meses, normalmente 3, 6, 12 y 18 meses.\n",
    "\n",
    "FÓRMULA MATEMÁTICA FINANCIERA\n",
    "\n",
    "La fórmula que nos permite calcular el montante final, así como los intereses es:\n",
    "\n",
    "![image.png](attachment:image.png)\n",
    "\n",
    "\n",
    "Donde:\n",
    "\n",
    "**P** es el precio del título expresado en tanto por ciento del valor nominal.\n",
    "\n",
    "**n** es el número de días comprendidos entre la fecha de adquisición y la fecha de vencimiento.\n",
    "\n",
    "**d** es el tipo o tasa de descuento\n",
    "\n",
    "Debemos tener en cuenta que la función estudiada está diseñada para aquellos mercados, por ejemplo en EEUU, que cotizan al descuento y publican directamente el tipo de descuento.\n",
    "\n",
    "Para adaptar esta función al mercado español de Letras del Tesoro deberemos calcular el tipo de descuento “d” equivalente al tipo de interés “i” publicado en la subasta de los títulos, a partir de la ecuación de igualdad entre descuento comercial y descuento racional:\n",
    "\n",
    "![image-3.png](attachment:image-3.png)\n",
    "![image-4.png](attachment:image-4.png)\n",
    "![image-2.png](attachment:image-2.png)\n",
    "\n",
    "Donde:\n",
    "\n",
    "**Cn** es el valor nominal del título descontado.\n",
    "\n",
    "**n** son los días que van desde la fecha de adquisición hasta la fecha de vencimiento.\n",
    "\n",
    "**i** es el tipo de interés\n",
    "\n",
    "**d** es la tasa de descuento\n",
    "\n",
    "Vamos a ver algunos ejemplos para comprender la teoría:"
   ]
  },
  {
   "cell_type": "markdown",
   "metadata": {},
   "source": [
    "**Ejemplo 1.** En la subasta realizada el 23 de septiembre de 2014 nuestra empresa solicitó 60 letras del Tesoro en el tramo no competitivo. La dirección General del tesoro nos comunica que nos han adjudicado los 60 títulos. Los resultados de la subasta han sido los siguientes:\n",
    "\n",
    "Fecha de adquisición: 26 de septiembre de 2014\n",
    "\n",
    "Fecha de vencimiento: 12 de diciembre de 2014\n",
    "\n",
    "Tipo de interés medio: 0,056 %\n",
    "\n",
    "Se pide:\n",
    "\n",
    "Calcular el precio medio de una letra en tanto por ciento sobre su valor nominal.\n",
    "\n",
    "Calcular la inversión y el rendimiento obtenido si las letras se mantienen hasta la fecha de su vencimiento."
   ]
  },
  {
   "cell_type": "code",
   "execution_count": 93,
   "metadata": {},
   "outputs": [
    {
     "name": "stdout",
     "output_type": "stream",
     "text": [
      "La tasa de descuento es 0.00056\n",
      "El precio medio de una letra es  0.99988\n",
      "El precio medio de una letra en porcentaje es  99.988 %\n",
      "El capital invertido es 59992.81 euros\n",
      "El valor de amortización es 60000 euros\n",
      "Rendimiento de la inversión es 7.19 euros\n"
     ]
    }
   ],
   "source": [
    "f_adq = date(2014,9,26)\n",
    "f_vto = date(2014,12,12)\n",
    "n = f_adq - f_vto\n",
    "i = 0.00056\n",
    "\n",
    "#Primer paso: Cálculo tasa de descuento\n",
    "\n",
    "d = i/(1+(n.days*i/360))\n",
    "print(\"La tasa de descuento es\", round(d,6))\n",
    "\n",
    "#Segundo paso: Cálculo precio de adquisición\n",
    "\n",
    "P = (1+(d*n.days/360))\n",
    "print(\"El precio medio de una letra es \", round(P,6))\n",
    "\n",
    "#En porcentaje:\n",
    "\n",
    "Po = 100*(1+(d*n.days/360))\n",
    "print(\"El precio medio de una letra en porcentaje es \", round(Po,3), \"%\")\n",
    "\n",
    "#Capital que hemos invertido: nos han adjudicado 60 títulos:\n",
    "\n",
    "títulos = 60\n",
    "C_inver = P*títulos*1000\n",
    "print(\"El capital invertido es\", round(C_inver,2), \"euros\")\n",
    "\n",
    "#Pero su valor de amortización es:\n",
    "\n",
    "V_amortz = títulos*1000\n",
    "print(\"El valor de amortización es\", round(V_amortz,2), \"euros\")\n",
    "\n",
    "#Y por tanto el rendimiento es:\n",
    "rendim = V_amortz - C_inver\n",
    "print(\"Rendimiento de la inversión es\", round(rendim,2), \"euros\")\n"
   ]
  },
  {
   "cell_type": "markdown",
   "metadata": {},
   "source": [
    "**Ejemplo 2.** En la subasta realizada el 16 de septiembre de 2014 nuestra empresa solicitó 100 letras del Tesoro en el tramo no competitivo. La dirección General del Tesoro nos comunica que nos han adjudicado los 60 títulos. Los resultados de la subasta han sido los siguientes:\n",
    "\n",
    "Fecha de adquisición: 16 de septiembre de 2014\n",
    "\n",
    "Fecha de vencimiento: 18 de septiembre de 2015\n",
    "\n",
    "Tipo de interés medio: 0,219 %"
   ]
  },
  {
   "cell_type": "code",
   "execution_count": 94,
   "metadata": {
    "scrolled": false
   },
   "outputs": [
    {
     "name": "stdout",
     "output_type": "stream",
     "text": [
      "La tasa de descuento es 0.002195\n",
      "El precio medio de una letra es  0.997762\n",
      "El precio medio de una letra en porcentaje es  99.776 %\n",
      "El capital invertido es 59865.75 euros\n",
      "El valor de amortización es 60000 euros\n",
      "Rendimiento de la inversión es 134.25 euros\n"
     ]
    }
   ],
   "source": [
    "f_adq = date(2014,9,16)\n",
    "f_vto = date(2015,9,18)\n",
    "n = f_adq - f_vto\n",
    "i = 0.00219\n",
    "títulos = 60\n",
    "\n",
    "d = i/(1+(n.days*i/360))\n",
    "print(\"La tasa de descuento es\", round(d,6))\n",
    "\n",
    "P = (1+(d*n.days/360))\n",
    "print(\"El precio medio de una letra es \", round(P,6))\n",
    "\n",
    "Po = 100*(1+(d*n.days/360))\n",
    "print(\"El precio medio de una letra en porcentaje es \", round(Po,3), \"%\")\n",
    "\n",
    "títulos = 60\n",
    "C_inver = P*títulos*1000\n",
    "print(\"El capital invertido es\", round(C_inver,2), \"euros\")\n",
    "\n",
    "V_amortz = títulos*1000\n",
    "print(\"El valor de amortización es\", round(V_amortz,2), \"euros\")\n",
    "\n",
    "rendim = V_amortz - C_inver\n",
    "print(\"Rendimiento de la inversión es\", round(rendim,2), \"euros\")"
   ]
  },
  {
   "cell_type": "markdown",
   "metadata": {},
   "source": [
    "Si tuvieramos que realizar esta operación mediante **Excel** utilizaríamos la fórmula **LETRA.DE.TES.PRECIO**\n",
    "\n",
    "En anteriores apartados hemos visto que Numpy Financial contiene varias fórmulas financieras equivalentes en Excel, pero no es este el caso. Por ello vamos a crear una función que nos permita realizar este cálculo de forma atumática."
   ]
  },
  {
   "cell_type": "code",
   "execution_count": 325,
   "metadata": {},
   "outputs": [],
   "source": [
    "def LETRA_DE_TES_PRECIO(i, f_adq, f_vto):\n",
    "    '''\n",
    "        CÁLCULO DEL PRECIO\n",
    "        ==================\n",
    "        \n",
    "        Esta función nos calcula el precio por cada cien euros de valor nominal, \n",
    "        de una Letra del Tesoro o cualquier otro activo financiero que funcione al descuento, \n",
    "        tales como pagarés o letras de cambio, a un tipo o una tasa de descuento determinada, \n",
    "        siempre que los días de descuento sean inferiores a 366.\n",
    "        \n",
    "        i = Tipo o tasa de descuento anual del título\n",
    "        f_adq = Introducimos la fecha de compra o adquisición del activo financiero\n",
    "        f_vto = Introduciremos la fecha de vencimiento del activo financiero\n",
    "        \n",
    "        *Nota* Esta función es muy similar a PRECIO_RENDIMIENTO, solo que las Letras del Tesoro están limitadas\n",
    "            a vencimientos de 3 / 6 o 12 mesese, por lo que periodos superiores indica un error.'''\n",
    "    \n",
    "    n = f_adq - f_vto\n",
    "    dias=365\n",
    "    if n.days > dias:\n",
    "        print(\"\"\"\n",
    "                        ERROR!! LAS LETRAS DE CAMBIO NO PUEDEN SER SUPERIORES A UN AÑO\"\"\")\n",
    "    else:\n",
    "        d = i/(1+(n.days*i/360))\n",
    "        Po = 100*(1+(d*n.days/360))\n",
    "        return round(Po,3)"
   ]
  },
  {
   "cell_type": "code",
   "execution_count": 326,
   "metadata": {},
   "outputs": [
    {
     "data": {
      "text/plain": [
       "99.776"
      ]
     },
     "execution_count": 326,
     "metadata": {},
     "output_type": "execute_result"
    }
   ],
   "source": [
    "#Prueba de la función\n",
    "i = 0.00219\n",
    "f_adq= date(2014,9,16)\n",
    "f_vto= date(2015,9,18)\n",
    "\n",
    "\n",
    "LETRA_DE_TES_PRECIO(i, f_adq, f_vto)"
   ]
  },
  {
   "cell_type": "code",
   "execution_count": 327,
   "metadata": {},
   "outputs": [
    {
     "name": "stdout",
     "output_type": "stream",
     "text": [
      "Introduzca el tipo de interés (Ejemplo 8%: 0.08) : 0.00219\n",
      "Introduzca la fecha de vencimiento de la Letra de Cambio (forma YYYY-MM-DD)2014-9-16\n",
      "Introduzca la fecha de liquidación de la Letra de Cambio (forma YYYY-MM-DD)2015-9-18\n"
     ]
    },
    {
     "data": {
      "text/plain": [
       "99.776"
      ]
     },
     "execution_count": 327,
     "metadata": {},
     "output_type": "execute_result"
    }
   ],
   "source": [
    "#solicitud de datos a mano\n",
    "\n",
    "i = float(input('Introduzca el tipo de interés (Ejemplo 8%: 0.08) : '))\n",
    "datos_vto = input('Introduzca la fecha de vencimiento de la Letra de Cambio (forma YYYY-MM-DD)')\n",
    "año, mes, dia = map(int, datos_vto.split('-'))\n",
    "f_adq = date(año, mes, dia)\n",
    "datos_liq = input('Introduzca la fecha de liquidación de la Letra de Cambio (forma YYYY-MM-DD)')\n",
    "año, mes, dia = map(int, datos_liq.split('-'))\n",
    "f_vto = date(año, mes, dia)\n",
    "\n",
    "LETRA_DE_TES_PRECIO(i, f_adq, f_vto)"
   ]
  },
  {
   "attachments": {
    "image.png": {
     "image/png": "[encoded data removed]"
    }
   },
   "cell_type": "markdown",
   "metadata": {},
   "source": [
    "**Ejemplo 3.** En la subasta realizada el 23 de septiembre de 2014 nuestra empresa solicitó 60 letras del Tesoro en el tramo no competitivo. La dirección General del tesoro nos comunica que nos han adjudicado los 60 títulos. Los resultados de la subasta han sido los siguientes:\n",
    "\n",
    "Fecha de adquisición: 26 de septiembre de 2014\n",
    "\n",
    "Fecha de vencimiento: 12 de diciembre de 2014\n",
    "\n",
    "Precio medio en la subasta: 99,988\n",
    "\n",
    "SE PIDE: Calcular el tipo de interés de la operación financiera utilizando la función\n",
    "\n",
    "*Para solucionar este ejercicio necesitamos la fórmula matemática:*\n",
    "\n",
    "![image.png](attachment:image.png)"
   ]
  },
  {
   "cell_type": "code",
   "execution_count": 203,
   "metadata": {},
   "outputs": [
    {
     "name": "stdout",
     "output_type": "stream",
     "text": [
      "El tipo de interés de esta operación es 0.056 %\n"
     ]
    }
   ],
   "source": [
    "f_adq = date(2014,9,26)\n",
    "f_vto = date(2014,12,12)\n",
    "n = f_vto -f_adq\n",
    "Pm = 99.988\n",
    "\n",
    "i = ((100-Pm)*360)/(Pm*n.days)\n",
    "i = i*100\n",
    "print(\"El tipo de interés de esta operación es\", round(i,3), \"%\")"
   ]
  },
  {
   "cell_type": "markdown",
   "metadata": {},
   "source": [
    "Si tuvieramos que realizar esta operación mediante **Excel** utilizaríamos la fórmula **LETRA.DE.TES.RENDTO**\n",
    "\n",
    "En anteriores apartados hemos visto que Numpy Financial contiene varias fórmulas financieras equivalentes en Excel, pero no es este el caso. Por ello vamos a crear una función que nos permita realizar este cálculo de forma atumática."
   ]
  },
  {
   "cell_type": "code",
   "execution_count": 212,
   "metadata": {},
   "outputs": [],
   "source": [
    "def LETRA_DE_TES_RENDTO(Pm, f_adq, f_vto):\n",
    "    '''\n",
    "        CÁLCULO DEL RENDIMIENTO\n",
    "        =======================\n",
    "        \n",
    "        Esta función nos calcula el tipo de interés o rendimiento, \n",
    "        en régimen de capitalización simple (año comercial de 360 días), \n",
    "        de una Letra del Tesoro Público o pagaré a un plazo que no supere los 365 días \n",
    "        y siempre que conozcamos su precio expresado en porcentaje de su valor nominal.\n",
    "        \n",
    "        Pm = Es el precio de la letra o pagaré expresado en tanto por ciento de su valor nominal\n",
    "        f_adq = Introducimos la fecha de compra o adquisición del activo financiero\n",
    "        f_vto = Introduciremos la fecha de vencimiento del activo financiero'''\n",
    "    \n",
    "    \n",
    "    \n",
    "    n = f_vto - f_adq\n",
    "   \n",
    "    dias=365\n",
    "    if n.days > dias:\n",
    "        print(\"\"\"\n",
    "                        ERROR!! LAS LETRAS DE CAMBIO NO PUEDEN SER SUPERIORES A UN AÑO\"\"\")\n",
    "    else:\n",
    "        i = ((100-Pm)*360)/(Pm*n.days)\n",
    "        i = i*100\n",
    "        return round(i,3)"
   ]
  },
  {
   "cell_type": "code",
   "execution_count": 213,
   "metadata": {},
   "outputs": [
    {
     "data": {
      "text/plain": [
       "0.056"
      ]
     },
     "execution_count": 213,
     "metadata": {},
     "output_type": "execute_result"
    }
   ],
   "source": [
    "#Comprobación rápida de la función\n",
    "\n",
    "Pm = 99.988\n",
    "f_adq = date(2014,9,26)\n",
    "f_vto = date(2014,12,12)\n",
    "\n",
    "LETRA_DE_TES_RENDTO(Pm, f_adq, f_vto)"
   ]
  },
  {
   "cell_type": "code",
   "execution_count": 116,
   "metadata": {},
   "outputs": [
    {
     "name": "stdout",
     "output_type": "stream",
     "text": [
      "Introduzca el precio de la letra expresado en tanto por ciento (Ejemplo: 99.998): 99.988\n",
      "Introduzca la fecha de vencimiento de la Letra de Cambio (forma YYYY-MM-DD)2014-12-12\n",
      "Introduzca la fecha de liquidación de la Letra de Cambio (forma YYYY-MM-DD)2014-9-26\n",
      "El tipo de interés de esta operación es 0.056 %\n"
     ]
    }
   ],
   "source": [
    "#Introdución manual de los datos\n",
    "\n",
    "Pm = float(input('Introduzca el precio de la letra expresado en tanto por ciento (Ejemplo: 99.998): '))\n",
    "datos_vto = input('Introduzca la fecha de vencimiento de la Letra de Cambio (forma YYYY-MM-DD)')\n",
    "año, mes, dia = map(int, datos_vto.split('-'))\n",
    "f_vto = date(año, mes, dia)\n",
    "datos_adq = input('Introduzca la fecha de liquidación de la Letra de Cambio (forma YYYY-MM-DD)')\n",
    "año, mes, dia = map(int, datos_liq.split('-'))\n",
    "f_adq = date(año, mes, dia)\n",
    "\n",
    "LETRA_DE_TES_RENDTO(Pm, f_adq, f_vto)"
   ]
  },
  {
   "cell_type": "markdown",
   "metadata": {},
   "source": [
    "# Bonos y Obligaciones\n",
    "\n",
    "Mientras que las Letras del Tesoro están pensadas como un producto a corto plazo (menos de 18 meses), los bonos se emiten a largo plazo (entre 3 y 5 años) y las obligaciones a más largo plazo (10, 15 ó 30 años), por tanto funcionan de una forma parecida a los depósitos, solo que la emisión de deuda se hace en múltiplos de 1.000 euros.\n",
    "\n",
    "Además, la contratación de Bonos u Obligaciones no se realiza a descuento, sino que se ofrece un tipo de interes al que se será remunerado anualmente la inversión, es decir, si contratas un bono a 3 años, cada año se abonarán unos intereses a una rentabilidad previamente fijada, se denomina **Cupón**. Por tanto su funcionamiento es similar a los depósitos, solo que los intereses están calculados mediante interés simple.\n"
   ]
  },
  {
   "attachments": {
    "image.png": {
     "image/png": "[encoded data removed]"
    }
   },
   "cell_type": "markdown",
   "metadata": {},
   "source": [
    "Vamos a ver un ejemplo práctico:\n",
    "\n",
    "**Ejemplo 3** Nuestra empresa compra el 19 de junio de 2014 un Bono del Estado a 5 años emitido el 15 de marzo de 2014 a un tipo nominal de interés del 3,25 %, cuyo valor nominal es de 1.000 euros y paga el cupón anualmente.\n",
    "\n",
    "Si nuestra empresa vende el título el 19 de junio de 2016, calcula el importe de los intereses acumulados por dicho bono hasta la fecha en que se vende. \n",
    "\n",
    "![image.png](attachment:image.png)"
   ]
  },
  {
   "cell_type": "code",
   "execution_count": 185,
   "metadata": {},
   "outputs": [
    {
     "name": "stdout",
     "output_type": "stream",
     "text": [
      "Los intereses acumulados hasta la fecha '2016-06-19' son 73.548 euros\n"
     ]
    }
   ],
   "source": [
    "Cn = 1000                         #Valor nominal de nuestro Bono\n",
    "f_emision = date(2014,3,15)       #Fecha Emisión Bono\n",
    "f_venta = date(2016,6,19)         #Fecha en la que se vende el Bono\n",
    "n = (f_venta-f_emision)           #Cálculo de días para el cálculo de intereses (restamos 1 día porque incluye todos, pero el de la venta no se debe incluir)\n",
    "n = n.days -1\n",
    "base = 365                        #Base del año (puede ser 360 o 365)\n",
    "i = 0.0325                        #tipo de interés\n",
    "\n",
    "int_acum = Cn*i*((n)/base)        #Fórmula intereses simple\n",
    "print(\"Los intereses acumulados hasta la fecha '{}' son {} euros\".format(f_venta, round(int_acum,3)))"
   ]
  },
  {
   "attachments": {
    "image.png": {
     "image/png": "[encoded data removed]"
    }
   },
   "cell_type": "markdown",
   "metadata": {},
   "source": [
    "\n",
    "Para el cálculo de intereses en este tipo de operaciones, existe una fórmula en **Excel** llamada **INT_ACUM**. Crearemos una función en Python.\n",
    "\n",
    "FÓRMULA MATEMÁTICA FINANCIERA\n",
    "\n",
    "![image.png](attachment:image.png)\n",
    "\n",
    "Donde:\n",
    "\n",
    "**Ai** es el número de días acumulados para el iésimo período de un cuasi-cupón dentro de un período irregular.\n",
    "\n",
    "**NC** número de períodos de un cuasi-cupón en un período irregular. Si este número contiene una fracción, auméntelo al siguiente número entero.\n",
    "\n",
    "**NLi** duración normal en días del iésimo período de un cuasi-cupón dentro de un período irregular.\n",
    "\n",
    "El **rendimiento** es el nombre que reciben los intereses generados, que se obtienen al cobro del cupón. Corresponden a la diferencia entre el precio de compra y el valor de la amortización."
   ]
  },
  {
   "cell_type": "code",
   "execution_count": 116,
   "metadata": {},
   "outputs": [],
   "source": [
    "from dateutil.relativedelta import relativedelta"
   ]
  },
  {
   "cell_type": "code",
   "execution_count": null,
   "metadata": {},
   "outputs": [],
   "source": [
    "relativedelta()"
   ]
  },
  {
   "cell_type": "code",
   "execution_count": null,
   "metadata": {},
   "outputs": [],
   "source": []
  },
  {
   "cell_type": "code",
   "execution_count": 132,
   "metadata": {},
   "outputs": [],
   "source": [
    "def INT_ACUM(f_emi, f_liq, tasa, par, frecuencia, base):\n",
    "    '''\n",
    "        CÁLCULO RENDIMIENTO\n",
    "        ====================\n",
    "        \n",
    "        Esta función nos calcula los intereses acumulados, \n",
    "        desde la fecha en que se emite un activo financiero (Bono del estado)\n",
    "        hasta la fecha de negociación de ese activo que devenga cupones (intereses) \n",
    "        de forma periódica.\n",
    "        \n",
    "        f_emi = Fecha en en que el título es emitido por el organismo correspondiente\n",
    "        f_int = Fecha de pago del primer cupón\n",
    "        f_liq = Fecha de negociación o liquidación del título\n",
    "        tasa  = Es el tipo de interés nominal del título\n",
    "        par = Es el valor nominal del título. Si no lo indicamos se supone que es de 1.000 euros.\n",
    "        frecuencia = Es el número de cupones que paga el título al año. \n",
    "            siendo 1 para pago anual, 2 para pagos semestral, 4 para pago trimestral.'''\n",
    "    \n",
    "    if base == 1:\n",
    "        base = 365\n",
    "    elif base == 2:\n",
    "        base = 360\n",
    "    else:\n",
    "        print(\"Error! Indique 1 para 365 días, 2 para 360\")\n",
    "        \n",
    "    if not par:\n",
    "        par=1000\n",
    "        \n",
    "    hoy = f_liq\n",
    "    if f_liq < f_emi:\n",
    "        print('Error! Revise las fechas')\n",
    "    else:\n",
    "        year_emi = f_emi.year\n",
    "        mes_emi = f_emi.month\n",
    "        dia_emi = f_emi.day\n",
    " \n",
    "        fecha = f_emi\n",
    "        periodo = 0\n",
    "        while fecha < f_liq:\n",
    "            if frecuencia == 1:\n",
    "                periodo += 1\n",
    "                year = relativedelta(years=1)\n",
    "                fecha = fecha + year\n",
    "                \n",
    "                fecha2 = fecha - year\n",
    "                n = f_liq - fecha2\n",
    "                int_años = par*tasa*(periodo-1)\n",
    "                int_dias = par*tasa*(n.days / base)\n",
    "                int_acum = int_años + int_dias\n",
    "                \n",
    "            elif frecuencia == 2:\n",
    "                periodo += 1\n",
    "                mes = relativedelta(month=6)\n",
    "                fecha = fecha + mes\n",
    "                \n",
    "                fecha2 = fecha -mes\n",
    "                n = f_liq - fecha2\n",
    "                int_años = par*(tasa/frecuencia)*(periodo-1)\n",
    "                int_dias = par*tasa*(n.days / base)\n",
    "                int_acum = int_años + int_dias\n",
    "                \n",
    "            elif frecuencia == 4:\n",
    "                periodo += 1\n",
    "                mes = relativedelta(months=3)\n",
    "                fecha = fecha + mes\n",
    "                \n",
    "                fecha2 = fecha -mes\n",
    "                n = f_liq - fecha2\n",
    "                int_años = par*(tasa/frecuencia)*(periodo-1)\n",
    "                int_dias = par*tasa*(n.days / base)\n",
    "                int_acum = int_años + int_dias\n",
    "            \n",
    "                \n",
    "            \n",
    "    return round(int_acum,3)"
   ]
  },
  {
   "cell_type": "code",
   "execution_count": 129,
   "metadata": {},
   "outputs": [
    {
     "data": {
      "text/plain": [
       "73.548"
      ]
     },
     "execution_count": 129,
     "metadata": {},
     "output_type": "execute_result"
    }
   ],
   "source": [
    "#Comprobación rápida desarrollo de la función\n",
    "\n",
    "par = 1000                        \n",
    "f_emi = date(2014,3,15)\n",
    "f_int = date(2015,3,15)\n",
    "f_liq = date(2016,6,19)        \n",
    "base = 1                       \n",
    "tasa = 0.0325  \n",
    "frecuencia = 1\n",
    "\n",
    "INT_ACUM(f_emi, f_int, f_liq, tasa, par, frecuencia, base)\n"
   ]
  },
  {
   "cell_type": "code",
   "execution_count": 133,
   "metadata": {},
   "outputs": [
    {
     "name": "stdout",
     "output_type": "stream",
     "text": [
      "Introduzca el valor nominal del Bono 1000\n",
      "Introduzca la fecha de emisión del Bono (forma YYYY-MM-DD)2014-03-15\n",
      "Introduzca la fecha de liquidación del Bono (forma YYYY-MM-DD)2016-06-19\n",
      "Introduzca el tipo de interés (Ejemplo 8%: 0.08) : 0.0325\n",
      "Introduzca la frecuencia:\n",
      "                                Para años = 1\n",
      "                                Para semestres = 2\n",
      "                                Para trimestres = 4 1\n",
      "Intoduzca 1 para base 365 días, 2 para base 360 días1\n"
     ]
    },
    {
     "data": {
      "text/plain": [
       "73.548"
      ]
     },
     "execution_count": 133,
     "metadata": {},
     "output_type": "execute_result"
    }
   ],
   "source": [
    "#Introducción datos manuales\n",
    "\n",
    "\n",
    "par = float(input('Introduzca el valor nominal del Bono '))\n",
    "datos_emi = input('Introduzca la fecha de emisión del Bono (forma YYYY-MM-DD)')\n",
    "año, mes, dia = map(int, datos_emi.split('-'))\n",
    "f_emi = date(año, mes, dia)\n",
    "datos_liq = input('Introduzca la fecha de liquidación del Bono (forma YYYY-MM-DD)')\n",
    "año, mes, dia = map(int, datos_liq.split('-'))\n",
    "f_liq = date(año, mes, dia)\n",
    "tasa = float(input('Introduzca el tipo de interés (Ejemplo 8%: 0.08) : '))\n",
    "frecuencia = float(input('''Introduzca la frecuencia:\n",
    "                                Para años = 1\n",
    "                                Para semestres = 2\n",
    "                                Para trimestres = 4 '''))\n",
    "base = float(input(\"Intoduzca 1 para base 365 días, 2 para base 360 días\"))\n",
    "\n",
    "INT_ACUM(f_emi, f_liq, tasa, par, frecuencia, base)"
   ]
  }
 ],
 "metadata": {
  "kernelspec": {
   "display_name": "Python 3",
   "language": "python",
   "name": "python3"
  },
  "language_info": {
   "codemirror_mode": {
    "name": "ipython",
    "version": 3
   },
   "file_extension": ".py",
   "mimetype": "text/x-python",
   "name": "python",
   "nbconvert_exporter": "python",
   "pygments_lexer": "ipython3",
   "version": "3.8.5"
  }
 },
 "nbformat": 4,
 "nbformat_minor": 4
}
