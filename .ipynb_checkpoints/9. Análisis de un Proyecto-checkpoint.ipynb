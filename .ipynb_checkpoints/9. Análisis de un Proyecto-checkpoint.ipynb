{
 "cells": [
  {
   "cell_type": "markdown",
   "metadata": {},
   "source": [
    "# **Análisis de un Proyecto**\n",
    "\n",
    "*Ya hemos comprobado diferentes índices que nos indican la liquidez y rentabilidad de un proyecto, ahora lo que vamos a tratar es de crear un sistema que nos permita realizar todos los cálculos y nos determine si un proyecto es viable o no, incluso comparar varios proyectos para tomar una rápida decisión*\n",
    "\n",
    "*Nos vamos a ayudar de objeto de Clases, para trabajar esta parte de Python, pero podríamos hacerlo de muchas maneras*"
   ]
  },
  {
   "cell_type": "code",
   "execution_count": 7,
   "metadata": {},
   "outputs": [
    {
     "name": "stdout",
     "output_type": "stream",
     "text": [
      "Requirement already satisfied: numpy-financial in c:\\users\\rebec\\anaconda3\\lib\\site-packages (1.0.0)\n",
      "Requirement already satisfied: numpy>=1.15 in c:\\users\\rebec\\anaconda3\\lib\\site-packages (from numpy-financial) (1.18.5)\n",
      "Note: you may need to restart the kernel to use updated packages.\n"
     ]
    }
   ],
   "source": [
    "pip install numpy-financial"
   ]
  },
  {
   "cell_type": "code",
   "execution_count": 8,
   "metadata": {},
   "outputs": [],
   "source": [
    "import numpy_financial as npf\n",
    "import numpy as np\n",
    "import pandas as pd"
   ]
  },
  {
   "cell_type": "code",
   "execution_count": 9,
   "metadata": {},
   "outputs": [],
   "source": [
    "import matplotlib.pyplot as plt"
   ]
  },
  {
   "cell_type": "code",
   "execution_count": 10,
   "metadata": {},
   "outputs": [],
   "source": [
    "plt.close(\"all\")"
   ]
  },
  {
   "cell_type": "code",
   "execution_count": 94,
   "metadata": {},
   "outputs": [],
   "source": [
    "#Damos forma a determinadas funciones que después vamos a incorporar en nuestra class\n",
    "\n",
    "def VAN(rate, values):     #para su calculo necesitamos una tasa de descuento y unos flujos de caja\n",
    "    VAN = 0\n",
    "    for i in range(len(values)):\n",
    "        VAN += values[i]/(1+rate)**(i)\n",
    "    return (\"El VAN del proyecto es {}.\".format(VAN))\n",
    "\n",
    "def TIR(values):           #Para el cálculo de la TIR solo necesitamos los flujos de caja\n",
    "    TIR = npf.irr(values)\n",
    "    return (\"El TIR del proyecto es {}.\".format(TIR))\n",
    "\n",
    "def PAYBACK(values):       #Igualmente, para el Payback solo necesitamos los flujos de caja\n",
    "\n",
    "    Acum_FC = 0\n",
    "\n",
    "    for i in range(len(FC)):\n",
    "        Acum_FC += FC[i]\n",
    "    \n",
    "        if Acum_FC > 0:\n",
    "            print(\"El Payback del Proyecto son {} años\". format(i))\n",
    "            break\n",
    "        \n",
    "        elif Acum_FC <= 0 and i == len(FC)-1:\n",
    "            print(\"El proyecto no recupera su inversión\")\n",
    "            \n",
    "            \n",
    "def IR(rate, pv, values):    #Para el índice de rentabilidad necesitamos varios datos.\n",
    "    values = values[1:]\n",
    "    \n",
    "    VA = npf.npv(rate, values)\n",
    "    IR = VA / pv\n",
    "    return (\"El Indice de Rentabilidad es {}.\".format(IR))\n",
    "            "
   ]
  },
  {
   "cell_type": "code",
   "execution_count": 90,
   "metadata": {},
   "outputs": [],
   "source": [
    "\n",
    "\n",
    "#Definimos class Proyecto, empezando por las propiedades de las variables, evitando valores nulos.\n",
    "\n",
    "class Proyecto:\n",
    "    \n",
    "    @property \n",
    "    def nper(self): return self._nper #Todo proyecto debe tener un periodo superior a 0\n",
    "    @nper.setter\n",
    "    def nper(self, nper):\n",
    "        if type(nper) == int and nper > 0:\n",
    "            self._nper = nper\n",
    "        else: print(\"La duración del periodo debe ser > 0\")\n",
    "            \n",
    "    @property \n",
    "    def pv(self): return self._pv #Todo proyecto debe tener una inversión inicial superior a 0\n",
    "    @pv.setter\n",
    "    def pv(self, pv):\n",
    "        if (type(pv) == int or type(pv) == float) and pv > 0:\n",
    "            self._pv = pv\n",
    "        else: print(\"La inversión inicial debe ser > 0\")\n",
    "            \n",
    "    @property\n",
    "    def rate(self): return self._rate #En este caso, vamos a pedir una tasa de interés, más adelante veremos calcular\n",
    "    @rate.setter\n",
    "    def rate(self, rate):\n",
    "        if type(rate) == float and rate > 0: \n",
    "            self._rate = rate\n",
    "        else: print(\"El interés (8% = 0.08) de ser > 0\")\n",
    "            \n",
    "    def __init__(self, rate, nper, pv, values):  #Definimos qué datos necesitamos para analizar nuestro proyecto\n",
    "        self.rate = rate             #tasa de descuento\n",
    "        self.nper = nper             #duración del proyecto\n",
    "        self.pv = pv                 #inversión inicial\n",
    "        self.values = values         #flujos de caja del proyecto (más adelante veremos si podemos calcularlos)\n",
    "        \n",
    "    def VAN(self):\n",
    "        return VAN(self.rate, self.values)   # definimos la función para todos los objetos de Proyecto.\n",
    "    \n",
    "    def TIR(self):\n",
    "        return TIR(self.values)              # definimos la función para todos los objetos de Proyecto\n",
    "    \n",
    "    def PAYBACK(self):\n",
    "        return PAYBACK(self.values)          # definimos la función de Payback para Proyecto\n",
    "    \n",
    "    def IR(self):\n",
    "        return IR(self.rate, self.pv, self.values) # definimos la función de Indice Rentabilidad para Proyecto\n",
    "       "
   ]
  },
  {
   "cell_type": "code",
   "execution_count": 101,
   "metadata": {},
   "outputs": [],
   "source": [
    "cf1=[-1000, 200, 300, 1000, 500]\n",
    "Proyecto1 = Proyecto(0.05, 3, 1000, cf1)"
   ]
  },
  {
   "cell_type": "code",
   "execution_count": 102,
   "metadata": {},
   "outputs": [
    {
     "data": {
      "text/plain": [
       "'El VAN del proyecto es 737.7738699410224.'"
      ]
     },
     "execution_count": 102,
     "metadata": {},
     "output_type": "execute_result"
    }
   ],
   "source": [
    "Proyecto1.VAN()"
   ]
  },
  {
   "cell_type": "code",
   "execution_count": 103,
   "metadata": {},
   "outputs": [
    {
     "data": {
      "text/plain": [
       "'El TIR del proyecto es 0.28116785840687086.'"
      ]
     },
     "execution_count": 103,
     "metadata": {},
     "output_type": "execute_result"
    }
   ],
   "source": [
    "Proyecto1.TIR()"
   ]
  },
  {
   "cell_type": "code",
   "execution_count": 104,
   "metadata": {},
   "outputs": [
    {
     "name": "stdout",
     "output_type": "stream",
     "text": [
      "El Payback del Proyecto son 3 años\n"
     ]
    }
   ],
   "source": [
    "Proyecto1.PAYBACK()"
   ]
  },
  {
   "cell_type": "code",
   "execution_count": 105,
   "metadata": {},
   "outputs": [
    {
     "data": {
      "text/plain": [
       "'El Indice de Rentabilidad es 1.8246625634380738.'"
      ]
     },
     "execution_count": 105,
     "metadata": {},
     "output_type": "execute_result"
    }
   ],
   "source": [
    "Proyecto1.IR()"
   ]
  },
  {
   "cell_type": "code",
   "execution_count": null,
   "metadata": {},
   "outputs": [],
   "source": []
  }
 ],
 "metadata": {
  "kernelspec": {
   "display_name": "Python 3",
   "language": "python",
   "name": "python3"
  },
  "language_info": {
   "codemirror_mode": {
    "name": "ipython",
    "version": 3
   },
   "file_extension": ".py",
   "mimetype": "text/x-python",
   "name": "python",
   "nbconvert_exporter": "python",
   "pygments_lexer": "ipython3",
   "version": "3.8.3"
  }
 },
 "nbformat": 4,
 "nbformat_minor": 4
}
