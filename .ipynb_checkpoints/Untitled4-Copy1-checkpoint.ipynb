{
 "cells": [
  {
   "cell_type": "code",
   "execution_count": 1,
   "metadata": {},
   "outputs": [],
   "source": [
    "from bs4 import BeautifulSoup as bs\n",
    "import pandas as pd\n",
    "import requests\n",
    "import pandas_datareader as dr\n",
    "import datetime"
   ]
  },
  {
   "cell_type": "code",
   "execution_count": 2,
   "metadata": {},
   "outputs": [],
   "source": [
    "company_ticker = 'AAPL'\n",
    "timespan = 100 #timespan for the equity beta calculation\n",
    "market_risk_premium = 0.0523\n",
    "long_term_growth = 0.01\n",
    "debt_return = 0.01\n",
    "tax_rate = 0.3"
   ]
  },
  {
   "cell_type": "code",
   "execution_count": 4,
   "metadata": {},
   "outputs": [],
   "source": [
    "income_statement_url = 'https://finance.yahoo.com/quote/' + company_ticker + '/financials?p=' + company_ticker\n",
    "income_statement_html = requests.get(income_statement_url)\n",
    "income_statement_soup = bs(income_statement_html.text, 'html.parser')"
   ]
  },
  {
   "cell_type": "code",
   "execution_count": 8,
   "metadata": {},
   "outputs": [],
   "source": [
    "income_statement_table = income_statement_soup.find('div', class_='M(0) Whs(n) BdEnd Bdc($seperatorColor) D(itb)')\n",
    "income_statement_header = income_statement_table.find('div', class_='D(tbr) C($primaryColor)')\n",
    "header_lst = [] \n",
    "for i in income_statement_header.find_all('div'):\n",
    "    if len(i) != 0:\n",
    "       header_lst.append(i.text)\n",
    "header_lst = header_lst[::-1]\n",
    "del header_lst[len(header_lst)-1]\n",
    "header_lst.insert(0,'Breakdown')\n",
    "income_statement_df = pd.DataFrame(columns = header_lst)"
   ]
  },
  {
   "cell_type": "code",
   "execution_count": 10,
   "metadata": {},
   "outputs": [],
   "source": [
    "revenue_row = income_statement_table.find('div', class_='D(tbr) fi-row Bgc($hoverBgColor):h')\n",
    "revenue_lst = [] \n",
    "for i in revenue_row.find_all('div', attrs={'data-test':'fin-col'}):\n",
    "    i = i.text\n",
    "    i = i.replace(\",\",\"\")\n",
    "    revenue_lst.append(int(i))\n",
    "revenue_lst = revenue_lst[::-1]\n",
    "revenue_lst.insert(0,'Total Revenue')\n",
    "income_statement_df.loc[0] = revenue_lst\n",
    "EBIT_row = income_statement_table.find('div', attrs={'title':'EBIT'}).parent.parent\n",
    "EBIT_lst = [] \n",
    "for i in EBIT_row.find_all('div', attrs={'data-test':'fin-col'}):\n",
    "    i = i.text\n",
    "    i = i.replace(\",\",\"\")\n",
    "    EBIT_lst.append(int(i))\n",
    "EBIT_lst = EBIT_lst[::-1]\n",
    "EBIT_lst.insert(0,'EBIT')\n",
    "income_statement_df.loc[1] = EBIT_lst\n",
    "income_statement_df = income_statement_df.drop('ttm', axis=1)"
   ]
  },
  {
   "cell_type": "code",
   "execution_count": 11,
   "metadata": {},
   "outputs": [
    {
     "data": {
      "text/html": [
       "<div>\n",
       "<style scoped>\n",
       "    .dataframe tbody tr th:only-of-type {\n",
       "        vertical-align: middle;\n",
       "    }\n",
       "\n",
       "    .dataframe tbody tr th {\n",
       "        vertical-align: top;\n",
       "    }\n",
       "\n",
       "    .dataframe thead th {\n",
       "        text-align: right;\n",
       "    }\n",
       "</style>\n",
       "<table border=\"1\" class=\"dataframe\">\n",
       "  <thead>\n",
       "    <tr style=\"text-align: right;\">\n",
       "      <th></th>\n",
       "      <th>Breakdown</th>\n",
       "      <th>9/30/2017</th>\n",
       "      <th>9/30/2018</th>\n",
       "      <th>9/30/2019</th>\n",
       "      <th>9/30/2020</th>\n",
       "    </tr>\n",
       "  </thead>\n",
       "  <tbody>\n",
       "    <tr>\n",
       "      <th>0</th>\n",
       "      <td>Total Revenue</td>\n",
       "      <td>229234000</td>\n",
       "      <td>265595000</td>\n",
       "      <td>260174000</td>\n",
       "      <td>274515000</td>\n",
       "    </tr>\n",
       "    <tr>\n",
       "      <th>1</th>\n",
       "      <td>EBIT</td>\n",
       "      <td>66412000</td>\n",
       "      <td>76143000</td>\n",
       "      <td>69313000</td>\n",
       "      <td>69964000</td>\n",
       "    </tr>\n",
       "  </tbody>\n",
       "</table>\n",
       "</div>"
      ],
      "text/plain": [
       "       Breakdown  9/30/2017  9/30/2018  9/30/2019  9/30/2020\n",
       "0  Total Revenue  229234000  265595000  260174000  274515000\n",
       "1           EBIT   66412000   76143000   69313000   69964000"
      ]
     },
     "execution_count": 11,
     "metadata": {},
     "output_type": "execute_result"
    }
   ],
   "source": [
    "income_statement_df"
   ]
  },
  {
   "cell_type": "code",
   "execution_count": 12,
   "metadata": {},
   "outputs": [],
   "source": [
    "latest_rev = income_statement_df.iloc[0,len(income_statement_df.columns)-1]\n",
    "earliest_rev = income_statement_df.iloc[0,1]\n",
    "rev_CAGR = (latest_rev/earliest_rev)**(float(1/(len(income_statement_df.columns)-2)))-1\n",
    "EBIT_margin_lst = []\n",
    "for year in range(1,len(income_statement_df.columns)):\n",
    "    EBIT_margin = income_statement_df.iloc[1,year]/income_statement_df.iloc[0,year]\n",
    "    EBIT_margin_lst.append(EBIT_margin)\n",
    "avg_EBIT_margin = sum(EBIT_margin_lst)/len(EBIT_margin_lst)"
   ]
  },
  {
   "cell_type": "code",
   "execution_count": 13,
   "metadata": {},
   "outputs": [],
   "source": [
    "forecast_df = pd.DataFrame(columns=['Year ' + str(i) for i in range(1,7)])\n",
    "rev_forecast_lst = []\n",
    "for i in range(1,7):\n",
    "    if i != 6:\n",
    "        rev_forecast = latest_rev*(1+rev_CAGR)**i\n",
    "    else:\n",
    "        rev_forecast = latest_rev*(1+rev_CAGR)**(i-1)*(1+long_term_growth)\n",
    "    rev_forecast_lst.append(int(rev_forecast))\n",
    "forecast_df.loc[0] = rev_forecast_lst\n",
    "EBIT_forecast_lst = []\n",
    "for i in range(0,6):\n",
    "    EBIT_forecast = rev_forecast_lst[i]*avg_EBIT_margin\n",
    "    EBIT_forecast_lst.append(int(EBIT_forecast))\n",
    "forecast_df.loc[1] = EBIT_forecast_lst"
   ]
  },
  {
   "cell_type": "code",
   "execution_count": 18,
   "metadata": {},
   "outputs": [
    {
     "data": {
      "text/html": [
       "<div>\n",
       "<style scoped>\n",
       "    .dataframe tbody tr th:only-of-type {\n",
       "        vertical-align: middle;\n",
       "    }\n",
       "\n",
       "    .dataframe tbody tr th {\n",
       "        vertical-align: top;\n",
       "    }\n",
       "\n",
       "    .dataframe thead th {\n",
       "        text-align: right;\n",
       "    }\n",
       "</style>\n",
       "<table border=\"1\" class=\"dataframe\">\n",
       "  <thead>\n",
       "    <tr style=\"text-align: right;\">\n",
       "      <th></th>\n",
       "      <th>Year 1</th>\n",
       "      <th>Year 2</th>\n",
       "      <th>Year 3</th>\n",
       "      <th>Year 4</th>\n",
       "      <th>Year 5</th>\n",
       "      <th>Year 6</th>\n",
       "    </tr>\n",
       "  </thead>\n",
       "  <tbody>\n",
       "    <tr>\n",
       "      <th>0</th>\n",
       "      <td>291515574</td>\n",
       "      <td>309568986</td>\n",
       "      <td>328740436</td>\n",
       "      <td>349099164</td>\n",
       "      <td>370718699</td>\n",
       "      <td>374425886</td>\n",
       "    </tr>\n",
       "    <tr>\n",
       "      <th>1</th>\n",
       "      <td>79997359</td>\n",
       "      <td>84951555</td>\n",
       "      <td>90212562</td>\n",
       "      <td>95799380</td>\n",
       "      <td>101732187</td>\n",
       "      <td>102749509</td>\n",
       "    </tr>\n",
       "  </tbody>\n",
       "</table>\n",
       "</div>"
      ],
      "text/plain": [
       "      Year 1     Year 2     Year 3     Year 4     Year 5     Year 6\n",
       "0  291515574  309568986  328740436  349099164  370718699  374425886\n",
       "1   79997359   84951555   90212562   95799380  101732187  102749509"
      ]
     },
     "execution_count": 18,
     "metadata": {},
     "output_type": "execute_result"
    }
   ],
   "source": [
    "forecast_df"
   ]
  },
  {
   "cell_type": "code",
   "execution_count": 19,
   "metadata": {},
   "outputs": [],
   "source": [
    "current_date = datetime.date.today()\n",
    "past_date = current_date-datetime.timedelta(days=timespan)\n",
    "risk_free_rate_df = dr.DataReader('^TNX', 'yahoo', past_date, current_date) \n",
    "risk_free_rate_float = (risk_free_rate_df.iloc[len(risk_free_rate_df)-1,5])/100"
   ]
  },
  {
   "cell_type": "code",
   "execution_count": 20,
   "metadata": {},
   "outputs": [],
   "source": [
    "price_information_df = pd.DataFrame(columns=['Stock Prices', 'Market Prices'])\n",
    "stock_price_df = dr.DataReader(company_ticker, 'yahoo', past_date, current_date) \n",
    "price_information_df['Stock Prices'] = stock_price_df['Adj Close']\n",
    "market_price_df = dr.DataReader('^GSPC', 'yahoo', past_date, current_date)\n",
    "price_information_df['Market Prices'] = market_price_df['Adj Close']\n",
    "returns_information_df = pd.DataFrame(columns =['Stock Returns', 'Market Returns'])\n",
    "stock_return_lst = []\n",
    "for i in range(1,len(price_information_df)):\n",
    "    open_price = price_information_df.iloc[i-1,0]\n",
    "    close_price = price_information_df.iloc[i,0]\n",
    "    stock_return = (close_price-open_price)/open_price\n",
    "    stock_return_lst.append(stock_return)\n",
    "returns_information_df['Stock Returns'] = stock_return_lst\n",
    "market_return_lst = []\n",
    "for i in range(1,len(price_information_df)):\n",
    "    open_price = price_information_df.iloc[i-1,1]\n",
    "    close_price = price_information_df.iloc[i,1]\n",
    "    market_return = (close_price-open_price)/open_price\n",
    "    market_return_lst.append(market_return)\n",
    "returns_information_df['Market Returns'] = market_return_lst\n",
    "covariance_df = returns_information_df.cov()\n",
    "covariance_float = covariance_df.iloc[1,0]\n",
    "variance_df = returns_information_df.var()\n",
    "market_variance_float = variance_df.iloc[1]\n",
    "equity_beta = covariance_float/market_variance_float\n",
    "equity_return = risk_free_rate_float+equity_beta*(market_risk_premium)"
   ]
  },
  {
   "cell_type": "code",
   "execution_count": 22,
   "metadata": {},
   "outputs": [],
   "source": [
    "balance_sheet_url = 'https://finance.yahoo.com/quote/' + company_ticker + '/balance-sheet?p=' + company_ticker\n",
    "balance_sheet_html = requests.get(balance_sheet_url)\n",
    "balance_sheet_soup = bs(balance_sheet_html.text, 'html.parser')\n",
    "balance_sheet_table = balance_sheet_soup.find('div', class_='D(tbrg)')\n",
    "net_debt_lst = []\n",
    "net_debt_row = balance_sheet_table.find('div', attrs={'title':'Net Debt'}).parent.parent\n",
    "for value in net_debt_row.find_all('div'):\n",
    "    value = value.text\n",
    "    value = value.replace(',','')\n",
    "    net_debt_lst.append(value)\n",
    "net_debt_int = int(net_debt_lst[3])\n",
    "market_cap_url = 'https://finance.yahoo.com/quote/' + company_ticker + '?p=' + company_ticker\n",
    "market_cap_html = requests.get(market_cap_url)\n",
    "market_cap_soup = bs(market_cap_html.text, 'html.parser')\n",
    "market_cap_int = 0\n",
    "market_cap_row = market_cap_soup.find('td', attrs={'data-test':'MARKET_CAP-value'})\n",
    "market_cap_str = market_cap_row.text\n",
    "market_cap_lst = market_cap_str.split('.')\n",
    "if market_cap_str[len(market_cap_str)-1] == 'T':\n",
    "    market_cap_length = len(market_cap_lst[1])-1\n",
    "    market_cap_lst[1] = market_cap_lst[1].replace('T',(9-market_cap_length)*'0')\n",
    "    market_cap_int = int(''.join(market_cap_lst))\n",
    "if market_cap_str[len(market_cap_str)-1] == 'B':\n",
    "    market_cap_length = len(market_cap_lst[1])-1\n",
    "    market_cap_lst[1] = market_cap_lst[1].replace('B',(6-market_cap_length)*'0')\n",
    "    market_cap_int = int(''.join(market_cap_lst))\n",
    "company_value = market_cap_int + net_debt_int\n",
    "WACC = market_cap_int/company_value * equity_return + net_debt_int/company_value * debt_return * (1-tax_rate)"
   ]
  },
  {
   "cell_type": "code",
   "execution_count": 23,
   "metadata": {},
   "outputs": [],
   "source": [
    "discounted_EBIT_lst = []\n",
    "for year in range(0,5):\n",
    "    discounted_EBIT = forecast_df.iloc[1,year]/(1+WACC)**(year+1)\n",
    "    discounted_EBIT_lst.append(int(discounted_EBIT))\n",
    "terminal_value = forecast_df.iloc[1,5]/(WACC-long_term_growth)\n",
    "PV_terminal_value = int(terminal_value/(1+WACC)**5)\n",
    "enterprise_value = sum(discounted_EBIT_lst)+PV_terminal_value\n",
    "equity_value = enterprise_value-net_debt_int"
   ]
  },
  {
   "cell_type": "code",
   "execution_count": 26,
   "metadata": {},
   "outputs": [
    {
     "data": {
      "text/plain": [
       "0.08475106241314874"
      ]
     },
     "execution_count": 26,
     "metadata": {},
     "output_type": "execute_result"
    }
   ],
   "source": [
    "WACC"
   ]
  },
  {
   "cell_type": "code",
   "execution_count": 27,
   "metadata": {},
   "outputs": [
    {
     "data": {
      "text/plain": [
       "1194315167"
      ]
     },
     "execution_count": 27,
     "metadata": {},
     "output_type": "execute_result"
    }
   ],
   "source": [
    "enterprise_value-net_debt_int"
   ]
  },
  {
   "cell_type": "code",
   "execution_count": null,
   "metadata": {},
   "outputs": [],
   "source": []
  }
 ],
 "metadata": {
  "kernelspec": {
   "display_name": "Python 3",
   "language": "python",
   "name": "python3"
  },
  "language_info": {
   "codemirror_mode": {
    "name": "ipython",
    "version": 3
   },
   "file_extension": ".py",
   "mimetype": "text/x-python",
   "name": "python",
   "nbconvert_exporter": "python",
   "pygments_lexer": "ipython3",
   "version": "3.8.5"
  }
 },
 "nbformat": 4,
 "nbformat_minor": 4
}
