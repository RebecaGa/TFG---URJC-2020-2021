{
 "cells": [
  {
   "cell_type": "markdown",
   "metadata": {
    "slideshow": {
     "slide_type": "notes"
    }
   },
   "source": [
    "## Capitalización Compuesta\n",
    "\n",
    "**Fórmula Cn = C0 * (1+i)^n**\n",
    "\n",
    "*Sin embargo, lo que más nos vamos a encontrar en el mundo de las finanzas es la capitalización* \n",
    "*Compuesta, que nos permitirá calcular cuadros de amortización de préstamos u otras*\n",
    "*operaciones.*\n",
    "\n",
    "\n",
    "\n",
    "*Esto implica que los intereses que se van generando, también generan a su vez más interses.*"
   ]
  },
  {
   "cell_type": "markdown",
   "metadata": {},
   "source": [
    "**Importación liberías**"
   ]
  },
  {
   "cell_type": "code",
   "execution_count": 1,
   "metadata": {},
   "outputs": [],
   "source": [
    "import numpy as np"
   ]
  },
  {
   "cell_type": "code",
   "execution_count": 2,
   "metadata": {},
   "outputs": [],
   "source": [
    "import matplotlib.pyplot as plt"
   ]
  },
  {
   "cell_type": "code",
   "execution_count": 3,
   "metadata": {
    "slideshow": {
     "slide_type": "slide"
    }
   },
   "outputs": [
    {
     "name": "stdout",
     "output_type": "stream",
     "text": [
      "14641.0\n"
     ]
    }
   ],
   "source": [
    "C0 = 10000\n",
    "i = 0.10\n",
    "n = 4\n",
    "\n",
    "Cn = C0 * (1+i)**n\n",
    "print(round(Cn,2))"
   ]
  },
  {
   "cell_type": "markdown",
   "metadata": {
    "slideshow": {
     "slide_type": "notes"
    }
   },
   "source": [
    "*También podemos realizar una Calculadora*"
   ]
  },
  {
   "cell_type": "code",
   "execution_count": 4,
   "metadata": {
    "slideshow": {
     "slide_type": "slide"
    }
   },
   "outputs": [
    {
     "name": "stdout",
     "output_type": "stream",
     "text": [
      "Indique que tipo de periodo: \n",
      "                          m = mensual\n",
      "                          a = anual\n",
      "                          t = trimestral\n",
      "                          s = semestral a\n",
      "Importe a invertir: 10000\n",
      "Introduzca el tipo de interés Nominal anual (Ejemplo 8%: 0.08) : 0.10\n",
      "Número de periodos (en Años): 4\n",
      "Su inversión tendrá un valor futuro de: 14641.0\n"
     ]
    }
   ],
   "source": [
    "def CalculaFinanciera():\n",
    "    \n",
    "    mes = ['m', 'mes', 'mensual', 'uno']\n",
    "    año = ['a', 'anual' , 'año']\n",
    "    trimestral = ['t' , 'trimestral', 'trimestre', 'tres']\n",
    "    semestral = ['s', 'semestre', 'semestral', 'seis']\n",
    "    try:\n",
    "        tipo = input('''Indique que tipo de periodo: \n",
    "                          m = mensual\n",
    "                          a = anual\n",
    "                          t = trimestral\n",
    "                          s = semestral ''').lower()\n",
    "        capitalInicial = float(input('Importe a invertir: '))\n",
    "        tantoNominal = float(input('Introduzca el tipo de interés Nominal anual (Ejemplo 8%: 0.08) : '))\n",
    "        if tipo in mes:\n",
    "                periodoTemporal = 'Meses'\n",
    "                frecuencia = 12\n",
    "        elif tipo in año:\n",
    "                periodoTemporal = 'Años'\n",
    "                frecuencia = 1\n",
    "        elif tipo in trimestral:\n",
    "                periodoTemporal = 'Trimestres'\n",
    "                frecuencia = 4\n",
    "        elif tipo in semestral:\n",
    "                periodoTemporal = 'Semestres'\n",
    "                frecuencia = 2\n",
    "        periodos = float(input('Número de periodos (en {}): '.format(periodoTemporal)))\n",
    "        vf = capitalInicial *(1 + tantoNominal)**(periodos / frecuencia)\n",
    "        print(\"Su inversión tendrá un valor futuro de: {}\".format(round(vf,2)))\n",
    "    except ValueError:\n",
    "        print('Error!, solo se admiten numeros')\n",
    "        \n",
    "        \n",
    "        \n",
    "        \n",
    "      \n",
    "\n",
    "CalculaFinanciera()"
   ]
  },
  {
   "cell_type": "markdown",
   "metadata": {},
   "source": [
    "*Más simple*"
   ]
  },
  {
   "cell_type": "code",
   "execution_count": 6,
   "metadata": {},
   "outputs": [
    {
     "name": "stdout",
     "output_type": "stream",
     "text": [
      "          El tipo de interés (i) y el número de periodos (n) que introduzca deben tener la misma unidad temporal.\n",
      "          Si el tipo de interés es anual, entonces el número de periodos han de ser años.\n",
      "          Si se trabaja con meses, entonces el tipo de interés introducido ha de ser un tipo mensual.\n",
      "          \n",
      "          Por ejmplo, si el tipo de interés es del 12% anual y la operación de inversión a interés simple\n",
      "          dura 18 meses, indicaremos que el tipo de interés es i=0,12 y el número de años es n=1,5.\n",
      "          \n",
      "Importe a invertir: 10000\n",
      "Introduzca el tipo de interés (Ejemplo 8%: 0.08) : 0.10\n",
      "Número de periodos: 4\n",
      "\n",
      "                           El capital final obtenido es 14641.0\n"
     ]
    }
   ],
   "source": [
    "def calculo_compuesta(C0, i, n):\n",
    "    Cn=C0*(1+i)**n\n",
    "    return round(Cn,2)\n",
    "\n",
    "print(\"\"\"          El tipo de interés (i) y el número de periodos (n) que introduzca deben tener la misma unidad temporal.\n",
    "          Si el tipo de interés es anual, entonces el número de periodos han de ser años.\n",
    "          Si se trabaja con meses, entonces el tipo de interés introducido ha de ser un tipo mensual.\n",
    "          \n",
    "          Por ejmplo, si el tipo de interés es del 12% anual y la operación de inversión a interés simple\n",
    "          dura 18 meses, indicaremos que el tipo de interés es i=0,12 y el número de años es n=1,5.\n",
    "          \"\"\")\n",
    "\n",
    "C0 = float(input('Importe a invertir: '))\n",
    "i = float(input('Introduzca el tipo de interés (Ejemplo 8%: 0.08) : '))\n",
    "n = float(input('Número de periodos: '))\n",
    "\n",
    "print('')\n",
    "print('                           El capital final obtenido es', calculo_compuesta(C0, i, n))"
   ]
  },
  {
   "cell_type": "markdown",
   "metadata": {},
   "source": [
    "*O bien podemos hacer los siguiente:*"
   ]
  },
  {
   "cell_type": "code",
   "execution_count": 7,
   "metadata": {},
   "outputs": [
    {
     "name": "stdout",
     "output_type": "stream",
     "text": [
      "Capital inicial: 10000\n",
      "Interés (ej. 8% = 0.08): 0.10\n",
      "Plazo: 4\n",
      "13310.0\n",
      "[10000.0, 11000.0, 12100.0, 13310.0, 14641.0]\n",
      "[0, 1000.0, 1100.0, 1210.0, 1331.0]\n"
     ]
    }
   ],
   "source": [
    "c0 = float(input(\"Capital inicial: \"))\n",
    "i = float(input(\"Interés (ej. 8% = 0.08): \"))\n",
    "n = int(input(\"Plazo: \"))\n",
    "\n",
    "intereses = [0]\n",
    "capital = [c0]\n",
    "tiempo = list(range(n+1))\n",
    "\n",
    "for t in range(n):\n",
    "    c = sum(intereses, start = c0)\n",
    "    intereses.append(c * i)\n",
    "    capital.append(sum(intereses, start = c0))\n",
    "    \n",
    "   \n",
    "    \n",
    "print(c)\n",
    "print(capital)\n",
    "print(intereses)"
   ]
  },
  {
   "cell_type": "code",
   "execution_count": 8,
   "metadata": {},
   "outputs": [
    {
     "name": "stdout",
     "output_type": "stream",
     "text": [
      "[   0. 1000. 2100. 3310. 4641.]\n"
     ]
    }
   ],
   "source": [
    "inter = np.array(intereses)  #intereses acumulados para hacer la gráfica posterior.\n",
    "a = np.cumsum(inter, axis = 0)\n",
    "print(a)"
   ]
  },
  {
   "cell_type": "code",
   "execution_count": 9,
   "metadata": {},
   "outputs": [
    {
     "data": {
      "image/png": "[encoded data removed]",
      "text/plain": [
       "<Figure size 432x288 with 1 Axes>"
      ]
     },
     "metadata": {
      "needs_background": "light"
     },
     "output_type": "display_data"
    }
   ],
   "source": [
    "fig, ax = plt.subplots()\n",
    "ax.bar(tiempo, capital, color = \"Darkblue\")\n",
    "plt.plot(a, color = \"orange\", marker = '*', markersize = 4)\n",
    "plt.title(\"Capital Compuesto\", fontsize = 20)\n",
    "plt.xlabel(\"Periodos\", fontsize = 15)\n",
    "plt.ylabel(\"Capital en €\", fontsize = 15)\n",
    "plt.xticks(np.arange(tiempo[0], tiempo[-1]+1, 1))\n",
    "plt.yticks(np.arange(0,capital[-1],1000))\n",
    "plt.show()"
   ]
  },
  {
   "cell_type": "code",
   "execution_count": 10,
   "metadata": {},
   "outputs": [
    {
     "data": {
      "image/png": "[encoded data removed]",
      "text/plain": [
       "<Figure size 432x288 with 1 Axes>"
      ]
     },
     "metadata": {
      "needs_background": "light"
     },
     "output_type": "display_data"
    }
   ],
   "source": [
    "fig, ax = plt.subplots()\n",
    "ax.bar(tiempo, intereses, color = \"Darkblue\")\n",
    "plt.title(\"Intereses en I. Compuesto\", fontsize = 20)\n",
    "plt.xlabel(\"Periodos\", fontsize = 15)\n",
    "plt.ylabel(\"Intereses en €\", fontsize = 15)\n",
    "plt.xticks(np.arange(tiempo[0], tiempo[-1]+1, 1))\n",
    "plt.yticks(np.arange(0,intereses[-1],100))\n",
    "plt.show()"
   ]
  },
  {
   "cell_type": "markdown",
   "metadata": {},
   "source": [
    "Podemos comprobar, a diferencia del uso de capitalización simple que genera intereses iguales para cada periodo, mediante capitalización compuesta, los intereses aumentan progresivamente."
   ]
  },
  {
   "cell_type": "markdown",
   "metadata": {},
   "source": [
    "*Vamos a comparar la gráfica de los intereses*"
   ]
  },
  {
   "cell_type": "code",
   "execution_count": 11,
   "metadata": {},
   "outputs": [
    {
     "name": "stdout",
     "output_type": "stream",
     "text": [
      "Capital inicial: 10000\n",
      "Interés (ej. 8% = 0.08): 0.10\n",
      "Plazo: 4\n"
     ]
    }
   ],
   "source": [
    "c0 = float(input(\"Capital inicial: \"))\n",
    "i = float(input(\"Interés (ej. 8% = 0.08): \"))\n",
    "n = int(input(\"Plazo: \"))\n",
    "\n",
    "#intereses compuestos\n",
    "\n",
    "intcomp = []\n",
    "kcom = [c0]\n",
    "tiempo = list(range(n+1))\n",
    "\n",
    "for t in range(n):\n",
    "    c = sum(intcomp, start = c0)\n",
    "    intcomp.append(c * i)\n",
    "    kcom.append(sum(intcomp, start = c0))\n",
    "        \n",
    "        \n",
    "#intereses simples\n",
    "        \n",
    "intsim = []\n",
    "ksim = [c0]\n",
    "\n",
    "\n",
    "for t in range(n):\n",
    "    intsim.append(c0*i)\n",
    "    ksim.append(C0*(1+i*(t+1)))\n"
   ]
  },
  {
   "cell_type": "code",
   "execution_count": 12,
   "metadata": {},
   "outputs": [
    {
     "data": {
      "image/png": "[encoded data removed]",
      "text/plain": [
       "<Figure size 432x288 with 1 Axes>"
      ]
     },
     "metadata": {
      "needs_background": "light"
     },
     "output_type": "display_data"
    }
   ],
   "source": [
    "fig, ax = plt.subplots()\n",
    "plt.plot(intcomp, color = \"blue\", marker = '*', markersize = 4, label = \"Intereses Compuestos\")\n",
    "plt.plot(intsim, color = \"orange\", marker = '*', markersize = 4, label = \"Intereses Simples\")\n",
    "plt.title(\"Comparación Intereses Simples vs Compuestos\", fontsize = 20)\n",
    "plt.xlabel(\"Periodos\", fontsize = 15)\n",
    "plt.ylabel(\"Intereses en €\", fontsize = 15)\n",
    "plt.xticks(np.arange(tiempo[0], tiempo[-1], 1))\n",
    "plt.yticks(np.arange(intcomp[0], intcomp[-1], 100))\n",
    "plt.legend(loc = \"best\")\n",
    "plt.show()"
   ]
  },
  {
   "cell_type": "markdown",
   "metadata": {},
   "source": [
    "*Podemos comprobar en este gráfico como los inteses simples siguen una gráfica lineal, cada año es la misma cantidad, mientras que el calculo de intereses compuestos va aumentando cada mes. Claramente este gráfico nos permite ver la diferencia entre ambos*"
   ]
  },
  {
   "cell_type": "code",
   "execution_count": null,
   "metadata": {},
   "outputs": [],
   "source": []
  }
 ],
 "metadata": {
  "kernelspec": {
   "display_name": "Python 3",
   "language": "python",
   "name": "python3"
  },
  "language_info": {
   "codemirror_mode": {
    "name": "ipython",
    "version": 3
   },
   "file_extension": ".py",
   "mimetype": "text/x-python",
   "name": "python",
   "nbconvert_exporter": "python",
   "pygments_lexer": "ipython3",
   "version": "3.8.5"
  }
 },
 "nbformat": 4,
 "nbformat_minor": 4
}
