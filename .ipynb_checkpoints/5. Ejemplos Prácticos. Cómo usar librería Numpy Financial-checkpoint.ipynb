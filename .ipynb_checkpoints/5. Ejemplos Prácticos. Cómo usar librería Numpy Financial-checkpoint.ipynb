{
 "cells": [
  {
   "cell_type": "markdown",
   "metadata": {},
   "source": [
    "**Comencemos estos ejemplos importando las librerías que vamos a usar durante todo este documento**"
   ]
  },
  {
   "cell_type": "code",
   "execution_count": 1,
   "metadata": {},
   "outputs": [
    {
     "name": "stdout",
     "output_type": "stream",
     "text": [
      "Requirement already satisfied: numpy-financial in c:\\users\\lenovo\\anaconda3\\lib\\site-packages (1.0.0)\n",
      "Requirement already satisfied: numpy>=1.15 in c:\\users\\lenovo\\anaconda3\\lib\\site-packages (from numpy-financial) (1.19.2)\n",
      "Note: you may need to restart the kernel to use updated packages.\n"
     ]
    }
   ],
   "source": [
    "pip install numpy-financial"
   ]
  },
  {
   "cell_type": "code",
   "execution_count": 2,
   "metadata": {},
   "outputs": [],
   "source": [
    "import numpy_financial as npf"
   ]
  },
  {
   "cell_type": "markdown",
   "metadata": {},
   "source": [
    "*Esta librería importa las funciones financieras*"
   ]
  },
  {
   "cell_type": "code",
   "execution_count": 3,
   "metadata": {},
   "outputs": [],
   "source": [
    "import numpy as np"
   ]
  },
  {
   "cell_type": "markdown",
   "metadata": {},
   "source": [
    "*Esta librería nos permite hacer matrices*"
   ]
  },
  {
   "cell_type": "code",
   "execution_count": 4,
   "metadata": {},
   "outputs": [],
   "source": [
    "import matplotlib.pyplot as plt"
   ]
  },
  {
   "cell_type": "markdown",
   "metadata": {},
   "source": [
    "*Esta librería nos va a permitir hacer gráficos*"
   ]
  },
  {
   "cell_type": "markdown",
   "metadata": {},
   "source": [
    "*A CONTINUACIÓN VEMOS LOS EJEMPLOS*"
   ]
  },
  {
   "cell_type": "markdown",
   "metadata": {},
   "source": [
    "**1. Calcular el montante alcanzado a los 5 años, al capitalizar 1.000 € en capitalización compuesta al 6,16% efectivo anual.**"
   ]
  },
  {
   "cell_type": "code",
   "execution_count": 5,
   "metadata": {},
   "outputs": [
    {
     "name": "stdout",
     "output_type": "stream",
     "text": [
      "El capital final en esta operación es 1,348.36\n"
     ]
    }
   ],
   "source": [
    "n=5\n",
    "c0 = 1000\n",
    "i = 0.0616\n",
    "\n",
    "fv = npf.fv(rate=i, nper=n, pmt= 0,pv=-c0, when='end')\n",
    "print(\"El capital final en esta operación es {:,.2f}\".format(fv))"
   ]
  },
  {
   "cell_type": "markdown",
   "metadata": {},
   "source": [
    "**2. Andrés debe a María 160.000 € que debería pagar hoy. Puesto que no dispone de la cantidad completa en este momento, acuerda con María que hoy la pagará 40.000 € y que el resto lo pagará dentro de 20 meses. María acepta pero imponiéndole un tipo de interés del 9,0% efectivo anual en capitalización compuesta. Calcular el importe que le queda por pagar a Andrés.**\n",
    "\n",
    "*En este caso tendremos que valorar lo que queda pendiente de pago = total(160.000 €) - lo que paga hoy(40.000 €), por tanto la deuda es de 120.000 €*\n",
    "\n",
    "*Ojo también con el tiempo. En este caso nos dicen que la deuda se pagará en 20 meses, y el porcentaje está expresado en años, por lo que tenemos que dividir los meses entre 12 para pasar el tiempo a años, ya que todas las cantidades deben ser proporcionadas con la misma unidad temporal, es decir, si el tanto es anual la duración de la operación debe expresarse en años.*"
   ]
  },
  {
   "cell_type": "code",
   "execution_count": 6,
   "metadata": {},
   "outputs": [
    {
     "name": "stdout",
     "output_type": "stream",
     "text": [
      "La deuda de Andrés es 138,534.76 euros\n"
     ]
    }
   ],
   "source": [
    "n=20/12\n",
    "c0 = 120000\n",
    "i = 0.09\n",
    "\n",
    "fv = npf.fv(rate=i, nper=n, pmt= 0,pv=-c0, when='end')\n",
    "print(\"La deuda de Andrés es {:,.2f} euros\".format((fv)))"
   ]
  },
  {
   "cell_type": "markdown",
   "metadata": {},
   "source": [
    "**3. Pedro quiere ahorrar 2000 euros por año durante 25 años en un producto financiero cuya rentabilidad es del 3%.¿Qué cantidad dispondrá al final de los 25 años?**"
   ]
  },
  {
   "cell_type": "code",
   "execution_count": 7,
   "metadata": {},
   "outputs": [
    {
     "name": "stdout",
     "output_type": "stream",
     "text": [
      "Pedro dispondrá de 72,918.53 euros\n"
     ]
    }
   ],
   "source": [
    "n=25\n",
    "pmt = 2000\n",
    "i = 0.03\n",
    "\n",
    "fv = npf.fv(rate=i, nper=n, pmt= -pmt, pv=0, when='end')\n",
    "print(\"Pedro dispondrá de {:,.2f} euros\".format((fv)))"
   ]
  },
  {
   "cell_type": "markdown",
   "metadata": {},
   "source": [
    "**4. María dispone de 100.000 euros, los va a invertir en un producto financiero cuya rentabilidad es de 3%, durante 25 años. Sin embargo, con ese dinero también tiene que pagar un alquiler de 5.000 euros anuales que irá retirando. María quiere saber cuánto dinero le quedará al final de los 25 años**"
   ]
  },
  {
   "cell_type": "code",
   "execution_count": 8,
   "metadata": {},
   "outputs": [
    {
     "name": "stdout",
     "output_type": "stream",
     "text": [
      "María dispondrá de 27,081.47 euros\n"
     ]
    }
   ],
   "source": [
    "pv = 100000\n",
    "n=25\n",
    "pmt = 5000\n",
    "i = 0.03\n",
    "\n",
    "fv = npf.fv(rate=i, nper=n, pmt= pmt, pv=-pv, when='end')\n",
    "print(\"María dispondrá de {:,.2f} euros\".format(fv))"
   ]
  },
  {
   "cell_type": "markdown",
   "metadata": {},
   "source": [
    "**5. Ana tiene otra preocupación. Cuando se jubile dentro de 25 años, quiere haber ahorrado 100.000 euros para poder retirarse tranquilamente en su pueblo. Ana quiere saber cuánto tiene que ahorrar anualmente para llegar a dicha cantidad, si invierte en un producto financiero que le asegura una rentabilidad del 3%**"
   ]
  },
  {
   "cell_type": "code",
   "execution_count": 9,
   "metadata": {},
   "outputs": [
    {
     "name": "stdout",
     "output_type": "stream",
     "text": [
      "Ana tendrá que ahorrar 2,742.79 euros anuales\n"
     ]
    }
   ],
   "source": [
    "fv = 100000\n",
    "n=25\n",
    "#pmt = ?\n",
    "i = 0.03\n",
    "\n",
    "\n",
    "pmt = npf.pmt(rate=i, nper=n, pv=0, fv=-fv, when='end')\n",
    "print(\"Ana tendrá que ahorrar {:,.2f} euros anuales\".format(pmt))"
   ]
  },
  {
   "cell_type": "markdown",
   "metadata": {},
   "source": [
    "**6. Eva ha decidido ahorrar cuando cumpla 30 años, haciendo aportaciones en un plan de pensiones que tiene una rentabilidad del 4%. Con lo ahorrado, cuando cumpla 65 años quiere obtener una mensualidad de 2.500 € al inicio de cada mes, y el importe restante se mantiene a un 3%, hasta que cumpla 90 años momento en el que quiere cobrar 100.000 €. ¿Cuánto tendrá que aportar anualmente Eva a su plan de pensiones?**"
   ]
  },
  {
   "cell_type": "code",
   "execution_count": 10,
   "metadata": {},
   "outputs": [
    {
     "name": "stdout",
     "output_type": "stream",
     "text": [
      "Eva necesita tener 575,790.00 euros cuando cumpla 65 años\n",
      "Eva necesita ahorrar 630.15 euros al mes para cumplir su objetivo\n"
     ]
    }
   ],
   "source": [
    "#Primera fase del ejercicio: Calcular el capital inicial que debemos tener cuando cumpla Eva 65 años.\n",
    "\n",
    "fv = 100000\n",
    "n = 25       #12 meses * 25 años\n",
    "i = 0.03     #3% / 12 meses\n",
    "pmt = 2500\n",
    "m = 12\n",
    "\n",
    "pv = npf.pv(rate=i/m, nper=n*m, pmt=-pmt, fv=-fv, when='begin')\n",
    "print(\"Eva necesita tener {:,.2f} euros cuando cumpla 65 años\".format(pv))\n",
    "\n",
    "#Segunda fase del ejercicio: Calcular las aportaciones al plan de pensiones anualmente.\n",
    "\n",
    "fv2 = pv\n",
    "n2 = 35       #12 meses * 35 años\n",
    "i2 = 0.04     #4% / 12 meses\n",
    "pv1 = 0\n",
    "m = 12\n",
    "\n",
    "pmt = npf.pmt(rate = i2/m, nper = n2*m, pv= pv1, fv=-fv2)\n",
    "print(\"Eva necesita ahorrar {:,.2f} euros al mes para cumplir su objetivo\".format(pmt))"
   ]
  },
  {
   "cell_type": "markdown",
   "metadata": {},
   "source": [
    "*Si quisieramos resolver el problema con Excel debemos utilizar la fórmula VA y Pago.*"
   ]
  },
  {
   "cell_type": "markdown",
   "metadata": {},
   "source": [
    "*Una de las ventajas de Python es la versatilidad a la hora de realizar cálculos, así como su rápidez. Si queremos por ejemplo valorar distintos tipos de intereses porque tenemos alternativas de inversión, Python es capaz de calcularlo rápidamente sin necesidad de aplicar la fórmula en varias ocasiones.*\n",
    "\n",
    "**7. Imaginemos que Eva tiene distintos productos financieros con distintos tipos de interés, que van desde 5% hasta 6%, variando 0.05 ptos. Vamos a comprobar como Python rápidamente puede realizar los cálculos**"
   ]
  },
  {
   "cell_type": "code",
   "execution_count": 11,
   "metadata": {},
   "outputs": [
    {
     "data": {
      "text/plain": [
       "array([0.005, 0.01 , 0.015, 0.02 , 0.025, 0.03 , 0.035, 0.04 , 0.045,\n",
       "       0.05 , 0.055, 0.06 ])"
      ]
     },
     "execution_count": 11,
     "metadata": {},
     "output_type": "execute_result"
    }
   ],
   "source": [
    "np.arange(0.005, 0.065, 0.005)  #Esto crea una lista de tipos de interés entre 5% y 6%, con un intervalo de 0.05"
   ]
  },
  {
   "cell_type": "code",
   "execution_count": 12,
   "metadata": {},
   "outputs": [
    {
     "data": {
      "text/plain": [
       "array([793426.41897161, 741795.38006778, 694625.90517336, 651486.6280425 ,\n",
       "       611990.48665175, 575789.99784833, 542573.04921771, 512059.15047025,\n",
       "       483996.09318006, 458156.9734919 , 434337.5375343 , 412353.81381446])"
      ]
     },
     "execution_count": 12,
     "metadata": {},
     "output_type": "execute_result"
    }
   ],
   "source": [
    "#Primera fase: Cálculo del importe que necesita Eva cuando tenga 65 años\n",
    "\n",
    "fv = 100000\n",
    "n = 25       #12 meses * 25 años\n",
    "i = np.arange(0.005, 0.065, 0.005)\n",
    "pmt = 2500\n",
    "m = 12\n",
    "\n",
    "pv = npf.pv(rate=i/m, nper=n*m, pmt=-pmt, fv=-fv, when='begin')\n",
    "pv"
   ]
  },
  {
   "cell_type": "markdown",
   "metadata": {},
   "source": [
    "*Con un solo código, podemos obtener los importes que necesita Eva en función de los intereses del producto en el que invierta, y por tanto, que cantidad necesita ahorrar*"
   ]
  },
  {
   "cell_type": "code",
   "execution_count": 13,
   "metadata": {},
   "outputs": [
    {
     "data": {
      "text/plain": [
       "array([868.33704199, 811.8313062 , 760.20836887, 712.99613671,\n",
       "       669.77100358, 630.15267904, 593.79958286, 560.40474253,\n",
       "       529.69213759, 501.41344127, 475.34511525, 451.28581854])"
      ]
     },
     "execution_count": 13,
     "metadata": {},
     "output_type": "execute_result"
    }
   ],
   "source": [
    "#Segunda fase del ejercicio: Calcular las aportaciones al plan de pensiones anualmente.\n",
    "\n",
    "fv2 = pv\n",
    "n2 = 35       #12 meses * 35 años\n",
    "i2 = 0.04     #4% / 12 meses\n",
    "pv1 = 0\n",
    "m = 12\n",
    "\n",
    "pmt = npf.pmt(rate = i2/m, nper = n2*m, pv= pv1, fv=-fv2)\n",
    "pmt"
   ]
  },
  {
   "cell_type": "markdown",
   "metadata": {},
   "source": [
    "*Aquí podemos comprobar la cantidad que necesita ahorrar Eva, según las distintas rentabilidades*\n",
    "\n",
    "*Incluso podemos realizar un gráfica que nos permita de un vistazo ver la relación entre la rentabilidad y la necesidad de ahorro*"
   ]
  },
  {
   "cell_type": "code",
   "execution_count": 14,
   "metadata": {},
   "outputs": [],
   "source": [
    "import matplotlib.pyplot as plt"
   ]
  },
  {
   "cell_type": "code",
   "execution_count": 15,
   "metadata": {},
   "outputs": [
    {
     "data": {
      "image/png": "[encoded data removed]",
      "text/plain": [
       "<Figure size 432x288 with 1 Axes>"
      ]
     },
     "metadata": {
      "needs_background": "light"
     },
     "output_type": "display_data"
    }
   ],
   "source": [
    "plt.plot(np.arange(0.005, 0.065, 0.005), np.abs(pmt))\n",
    "plt.grid()\n",
    "plt.xlabel(\"Rentabilidad de los productos financieros\")\n",
    "plt.ylabel(\"Necesidad de ahorro mensual\")\n",
    "plt.show()"
   ]
  },
  {
   "cell_type": "code",
   "execution_count": null,
   "metadata": {},
   "outputs": [],
   "source": []
  }
 ],
 "metadata": {
  "kernelspec": {
   "display_name": "Python 3",
   "language": "python",
   "name": "python3"
  },
  "language_info": {
   "codemirror_mode": {
    "name": "ipython",
    "version": 3
   },
   "file_extension": ".py",
   "mimetype": "text/x-python",
   "name": "python",
   "nbconvert_exporter": "python",
   "pygments_lexer": "ipython3",
   "version": "3.8.5"
  }
 },
 "nbformat": 4,
 "nbformat_minor": 4
}
