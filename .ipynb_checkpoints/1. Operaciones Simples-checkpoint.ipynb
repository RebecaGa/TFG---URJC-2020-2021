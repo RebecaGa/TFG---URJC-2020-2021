{
 "cells": [
  {
   "cell_type": "markdown",
   "metadata": {},
   "source": [
    "# Capitalización Simple: \n",
    "\n",
    "**Fórmula - Cn = C0 * (1 + i * n)**\n",
    "\n",
    "*En Python podemos hacer nuestra propia función*"
   ]
  },
  {
   "cell_type": "markdown",
   "metadata": {},
   "source": [
    "**Importación de las librerías que vamos a utilizar**"
   ]
  },
  {
   "cell_type": "code",
   "execution_count": 1,
   "metadata": {},
   "outputs": [],
   "source": [
    "import matplotlib.pyplot as plt\n",
    "import numpy as np"
   ]
  },
  {
   "cell_type": "code",
   "execution_count": 2,
   "metadata": {},
   "outputs": [
    {
     "data": {
      "text/plain": [
       "14000.0"
      ]
     },
     "execution_count": 2,
     "metadata": {},
     "output_type": "execute_result"
    }
   ],
   "source": [
    "C0 = 10000\n",
    "i = 0.10\n",
    "n = 4\n",
    "\n",
    "Cn = C0 * (1 + i * n)\n",
    "Cn"
   ]
  },
  {
   "cell_type": "markdown",
   "metadata": {},
   "source": [
    "*O bien podemos crear una simple calculadora financiera, que nos vaya pidiendo los pasos,*\n",
    "*sin necesidad de conocer la fórmula*"
   ]
  },
  {
   "cell_type": "code",
   "execution_count": 4,
   "metadata": {},
   "outputs": [
    {
     "name": "stdout",
     "output_type": "stream",
     "text": [
      "Indique que tipo de periodo: \n",
      "                          m = mensual\n",
      "                          a = anual\n",
      "                          t = trimestral\n",
      "                          s = semestral a\n",
      "Importe a invertir: 10000\n",
      "Introduzca el tipo de interés Nominal anual (Ejemplo 8%: 0.08) : 0.10\n",
      "Número de periodos (en Años): 4\n",
      "Su inversión tendrá un valor futuro de: 14000.0\n"
     ]
    }
   ],
   "source": [
    "def CalculaFinanciera():\n",
    "    \n",
    "    mes = ['m', 'mes', 'mensual', 'uno']\n",
    "    año = ['a', 'anual' , 'año']\n",
    "    trimestral = ['t' , 'trimestral', 'trimestre', 'tres']\n",
    "    semestral = ['s', 'semestre', 'semestral', 'seis']\n",
    "    try:\n",
    "        tipo = input('''Indique que tipo de periodo: \n",
    "                          m = mensual\n",
    "                          a = anual\n",
    "                          t = trimestral\n",
    "                          s = semestral ''').lower()\n",
    "        \n",
    "        capitalInicial = float(input('Importe a invertir: '))\n",
    "        tantoNominal = float(input('Introduzca el tipo de interés Nominal anual (Ejemplo 8%: 0.08) : '))\n",
    "        if tipo in mes:\n",
    "                periodoTemporal = 'Meses'\n",
    "                frecuencia = 12\n",
    "        elif tipo in año:\n",
    "                periodoTemporal = 'Años'\n",
    "                frecuencia = 1\n",
    "        elif tipo in trimestral:\n",
    "                periodoTemporal = 'Trimestres'\n",
    "                frecuencia = 4\n",
    "        elif tipo in semestral:\n",
    "                periodoTemporal = 'Semestres'\n",
    "                frecuencia = 2\n",
    "        periodos = float(input('Número de periodos (en {}): '.format(periodoTemporal)))\n",
    "        vf = capitalInicial * (1 + periodos * (tantoNominal / frecuencia))   \n",
    "        print(\"Su inversión tendrá un valor futuro de: {}\".format(vf))\n",
    "    except ValueError:\n",
    "        print('Error!, solo se admiten numeros')\n",
    "        \n",
    "        \n",
    "        \n",
    "        \n",
    "      \n",
    "\n",
    "CalculaFinanciera()"
   ]
  },
  {
   "cell_type": "markdown",
   "metadata": {},
   "source": [
    "*Hagamos otra versión más simple*"
   ]
  },
  {
   "cell_type": "code",
   "execution_count": 5,
   "metadata": {},
   "outputs": [
    {
     "name": "stdout",
     "output_type": "stream",
     "text": [
      "          El tipo de interés (i) y el número de periodos (n) que introduzca deben tener la misma unidad temporal.\n",
      "          Si el tipo de interés es anual, entonces el número de periodos han de ser años.\n",
      "          Si se trabaja con meses, entonces el tipo de interés introducido ha de ser un tipo mensual.\n",
      "          \n",
      "          Por ejmplo, si el tipo de interés es del 12% anual y la operación de inversión a interés simple\n",
      "          dura 18 meses, indicaremos que el tipo de interés es i=0,12 y el número de años es n=1,5.\n",
      "          \n",
      "Importe a invertir: 10000\n",
      "Introduzca el tipo de interés (Ejemplo 8%: 0.08) : 0.10\n",
      "Número de periodos: 4\n",
      "\n",
      "                           El capital final obtenido es 14000.0\n"
     ]
    }
   ],
   "source": [
    "def calculo_simple(C0, i, n):\n",
    "    Cn=C0*(1+i*n)\n",
    "    return round(Cn,2)\n",
    "\n",
    "print(\"\"\"          El tipo de interés (i) y el número de periodos (n) que introduzca deben tener la misma unidad temporal.\n",
    "          Si el tipo de interés es anual, entonces el número de periodos han de ser años.\n",
    "          Si se trabaja con meses, entonces el tipo de interés introducido ha de ser un tipo mensual.\n",
    "          \n",
    "          Por ejmplo, si el tipo de interés es del 12% anual y la operación de inversión a interés simple\n",
    "          dura 18 meses, indicaremos que el tipo de interés es i=0,12 y el número de años es n=1,5.\n",
    "          \"\"\")\n",
    "\n",
    "C0 = float(input('Importe a invertir: '))\n",
    "i = float(input('Introduzca el tipo de interés (Ejemplo 8%: 0.08) : '))\n",
    "n = float(input('Número de periodos: '))\n",
    "\n",
    "print('')\n",
    "print('                           El capital final obtenido es', calculo_simple(C0, i, n))"
   ]
  },
  {
   "cell_type": "markdown",
   "metadata": {},
   "source": [
    "*O bien podemos:*"
   ]
  },
  {
   "cell_type": "code",
   "execution_count": 6,
   "metadata": {},
   "outputs": [
    {
     "name": "stdout",
     "output_type": "stream",
     "text": [
      "Capital inicial: 10000\n",
      "Interes: 0.10\n",
      "Plazo: 4\n",
      "[0, 1000.0, 1000.0, 1000.0, 1000.0]\n",
      "[10000.0, 11000.0, 12000.0, 13000.0, 14000.0]\n",
      "[0, 1, 2, 3, 4]\n"
     ]
    }
   ],
   "source": [
    "c0 = float(input(\"Capital inicial: \"))\n",
    "i = float(input(\"Interes: \"))\n",
    "n = int(input(\"Plazo: \"))\n",
    "\n",
    "intereses = [0]\n",
    "capital = [c0]\n",
    "tiempo = list(range(n+1))\n",
    "\n",
    "for t in range(n):\n",
    "    intereses.append(c0*i)\n",
    "    capital.append(c0*(1+i*(t+1)))\n",
    "\n",
    "        \n",
    "print(intereses)\n",
    "print(capital)\n",
    "print(tiempo)"
   ]
  },
  {
   "cell_type": "markdown",
   "metadata": {},
   "source": [
    "*Con estas librerías podemos realizar una gráfica*"
   ]
  },
  {
   "cell_type": "code",
   "execution_count": 7,
   "metadata": {},
   "outputs": [],
   "source": [
    "import matplotlib.pyplot as plt\n",
    "import numpy as np"
   ]
  },
  {
   "cell_type": "code",
   "execution_count": 8,
   "metadata": {},
   "outputs": [],
   "source": [
    "inter = np.array(intereses)\n",
    "a = np.cumsum(inter, axis=0)"
   ]
  },
  {
   "cell_type": "code",
   "execution_count": 9,
   "metadata": {},
   "outputs": [
    {
     "data": {
      "image/png": "[encoded data removed]",
      "text/plain": [
       "<Figure size 432x288 with 1 Axes>"
      ]
     },
     "metadata": {
      "needs_background": "light"
     },
     "output_type": "display_data"
    }
   ],
   "source": [
    "fig, ax = plt.subplots()\n",
    "ax.bar(tiempo, capital, color = \"darkblue\")\n",
    "plt.plot(a, color = \"orange\", marker = '*', markersize = 4)\n",
    "plt.title(\"Capital Simple\", fontsize = 20)\n",
    "plt.xlabel(\"Periodos\", fontsize = 15)\n",
    "plt.ylabel(\"Capital en €\", fontsize = 15)\n",
    "plt.xticks(np.arange(tiempo[0], tiempo[-1]+1, 1))\n",
    "plt.yticks(np.arange(0,capital[-1]+1,1000))\n",
    "plt.show()"
   ]
  },
  {
   "cell_type": "code",
   "execution_count": 10,
   "metadata": {},
   "outputs": [
    {
     "data": {
      "image/png": "[encoded data removed]",
      "text/plain": [
       "<Figure size 432x288 with 1 Axes>"
      ]
     },
     "metadata": {
      "needs_background": "light"
     },
     "output_type": "display_data"
    }
   ],
   "source": [
    "fig, ax = plt.subplots()\n",
    "ax.bar(tiempo, intereses, color = \"darkblue\")\n",
    "plt.title(\"Intereses en I. Simple\", fontsize = 20)\n",
    "plt.xlabel(\"Periodos\", fontsize = 15)\n",
    "plt.ylabel(\"Intereses en €\", fontsize = 15)\n",
    "plt.xticks(np.arange(tiempo[0], tiempo[-1]+1, 1))\n",
    "plt.yticks(np.arange(0,intereses[-1]+1,100))\n",
    "plt.show()"
   ]
  },
  {
   "cell_type": "markdown",
   "metadata": {},
   "source": [
    "*en el gráfico podemos comprobar como cada año aumentan mis intereses en la misma cantidad,*\n",
    "*se van acumulando pero no generan más intereses, además, estos son lineales, cada periodo se genera la misma cantidad de intereses*"
   ]
  },
  {
   "cell_type": "code",
   "execution_count": null,
   "metadata": {},
   "outputs": [],
   "source": []
  }
 ],
 "metadata": {
  "kernelspec": {
   "display_name": "Python 3",
   "language": "python",
   "name": "python3"
  },
  "language_info": {
   "codemirror_mode": {
    "name": "ipython",
    "version": 3
   },
   "file_extension": ".py",
   "mimetype": "text/x-python",
   "name": "python",
   "nbconvert_exporter": "python",
   "pygments_lexer": "ipython3",
   "version": "3.8.5"
  }
 },
 "nbformat": 4,
 "nbformat_minor": 4
}
