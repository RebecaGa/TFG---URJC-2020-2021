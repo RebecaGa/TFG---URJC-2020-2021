{
 "cells": [
  {
   "cell_type": "markdown",
   "metadata": {},
   "source": [
    "# Capitalización Simple: \n",
    "\n",
    "**Fórmula - Cn = C0 * (1 + i * n)**\n",
    "\n",
    "*En Python podemos hacer nuestra propia función*"
   ]
  },
  {
   "cell_type": "markdown",
   "metadata": {},
   "source": [
    "**Importación de las librerías que vamos a utilizar**"
   ]
  },
  {
   "cell_type": "code",
   "execution_count": 2,
   "metadata": {},
   "outputs": [],
   "source": [
    "import matplotlib.pyplot as plt\n",
    "import numpy as np"
   ]
  },
  {
   "cell_type": "code",
   "execution_count": 1,
   "metadata": {},
   "outputs": [
    {
     "data": {
      "text/plain": [
       "1120.0"
      ]
     },
     "execution_count": 1,
     "metadata": {},
     "output_type": "execute_result"
    }
   ],
   "source": [
    "C0 = 1000\n",
    "i = 0.03\n",
    "n = 4\n",
    "\n",
    "Cn = C0 * (1 + i * n)\n",
    "Cn"
   ]
  },
  {
   "cell_type": "markdown",
   "metadata": {},
   "source": [
    "*O bien podemos crear una simple calculadora financiera, que nos vaya pidiendo los pasos,*\n",
    "*sin necesidad de conocer la fórmula*"
   ]
  },
  {
   "cell_type": "code",
   "execution_count": 2,
   "metadata": {},
   "outputs": [
    {
     "name": "stdout",
     "output_type": "stream",
     "text": [
      "Indique que tipo de periodo: \n",
      "                          m = mensual\n",
      "                          a = anual\n",
      "                          t = trimestral\n",
      "                          s = semestral a\n",
      "Importe a invertir: 10000\n",
      "Introduzca el tipo de interés (Ejemplo 8%: 0.08) : 0.10\n",
      "Número de periodos (EN AÑOS): 4\n",
      "Su inversión tendrá un valor futuro de: 14000.0\n"
     ]
    }
   ],
   "source": [
    "def CalculaFinanciera():\n",
    "    \n",
    "    mes = ['m', 'mes', 'mensual', 'uno']\n",
    "    año = ['a', 'anual' , 'año']\n",
    "    trimestral = ['t' , 'trimestral', 'trimestre', 'tres']\n",
    "    semestral = ['s', 'semestre', 'semestral', 'seis']\n",
    "    try:\n",
    "        tipo = input('''Indique que tipo de periodo: \n",
    "                          m = mensual\n",
    "                          a = anual\n",
    "                          t = trimestral\n",
    "                          s = semestral ''').lower()\n",
    "        if tipo in mes:\n",
    "                Importe = float(input('Importe a invertir: '))\n",
    "                interesm = float(input('Introduzca el tipo de interés (Ejemplo 8%: 0.08) : '))\n",
    "                Periodos = int(input('Número de periodos (EN MESES): '))\n",
    "                interesm = (interesm) / 12\n",
    "                vf = Importe * (1 + interesm * Periodos)\n",
    "        elif tipo in año:\n",
    "                Importe = float(input('Importe a invertir: '))\n",
    "                interesa = float(input('Introduzca el tipo de interés (Ejemplo 8%: 0.08) : '))\n",
    "                Periodos = int(input('Número de periodos (EN AÑOS): '))\n",
    "                interesa = interesa\n",
    "                vf = Importe * (1 + interesa * Periodos)\n",
    "        elif tipo in trimestral:\n",
    "                Importe = float(input('Importe a invertir: '))\n",
    "                interest = float(input('Introduzca el tipo de interés (Ejemplo 8%: 0.08) : '))\n",
    "                Periodos = int(input('Número de periodos (EN TRIMESTRES): '))\n",
    "                interest = (interest)/4\n",
    "                vf = Importe * (1 + interest * Periodos)\n",
    "        elif tipo in semestral:\n",
    "                Importe = float(input('Importe a invertir: '))\n",
    "                interesb = float(input('Introduzca el tipo de interés (Ejemplo 8%: 0.08) : '))\n",
    "                Periodos = int(input('Número de periodos (EN SEMESTRES): '))\n",
    "                interesb = (interesb)/2\n",
    "                vf = Importe * (1 + interesb * Periodos)\n",
    "        print(\"Su inversión tendrá un valor futuro de: {}\".format(vf))\n",
    "    except ValueError:\n",
    "        print('Error!, solo se admiten numeros')\n",
    "        \n",
    "        \n",
    "        \n",
    "        \n",
    "      \n",
    "\n",
    "CalculaFinanciera()"
   ]
  },
  {
   "cell_type": "markdown",
   "metadata": {},
   "source": [
    "*Hagamos otra versión más simple*"
   ]
  },
  {
   "cell_type": "code",
   "execution_count": 16,
   "metadata": {},
   "outputs": [
    {
     "name": "stdout",
     "output_type": "stream",
     "text": [
      "Importe a invertir: 10000\n",
      "Introduzca el tipo de interés (Ejemplo 8%: 0.08) : 0.10\n",
      "Número de años: 12\n",
      "Número de meses: 12\n"
     ]
    },
    {
     "data": {
      "text/plain": [
       "11000.0"
      ]
     },
     "execution_count": 16,
     "metadata": {},
     "output_type": "execute_result"
    }
   ],
   "source": [
    "def calculo_simple(va, i, años, meses = ''):\n",
    "    if not meses:\n",
    "        meses = 1\n",
    "        \n",
    "    else:\n",
    "        meses = float(meses)\n",
    "    total = va*(1+i*(años/meses))\n",
    "    return round(total,2)\n",
    "    \n",
    "va = float(input('Importe a invertir: '))\n",
    "i = float(input('Introduzca el tipo de interés (Ejemplo 8%: 0.08) : '))\n",
    "años = float(input('Número de años: '))\n",
    "meses = (input('Número de meses: '))\n",
    "\n",
    "calculo_simple(va, i, años, meses)"
   ]
  },
  {
   "cell_type": "markdown",
   "metadata": {},
   "source": [
    "*O bien podemos:*"
   ]
  },
  {
   "cell_type": "code",
   "execution_count": 7,
   "metadata": {},
   "outputs": [
    {
     "name": "stdout",
     "output_type": "stream",
     "text": [
      "Capital inicial: 10000\n",
      "Interes: 0.10\n",
      "Plazo: 4\n",
      "[0, 1000.0, 1000.0, 1000.0, 1000.0]\n",
      "[10000.0, 11000.0, 12000.0, 13000.0, 14000.0]\n",
      "[0, 1, 2, 3, 4]\n"
     ]
    }
   ],
   "source": [
    "c0 = float(input(\"Capital inicial: \"))\n",
    "interes = float(input(\"Interes: \"))\n",
    "n = float(input(\"Plazo: \"))\n",
    "t = 0\n",
    "a = 0\n",
    "intereses = [0]\n",
    "capital = [c0]\n",
    "tiempo = []\n",
    "\n",
    "\n",
    "while (t < n):\n",
    "    ianual = c0 * (interes)\n",
    "    intereses.append(ianual)\n",
    "    c = sum(intereses, start = c0)\n",
    "    capital.append(c)\n",
    "    t = t+1\n",
    "    \n",
    "    if (t > n):\n",
    "        break\n",
    "        \n",
    "for i in capital:\n",
    "    tiempo.append(a)\n",
    "    a = a+1\n",
    "        \n",
    "  \n",
    "        \n",
    "print(intereses)\n",
    "print(capital)\n",
    "print(tiempo)"
   ]
  },
  {
   "cell_type": "markdown",
   "metadata": {},
   "source": [
    "*Con estas librerías podemos realizar una gráfica*"
   ]
  },
  {
   "cell_type": "code",
   "execution_count": 8,
   "metadata": {},
   "outputs": [],
   "source": [
    "import matplotlib.pyplot as plt\n",
    "import numpy as np"
   ]
  },
  {
   "cell_type": "code",
   "execution_count": 9,
   "metadata": {},
   "outputs": [],
   "source": [
    "inter = np.array(intereses)\n",
    "a = np.cumsum(inter, axis=0)"
   ]
  },
  {
   "cell_type": "code",
   "execution_count": 11,
   "metadata": {},
   "outputs": [
    {
     "data": {
      "image/png": "[encoded data removed]",
      "text/plain": [
       "<Figure size 432x288 with 1 Axes>"
      ]
     },
     "metadata": {
      "needs_background": "light"
     },
     "output_type": "display_data"
    }
   ],
   "source": [
    "fig, ax = plt.subplots()\n",
    "ax.bar(tiempo, capital, color = \"darkblue\")\n",
    "plt.plot(a, color = \"orange\", marker = '*', markersize = 4)\n",
    "plt.title(\"Capital Simple\", fontsize = 20)\n",
    "plt.xlabel(\"Tiempo en años\", fontsize = 15)\n",
    "plt.ylabel(\"Capital en €\", fontsize = 15)\n",
    "plt.xticks(np.arange(tiempo[0], tiempo[-1], 1))\n",
    "plt.yticks(np.arange(0,capital[-1],1000))\n",
    "plt.show()"
   ]
  },
  {
   "cell_type": "markdown",
   "metadata": {},
   "source": [
    "*en el gráfico podemos comprobar como cada año aumentan mis intereses en la misma cantidad,*\n",
    "*se van acumulando pero no generan más intereses.*"
   ]
  },
  {
   "cell_type": "markdown",
   "metadata": {},
   "source": [
    "# Duda a preguntar: es mejor hacer la gráfica naranja con intereses mensuales, o acumulados. Teniendo en cuenta que los intereses varían poco, parece que se ven mejor los acumulados, pero no sé si es la mejor opción#"
   ]
  }
 ],
 "metadata": {
  "kernelspec": {
   "display_name": "Python 3",
   "language": "python",
   "name": "python3"
  },
  "language_info": {
   "codemirror_mode": {
    "name": "ipython",
    "version": 3
   },
   "file_extension": ".py",
   "mimetype": "text/x-python",
   "name": "python",
   "nbconvert_exporter": "python",
   "pygments_lexer": "ipython3",
   "version": "3.8.3"
  }
 },
 "nbformat": 4,
 "nbformat_minor": 4
}
