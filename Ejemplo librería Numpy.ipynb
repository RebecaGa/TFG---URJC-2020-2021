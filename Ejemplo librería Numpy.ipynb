{
 "cells": [
  {
   "cell_type": "code",
   "execution_count": 1,
   "metadata": {},
   "outputs": [
    {
     "name": "stdout",
     "output_type": "stream",
     "text": [
      "Requirement already satisfied: numpy-financial in c:\\users\\rebec\\anaconda3\\lib\\site-packages (1.0.0)\n",
      "Requirement already satisfied: numpy>=1.15 in c:\\users\\rebec\\anaconda3\\lib\\site-packages (from numpy-financial) (1.18.5)\n",
      "Note: you may need to restart the kernel to use updated packages.\n"
     ]
    }
   ],
   "source": [
    "pip install numpy-financial"
   ]
  },
  {
   "cell_type": "code",
   "execution_count": 2,
   "metadata": {},
   "outputs": [],
   "source": [
    "import numpy_financial as npf"
   ]
  },
  {
   "cell_type": "markdown",
   "metadata": {},
   "source": [
    "*Vamos a ver una serie de ejemplos sencillos que nos permitan conocer más en profundidad nuestra fórmula*"
   ]
  },
  {
   "cell_type": "markdown",
   "metadata": {},
   "source": [
    "**Calcular el montante alcanzado a los 5 años, al capitalizar 1.000 € en capitalización compuesta al 6,16% efectivo anual.**"
   ]
  },
  {
   "cell_type": "code",
   "execution_count": 3,
   "metadata": {},
   "outputs": [
    {
     "name": "stdout",
     "output_type": "stream",
     "text": [
      "El capital final en esta operación es 1348.36\n"
     ]
    }
   ],
   "source": [
    "n=5\n",
    "c0 = 1000\n",
    "i = 0.0616\n",
    "\n",
    "fv = npf.fv(rate=i, nper=n, pmt= 0,pv=-c0, when='end')\n",
    "print(\"El capital final en esta operación es {}\".format(round(fv,2)))"
   ]
  },
  {
   "cell_type": "markdown",
   "metadata": {},
   "source": [
    "**Andrés debe a María 160.000 € que debería pagar hoy. Puesto que no dispone de la cantidad completa en este momento, acuerda con María que hoy la pagará 40.000 € y que el resto lo pagará dentro de 20 meses. María acepta pero imponiéndole un tipo de interés del 9,0% efectivo anual en capitalización compuesta. Calcular el importe que le queda por pagar a Andrés.**\n",
    "\n",
    "*En este caso tendremos que valorar lo que queda pendiente de pago = total(160.000 €) - lo que paga hoy(40.000 €), por tanto la deuda es de 120.000 €*\n",
    "\n",
    "*Ojo también con el tiempo. En este caso nos dicen que la deuda se pagará en 20 meses, y el porcentaje está expresado en años, por lo que tenemos que dividir los meses entre 12 para pasar el tiempo a anualidades, ya que todas las cantidades deben ser proporcionales, es decir, si el interés es en años, el tiempo debe ser años, y las cantidades reflejan años*"
   ]
  },
  {
   "cell_type": "code",
   "execution_count": 4,
   "metadata": {},
   "outputs": [
    {
     "name": "stdout",
     "output_type": "stream",
     "text": [
      "La deuda de Andrés es 138534.76\n"
     ]
    }
   ],
   "source": [
    "n=20/12\n",
    "c0 = 120000\n",
    "i = 0.09\n",
    "\n",
    "fv = npf.fv(rate=i, nper=n, pmt= 0,pv=-c0, when='end')\n",
    "print(\"La deuda de Andrés es {} euros\".format(round(fv,2)))"
   ]
  },
  {
   "cell_type": "markdown",
   "metadata": {},
   "source": [
    "**Pedro quiere ahorrar 2000 euros por año durante 25 años en un producto financiero cuya rentabilidad es del 3%.¿Qué cantidad dispondrá al final de los 25 años?**"
   ]
  },
  {
   "cell_type": "code",
   "execution_count": 7,
   "metadata": {},
   "outputs": [
    {
     "name": "stdout",
     "output_type": "stream",
     "text": [
      "Pedro dispondrá de 72918.53 euros\n"
     ]
    }
   ],
   "source": [
    "n=25\n",
    "pmt = 2000\n",
    "i = 0.03\n",
    "\n",
    "fv = npf.fv(rate=i, nper=n, pmt= -pmt, pv=0, when='end')\n",
    "print(\"Pedro dispondrá de {} euros\".format(round(fv,2)))"
   ]
  },
  {
   "cell_type": "markdown",
   "metadata": {},
   "source": [
    "**María dispone de 100.000 euros, los va a invertir en un producto financiero cuya rentabilidad es de 3%, durante 25 años. Sin embargo, con ese dinero también tiene que pagar un alquiler de 5.000 euros anuales que irá retirando. María quiere saber cuánto dinero le quedará al final de los 25 años**"
   ]
  },
  {
   "cell_type": "code",
   "execution_count": 9,
   "metadata": {},
   "outputs": [
    {
     "name": "stdout",
     "output_type": "stream",
     "text": [
      "María dispondrá de 27081.47 euros\n"
     ]
    }
   ],
   "source": [
    "pv = 100000\n",
    "n=25\n",
    "pmt = 5000\n",
    "i = 0.03\n",
    "\n",
    "fv = npf.fv(rate=i, nper=n, pmt= pmt, pv=-pv, when='end')\n",
    "print(\"María dispondrá de {} euros\".format(round(fv,2)))"
   ]
  },
  {
   "cell_type": "markdown",
   "metadata": {},
   "source": [
    "**Ana tiene otra preocupación. Cuando se jubile dentro de 25 años, quiere haber ahorrado 100.000 euros para poder retirarse tranquilamente en su pueblo. Ana quiere saber cuánto tiene que ahorrar anualmente para llegar a dicha cantidad, si invierte en un producto financiero que le asegura una rentabilidad del 3%**"
   ]
  },
  {
   "cell_type": "code",
   "execution_count": 13,
   "metadata": {},
   "outputs": [
    {
     "name": "stdout",
     "output_type": "stream",
     "text": [
      "Ana tendrá que ahorrar 2742.79 euros anuales\n"
     ]
    }
   ],
   "source": [
    "fv = 100000\n",
    "n=25\n",
    "#pmt = ?\n",
    "i = 0.03\n",
    "\n",
    "\n",
    "pmt = npf.pmt(rate=i, nper=n, pv=0, fv=-fv, when='end')\n",
    "print(\"Ana tendrá que ahorrar {} euros anuales\".format(round(pmt,2)))"
   ]
  },
  {
   "cell_type": "markdown",
   "metadata": {},
   "source": [
    "**Eva ha decidido ahorrar cuando cumpla 30 años, haciendo aportaciones en un plan de pensiones que tiene una rentabilidad del 4%. Con lo ahorrado, cuando cumpla 65 años quiere obtener una mensualidad de 2.500 € al inicio de cada mes, y el importe restante se mantiene a un 3%, hasta que cumpla 90 años momento en el que quiere cobrar 100.000 €. ¿Cuánto tendrá que aportar anualmente Eva a su plan de pensiones?**"
   ]
  },
  {
   "cell_type": "code",
   "execution_count": 23,
   "metadata": {},
   "outputs": [
    {
     "name": "stdout",
     "output_type": "stream",
     "text": [
      "Eva necesita tener 490305.71 euros cuando cumpla 65 años\n",
      "Eva necesita ahorrar 11773.2 euros al año para cumplir su objetivo\n"
     ]
    }
   ],
   "source": [
    "#Primera fase del ejercicio: Calcular el capital inicial que debemos tener cuando cumpla Eva 65 años.\n",
    "\n",
    "fv = 100000\n",
    "n = 25\n",
    "i = 0.03\n",
    "pmt = 2500*12\n",
    "\n",
    "pv = npf.pv(rate=i, nper=n, pmt=-pmt, fv=fv, when='begin')\n",
    "print(\"Eva necesita tener {} euros cuando cumpla 65 años\".format(round(pv,2)))\n",
    "\n",
    "#Segunda fase del ejercicio: Calcular las aportaciones al plan de pensiones anualmente.\n",
    "\n",
    "fv2 = pv\n",
    "n2 = 25\n",
    "i2 = 0.04\n",
    "pv1 = 0\n",
    "\n",
    "pmt = npf.pmt(rate = i2, nper = n2, pv= pv1, fv=-fv2, when='end')\n",
    "print(\"Eva necesita ahorrar {} euros al año para cumplir su objetivo\".format(round(pmt,2)))"
   ]
  },
  {
   "cell_type": "markdown",
   "metadata": {},
   "source": [
    "*Si quisieramos resolver el problema con Excel debemos utilizar la fórmula VA y Pago.*"
   ]
  },
  {
   "cell_type": "code",
   "execution_count": null,
   "metadata": {},
   "outputs": [],
   "source": []
  }
 ],
 "metadata": {
  "kernelspec": {
   "display_name": "Python 3",
   "language": "python",
   "name": "python3"
  },
  "language_info": {
   "codemirror_mode": {
    "name": "ipython",
    "version": 3
   },
   "file_extension": ".py",
   "mimetype": "text/x-python",
   "name": "python",
   "nbconvert_exporter": "python",
   "pygments_lexer": "ipython3",
   "version": "3.8.3"
  }
 },
 "nbformat": 4,
 "nbformat_minor": 4
}
