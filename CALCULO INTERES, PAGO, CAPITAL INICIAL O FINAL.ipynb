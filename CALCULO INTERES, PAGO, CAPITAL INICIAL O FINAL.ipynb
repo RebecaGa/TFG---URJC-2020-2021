{
 "cells": [
  {
   "cell_type": "markdown",
   "metadata": {},
   "source": [
    "**CÁLCULO INTERÉS, PLAZO, CAPITAL INICIAL O CAPITAL FINAL EN INTERÉS SIMPLE**\n",
    "\n",
    "*En ocasiones, no nos interesa conocer el capital final en una operación, quizás lo que nos interesa son los plazos o pagos, el interes aplicado o sabiendo el capital final, queremos conocer el inicial. Para ello, podemos crear una calculadora en Python, que nos facilite esta información.*"
   ]
  },
  {
   "cell_type": "code",
   "execution_count": null,
   "metadata": {},
   "outputs": [],
   "source": [
    "def CalculadoraInteresSimple():\n",
    "    "
   ]
  },
  {
   "cell_type": "code",
   "execution_count": null,
   "metadata": {},
   "outputs": [],
   "source": []
  }
 ],
 "metadata": {
  "kernelspec": {
   "display_name": "Python 3",
   "language": "python",
   "name": "python3"
  },
  "language_info": {
   "codemirror_mode": {
    "name": "ipython",
    "version": 3
   },
   "file_extension": ".py",
   "mimetype": "text/x-python",
   "name": "python",
   "nbconvert_exporter": "python",
   "pygments_lexer": "ipython3",
   "version": "3.8.3"
  }
 },
 "nbformat": 4,
 "nbformat_minor": 4
}
