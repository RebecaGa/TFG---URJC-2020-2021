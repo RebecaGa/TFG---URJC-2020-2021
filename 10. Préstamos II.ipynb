{
 "cells": [
  {
   "cell_type": "markdown",
   "metadata": {},
   "source": [
    "**Préstamos II**\n",
    "\n",
    "*Ya hemos visto la teoría acerca de los préstamos, ahora, lo que debemos construir es una función que nos permita calcular las cuotas, intereses y demás datos de nuestro préstamo para poder realizar comparaciones. Incluso comprobar un préstamo teniendo en cuenta distintas variables, así por ejemplo, si vamos a solicitar un hipoteca, teniendo en cuenta las distintas condiciones que nos van a ofrecer, poder hacer una simulación rápida, que nos permita decidir que banco o producto se adapta mejor a nuestras necesidades*"
   ]
  },
  {
   "cell_type": "markdown",
   "metadata": {},
   "source": [
    "*Hemos construido una función, que tiene en cuenta si el préstamo es francés, americano o italiano. Además, se ha tenido en cuenta si es mensual o anual, para lo que hay que tener en cuenta que dos tipos de meses, por un lado los que pasan el interés a mensual, y por otro lado, los que marcan el periodo. Pero aún faltan más consideraciones, que vamos a intentar solucionar en el siguiente archivo*"
   ]
  },
  {
   "cell_type": "code",
   "execution_count": 87,
   "metadata": {},
   "outputs": [
    {
     "name": "stdout",
     "output_type": "stream",
     "text": [
      "Requirement already satisfied: numpy-financial in c:\\users\\rebec\\anaconda3\\lib\\site-packages (1.0.0)\n",
      "Requirement already satisfied: numpy>=1.15 in c:\\users\\rebec\\anaconda3\\lib\\site-packages (from numpy-financial) (1.18.5)\n",
      "Note: you may need to restart the kernel to use updated packages.\n"
     ]
    }
   ],
   "source": [
    "pip install numpy-financial"
   ]
  },
  {
   "cell_type": "code",
   "execution_count": 88,
   "metadata": {},
   "outputs": [
    {
     "name": "stdout",
     "output_type": "stream",
     "text": [
      "Requirement already satisfied: tabulate in c:\\users\\rebec\\anaconda3\\lib\\site-packages (0.8.9)\n",
      "Note: you may need to restart the kernel to use updated packages.\n"
     ]
    }
   ],
   "source": [
    "pip install tabulate"
   ]
  },
  {
   "cell_type": "code",
   "execution_count": 89,
   "metadata": {},
   "outputs": [],
   "source": [
    "import numpy_financial as npf\n",
    "import numpy as np\n",
    "import tabulate as tab\n",
    "import matplotlib.pyplot as plt"
   ]
  },
  {
   "cell_type": "code",
   "execution_count": 153,
   "metadata": {},
   "outputs": [],
   "source": [
    "def PFrances(Capital, tasa, años='', meses = ''):\n",
    "    if not años:\n",
    "        años = 1\n",
    "        meses = meses\n",
    "        meses1 = 12\n",
    "    elif años == 0:\n",
    "        años = 1\n",
    "        meses = meses\n",
    "        meses1 = 12\n",
    "    elif not meses:\n",
    "        meses = 1\n",
    "        meses1 = 1\n",
    "    elif meses == 0:\n",
    "        meses = 1\n",
    "        meses1 = 1\n",
    "    else:\n",
    "        meses = 12\n",
    "        meses1 = 12\n",
    "    \n",
    "    datos = []\n",
    "    saldo = Capital\n",
    "    saldo2= 0\n",
    "    linea1 = [0,0,0,0,Capital,0]\n",
    "    datos.append(linea1)\n",
    "    \n",
    "    Anualidad = npf.pmt(rate=tasa/meses1, nper=años*meses, pv=-Capital, fv=0, when='end')\n",
    "    \n",
    "    for i in range(1, (años*meses)+1):\n",
    "        pago_capital = npf.ppmt(rate=tasa/meses1, per=i, nper=años*meses, pv=-Capital, fv=0, when='end')\n",
    "        pago_int = Anualidad - pago_capital\n",
    "        saldo -= pago_capital\n",
    "        saldo2 += pago_capital\n",
    "    \n",
    "        linea = [i, format(Anualidad, '.0f'),  format(pago_int, '.0f'), format(pago_capital, '.0f'), format(saldo, '.0f'), format(saldo2, '.0f')]\n",
    "        datos.append(linea)\n",
    "    \n",
    "    return print(tab.tabulate(datos, headers= ['Periodo', 'Anualidad', 'Intereses', 'Amortización','Capital Vivo','Capital Amortizado'], tablefmt = 'psql'))\n",
    "    "
   ]
  },
  {
   "cell_type": "code",
   "execution_count": 146,
   "metadata": {},
   "outputs": [
    {
     "name": "stdout",
     "output_type": "stream",
     "text": [
      "+-----------+-------------+-------------+----------------+----------------+----------------------+\n",
      "|   Periodo |   Anualidad |   Intereses |   Amortización |   Capital Vivo |   Capital Amortizado |\n",
      "|-----------+-------------+-------------+----------------+----------------+----------------------|\n",
      "|         0 |           0 |           0 |              0 |         100000 |                    0 |\n",
      "|         1 |       10417 |         750 |           9667 |          90333 |                 9667 |\n",
      "|         2 |       10417 |         677 |           9740 |          80593 |                19407 |\n",
      "|         3 |       10417 |         604 |           9813 |          70781 |                29219 |\n",
      "|         4 |       10417 |         531 |           9886 |          60894 |                39106 |\n",
      "|         5 |       10417 |         457 |           9960 |          50934 |                49066 |\n",
      "|         6 |       10417 |         382 |          10035 |          40899 |                59101 |\n",
      "|         7 |       10417 |         307 |          10110 |          30788 |                69212 |\n",
      "|         8 |       10417 |         231 |          10186 |          20602 |                79398 |\n",
      "|         9 |       10417 |         155 |          10263 |          10340 |                89660 |\n",
      "|        10 |       10417 |          78 |          10340 |              0 |               100000 |\n",
      "+-----------+-------------+-------------+----------------+----------------+----------------------+\n"
     ]
    }
   ],
   "source": [
    "PFrances(100000, 0.09, 0, 10)"
   ]
  },
  {
   "cell_type": "code",
   "execution_count": 151,
   "metadata": {},
   "outputs": [],
   "source": [
    "def PAmericano(Capital, tasa, años='', meses = ''):\n",
    "    if not años:\n",
    "        años = 1\n",
    "        meses = meses\n",
    "        meses1 = 12\n",
    "    elif años == 0:\n",
    "        años = 1\n",
    "        meses = meses\n",
    "        meses1 = 12\n",
    "    elif not meses:\n",
    "        meses = 1\n",
    "        meses1 = 1\n",
    "    elif meses == 0:\n",
    "        meses = 1\n",
    "        meses1 = 1\n",
    "    else:\n",
    "        meses = 12\n",
    "        meses1 = 12\n",
    "    datos = []\n",
    "    saldo = Capital\n",
    "    saldo2 = 0\n",
    "    linea1 = [0,0,0,0,Capital,0]\n",
    "    datos.append(linea1)\n",
    "\n",
    "    Anualidad = Capital*(tasa/meses1)\n",
    "\n",
    "    for i in range(1, (años*meses)+1):\n",
    "        pago_capital = 0\n",
    "        pago_int = Anualidad\n",
    "        saldo2 += 0\n",
    "        \n",
    "        linea = [i, format(Anualidad, '.0f'),  format(pago_int, '.0f'), format(pago_capital, '.0f'), format(saldo, '.0f'), format(saldo2, '.0f')]\n",
    "        datos.append(linea)\n",
    "    \n",
    "    datos[-1] = [años*meses,Anualidad+Capital,Anualidad,Capital,0,Capital]\n",
    "    \n",
    "    \n",
    "    return print(tab.tabulate(datos, headers= ['Periodo', 'Anualidad', 'Intereses', 'Amortización','Capital Vivo','Capital Amortizado'], tablefmt = 'psql'))"
   ]
  },
  {
   "cell_type": "code",
   "execution_count": 152,
   "metadata": {},
   "outputs": [
    {
     "name": "stdout",
     "output_type": "stream",
     "text": [
      "+-----------+-------------+-------------+----------------+----------------+----------------------+\n",
      "|   Periodo |   Anualidad |   Intereses |   Amortización |   Capital Vivo |   Capital Amortizado |\n",
      "|-----------+-------------+-------------+----------------+----------------+----------------------|\n",
      "|         0 |           0 |           0 |              0 |         100000 |                    0 |\n",
      "|         1 |        5000 |        5000 |              0 |         100000 |                    0 |\n",
      "|         2 |      105000 |        5000 |         100000 |              0 |               100000 |\n",
      "+-----------+-------------+-------------+----------------+----------------+----------------------+\n"
     ]
    }
   ],
   "source": [
    "PAmericano(100000, 0.05, 2, 0)"
   ]
  },
  {
   "cell_type": "code",
   "execution_count": 154,
   "metadata": {},
   "outputs": [],
   "source": [
    "def PItaliano(Capital, tasa, años = '', meses = ''):\n",
    "    if not años:\n",
    "        años = 1\n",
    "        meses = meses\n",
    "        meses1 = 12\n",
    "    elif años == 0:\n",
    "        años = 1\n",
    "        meses = meses\n",
    "        meses1 = 12\n",
    "    elif not meses:\n",
    "        meses = 1\n",
    "        meses1 = 1\n",
    "    elif meses == 0:\n",
    "        meses = 1\n",
    "        meses1 = 1\n",
    "    else:\n",
    "        meses = 12\n",
    "        meses1 = 12\n",
    "    datos =[]\n",
    "    saldo = Capital\n",
    "    saldo2 = 0\n",
    "    linea1 = [0,0,0,0,Capital,0]\n",
    "    datos.append(linea1)\n",
    "\n",
    "    for i in range(1, (años*meses)+1):\n",
    "        pago_capital = Capital/(años*meses)\n",
    "        pago_int = saldo*(tasa/meses1)\n",
    "        saldo -= pago_capital\n",
    "        saldo2 += pago_capital\n",
    "        Anualidad = pago_capital + pago_int\n",
    "        linea = [i, format(Anualidad, '.0f'),  format(pago_int, '.0f'), format(pago_capital, '.0f'), format(saldo, '.0f'), format(saldo2, '.0f')]\n",
    "        datos.append(linea)\n",
    "    \n",
    "    return print(tab.tabulate(datos, headers= ['Periodo', 'Anualidad', 'Intereses', 'Amortización','Capital Vivo','Capital Amortizado'], tablefmt = 'psql'))"
   ]
  },
  {
   "cell_type": "code",
   "execution_count": 155,
   "metadata": {},
   "outputs": [
    {
     "name": "stdout",
     "output_type": "stream",
     "text": [
      "+-----------+-------------+-------------+----------------+----------------+----------------------+\n",
      "|   Periodo |   Anualidad |   Intereses |   Amortización |   Capital Vivo |   Capital Amortizado |\n",
      "|-----------+-------------+-------------+----------------+----------------+----------------------|\n",
      "|         0 |           0 |           0 |              0 |          10000 |                    0 |\n",
      "|         1 |        3358 |          25 |           3333 |           6667 |                 3333 |\n",
      "|         2 |        3350 |          17 |           3333 |           3333 |                 6667 |\n",
      "|         3 |        3342 |           8 |           3333 |             -0 |                10000 |\n",
      "+-----------+-------------+-------------+----------------+----------------+----------------------+\n"
     ]
    }
   ],
   "source": [
    "PItaliano(10000, 0.03, 0, 3)"
   ]
  },
  {
   "cell_type": "code",
   "execution_count": 131,
   "metadata": {},
   "outputs": [
    {
     "name": "stdout",
     "output_type": "stream",
     "text": [
      "Importe del Préstamo: 100000\n",
      "Tipo de interés del Préstamo (Ej. 8% = 0.08): 0.09\n",
      "Periodo del Préstamo (años): 10\n",
      "Introduzca 0 para prestamos anuales o 1 para prestamos mensuales0\n",
      "Tipo de Préstamo (Francés, Americano, Italiano): f\n",
      "+-----------+-------------+-------------+----------------+----------------+----------------------+\n",
      "|   Periodo |   Anualidad |   Intereses |   Amortización |   Capital Vivo |   Capital Amortizado |\n",
      "|-----------+-------------+-------------+----------------+----------------+----------------------|\n",
      "|         0 |           0 |           0 |              0 |         100000 |                    0 |\n",
      "|         1 |       15582 |        9000 |           6582 |          93418 |                 6582 |\n",
      "|         2 |       15582 |        8408 |           7174 |          86244 |                13756 |\n",
      "|         3 |       15582 |        7762 |           7820 |          78424 |                21576 |\n",
      "|         4 |       15582 |        7058 |           8524 |          69900 |                30100 |\n",
      "|         5 |       15582 |        6291 |           9291 |          60609 |                39391 |\n",
      "|         6 |       15582 |        5455 |          10127 |          50481 |                49519 |\n",
      "|         7 |       15582 |        4543 |          11039 |          39443 |                60557 |\n",
      "|         8 |       15582 |        3550 |          12032 |          27410 |                72590 |\n",
      "|         9 |       15582 |        2467 |          13115 |          14295 |                85705 |\n",
      "|        10 |       15582 |        1287 |          14295 |              0 |               100000 |\n",
      "+-----------+-------------+-------------+----------------+----------------+----------------------+\n"
     ]
    }
   ],
   "source": [
    "Capital = float(input(\"Importe del Préstamo: \"))\n",
    "tasa = float(input(\"Tipo de interés del Préstamo (Ej. 8% = 0.08): \"))\n",
    "años = int(input(\"Periodo del Préstamo (años): \"))\n",
    "meses = int(input(\"Introduzca 0 para prestamos anuales o 1 para prestamos mensuales\"))\n",
    "tipo = input(\"Tipo de Préstamo (Francés, Americano, Italiano): \").lower()\n",
    "\n",
    "frances = ['frances', 'f']\n",
    "americano = ['americano', 'a']\n",
    "italiano = ['italiano', 'i']\n",
    "\n",
    "if tipo in frances:\n",
    "    PFrances(Capital, tasa, años, meses)\n",
    "    \n",
    "elif tipo in americano:\n",
    "    PAmericano(Capital, tasa, años, meses)\n",
    "\n",
    "elif tipo in italiano:\n",
    "    PItaliano(Capital, tasa, años, meses)\n",
    "    \n",
    "    "
   ]
  },
  {
   "cell_type": "code",
   "execution_count": null,
   "metadata": {},
   "outputs": [],
   "source": []
  }
 ],
 "metadata": {
  "kernelspec": {
   "display_name": "Python 3",
   "language": "python",
   "name": "python3"
  },
  "language_info": {
   "codemirror_mode": {
    "name": "ipython",
    "version": 3
   },
   "file_extension": ".py",
   "mimetype": "text/x-python",
   "name": "python",
   "nbconvert_exporter": "python",
   "pygments_lexer": "ipython3",
   "version": "3.8.3"
  }
 },
 "nbformat": 4,
 "nbformat_minor": 4
}
