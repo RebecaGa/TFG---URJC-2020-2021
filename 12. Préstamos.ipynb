{
 "cells": [
  {
   "cell_type": "markdown",
   "metadata": {},
   "source": [
    "# Préstamos#\n",
    "\n",
    "*Los préstamos son operaciones financieras, por las que se cede una cantidad de dinero, que será devuelta junto con los intereses a un determinado plazo. Suelen ir acompañados de costes adicionales como gastos y comisiones*\n",
    "\n",
    "**Tipos de Préstamos**\n",
    "\n",
    "**Préstamo Fránces** *Se caracteriza por el pago de una cuota constante, compuesta por los intereses del capital pendiente más una cantidad destinada a la amortización del préstamo. Es el sistema más utilizado en el sistema bancario actual.*\n"
   ]
  },
  {
   "cell_type": "markdown",
   "metadata": {},
   "source": [
    "*¿Qué necesitamos para poder calcular un préstamo francés?*\n",
    "\n",
    "*En primer lugar, necesitamos conocer la cuota constante del préstamo. Para ello podemos utilizar la fórmula numpy financiero PMT que se corresponde a la fórmula de PAGO en Excel*\n",
    "\n",
    "*Después calcularemos los intereses, multiplicando el capital pendiente por el tipo de interes*\n",
    "\n",
    "*Finalmente, a la cuota obtenida mediante la fórmula PMT (PAGO en Excel) restaremos los intereses, y será la cuota de amortización. Con esto, finalizaremos el primer plazo, repitiendo la operación a lo largo de los periodos que dure el préstamo.*\n",
    "\n",
    "*Vamos a ver un ejemplo, y para ello, lo primero que vamos a hacer es importar las librerías que vamos a utilizar en este documento*"
   ]
  },
  {
   "cell_type": "code",
   "execution_count": 1,
   "metadata": {},
   "outputs": [
    {
     "name": "stdout",
     "output_type": "stream",
     "text": [
      "Requirement already satisfied: numpy-financial in c:\\users\\rebec\\anaconda3\\lib\\site-packages (1.0.0)\n",
      "Requirement already satisfied: numpy>=1.15 in c:\\users\\rebec\\anaconda3\\lib\\site-packages (from numpy-financial) (1.18.5)\n",
      "Note: you may need to restart the kernel to use updated packages.\n"
     ]
    }
   ],
   "source": [
    "pip install numpy-financial"
   ]
  },
  {
   "cell_type": "code",
   "execution_count": 2,
   "metadata": {},
   "outputs": [
    {
     "name": "stdout",
     "output_type": "stream",
     "text": [
      "Requirement already satisfied: tabulate in c:\\users\\rebec\\anaconda3\\lib\\site-packages (0.8.9)\n",
      "Note: you may need to restart the kernel to use updated packages.\n"
     ]
    }
   ],
   "source": [
    "pip install tabulate"
   ]
  },
  {
   "cell_type": "code",
   "execution_count": 3,
   "metadata": {},
   "outputs": [],
   "source": [
    "import numpy_financial as npf\n",
    "import numpy as np\n",
    "import tabulate as tab\n",
    "import matplotlib.pyplot as plt"
   ]
  },
  {
   "cell_type": "markdown",
   "metadata": {},
   "source": [
    "*Préstamo de 100.000 euros, a devolver en 10 años a un 5% de interes*"
   ]
  },
  {
   "cell_type": "code",
   "execution_count": 4,
   "metadata": {},
   "outputs": [
    {
     "name": "stdout",
     "output_type": "stream",
     "text": [
      "12950.457496545661\n"
     ]
    }
   ],
   "source": [
    "#en primer lugar vamos a calcular la cuota constante\n",
    "\n",
    "C0 = 100000\n",
    "n = 10 \n",
    "tasa = 0.05\n",
    "\n",
    "pago = npf.pmt(rate=tasa, nper=n, pv=-C0, fv=0, when='end')\n",
    "print(pago)"
   ]
  },
  {
   "cell_type": "code",
   "execution_count": 5,
   "metadata": {},
   "outputs": [
    {
     "name": "stdout",
     "output_type": "stream",
     "text": [
      "[100000.          92049.54250345  83701.56213208  74936.18274214\n",
      "  65732.5343827   56068.70360529  45921.68128901  35267.30785691\n",
      "  24080.21575321  12333.76904433     -0.        ]\n"
     ]
    }
   ],
   "source": [
    "#Vamos a calcular el capital pendiente de cada periodo\n",
    "\n",
    "pendiente = npf.fv(rate=tasa, nper =range(n+1), pmt = pago, pv= -C0)\n",
    "print(pendiente)"
   ]
  },
  {
   "cell_type": "code",
   "execution_count": 6,
   "metadata": {},
   "outputs": [
    {
     "name": "stdout",
     "output_type": "stream",
     "text": [
      "[ 7571.86428242  7950.45749655  8347.98037137  8765.37938994\n",
      "  9203.64835944  9663.83077741 10147.02231628 10654.3734321\n",
      " 11187.0921037  11746.44670888 12333.76904433]\n"
     ]
    }
   ],
   "source": [
    "#Calculamos la amortización de cada año\n",
    "\n",
    "amortz = npf.ppmt(rate=tasa, per=range(n+1), nper=n, pv=-C0, fv=0, when='end')\n",
    "print(amortz)"
   ]
  },
  {
   "cell_type": "code",
   "execution_count": 7,
   "metadata": {},
   "outputs": [
    {
     "name": "stdout",
     "output_type": "stream",
     "text": [
      "[5378.59321412 5000.         4602.47712517 4185.0781066  3746.80913711\n",
      " 3286.62671914 2803.43518026 2296.08406445 1763.36539285 1204.01078766\n",
      "  616.68845222]\n"
     ]
    }
   ],
   "source": [
    "#Calculamos los intereses de cada periodo\n",
    "\n",
    "interes = npf.ipmt(rate=tasa, per=range(n+1), nper=n, pv=-C0, fv=0)\n",
    "print(interes)"
   ]
  },
  {
   "cell_type": "code",
   "execution_count": 8,
   "metadata": {},
   "outputs": [
    {
     "name": "stdout",
     "output_type": "stream",
     "text": [
      "[12950.45749655 12950.45749655 12950.45749655 12950.45749655\n",
      " 12950.45749655 12950.45749655 12950.45749655 12950.45749655\n",
      " 12950.45749655 12950.45749655 12950.45749655]\n"
     ]
    }
   ],
   "source": [
    "#Comprobamos\n",
    "\n",
    "comprob = np.array(amortz + interes)\n",
    "print(comprob)"
   ]
  },
  {
   "cell_type": "code",
   "execution_count": 11,
   "metadata": {},
   "outputs": [
    {
     "name": "stdout",
     "output_type": "stream",
     "text": [
      "+-----------+-------------+-------------+----------------+----------------+----------------------+\n",
      "|   Periodo |   Anualidad |   Intereses |   Amortización |   Capital Vivo |   Capital Amortizado |\n",
      "|-----------+-------------+-------------+----------------+----------------+----------------------|\n",
      "|         0 |           0 |           0 |              0 |         100000 |                    0 |\n",
      "|         1 |       12950 |        5000 |           7950 |          92050 |                 7950 |\n",
      "|         2 |       12950 |        4602 |           8348 |          83702 |                16298 |\n",
      "|         3 |       12950 |        4185 |           8765 |          74936 |                25064 |\n",
      "|         4 |       12950 |        3747 |           9204 |          65733 |                34267 |\n",
      "|         5 |       12950 |        3287 |           9664 |          56069 |                43931 |\n",
      "|         6 |       12950 |        2803 |          10147 |          45922 |                54078 |\n",
      "|         7 |       12950 |        2296 |          10654 |          35267 |                64733 |\n",
      "|         8 |       12950 |        1763 |          11187 |          24080 |                75920 |\n",
      "|         9 |       12950 |        1204 |          11746 |          12334 |                87666 |\n",
      "|        10 |       12950 |         617 |          12334 |              0 |               100000 |\n",
      "+-----------+-------------+-------------+----------------+----------------+----------------------+\n"
     ]
    }
   ],
   "source": [
    "#Hacemos un cuadro de amortización para ver los datos con la librería tabulate\n",
    "datos =[]\n",
    "saldo = C0\n",
    "saldo2 = 0\n",
    "linea1 = [0,0,0,0,C0,0]\n",
    "datos.append(linea1)\n",
    "\n",
    "Anualidad = npf.pmt(rate=tasa, nper=n, pv=-C0, fv=0, when='end')\n",
    "\n",
    "for i in range(1, n+1):\n",
    "    pago_capital = npf.ppmt(rate=tasa, per=i, nper=n, pv=-C0, fv=0, when='end')\n",
    "    pago_int = Anualidad - pago_capital\n",
    "    saldo -= pago_capital\n",
    "    saldo2 += pago_capital\n",
    "    \n",
    "    linea = [i, format(Anualidad, '.0f'),  format(pago_int, '.0f'), format(pago_capital, '.0f'), format(saldo, '.0f'), format(saldo2, '.0f')]\n",
    "    \n",
    "    datos.append(linea)\n",
    "    \n",
    "print(tab.tabulate(datos, headers= ['Periodo', 'Anualidad', 'Intereses', 'Amortización','Capital Vivo','Capital Amortizado'], tablefmt = 'psql'))\n",
    "    "
   ]
  },
  {
   "cell_type": "code",
   "execution_count": 176,
   "metadata": {},
   "outputs": [
    {
     "data": {
      "text/plain": [
       "[]"
      ]
     },
     "execution_count": 176,
     "metadata": {},
     "output_type": "execute_result"
    },
    {
     "data": {
      "image/png": "[encoded data removed]",
      "text/plain": [
       "<Figure size 864x576 with 1 Axes>"
      ]
     },
     "metadata": {
      "needs_background": "light"
     },
     "output_type": "display_data"
    }
   ],
   "source": [
    "#Comprobemos como evoluciona nuestro prestamo en la siguiente gráfica\n",
    "\n",
    "plt.figure(figsize = (12, 8))\n",
    "plt.bar(range(0, n + 1), pendiente)\n",
    "plt.title(\"Capital Pendiente\", fontsize = 15)\n",
    "plt.xlabel(\"Periodos(años)\", fontsize = 12)\n",
    "plt.ylabel(\"Balance del préstamo (euros)\", fontsize = 12)\n",
    "plt.plot()"
   ]
  },
  {
   "cell_type": "code",
   "execution_count": 187,
   "metadata": {},
   "outputs": [
    {
     "data": {
      "text/plain": [
       "[]"
      ]
     },
     "execution_count": 187,
     "metadata": {},
     "output_type": "execute_result"
    },
    {
     "data": {
      "image/png": "[encoded data removed]",
      "text/plain": [
       "<Figure size 864x576 with 1 Axes>"
      ]
     },
     "metadata": {
      "needs_background": "light"
     },
     "output_type": "display_data"
    }
   ],
   "source": [
    "plt.figure(figsize = (12, 8))\n",
    "plt.bar(range(0, n + 1), amortz, label = 'amortizacion')\n",
    "plt.bar(range(0, n + 1), interes, bottom= amortz, label='intereses')\n",
    "plt.legend(fontsize = 20)\n",
    "plt.title(\"Pagos del Préstamo\", fontsize = 15)\n",
    "plt.xlabel(\"Periodos en años\", fontsize = 12)\n",
    "plt.ylabel(\"Pagos en euros\", fontsize = 12)\n",
    "plt.plot()"
   ]
  },
  {
   "cell_type": "markdown",
   "metadata": {},
   "source": [
    "*En la gráfica podemos comprobar como al principio del préstamo se pagan casi más intereses que amortización, sin embargo al final del préstamo, se paga más amortización que intereses.*"
   ]
  },
  {
   "cell_type": "markdown",
   "metadata": {},
   "source": [
    "**Préstamo Americano** *Se caracteriza por pagar tan solo intereses a lo largo de la vida del préstamo, amortizando todo el capital al final del periodo*\n",
    "\n",
    "*Veamos un ejemplo*\n",
    "\n",
    "*C0 = 100.000, n = 5, tasa = 0.07*"
   ]
  },
  {
   "cell_type": "code",
   "execution_count": 189,
   "metadata": {},
   "outputs": [
    {
     "name": "stdout",
     "output_type": "stream",
     "text": [
      "7000.0\n"
     ]
    }
   ],
   "source": [
    "C0 = 100000\n",
    "n = 5\n",
    "tasa = 0.07\n",
    "\n",
    "#La cuota serán los intereses del capital pendiente:\n",
    "\n",
    "pago = round(C0*tasa,2)\n",
    "print(pago)"
   ]
  },
  {
   "cell_type": "code",
   "execution_count": 190,
   "metadata": {},
   "outputs": [
    {
     "name": "stdout",
     "output_type": "stream",
     "text": [
      "0\n"
     ]
    }
   ],
   "source": [
    "#La Amortización anual será cero\n",
    "\n",
    "amortz = 0\n",
    "print(amortz)"
   ]
  },
  {
   "cell_type": "code",
   "execution_count": 197,
   "metadata": {},
   "outputs": [
    {
     "name": "stdout",
     "output_type": "stream",
     "text": [
      "+-----------+-------------+-------------+----------------+----------------+----------------------+\n",
      "|   Periodo |   Anualidad |   Intereses |   Amortización |   Capital Vivo |   Capital Amortizado |\n",
      "|-----------+-------------+-------------+----------------+----------------+----------------------|\n",
      "|         0 |           0 |           0 |              0 |         100000 |                    0 |\n",
      "|         1 |        7000 |        7000 |              0 |         100000 |                    0 |\n",
      "|         2 |        7000 |        7000 |              0 |         100000 |                    0 |\n",
      "|         3 |        7000 |        7000 |              0 |         100000 |                    0 |\n",
      "|         4 |        7000 |        7000 |              0 |         100000 |                    0 |\n",
      "|         5 |      107000 |        7000 |         100000 |              0 |               100000 |\n",
      "+-----------+-------------+-------------+----------------+----------------+----------------------+\n"
     ]
    }
   ],
   "source": [
    "#Vamos a ver el cuadro de amortización\n",
    "\n",
    "datos =[]\n",
    "saldo = C0\n",
    "saldo2 = 0\n",
    "linea1 = [0,0,0,0,C0,0]\n",
    "datos.append(linea1)\n",
    "\n",
    "Anualidad = pago\n",
    "\n",
    "for i in range(1, 5):\n",
    "    pago_capital = 0\n",
    "    pago_int = pago\n",
    "    \n",
    "    saldo2 += 0\n",
    "    \n",
    "    linea = [i, format(Anualidad, '.0f'),  format(pago_int, '.0f'), format(pago_capital, '.0f'), format(saldo, '.0f'), format(saldo2, '.0f')]\n",
    "    \n",
    "    datos.append(linea)\n",
    "    \n",
    "linea2 = [5,pago+C0,pago,C0,0,C0]\n",
    "datos.append(linea2)\n",
    "    \n",
    "print(tab.tabulate(datos, headers= ['Periodo', 'Anualidad', 'Intereses', 'Amortización','Capital Vivo','Capital Amortizado'], tablefmt = 'psql'))\n",
    "    "
   ]
  },
  {
   "cell_type": "markdown",
   "metadata": {},
   "source": [
    "**Préstamo Italiano** *Se caracteriza por tener una cuota de amortización constante, siendo la cuota variable a lo largo del periodo*\n",
    "\n",
    "*Veamos un ejemplo*\n",
    "\n",
    "*Capital = 100.000, años = 4 y tasa = 19%*"
   ]
  },
  {
   "cell_type": "code",
   "execution_count": 207,
   "metadata": {},
   "outputs": [
    {
     "name": "stdout",
     "output_type": "stream",
     "text": [
      "[25000.0, 25000.0, 25000.0, 25000.0]\n"
     ]
    }
   ],
   "source": [
    "#Calculemos en primer lugar las amortizaciones\n",
    "\n",
    "C0 = 100000\n",
    "n = 4\n",
    "tasa = 0.10\n",
    "Amortz = []\n",
    "\n",
    "for i in range(1,n+1):\n",
    "    b = C0/n\n",
    "    Amortz.append(b)\n",
    "print(Amortz)"
   ]
  },
  {
   "cell_type": "code",
   "execution_count": 240,
   "metadata": {},
   "outputs": [
    {
     "name": "stdout",
     "output_type": "stream",
     "text": [
      "[10000.0, 7500.0, 5000.0, 2500.0]\n"
     ]
    }
   ],
   "source": [
    "#Después calculamos los intereses\n",
    "\n",
    "pend = C0\n",
    "inter = []\n",
    "\n",
    "for i in range(1,n+1):\n",
    "    a = pend * tasa\n",
    "    inter.append(a)\n",
    "    pend -= C0/n\n",
    "\n",
    "print(inter)"
   ]
  },
  {
   "cell_type": "code",
   "execution_count": 238,
   "metadata": {},
   "outputs": [
    {
     "name": "stdout",
     "output_type": "stream",
     "text": [
      "+-----------+-------------+-------------+----------------+----------------+----------------------+\n",
      "|   Periodo |   Anualidad |   Intereses |   Amortización |   Capital Vivo |   Capital Amortizado |\n",
      "|-----------+-------------+-------------+----------------+----------------+----------------------|\n",
      "|         0 |           0 |           0 |              0 |         100000 |                    0 |\n",
      "|         1 |       35000 |       10000 |          25000 |          75000 |                25000 |\n",
      "|         2 |       32500 |        7500 |          25000 |          50000 |                50000 |\n",
      "|         3 |       30000 |        5000 |          25000 |          25000 |                75000 |\n",
      "|         4 |       27500 |        2500 |          25000 |              0 |               100000 |\n",
      "+-----------+-------------+-------------+----------------+----------------+----------------------+\n"
     ]
    }
   ],
   "source": [
    "#Ya podemos hacer nuestro cuadro de amortización\n",
    "\n",
    "datos =[]\n",
    "saldo = C0\n",
    "saldo2 = 0\n",
    "linea1 = [0,0,0,0,C0,0]\n",
    "datos.append(linea1)\n",
    "\n",
    "for i in range(1, n+1):\n",
    "    pago_capital = C0/n\n",
    "    pago_int = saldo*tasa\n",
    "    saldo -= pago_capital\n",
    "    saldo2 += pago_capital\n",
    "    Anualidad = pago_capital + pago_int\n",
    "    linea = [i, format(Anualidad, '.0f'),  format(pago_int, '.0f'), format(pago_capital, '.0f'), format(saldo, '.0f'), format(saldo2, '.0f')]\n",
    "    datos.append(linea)\n",
    "    \n",
    "print(tab.tabulate(datos, headers= ['Periodo', 'Anualidad', 'Intereses', 'Amortización','Capital Vivo','Capital Amortizado'], tablefmt = 'psql'))\n",
    "    "
   ]
  },
  {
   "cell_type": "code",
   "execution_count": null,
   "metadata": {},
   "outputs": [],
   "source": []
  }
 ],
 "metadata": {
  "kernelspec": {
   "display_name": "Python 3",
   "language": "python",
   "name": "python3"
  },
  "language_info": {
   "codemirror_mode": {
    "name": "ipython",
    "version": 3
   },
   "file_extension": ".py",
   "mimetype": "text/x-python",
   "name": "python",
   "nbconvert_exporter": "python",
   "pygments_lexer": "ipython3",
   "version": "3.8.3"
  }
 },
 "nbformat": 4,
 "nbformat_minor": 4
}
