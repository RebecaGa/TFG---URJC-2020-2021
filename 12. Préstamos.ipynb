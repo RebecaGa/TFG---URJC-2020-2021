{
 "cells": [
  {
   "cell_type": "markdown",
   "metadata": {},
   "source": [
    "# Préstamos#\n",
    "\n",
    "*Los préstamos son operaciones financieras, por las que se cede una cantidad de dinero, que será devuelta junto con los intereses a un determinado plazo. Suelen ir acompañados de costes adicionales como gastos y comisiones*\n",
    "\n",
    "**Tipos de Préstamos**\n",
    "\n",
    "**Préstamo Fránces** *Se caracteriza por el pago de una cuota constante, compuesta por los intereses del capital pendiente más una cantidad destinada a la amortización del préstamo. Es el sistema más utilizado en el sistema bancario actual.*\n"
   ]
  },
  {
   "cell_type": "markdown",
   "metadata": {},
   "source": [
    "*¿Qué necesitamos para poder calcular un préstamo francés?*\n",
    "\n",
    "*En primer lugar, necesitamos conocer la cuota constante del préstamo. Para ello podemos utilizar la fórmula numpy financiero PMT que se corresponde a la fórmula de PAGO en Excel*\n",
    "\n",
    "*Después calcularemos los intereses, multiplicando el capital pendiente por el tipo de interes*\n",
    "\n",
    "*Finalmente, a la cuota obtenida mediante la fórmula PMT (PAGO en Excel) restaremos los intereses, y será la cuota de amortización. Con esto, finalizaremos el primer plazo, repitiendo la operación a lo largo de los periodos que dure el préstamo.*\n",
    "\n",
    "*Vamos a ver un ejemplo, y para ello, lo primero que vamos a hacer es importar las librerías que vamos a utilizar en este documento*"
   ]
  },
  {
   "cell_type": "code",
   "execution_count": 134,
   "metadata": {},
   "outputs": [
    {
     "name": "stdout",
     "output_type": "stream",
     "text": [
      "Requirement already satisfied: numpy-financial in c:\\users\\lenovo\\anaconda3\\lib\\site-packages (1.0.0)\n",
      "Requirement already satisfied: numpy>=1.15 in c:\\users\\lenovo\\anaconda3\\lib\\site-packages (from numpy-financial) (1.19.2)\n",
      "Note: you may need to restart the kernel to use updated packages.\n"
     ]
    }
   ],
   "source": [
    "pip install numpy-financial"
   ]
  },
  {
   "cell_type": "code",
   "execution_count": 1,
   "metadata": {},
   "outputs": [
    {
     "name": "stdout",
     "output_type": "stream",
     "text": [
      "Requirement already satisfied: tabulate in c:\\users\\lenovo\\anaconda3\\lib\\site-packages (0.8.9)\n",
      "Note: you may need to restart the kernel to use updated packages.\n"
     ]
    }
   ],
   "source": [
    "pip install tabulate"
   ]
  },
  {
   "cell_type": "code",
   "execution_count": 2,
   "metadata": {},
   "outputs": [],
   "source": [
    "import numpy_financial as npf\n",
    "import numpy as np\n",
    "import tabulate as tab\n",
    "import matplotlib.pyplot as plt"
   ]
  },
  {
   "cell_type": "markdown",
   "metadata": {},
   "source": [
    "*Préstamo de 100.000 euros, a devolver en 10 años a un 5% de interes*"
   ]
  },
  {
   "cell_type": "code",
   "execution_count": 3,
   "metadata": {},
   "outputs": [
    {
     "name": "stdout",
     "output_type": "stream",
     "text": [
      "24389.07\n"
     ]
    }
   ],
   "source": [
    "#en primer lugar vamos a calcular la cuota constante\n",
    "\n",
    "C0 = 100000\n",
    "n = 5\n",
    "tasa = 0.07\n",
    "\n",
    "pago = npf.pmt(rate=tasa, nper=n, pv=-C0, fv=0, when='end')\n",
    "print(round(pago,2))"
   ]
  },
  {
   "cell_type": "code",
   "execution_count": 4,
   "metadata": {},
   "outputs": [
    {
     "name": "stdout",
     "output_type": "stream",
     "text": [
      "[100000, 82610.93055586258, 64004.626250635585, 44095.880644042685, 22793.522844988227, -0.0]\n"
     ]
    }
   ],
   "source": [
    "#Vamos a calcular el capital pendiente de cada periodo\n",
    "\n",
    "pendiente = [C0]\n",
    "\n",
    "for i in range(1,n+1,1):\n",
    "    c = npf.fv(rate=tasa, nper =i, pmt = pago, pv= -C0)\n",
    "    pendiente.append(c)\n",
    "\n",
    "\n",
    "print(pendiente)"
   ]
  },
  {
   "cell_type": "code",
   "execution_count": 5,
   "metadata": {},
   "outputs": [
    {
     "name": "stdout",
     "output_type": "stream",
     "text": [
      "[0, 17389.069444137396, 18606.304305227015, 19908.745606592904, 21302.357799054407, 22793.52284498822]\n"
     ]
    }
   ],
   "source": [
    "#Calculamos la amortización de cada año\n",
    "\n",
    "amortz = [0]\n",
    "\n",
    "for i in range(1,n+1,1):\n",
    "    b = npf.ppmt(rate=tasa, per=i, nper=n, pv=-C0, fv=0, when='end')\n",
    "    amortz.append(b)\n",
    "print(amortz)\n",
    "\n"
   ]
  },
  {
   "cell_type": "code",
   "execution_count": 6,
   "metadata": {},
   "outputs": [
    {
     "data": {
      "text/plain": [
       "[0,\n",
       " array(7000.),\n",
       " array(5782.76513891),\n",
       " array(4480.32383754),\n",
       " array(3086.71164508),\n",
       " array(1595.54659915)]"
      ]
     },
     "execution_count": 6,
     "metadata": {},
     "output_type": "execute_result"
    }
   ],
   "source": [
    "#Calculamos los intereses de cada periodo\n",
    "inter = [0]\n",
    "\n",
    "for i in range(1,n+1,1):\n",
    "    d = npf.ipmt(rate=tasa, per=i, nper=n, pv=-C0, fv=0, when='end')\n",
    "    inter.append(d)\n",
    "\n",
    "inter"
   ]
  },
  {
   "cell_type": "code",
   "execution_count": 7,
   "metadata": {},
   "outputs": [
    {
     "name": "stdout",
     "output_type": "stream",
     "text": [
      "[    0.         24389.06944414 24389.06944414 24389.06944414\n",
      " 24389.06944414 24389.06944414]\n"
     ]
    }
   ],
   "source": [
    "#Comprobamos\n",
    "\n",
    "amortz = np.array(amortz)\n",
    "\n",
    "comprob = np.array(amortz + inter)\n",
    "print(comprob)"
   ]
  },
  {
   "cell_type": "code",
   "execution_count": 8,
   "metadata": {},
   "outputs": [
    {
     "name": "stdout",
     "output_type": "stream",
     "text": [
      "+-----------+-------------+-------------+----------------+----------------+----------------------+\n",
      "|   Periodo |   Anualidad |   Intereses |   Amortización |   Capital Vivo |   Capital Amortizado |\n",
      "|-----------+-------------+-------------+----------------+----------------+----------------------|\n",
      "|         0 |           0 |           0 |              0 |         100000 |                    0 |\n",
      "|         1 |       24389 |        7000 |          17389 |          82611 |                17389 |\n",
      "|         2 |       24389 |        5783 |          18606 |          64005 |                35995 |\n",
      "|         3 |       24389 |        4480 |          19909 |          44096 |                55904 |\n",
      "|         4 |       24389 |        3087 |          21302 |          22794 |                77206 |\n",
      "|         5 |       24389 |        1596 |          22794 |              0 |               100000 |\n",
      "+-----------+-------------+-------------+----------------+----------------+----------------------+\n"
     ]
    }
   ],
   "source": [
    "#Hacemos un cuadro de amortización para ver los datos con la librería tabulate\n",
    "datos =[]\n",
    "saldo = C0\n",
    "saldo2 = 0\n",
    "linea1 = [0,0,0,0,C0,0]\n",
    "datos.append(linea1)\n",
    "\n",
    "Anualidad = npf.pmt(rate=tasa, nper=n, pv=-C0, fv=0, when='end')\n",
    "\n",
    "for i in range(1, n+1):\n",
    "    pago_capital = npf.ppmt(rate=tasa, per=i, nper=n, pv=-C0, fv=0, when='end')\n",
    "    pago_int = Anualidad - pago_capital\n",
    "    saldo -= pago_capital\n",
    "    saldo2 += pago_capital\n",
    "    \n",
    "    linea = [i, format(Anualidad, '.0f'),  format(pago_int, '.0f'), \n",
    "             format(pago_capital, '.0f'), format(saldo, '.0f'), format(saldo2, '.0f')]\n",
    "    \n",
    "    datos.append(linea)\n",
    "    \n",
    "print(tab.tabulate(datos, headers= ['Periodo', 'Anualidad', 'Intereses',\n",
    "                                    'Amortización','Capital Vivo','Capital Amortizado'], \n",
    "                   tablefmt = 'psql'))\n",
    "    "
   ]
  },
  {
   "cell_type": "code",
   "execution_count": 9,
   "metadata": {
    "scrolled": true
   },
   "outputs": [
    {
     "data": {
      "text/plain": [
       "[]"
      ]
     },
     "execution_count": 9,
     "metadata": {},
     "output_type": "execute_result"
    },
    {
     "data": {
      "image/png": "[encoded data removed]",
      "text/plain": [
       "<Figure size 576x288 with 1 Axes>"
      ]
     },
     "metadata": {
      "needs_background": "light"
     },
     "output_type": "display_data"
    }
   ],
   "source": [
    "#Comprobemos como evoluciona nuestro prestamo en la siguiente gráfica\n",
    "\n",
    "plt.figure(figsize = (8, 4))\n",
    "plt.bar(range(0, n + 1), pendiente)\n",
    "plt.title(\"Capital Pendiente\", fontsize = 15)\n",
    "plt.xlabel(\"Periodos(años)\", fontsize = 12)\n",
    "plt.ylabel(\"Balance del préstamo (euros)\", fontsize = 12)\n",
    "plt.plot()"
   ]
  },
  {
   "cell_type": "code",
   "execution_count": 10,
   "metadata": {},
   "outputs": [
    {
     "data": {
      "text/plain": [
       "[]"
      ]
     },
     "execution_count": 10,
     "metadata": {},
     "output_type": "execute_result"
    },
    {
     "data": {
      "image/png": "[encoded data removed]",
      "text/plain": [
       "<Figure size 576x288 with 1 Axes>"
      ]
     },
     "metadata": {
      "needs_background": "light"
     },
     "output_type": "display_data"
    }
   ],
   "source": [
    "#Comprobemos como evolucionan los intereses de nuestro prestamo en la siguiente gráfica\n",
    "\n",
    "plt.figure(figsize = (8, 4))\n",
    "plt.bar(range(0, n+1 ), amortz, label = 'amortizacion')\n",
    "plt.bar(range(0, n +1), inter, bottom= amortz, label='intereses')\n",
    "plt.legend(fontsize = 10)\n",
    "plt.title(\"Método Francés\", fontsize = 15)\n",
    "plt.xlabel(\"Periodos en años\", fontsize = 12)\n",
    "plt.ylabel(\"Pagos en euros\", fontsize = 12)\n",
    "plt.plot()"
   ]
  },
  {
   "cell_type": "markdown",
   "metadata": {},
   "source": [
    "*En la gráfica podemos comprobar como al principio del préstamo se pagan casi más intereses que amortización, sin embargo al final del préstamo, se paga más amortización que intereses.*"
   ]
  },
  {
   "cell_type": "markdown",
   "metadata": {},
   "source": [
    "**Préstamo Americano** *Se caracteriza por pagar tan solo intereses a lo largo de la vida del préstamo, amortizando todo el capital al final del periodo*\n",
    "\n",
    "*Veamos un ejemplo*\n",
    "\n",
    "*C0 = 100.000, n = 5, tasa = 0.07*"
   ]
  },
  {
   "cell_type": "code",
   "execution_count": 11,
   "metadata": {},
   "outputs": [
    {
     "name": "stdout",
     "output_type": "stream",
     "text": [
      "7000.0\n"
     ]
    }
   ],
   "source": [
    "C0 = 100000\n",
    "n = 5\n",
    "tasa = 0.07\n",
    "\n",
    "#La cuota serán los intereses del capital pendiente:\n",
    "\n",
    "pago = round(C0*tasa,2)\n",
    "print(pago)"
   ]
  },
  {
   "cell_type": "code",
   "execution_count": 12,
   "metadata": {},
   "outputs": [
    {
     "name": "stdout",
     "output_type": "stream",
     "text": [
      "0\n"
     ]
    }
   ],
   "source": [
    "#La Amortización anual será cero\n",
    "\n",
    "amortz = 0\n",
    "print(amortz)"
   ]
  },
  {
   "cell_type": "code",
   "execution_count": 13,
   "metadata": {
    "scrolled": true
   },
   "outputs": [
    {
     "name": "stdout",
     "output_type": "stream",
     "text": [
      "+-----------+-------------+-------------+----------------+----------------+----------------------+\n",
      "|   Periodo |   Anualidad |   Intereses |   Amortización |   Capital Vivo |   Capital Amortizado |\n",
      "|-----------+-------------+-------------+----------------+----------------+----------------------|\n",
      "|         0 |           0 |           0 |              0 |         100000 |                    0 |\n",
      "|         1 |        7000 |        7000 |              0 |         100000 |                    0 |\n",
      "|         2 |        7000 |        7000 |              0 |         100000 |                    0 |\n",
      "|         3 |        7000 |        7000 |              0 |         100000 |                    0 |\n",
      "|         4 |        7000 |        7000 |              0 |         100000 |                    0 |\n",
      "|         5 |      107000 |        7000 |         100000 |              0 |               100000 |\n",
      "+-----------+-------------+-------------+----------------+----------------+----------------------+\n"
     ]
    }
   ],
   "source": [
    "#Vamos a ver el cuadro de amortización\n",
    "\n",
    "datos =[]\n",
    "saldo = C0\n",
    "saldo2 = 0\n",
    "linea1 = [0,0,0,0,C0,0]\n",
    "datos.append(linea1)\n",
    "\n",
    "Anualidad = pago\n",
    "\n",
    "for i in range(1, 5):\n",
    "    pago_capital = 0\n",
    "    pago_int = pago\n",
    "    \n",
    "    saldo2 += 0\n",
    "    \n",
    "    linea = [i, format(Anualidad, '.0f'),  format(pago_int, '.0f'), \n",
    "             format(pago_capital, '.0f'), format(saldo, '.0f'), format(saldo2, '.0f')]\n",
    "    \n",
    "    datos.append(linea)\n",
    "    \n",
    "linea2 = [5,pago+C0,pago,C0,0,C0]\n",
    "datos.append(linea2)\n",
    "    \n",
    "print(tab.tabulate(datos, headers= ['Periodo', 'Anualidad', 'Intereses', \n",
    "                                    'Amortización','Capital Vivo','Capital Amortizado'], tablefmt = 'psql'))\n",
    "    "
   ]
  },
  {
   "cell_type": "code",
   "execution_count": 14,
   "metadata": {},
   "outputs": [],
   "source": [
    "Amortz = [0,0,0,0,0,100000]\n",
    "inter = [0,7000,7000,7000,7000,7000]"
   ]
  },
  {
   "cell_type": "code",
   "execution_count": 15,
   "metadata": {},
   "outputs": [
    {
     "data": {
      "text/plain": [
       "[]"
      ]
     },
     "execution_count": 15,
     "metadata": {},
     "output_type": "execute_result"
    },
    {
     "data": {
      "image/png": "[encoded data removed]",
      "text/plain": [
       "<Figure size 576x288 with 1 Axes>"
      ]
     },
     "metadata": {
      "needs_background": "light"
     },
     "output_type": "display_data"
    }
   ],
   "source": [
    "#Comprobemos como evolucionan los intereses de nuestro prestamo en la siguiente gráfica\n",
    "\n",
    "plt.figure(figsize = (8, 4))\n",
    "plt.bar(range(0, n+1 ), Amortz, label = 'amortizacion')\n",
    "plt.bar(range(0, n+1 ), inter, bottom= Amortz, label='intereses')\n",
    "plt.legend(fontsize = 10)\n",
    "plt.title(\"Método Americano\", fontsize = 15)\n",
    "plt.xlabel(\"Periodos en años\", fontsize = 12)\n",
    "plt.ylabel(\"Pagos en euros\", fontsize = 12)\n",
    "plt.plot()"
   ]
  },
  {
   "cell_type": "markdown",
   "metadata": {},
   "source": [
    "**Préstamo Italiano** *Se caracteriza por tener una cuota de amortización constante, siendo la cuota variable a lo largo del periodo*\n",
    "\n",
    "*Veamos un ejemplo*\n",
    "\n",
    "*Capital = 100.000, años = 4 y tasa = 19%*"
   ]
  },
  {
   "cell_type": "code",
   "execution_count": 16,
   "metadata": {},
   "outputs": [
    {
     "name": "stdout",
     "output_type": "stream",
     "text": [
      "[0, 20000.0, 20000.0, 20000.0, 20000.0, 20000.0]\n"
     ]
    }
   ],
   "source": [
    "#Calculemos en primer lugar las amortizaciones\n",
    "\n",
    "C0 = 100000\n",
    "n = 5\n",
    "tasa = 0.10\n",
    "Amortz = [0]\n",
    "\n",
    "for i in range(1,n+1):\n",
    "    b = C0/n\n",
    "    Amortz.append(b)\n",
    "print(Amortz)"
   ]
  },
  {
   "cell_type": "code",
   "execution_count": 17,
   "metadata": {},
   "outputs": [
    {
     "name": "stdout",
     "output_type": "stream",
     "text": [
      "[0, 10000.0, 8000.0, 6000.0, 4000.0, 2000.0]\n"
     ]
    }
   ],
   "source": [
    "#Después calculamos los intereses\n",
    "\n",
    "pend = C0\n",
    "inter = [0]\n",
    "\n",
    "for i in range(1,n+1):\n",
    "    a = pend * tasa\n",
    "    inter.append(a)\n",
    "    pend -= C0/n\n",
    "\n",
    "print(inter)"
   ]
  },
  {
   "cell_type": "code",
   "execution_count": 18,
   "metadata": {},
   "outputs": [
    {
     "name": "stdout",
     "output_type": "stream",
     "text": [
      "+-----------+-------------+-------------+----------------+----------------+----------------------+\n",
      "|   Periodo |   Anualidad |   Intereses |   Amortización |   Capital Vivo |   Capital Amortizado |\n",
      "|-----------+-------------+-------------+----------------+----------------+----------------------|\n",
      "|         0 |           0 |           0 |              0 |         100000 |                    0 |\n",
      "|         1 |       30000 |       10000 |          20000 |          80000 |                20000 |\n",
      "|         2 |       28000 |        8000 |          20000 |          60000 |                40000 |\n",
      "|         3 |       26000 |        6000 |          20000 |          40000 |                60000 |\n",
      "|         4 |       24000 |        4000 |          20000 |          20000 |                80000 |\n",
      "|         5 |       22000 |        2000 |          20000 |              0 |               100000 |\n",
      "+-----------+-------------+-------------+----------------+----------------+----------------------+\n"
     ]
    }
   ],
   "source": [
    "#Ya podemos hacer nuestro cuadro de amortización\n",
    "\n",
    "datos =[]\n",
    "saldo = C0\n",
    "saldo2 = 0\n",
    "linea1 = [0,0,0,0,C0,0]\n",
    "datos.append(linea1)\n",
    "\n",
    "for i in range(1, n+1):\n",
    "    pago_capital = C0/n\n",
    "    pago_int = saldo*tasa\n",
    "    saldo -= pago_capital\n",
    "    saldo2 += pago_capital\n",
    "    Anualidad = pago_capital + pago_int\n",
    "    linea = [i, format(Anualidad, '.0f'),  format(pago_int, '.0f'), format(pago_capital, '.0f'), format(saldo, '.0f'), format(saldo2, '.0f')]\n",
    "    datos.append(linea)\n",
    "    \n",
    "print(tab.tabulate(datos, headers= ['Periodo', 'Anualidad', 'Intereses', 'Amortización','Capital Vivo','Capital Amortizado'], tablefmt = 'psql'))\n",
    "    "
   ]
  },
  {
   "cell_type": "code",
   "execution_count": 19,
   "metadata": {},
   "outputs": [
    {
     "data": {
      "text/plain": [
       "[]"
      ]
     },
     "execution_count": 19,
     "metadata": {},
     "output_type": "execute_result"
    },
    {
     "data": {
      "image/png": "[encoded data removed]",
      "text/plain": [
       "<Figure size 576x288 with 1 Axes>"
      ]
     },
     "metadata": {
      "needs_background": "light"
     },
     "output_type": "display_data"
    }
   ],
   "source": [
    "#Comprobemos como evolucionan los intereses de nuestro prestamo en la siguiente gráfica\n",
    "\n",
    "plt.figure(figsize = (8, 4))\n",
    "plt.bar(range(0, n+1 ), Amortz, label = 'amortizacion')\n",
    "plt.bar(range(0, n+1 ), inter, bottom= Amortz, label='intereses')\n",
    "plt.legend(fontsize = 10)\n",
    "plt.title(\"Método Italiano\", fontsize = 15)\n",
    "plt.xlabel(\"Periodos en años\", fontsize = 12)\n",
    "plt.ylabel(\"Pagos en euros\", fontsize = 12)\n",
    "plt.plot()"
   ]
  }
 ],
 "metadata": {
  "kernelspec": {
   "display_name": "Python 3",
   "language": "python",
   "name": "python3"
  },
  "language_info": {
   "codemirror_mode": {
    "name": "ipython",
    "version": 3
   },
   "file_extension": ".py",
   "mimetype": "text/x-python",
   "name": "python",
   "nbconvert_exporter": "python",
   "pygments_lexer": "ipython3",
   "version": "3.8.5"
  }
 },
 "nbformat": 4,
 "nbformat_minor": 4
}
